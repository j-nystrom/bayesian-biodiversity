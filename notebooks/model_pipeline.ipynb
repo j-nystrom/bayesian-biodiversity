{
 "cells": [
  {
   "cell_type": "markdown",
   "metadata": {},
   "source": [
    "# Bayesian biodiversity: Experimental model pipeline"
   ]
  },
  {
   "cell_type": "code",
   "execution_count": 97,
   "metadata": {
    "tags": []
   },
   "outputs": [],
   "source": [
    "import polars as pl\n",
    "import numpy as np\n",
    "import pandas as pd\n",
    "import datetime as dt"
   ]
  },
  {
   "cell_type": "code",
   "execution_count": 36,
   "metadata": {
    "tags": []
   },
   "outputs": [
    {
     "data": {
      "text/plain": [
       "<polars.config.Config at 0x29653fbc0>"
      ]
     },
     "execution_count": 36,
     "metadata": {},
     "output_type": "execute_result"
    }
   ],
   "source": [
    "# Load black for formatting\n",
    "import jupyter_black\n",
    "\n",
    "jupyter_black.load()\n",
    "\n",
    "# Adjust display settings for polars\n",
    "pl.Config(tbl_rows=100)\n",
    "pl.Config(tbl_cols=50)"
   ]
  },
  {
   "cell_type": "markdown",
   "metadata": {},
   "source": [
    "## Basic data processing"
   ]
  },
  {
   "cell_type": "code",
   "execution_count": 109,
   "metadata": {},
   "outputs": [],
   "source": [
    "# Load merged PREDICTS data\n",
    "df_predicts = pl.read_csv(\"../../data/PREDICTS/merged_data.csv\")"
   ]
  },
  {
   "cell_type": "code",
   "execution_count": 4,
   "metadata": {
    "tags": []
   },
   "outputs": [
    {
     "data": {
      "text/plain": [
       "(4318808, 68)"
      ]
     },
     "execution_count": 4,
     "metadata": {},
     "output_type": "execute_result"
    }
   ],
   "source": [
    "df_predicts.shape"
   ]
  },
  {
   "cell_type": "code",
   "execution_count": 5,
   "metadata": {
    "tags": []
   },
   "outputs": [],
   "source": [
    "# Load population density data\n",
    "df_pop_density = pl.read_parquet(\"../../data/GPW/output/pop_density.parquet\")"
   ]
  },
  {
   "cell_type": "code",
   "execution_count": 7,
   "metadata": {
    "tags": []
   },
   "outputs": [
    {
     "data": {
      "text/plain": [
       "(35736, 16)"
      ]
     },
     "execution_count": 7,
     "metadata": {},
     "output_type": "execute_result"
    }
   ],
   "source": [
    "df_pop_density.shape"
   ]
  },
  {
   "cell_type": "code",
   "execution_count": 6,
   "metadata": {
    "tags": []
   },
   "outputs": [],
   "source": [
    "# Load road density data\n",
    "df_road_density = pl.read_parquet(\"../../data/gROADS/output/road_density.parquet\")"
   ]
  },
  {
   "cell_type": "code",
   "execution_count": 8,
   "metadata": {
    "tags": []
   },
   "outputs": [
    {
     "data": {
      "text/plain": [
       "(35736, 4)"
      ]
     },
     "execution_count": 8,
     "metadata": {},
     "output_type": "execute_result"
    }
   ],
   "source": [
    "df_road_density.shape"
   ]
  },
  {
   "cell_type": "markdown",
   "metadata": {},
   "source": [
    "### Clean up PREDICTS data\n",
    "\n",
    "Remove columns that are not needed for analysis or modelling."
   ]
  },
  {
   "cell_type": "code",
   "execution_count": 110,
   "metadata": {
    "tags": []
   },
   "outputs": [],
   "source": [
    "predicts_cols = [\n",
    "    \"SS\",\n",
    "    \"SSB\",\n",
    "    \"SSBS\",\n",
    "    \"Longitude\",\n",
    "    \"Latitude\",\n",
    "    \"Country\",\n",
    "    \"UN_region\",\n",
    "    \"UN_subregion\",\n",
    "    \"Realm\",\n",
    "    \"Biome\",\n",
    "    \"Ecoregion\",\n",
    "    \"Wilderness_area\",\n",
    "    \"Hotspot\",\n",
    "    \"Sample_midpoint\",\n",
    "    \"Sampling_method\",\n",
    "    \"Sampling_effort\",\n",
    "    \"Rescaled_sampling_effort\",\n",
    "    \"Max_linear_extent_metres\",\n",
    "    \"Taxon_name_entered\",\n",
    "    \"COL_ID\",\n",
    "    \"Kingdom\",\n",
    "    \"Phylum\",\n",
    "    \"Class\",\n",
    "    \"Order\",\n",
    "    \"Family\",\n",
    "    \"Genus\",\n",
    "    \"Species\",\n",
    "    \"Diversity_metric_type\",\n",
    "    \"Measurement\",\n",
    "    \"Effort_corrected_measurement\",\n",
    "    \"Predominant_land_use\",\n",
    "    \"Use_intensity\",\n",
    "    \"Habitat_patch_area_square_metres\",\n",
    "    \"Km_to_nearest_edge_of_habitat\",\n",
    "    \"Years_since_fragmentation_or_conversion\",\n",
    "]\n",
    "\n",
    "df_predicts = df_predicts.select(predicts_cols)"
   ]
  },
  {
   "cell_type": "code",
   "execution_count": 111,
   "metadata": {
    "tags": []
   },
   "outputs": [
    {
     "data": {
      "text/plain": [
       "(4318808, 35)"
      ]
     },
     "execution_count": 111,
     "metadata": {},
     "output_type": "execute_result"
    }
   ],
   "source": [
    "df_predicts.shape"
   ]
  },
  {
   "cell_type": "markdown",
   "metadata": {},
   "source": [
    "### Join PREDICTS and road density data"
   ]
  },
  {
   "cell_type": "code",
   "execution_count": 15,
   "metadata": {
    "tags": []
   },
   "outputs": [
    {
     "data": {
      "text/html": [
       "<div><style>\n",
       ".dataframe > thead > tr,\n",
       ".dataframe > tbody > tr {\n",
       "  text-align: right;\n",
       "  white-space: pre-wrap;\n",
       "}\n",
       "</style>\n",
       "<small>shape: (5, 4)</small><table border=\"1\" class=\"dataframe\"><thead><tr><th>SSBS</th><th>Road_density_1km</th><th>Road_density_10km</th><th>Road_density_50km</th></tr><tr><td>str</td><td>f64</td><td>f64</td><td>f64</td></tr></thead><tbody><tr><td>&quot;AD1_2005__Blan…</td><td>2081.750094</td><td>190364.497423</td><td>2.0841e6</td></tr><tr><td>&quot;AD1_2005__Blan…</td><td>1119.81094</td><td>187993.994423</td><td>2.0724e6</td></tr><tr><td>&quot;AD1_2005__Blan…</td><td>0.0</td><td>98624.640142</td><td>1.9359e6</td></tr><tr><td>&quot;AD1_2005__Blan…</td><td>1186.374931</td><td>86832.033723</td><td>1.8261e6</td></tr><tr><td>&quot;AD1_2005__Blan…</td><td>0.0</td><td>68115.435147</td><td>1.7579e6</td></tr></tbody></table></div>"
      ],
      "text/plain": [
       "shape: (5, 4)\n",
       "┌────────────────────────┬──────────────────┬───────────────────┬───────────────────┐\n",
       "│ SSBS                   ┆ Road_density_1km ┆ Road_density_10km ┆ Road_density_50km │\n",
       "│ ---                    ┆ ---              ┆ ---               ┆ ---               │\n",
       "│ str                    ┆ f64              ┆ f64               ┆ f64               │\n",
       "╞════════════════════════╪══════════════════╪═══════════════════╪═══════════════════╡\n",
       "│ AD1_2005__Blanche 1  1 ┆ 2081.750094      ┆ 190364.497423     ┆ 2.0841e6          │\n",
       "│ AD1_2005__Blanche 1  2 ┆ 1119.81094       ┆ 187993.994423     ┆ 2.0724e6          │\n",
       "│ AD1_2005__Blanche 1  3 ┆ 0.0              ┆ 98624.640142      ┆ 1.9359e6          │\n",
       "│ AD1_2005__Blanche 1  4 ┆ 1186.374931      ┆ 86832.033723      ┆ 1.8261e6          │\n",
       "│ AD1_2005__Blanche 1  5 ┆ 0.0              ┆ 68115.435147      ┆ 1.7579e6          │\n",
       "└────────────────────────┴──────────────────┴───────────────────┴───────────────────┘"
      ]
     },
     "execution_count": 15,
     "metadata": {},
     "output_type": "execute_result"
    }
   ],
   "source": [
    "df_road_density.head()"
   ]
  },
  {
   "cell_type": "code",
   "execution_count": 112,
   "metadata": {
    "tags": []
   },
   "outputs": [],
   "source": [
    "df_predicts_roads = df_predicts.join(\n",
    "    df_road_density, on=\"SSBS\", how=\"left\", validate=\"m:1\"\n",
    ")"
   ]
  },
  {
   "cell_type": "code",
   "execution_count": 113,
   "metadata": {
    "tags": []
   },
   "outputs": [
    {
     "data": {
      "text/plain": [
       "(4318808, 38)"
      ]
     },
     "execution_count": 113,
     "metadata": {},
     "output_type": "execute_result"
    }
   ],
   "source": [
    "df_predicts_roads.shape"
   ]
  },
  {
   "cell_type": "code",
   "execution_count": 114,
   "metadata": {
    "tags": []
   },
   "outputs": [
    {
     "data": {
      "text/html": [
       "<div><style>\n",
       ".dataframe > thead > tr,\n",
       ".dataframe > tbody > tr {\n",
       "  text-align: right;\n",
       "  white-space: pre-wrap;\n",
       "}\n",
       "</style>\n",
       "<small>shape: (5, 38)</small><table border=\"1\" class=\"dataframe\"><thead><tr><th>SS</th><th>SSB</th><th>SSBS</th><th>Longitude</th><th>Latitude</th><th>Country</th><th>UN_region</th><th>UN_subregion</th><th>Realm</th><th>Biome</th><th>Ecoregion</th><th>Wilderness_area</th><th>Hotspot</th><th>Sample_midpoint</th><th>Sampling_method</th><th>Sampling_effort</th><th>Rescaled_sampling_effort</th><th>Max_linear_extent_metres</th><th>Taxon_name_entered</th><th>COL_ID</th><th>Kingdom</th><th>Phylum</th><th>Class</th><th>Order</th><th>Family</th><th>Genus</th><th>Species</th><th>Diversity_metric_type</th><th>Measurement</th><th>Effort_corrected_measurement</th><th>Predominant_land_use</th><th>Use_intensity</th><th>Habitat_patch_area_square_metres</th><th>Km_to_nearest_edge_of_habitat</th><th>Years_since_fragmentation_or_conversion</th><th>Road_density_1km</th><th>Road_density_10km</th><th>Road_density_50km</th></tr><tr><td>str</td><td>str</td><td>str</td><td>f64</td><td>f64</td><td>str</td><td>str</td><td>str</td><td>str</td><td>str</td><td>str</td><td>str</td><td>str</td><td>str</td><td>str</td><td>f64</td><td>f64</td><td>f64</td><td>str</td><td>f64</td><td>str</td><td>str</td><td>str</td><td>str</td><td>str</td><td>str</td><td>str</td><td>str</td><td>f64</td><td>f64</td><td>str</td><td>str</td><td>str</td><td>str</td><td>f64</td><td>f64</td><td>f64</td><td>f64</td></tr></thead><tbody><tr><td>&quot;AD1_2008__Bill…</td><td>&quot;AD1_2008__Bill…</td><td>&quot;AD1_2008__Bill…</td><td>-1.590365</td><td>48.472153</td><td>&quot;France&quot;</td><td>&quot;Europe&quot;</td><td>&quot;Western Europe…</td><td>&quot;Palearctic&quot;</td><td>&quot;Temperate Broa…</td><td>&quot;Atlantic Mixed…</td><td>null</td><td>null</td><td>&quot;2002-07-02&quot;</td><td>&quot;flight trap&quot;</td><td>5.0</td><td>1.0</td><td>1414.214</td><td>&quot;Lasioglossum m…</td><td>6.967008e6</td><td>&quot;Animalia&quot;</td><td>&quot;Arthropoda&quot;</td><td>&quot;Insecta&quot;</td><td>&quot;Hymenoptera&quot;</td><td>&quot;Halictidae&quot;</td><td>&quot;Lasioglossum&quot;</td><td>&quot;morio&quot;</td><td>&quot;Abundance&quot;</td><td>0.0</td><td>0.0</td><td>&quot;Cropland&quot;</td><td>&quot;Minimal use&quot;</td><td>null</td><td>null</td><td>13.5</td><td>419.89974</td><td>437683.782299</td><td>1.0687e7</td></tr><tr><td>&quot;AD1_2008__Bill…</td><td>&quot;AD1_2008__Bill…</td><td>&quot;AD1_2008__Bill…</td><td>-1.590365</td><td>48.472153</td><td>&quot;France&quot;</td><td>&quot;Europe&quot;</td><td>&quot;Western Europe…</td><td>&quot;Palearctic&quot;</td><td>&quot;Temperate Broa…</td><td>&quot;Atlantic Mixed…</td><td>null</td><td>null</td><td>&quot;2002-07-02&quot;</td><td>&quot;flight trap&quot;</td><td>5.0</td><td>1.0</td><td>1414.214</td><td>&quot;Lasioglossum p…</td><td>6.967187e6</td><td>&quot;Animalia&quot;</td><td>&quot;Arthropoda&quot;</td><td>&quot;Insecta&quot;</td><td>&quot;Hymenoptera&quot;</td><td>&quot;Halictidae&quot;</td><td>&quot;Lasioglossum&quot;</td><td>&quot;pauxillum&quot;</td><td>&quot;Abundance&quot;</td><td>0.0</td><td>0.0</td><td>&quot;Cropland&quot;</td><td>&quot;Minimal use&quot;</td><td>null</td><td>null</td><td>13.5</td><td>419.89974</td><td>437683.782299</td><td>1.0687e7</td></tr><tr><td>&quot;AD1_2008__Bill…</td><td>&quot;AD1_2008__Bill…</td><td>&quot;AD1_2008__Bill…</td><td>-1.610663</td><td>48.540593</td><td>&quot;France&quot;</td><td>&quot;Europe&quot;</td><td>&quot;Western Europe…</td><td>&quot;Palearctic&quot;</td><td>&quot;Temperate Broa…</td><td>&quot;Atlantic Mixed…</td><td>null</td><td>null</td><td>&quot;2002-07-02&quot;</td><td>&quot;flight trap&quot;</td><td>5.0</td><td>1.0</td><td>1414.214</td><td>&quot;Andrena helvol…</td><td>6.960605e6</td><td>&quot;Animalia&quot;</td><td>&quot;Arthropoda&quot;</td><td>&quot;Insecta&quot;</td><td>&quot;Hymenoptera&quot;</td><td>&quot;Andrenidae&quot;</td><td>&quot;Andrena&quot;</td><td>&quot;helvola&quot;</td><td>&quot;Abundance&quot;</td><td>0.0</td><td>0.0</td><td>&quot;Cropland&quot;</td><td>&quot;Light use&quot;</td><td>null</td><td>null</td><td>63.5</td><td>810.058171</td><td>436846.596911</td><td>1.0873e7</td></tr><tr><td>&quot;AD1_2008__Bill…</td><td>&quot;AD1_2008__Bill…</td><td>&quot;AD1_2008__Bill…</td><td>-1.610663</td><td>48.540593</td><td>&quot;France&quot;</td><td>&quot;Europe&quot;</td><td>&quot;Western Europe…</td><td>&quot;Palearctic&quot;</td><td>&quot;Temperate Broa…</td><td>&quot;Atlantic Mixed…</td><td>null</td><td>null</td><td>&quot;2002-07-02&quot;</td><td>&quot;flight trap&quot;</td><td>5.0</td><td>1.0</td><td>1414.214</td><td>&quot;Andrena ovatul…</td><td>6.960904e6</td><td>&quot;Animalia&quot;</td><td>&quot;Arthropoda&quot;</td><td>&quot;Insecta&quot;</td><td>&quot;Hymenoptera&quot;</td><td>&quot;Andrenidae&quot;</td><td>&quot;Andrena&quot;</td><td>&quot;ovatula&quot;</td><td>&quot;Abundance&quot;</td><td>0.0</td><td>0.0</td><td>&quot;Cropland&quot;</td><td>&quot;Light use&quot;</td><td>null</td><td>null</td><td>63.5</td><td>810.058171</td><td>436846.596911</td><td>1.0873e7</td></tr><tr><td>&quot;AD1_2008__Bill…</td><td>&quot;AD1_2008__Bill…</td><td>&quot;AD1_2008__Bill…</td><td>-1.610663</td><td>48.540593</td><td>&quot;France&quot;</td><td>&quot;Europe&quot;</td><td>&quot;Western Europe…</td><td>&quot;Palearctic&quot;</td><td>&quot;Temperate Broa…</td><td>&quot;Atlantic Mixed…</td><td>null</td><td>null</td><td>&quot;2002-07-02&quot;</td><td>&quot;flight trap&quot;</td><td>5.0</td><td>1.0</td><td>1414.214</td><td>&quot;Andrena spinig…</td><td>1.3049592e7</td><td>&quot;Animalia&quot;</td><td>&quot;Arthropoda&quot;</td><td>&quot;Insecta&quot;</td><td>&quot;Hymenoptera&quot;</td><td>&quot;Andrenidae&quot;</td><td>&quot;Andrena&quot;</td><td>null</td><td>&quot;Abundance&quot;</td><td>0.0</td><td>0.0</td><td>&quot;Cropland&quot;</td><td>&quot;Light use&quot;</td><td>null</td><td>null</td><td>63.5</td><td>810.058171</td><td>436846.596911</td><td>1.0873e7</td></tr></tbody></table></div>"
      ],
      "text/plain": [
       "shape: (5, 38)\n",
       "┌─────┬─────┬─────┬─────┬─────┬─────┬─────┬─────┬─────┬─────┬─────┬─────┬─────┬─────┬─────┬─────┬─────┬─────┬─────┬─────┬─────┬─────┬─────┬─────┬─────┬─────┬─────┬─────┬─────┬─────┬─────┬─────┬─────┬─────┬─────┬─────┬─────┬─────┐\n",
       "│ SS  ┆ SSB ┆ SSB ┆ Lon ┆ Lat ┆ Cou ┆ UN_ ┆ UN_ ┆ Rea ┆ Bio ┆ Eco ┆ Wil ┆ Hot ┆ Sam ┆ Sam ┆ Sam ┆ Res ┆ Max ┆ Tax ┆ COL ┆ Kin ┆ Phy ┆ Cla ┆ Ord ┆ Fam ┆ Gen ┆ Spe ┆ Div ┆ Mea ┆ Eff ┆ Pre ┆ Use ┆ Hab ┆ Km_ ┆ Yea ┆ Roa ┆ Roa ┆ Roa │\n",
       "│ --- ┆ --- ┆ S   ┆ git ┆ itu ┆ ntr ┆ reg ┆ sub ┆ lm  ┆ me  ┆ reg ┆ der ┆ spo ┆ ple ┆ pli ┆ pli ┆ cal ┆ _li ┆ on_ ┆ _ID ┆ gdo ┆ lum ┆ ss  ┆ er  ┆ ily ┆ us  ┆ cie ┆ ers ┆ sur ┆ ort ┆ dom ┆ _in ┆ ita ┆ to_ ┆ rs_ ┆ d_d ┆ d_d ┆ d_d │\n",
       "│ str ┆ str ┆ --- ┆ ude ┆ de  ┆ y   ┆ ion ┆ reg ┆ --- ┆ --- ┆ ion ┆ nes ┆ t   ┆ _mi ┆ ng_ ┆ ng_ ┆ ed_ ┆ nea ┆ nam ┆ --- ┆ m   ┆ --- ┆ --- ┆ --- ┆ --- ┆ --- ┆ s   ┆ ity ┆ eme ┆ _co ┆ ina ┆ ten ┆ t_p ┆ nea ┆ sin ┆ ens ┆ ens ┆ ens │\n",
       "│     ┆     ┆ str ┆ --- ┆ --- ┆ --- ┆ --- ┆ ion ┆ str ┆ str ┆ --- ┆ s_a ┆ --- ┆ dpo ┆ met ┆ eff ┆ sam ┆ r_e ┆ e_e ┆ f64 ┆ --- ┆ str ┆ str ┆ str ┆ str ┆ str ┆ --- ┆ _me ┆ nt  ┆ rre ┆ nt_ ┆ sit ┆ atc ┆ res ┆ ce_ ┆ ity ┆ ity ┆ ity │\n",
       "│     ┆     ┆     ┆ f64 ┆ f64 ┆ str ┆ str ┆ --- ┆     ┆     ┆ str ┆ rea ┆ str ┆ int ┆ hod ┆ ort ┆ pli ┆ xte ┆ nte ┆     ┆ str ┆     ┆     ┆     ┆     ┆     ┆ str ┆ tri ┆ --- ┆ cte ┆ lan ┆ y   ┆ h_a ┆ t_e ┆ fra ┆ _1k ┆ _10 ┆ _50 │\n",
       "│     ┆     ┆     ┆     ┆     ┆     ┆     ┆ str ┆     ┆     ┆     ┆ --- ┆     ┆ --- ┆ --- ┆ --- ┆ ng_ ┆ nt_ ┆ red ┆     ┆     ┆     ┆     ┆     ┆     ┆     ┆     ┆ c_t ┆ f64 ┆ d_m ┆ d_u ┆ --- ┆ rea ┆ dge ┆ gme ┆ m   ┆ km  ┆ km  │\n",
       "│     ┆     ┆     ┆     ┆     ┆     ┆     ┆     ┆     ┆     ┆     ┆ str ┆     ┆ str ┆ str ┆ f64 ┆ eff ┆ met ┆ --- ┆     ┆     ┆     ┆     ┆     ┆     ┆     ┆     ┆ ype ┆     ┆ eas ┆ se  ┆ str ┆ _sq ┆ _of ┆ nta ┆ --- ┆ --- ┆ --- │\n",
       "│     ┆     ┆     ┆     ┆     ┆     ┆     ┆     ┆     ┆     ┆     ┆     ┆     ┆     ┆     ┆     ┆ ort ┆ res ┆ str ┆     ┆     ┆     ┆     ┆     ┆     ┆     ┆     ┆ --- ┆     ┆ ure ┆ --- ┆     ┆ uar ┆ _ha ┆ tio ┆ f64 ┆ f64 ┆ f64 │\n",
       "│     ┆     ┆     ┆     ┆     ┆     ┆     ┆     ┆     ┆     ┆     ┆     ┆     ┆     ┆     ┆     ┆ --- ┆ --- ┆     ┆     ┆     ┆     ┆     ┆     ┆     ┆     ┆     ┆ str ┆     ┆ men ┆ str ┆     ┆ e_m ┆ bit ┆ n_o ┆     ┆     ┆     │\n",
       "│     ┆     ┆     ┆     ┆     ┆     ┆     ┆     ┆     ┆     ┆     ┆     ┆     ┆     ┆     ┆     ┆ f64 ┆ f64 ┆     ┆     ┆     ┆     ┆     ┆     ┆     ┆     ┆     ┆     ┆     ┆ t   ┆     ┆     ┆ etr ┆ at  ┆ r_c ┆     ┆     ┆     │\n",
       "│     ┆     ┆     ┆     ┆     ┆     ┆     ┆     ┆     ┆     ┆     ┆     ┆     ┆     ┆     ┆     ┆     ┆     ┆     ┆     ┆     ┆     ┆     ┆     ┆     ┆     ┆     ┆     ┆     ┆ --- ┆     ┆     ┆ es  ┆ --- ┆ on… ┆     ┆     ┆     │\n",
       "│     ┆     ┆     ┆     ┆     ┆     ┆     ┆     ┆     ┆     ┆     ┆     ┆     ┆     ┆     ┆     ┆     ┆     ┆     ┆     ┆     ┆     ┆     ┆     ┆     ┆     ┆     ┆     ┆     ┆ f64 ┆     ┆     ┆ --- ┆ str ┆ --- ┆     ┆     ┆     │\n",
       "│     ┆     ┆     ┆     ┆     ┆     ┆     ┆     ┆     ┆     ┆     ┆     ┆     ┆     ┆     ┆     ┆     ┆     ┆     ┆     ┆     ┆     ┆     ┆     ┆     ┆     ┆     ┆     ┆     ┆     ┆     ┆     ┆ str ┆     ┆ f64 ┆     ┆     ┆     │\n",
       "╞═════╪═════╪═════╪═════╪═════╪═════╪═════╪═════╪═════╪═════╪═════╪═════╪═════╪═════╪═════╪═════╪═════╪═════╪═════╪═════╪═════╪═════╪═════╪═════╪═════╪═════╪═════╪═════╪═════╪═════╪═════╪═════╪═════╪═════╪═════╪═════╪═════╪═════╡\n",
       "│ AD1 ┆ AD1 ┆ AD1 ┆ -1. ┆ 48. ┆ Fra ┆ Eur ┆ Wes ┆ Pal ┆ Tem ┆ Atl ┆ nul ┆ nul ┆ 200 ┆ fli ┆ 5.0 ┆ 1.0 ┆ 141 ┆ Las ┆ 6.9 ┆ Ani ┆ Art ┆ Ins ┆ Hym ┆ Hal ┆ Las ┆ mor ┆ Abu ┆ 0.0 ┆ 0.0 ┆ Cro ┆ Min ┆ nul ┆ nul ┆ 13. ┆ 419 ┆ 437 ┆ 1.0 │\n",
       "│ _20 ┆ _20 ┆ _20 ┆ 590 ┆ 472 ┆ nce ┆ ope ┆ ter ┆ ear ┆ per ┆ ant ┆ l   ┆ l   ┆ 2-0 ┆ ght ┆     ┆     ┆ 4.2 ┆ iog ┆ 670 ┆ mal ┆ hro ┆ ect ┆ eno ┆ ict ┆ iog ┆ io  ┆ nda ┆     ┆     ┆ pla ┆ ima ┆ l   ┆ l   ┆ 5   ┆ .89 ┆ 683 ┆ 687 │\n",
       "│ 08_ ┆ 08_ ┆ 08_ ┆ 365 ┆ 153 ┆     ┆     ┆ n   ┆ cti ┆ ate ┆ ic  ┆     ┆     ┆ 7-0 ┆ tra ┆     ┆     ┆ 14  ┆ los ┆ 08e ┆ ia  ┆ pod ┆ a   ┆ pte ┆ ida ┆ los ┆     ┆ nce ┆     ┆     ┆ nd  ┆ l   ┆     ┆     ┆     ┆ 974 ┆ .78 ┆ e7  │\n",
       "│ _Bi ┆ _Bi ┆ _Bi ┆     ┆     ┆     ┆     ┆ Eur ┆ c   ┆ Bro ┆ Mix ┆     ┆     ┆ 2   ┆ p   ┆     ┆     ┆     ┆ sum ┆ 6   ┆     ┆ a   ┆     ┆ ra  ┆ e   ┆ sum ┆     ┆     ┆     ┆     ┆     ┆ use ┆     ┆     ┆     ┆     ┆ 229 ┆     │\n",
       "│ lle ┆ lle ┆ lle ┆     ┆     ┆     ┆     ┆ ope ┆     ┆ adl ┆ ed  ┆     ┆     ┆     ┆     ┆     ┆     ┆     ┆ mor ┆     ┆     ┆     ┆     ┆     ┆     ┆     ┆     ┆     ┆     ┆     ┆     ┆     ┆     ┆     ┆     ┆     ┆ 9   ┆     │\n",
       "│ ter ┆ ter ┆ ter ┆     ┆     ┆     ┆     ┆     ┆     ┆ eaf ┆ For ┆     ┆     ┆     ┆     ┆     ┆     ┆     ┆ io  ┆     ┆     ┆     ┆     ┆     ┆     ┆     ┆     ┆     ┆     ┆     ┆     ┆     ┆     ┆     ┆     ┆     ┆     ┆     │\n",
       "│ 8   ┆ 8   ┆ 8   ┆     ┆     ┆     ┆     ┆     ┆     ┆ &   ┆ est ┆     ┆     ┆     ┆     ┆     ┆     ┆     ┆     ┆     ┆     ┆     ┆     ┆     ┆     ┆     ┆     ┆     ┆     ┆     ┆     ┆     ┆     ┆     ┆     ┆     ┆     ┆     │\n",
       "│     ┆ F2  ┆ F2  ┆     ┆     ┆     ┆     ┆     ┆     ┆ Mix ┆ s   ┆     ┆     ┆     ┆     ┆     ┆     ┆     ┆     ┆     ┆     ┆     ┆     ┆     ┆     ┆     ┆     ┆     ┆     ┆     ┆     ┆     ┆     ┆     ┆     ┆     ┆     ┆     │\n",
       "│     ┆     ┆ 32  ┆     ┆     ┆     ┆     ┆     ┆     ┆ ed  ┆     ┆     ┆     ┆     ┆     ┆     ┆     ┆     ┆     ┆     ┆     ┆     ┆     ┆     ┆     ┆     ┆     ┆     ┆     ┆     ┆     ┆     ┆     ┆     ┆     ┆     ┆     ┆     │\n",
       "│     ┆     ┆     ┆     ┆     ┆     ┆     ┆     ┆     ┆ For ┆     ┆     ┆     ┆     ┆     ┆     ┆     ┆     ┆     ┆     ┆     ┆     ┆     ┆     ┆     ┆     ┆     ┆     ┆     ┆     ┆     ┆     ┆     ┆     ┆     ┆     ┆     ┆     │\n",
       "│     ┆     ┆     ┆     ┆     ┆     ┆     ┆     ┆     ┆ e…  ┆     ┆     ┆     ┆     ┆     ┆     ┆     ┆     ┆     ┆     ┆     ┆     ┆     ┆     ┆     ┆     ┆     ┆     ┆     ┆     ┆     ┆     ┆     ┆     ┆     ┆     ┆     ┆     │\n",
       "│ AD1 ┆ AD1 ┆ AD1 ┆ -1. ┆ 48. ┆ Fra ┆ Eur ┆ Wes ┆ Pal ┆ Tem ┆ Atl ┆ nul ┆ nul ┆ 200 ┆ fli ┆ 5.0 ┆ 1.0 ┆ 141 ┆ Las ┆ 6.9 ┆ Ani ┆ Art ┆ Ins ┆ Hym ┆ Hal ┆ Las ┆ pau ┆ Abu ┆ 0.0 ┆ 0.0 ┆ Cro ┆ Min ┆ nul ┆ nul ┆ 13. ┆ 419 ┆ 437 ┆ 1.0 │\n",
       "│ _20 ┆ _20 ┆ _20 ┆ 590 ┆ 472 ┆ nce ┆ ope ┆ ter ┆ ear ┆ per ┆ ant ┆ l   ┆ l   ┆ 2-0 ┆ ght ┆     ┆     ┆ 4.2 ┆ iog ┆ 671 ┆ mal ┆ hro ┆ ect ┆ eno ┆ ict ┆ iog ┆ xil ┆ nda ┆     ┆     ┆ pla ┆ ima ┆ l   ┆ l   ┆ 5   ┆ .89 ┆ 683 ┆ 687 │\n",
       "│ 08_ ┆ 08_ ┆ 08_ ┆ 365 ┆ 153 ┆     ┆     ┆ n   ┆ cti ┆ ate ┆ ic  ┆     ┆     ┆ 7-0 ┆ tra ┆     ┆     ┆ 14  ┆ los ┆ 87e ┆ ia  ┆ pod ┆ a   ┆ pte ┆ ida ┆ los ┆ lum ┆ nce ┆     ┆     ┆ nd  ┆ l   ┆     ┆     ┆     ┆ 974 ┆ .78 ┆ e7  │\n",
       "│ _Bi ┆ _Bi ┆ _Bi ┆     ┆     ┆     ┆     ┆ Eur ┆ c   ┆ Bro ┆ Mix ┆     ┆     ┆ 2   ┆ p   ┆     ┆     ┆     ┆ sum ┆ 6   ┆     ┆ a   ┆     ┆ ra  ┆ e   ┆ sum ┆     ┆     ┆     ┆     ┆     ┆ use ┆     ┆     ┆     ┆     ┆ 229 ┆     │\n",
       "│ lle ┆ lle ┆ lle ┆     ┆     ┆     ┆     ┆ ope ┆     ┆ adl ┆ ed  ┆     ┆     ┆     ┆     ┆     ┆     ┆     ┆ pau ┆     ┆     ┆     ┆     ┆     ┆     ┆     ┆     ┆     ┆     ┆     ┆     ┆     ┆     ┆     ┆     ┆     ┆ 9   ┆     │\n",
       "│ ter ┆ ter ┆ ter ┆     ┆     ┆     ┆     ┆     ┆     ┆ eaf ┆ For ┆     ┆     ┆     ┆     ┆     ┆     ┆     ┆ xil ┆     ┆     ┆     ┆     ┆     ┆     ┆     ┆     ┆     ┆     ┆     ┆     ┆     ┆     ┆     ┆     ┆     ┆     ┆     │\n",
       "│ 8   ┆ 8   ┆ 8   ┆     ┆     ┆     ┆     ┆     ┆     ┆ &   ┆ est ┆     ┆     ┆     ┆     ┆     ┆     ┆     ┆ lum ┆     ┆     ┆     ┆     ┆     ┆     ┆     ┆     ┆     ┆     ┆     ┆     ┆     ┆     ┆     ┆     ┆     ┆     ┆     │\n",
       "│     ┆ F2  ┆ F2  ┆     ┆     ┆     ┆     ┆     ┆     ┆ Mix ┆ s   ┆     ┆     ┆     ┆     ┆     ┆     ┆     ┆     ┆     ┆     ┆     ┆     ┆     ┆     ┆     ┆     ┆     ┆     ┆     ┆     ┆     ┆     ┆     ┆     ┆     ┆     ┆     │\n",
       "│     ┆     ┆ 32  ┆     ┆     ┆     ┆     ┆     ┆     ┆ ed  ┆     ┆     ┆     ┆     ┆     ┆     ┆     ┆     ┆     ┆     ┆     ┆     ┆     ┆     ┆     ┆     ┆     ┆     ┆     ┆     ┆     ┆     ┆     ┆     ┆     ┆     ┆     ┆     │\n",
       "│     ┆     ┆     ┆     ┆     ┆     ┆     ┆     ┆     ┆ For ┆     ┆     ┆     ┆     ┆     ┆     ┆     ┆     ┆     ┆     ┆     ┆     ┆     ┆     ┆     ┆     ┆     ┆     ┆     ┆     ┆     ┆     ┆     ┆     ┆     ┆     ┆     ┆     │\n",
       "│     ┆     ┆     ┆     ┆     ┆     ┆     ┆     ┆     ┆ e…  ┆     ┆     ┆     ┆     ┆     ┆     ┆     ┆     ┆     ┆     ┆     ┆     ┆     ┆     ┆     ┆     ┆     ┆     ┆     ┆     ┆     ┆     ┆     ┆     ┆     ┆     ┆     ┆     │\n",
       "│ AD1 ┆ AD1 ┆ AD1 ┆ -1. ┆ 48. ┆ Fra ┆ Eur ┆ Wes ┆ Pal ┆ Tem ┆ Atl ┆ nul ┆ nul ┆ 200 ┆ fli ┆ 5.0 ┆ 1.0 ┆ 141 ┆ And ┆ 6.9 ┆ Ani ┆ Art ┆ Ins ┆ Hym ┆ And ┆ And ┆ hel ┆ Abu ┆ 0.0 ┆ 0.0 ┆ Cro ┆ Lig ┆ nul ┆ nul ┆ 63. ┆ 810 ┆ 436 ┆ 1.0 │\n",
       "│ _20 ┆ _20 ┆ _20 ┆ 610 ┆ 540 ┆ nce ┆ ope ┆ ter ┆ ear ┆ per ┆ ant ┆ l   ┆ l   ┆ 2-0 ┆ ght ┆     ┆     ┆ 4.2 ┆ ren ┆ 606 ┆ mal ┆ hro ┆ ect ┆ eno ┆ ren ┆ ren ┆ vol ┆ nda ┆     ┆     ┆ pla ┆ ht  ┆ l   ┆ l   ┆ 5   ┆ .05 ┆ 846 ┆ 873 │\n",
       "│ 08_ ┆ 08_ ┆ 08_ ┆ 663 ┆ 593 ┆     ┆     ┆ n   ┆ cti ┆ ate ┆ ic  ┆     ┆     ┆ 7-0 ┆ tra ┆     ┆     ┆ 14  ┆ a   ┆ 05e ┆ ia  ┆ pod ┆ a   ┆ pte ┆ ida ┆ a   ┆ a   ┆ nce ┆     ┆     ┆ nd  ┆ use ┆     ┆     ┆     ┆ 817 ┆ .59 ┆ e7  │\n",
       "│ _Bi ┆ _Bi ┆ _Bi ┆     ┆     ┆     ┆     ┆ Eur ┆ c   ┆ Bro ┆ Mix ┆     ┆     ┆ 2   ┆ p   ┆     ┆     ┆     ┆ hel ┆ 6   ┆     ┆ a   ┆     ┆ ra  ┆ e   ┆     ┆     ┆     ┆     ┆     ┆     ┆     ┆     ┆     ┆     ┆ 1   ┆ 691 ┆     │\n",
       "│ lle ┆ lle ┆ lle ┆     ┆     ┆     ┆     ┆ ope ┆     ┆ adl ┆ ed  ┆     ┆     ┆     ┆     ┆     ┆     ┆     ┆ vol ┆     ┆     ┆     ┆     ┆     ┆     ┆     ┆     ┆     ┆     ┆     ┆     ┆     ┆     ┆     ┆     ┆     ┆ 1   ┆     │\n",
       "│ ter ┆ ter ┆ ter ┆     ┆     ┆     ┆     ┆     ┆     ┆ eaf ┆ For ┆     ┆     ┆     ┆     ┆     ┆     ┆     ┆ a   ┆     ┆     ┆     ┆     ┆     ┆     ┆     ┆     ┆     ┆     ┆     ┆     ┆     ┆     ┆     ┆     ┆     ┆     ┆     │\n",
       "│ 8   ┆ 8   ┆ 8   ┆     ┆     ┆     ┆     ┆     ┆     ┆ &   ┆ est ┆     ┆     ┆     ┆     ┆     ┆     ┆     ┆     ┆     ┆     ┆     ┆     ┆     ┆     ┆     ┆     ┆     ┆     ┆     ┆     ┆     ┆     ┆     ┆     ┆     ┆     ┆     │\n",
       "│     ┆ F3  ┆ F3  ┆     ┆     ┆     ┆     ┆     ┆     ┆ Mix ┆ s   ┆     ┆     ┆     ┆     ┆     ┆     ┆     ┆     ┆     ┆     ┆     ┆     ┆     ┆     ┆     ┆     ┆     ┆     ┆     ┆     ┆     ┆     ┆     ┆     ┆     ┆     ┆     │\n",
       "│     ┆     ┆ 33  ┆     ┆     ┆     ┆     ┆     ┆     ┆ ed  ┆     ┆     ┆     ┆     ┆     ┆     ┆     ┆     ┆     ┆     ┆     ┆     ┆     ┆     ┆     ┆     ┆     ┆     ┆     ┆     ┆     ┆     ┆     ┆     ┆     ┆     ┆     ┆     │\n",
       "│     ┆     ┆     ┆     ┆     ┆     ┆     ┆     ┆     ┆ For ┆     ┆     ┆     ┆     ┆     ┆     ┆     ┆     ┆     ┆     ┆     ┆     ┆     ┆     ┆     ┆     ┆     ┆     ┆     ┆     ┆     ┆     ┆     ┆     ┆     ┆     ┆     ┆     │\n",
       "│     ┆     ┆     ┆     ┆     ┆     ┆     ┆     ┆     ┆ e…  ┆     ┆     ┆     ┆     ┆     ┆     ┆     ┆     ┆     ┆     ┆     ┆     ┆     ┆     ┆     ┆     ┆     ┆     ┆     ┆     ┆     ┆     ┆     ┆     ┆     ┆     ┆     ┆     │\n",
       "│ AD1 ┆ AD1 ┆ AD1 ┆ -1. ┆ 48. ┆ Fra ┆ Eur ┆ Wes ┆ Pal ┆ Tem ┆ Atl ┆ nul ┆ nul ┆ 200 ┆ fli ┆ 5.0 ┆ 1.0 ┆ 141 ┆ And ┆ 6.9 ┆ Ani ┆ Art ┆ Ins ┆ Hym ┆ And ┆ And ┆ ova ┆ Abu ┆ 0.0 ┆ 0.0 ┆ Cro ┆ Lig ┆ nul ┆ nul ┆ 63. ┆ 810 ┆ 436 ┆ 1.0 │\n",
       "│ _20 ┆ _20 ┆ _20 ┆ 610 ┆ 540 ┆ nce ┆ ope ┆ ter ┆ ear ┆ per ┆ ant ┆ l   ┆ l   ┆ 2-0 ┆ ght ┆     ┆     ┆ 4.2 ┆ ren ┆ 609 ┆ mal ┆ hro ┆ ect ┆ eno ┆ ren ┆ ren ┆ tul ┆ nda ┆     ┆     ┆ pla ┆ ht  ┆ l   ┆ l   ┆ 5   ┆ .05 ┆ 846 ┆ 873 │\n",
       "│ 08_ ┆ 08_ ┆ 08_ ┆ 663 ┆ 593 ┆     ┆     ┆ n   ┆ cti ┆ ate ┆ ic  ┆     ┆     ┆ 7-0 ┆ tra ┆     ┆     ┆ 14  ┆ a   ┆ 04e ┆ ia  ┆ pod ┆ a   ┆ pte ┆ ida ┆ a   ┆ a   ┆ nce ┆     ┆     ┆ nd  ┆ use ┆     ┆     ┆     ┆ 817 ┆ .59 ┆ e7  │\n",
       "│ _Bi ┆ _Bi ┆ _Bi ┆     ┆     ┆     ┆     ┆ Eur ┆ c   ┆ Bro ┆ Mix ┆     ┆     ┆ 2   ┆ p   ┆     ┆     ┆     ┆ ova ┆ 6   ┆     ┆ a   ┆     ┆ ra  ┆ e   ┆     ┆     ┆     ┆     ┆     ┆     ┆     ┆     ┆     ┆     ┆ 1   ┆ 691 ┆     │\n",
       "│ lle ┆ lle ┆ lle ┆     ┆     ┆     ┆     ┆ ope ┆     ┆ adl ┆ ed  ┆     ┆     ┆     ┆     ┆     ┆     ┆     ┆ tul ┆     ┆     ┆     ┆     ┆     ┆     ┆     ┆     ┆     ┆     ┆     ┆     ┆     ┆     ┆     ┆     ┆     ┆ 1   ┆     │\n",
       "│ ter ┆ ter ┆ ter ┆     ┆     ┆     ┆     ┆     ┆     ┆ eaf ┆ For ┆     ┆     ┆     ┆     ┆     ┆     ┆     ┆ a   ┆     ┆     ┆     ┆     ┆     ┆     ┆     ┆     ┆     ┆     ┆     ┆     ┆     ┆     ┆     ┆     ┆     ┆     ┆     │\n",
       "│ 8   ┆ 8   ┆ 8   ┆     ┆     ┆     ┆     ┆     ┆     ┆ &   ┆ est ┆     ┆     ┆     ┆     ┆     ┆     ┆     ┆     ┆     ┆     ┆     ┆     ┆     ┆     ┆     ┆     ┆     ┆     ┆     ┆     ┆     ┆     ┆     ┆     ┆     ┆     ┆     │\n",
       "│     ┆ F3  ┆ F3  ┆     ┆     ┆     ┆     ┆     ┆     ┆ Mix ┆ s   ┆     ┆     ┆     ┆     ┆     ┆     ┆     ┆     ┆     ┆     ┆     ┆     ┆     ┆     ┆     ┆     ┆     ┆     ┆     ┆     ┆     ┆     ┆     ┆     ┆     ┆     ┆     │\n",
       "│     ┆     ┆ 33  ┆     ┆     ┆     ┆     ┆     ┆     ┆ ed  ┆     ┆     ┆     ┆     ┆     ┆     ┆     ┆     ┆     ┆     ┆     ┆     ┆     ┆     ┆     ┆     ┆     ┆     ┆     ┆     ┆     ┆     ┆     ┆     ┆     ┆     ┆     ┆     │\n",
       "│     ┆     ┆     ┆     ┆     ┆     ┆     ┆     ┆     ┆ For ┆     ┆     ┆     ┆     ┆     ┆     ┆     ┆     ┆     ┆     ┆     ┆     ┆     ┆     ┆     ┆     ┆     ┆     ┆     ┆     ┆     ┆     ┆     ┆     ┆     ┆     ┆     ┆     │\n",
       "│     ┆     ┆     ┆     ┆     ┆     ┆     ┆     ┆     ┆ e…  ┆     ┆     ┆     ┆     ┆     ┆     ┆     ┆     ┆     ┆     ┆     ┆     ┆     ┆     ┆     ┆     ┆     ┆     ┆     ┆     ┆     ┆     ┆     ┆     ┆     ┆     ┆     ┆     │\n",
       "│ AD1 ┆ AD1 ┆ AD1 ┆ -1. ┆ 48. ┆ Fra ┆ Eur ┆ Wes ┆ Pal ┆ Tem ┆ Atl ┆ nul ┆ nul ┆ 200 ┆ fli ┆ 5.0 ┆ 1.0 ┆ 141 ┆ And ┆ 1.3 ┆ Ani ┆ Art ┆ Ins ┆ Hym ┆ And ┆ And ┆ nul ┆ Abu ┆ 0.0 ┆ 0.0 ┆ Cro ┆ Lig ┆ nul ┆ nul ┆ 63. ┆ 810 ┆ 436 ┆ 1.0 │\n",
       "│ _20 ┆ _20 ┆ _20 ┆ 610 ┆ 540 ┆ nce ┆ ope ┆ ter ┆ ear ┆ per ┆ ant ┆ l   ┆ l   ┆ 2-0 ┆ ght ┆     ┆     ┆ 4.2 ┆ ren ┆ 049 ┆ mal ┆ hro ┆ ect ┆ eno ┆ ren ┆ ren ┆ l   ┆ nda ┆     ┆     ┆ pla ┆ ht  ┆ l   ┆ l   ┆ 5   ┆ .05 ┆ 846 ┆ 873 │\n",
       "│ 08_ ┆ 08_ ┆ 08_ ┆ 663 ┆ 593 ┆     ┆     ┆ n   ┆ cti ┆ ate ┆ ic  ┆     ┆     ┆ 7-0 ┆ tra ┆     ┆     ┆ 14  ┆ a   ┆ 592 ┆ ia  ┆ pod ┆ a   ┆ pte ┆ ida ┆ a   ┆     ┆ nce ┆     ┆     ┆ nd  ┆ use ┆     ┆     ┆     ┆ 817 ┆ .59 ┆ e7  │\n",
       "│ _Bi ┆ _Bi ┆ _Bi ┆     ┆     ┆     ┆     ┆ Eur ┆ c   ┆ Bro ┆ Mix ┆     ┆     ┆ 2   ┆ p   ┆     ┆     ┆     ┆ spi ┆ e7  ┆     ┆ a   ┆     ┆ ra  ┆ e   ┆     ┆     ┆     ┆     ┆     ┆     ┆     ┆     ┆     ┆     ┆ 1   ┆ 691 ┆     │\n",
       "│ lle ┆ lle ┆ lle ┆     ┆     ┆     ┆     ┆ ope ┆     ┆ adl ┆ ed  ┆     ┆     ┆     ┆     ┆     ┆     ┆     ┆ nig ┆     ┆     ┆     ┆     ┆     ┆     ┆     ┆     ┆     ┆     ┆     ┆     ┆     ┆     ┆     ┆     ┆     ┆ 1   ┆     │\n",
       "│ ter ┆ ter ┆ ter ┆     ┆     ┆     ┆     ┆     ┆     ┆ eaf ┆ For ┆     ┆     ┆     ┆     ┆     ┆     ┆     ┆ era ┆     ┆     ┆     ┆     ┆     ┆     ┆     ┆     ┆     ┆     ┆     ┆     ┆     ┆     ┆     ┆     ┆     ┆     ┆     │\n",
       "│ 8   ┆ 8   ┆ 8   ┆     ┆     ┆     ┆     ┆     ┆     ┆ &   ┆ est ┆     ┆     ┆     ┆     ┆     ┆     ┆     ┆     ┆     ┆     ┆     ┆     ┆     ┆     ┆     ┆     ┆     ┆     ┆     ┆     ┆     ┆     ┆     ┆     ┆     ┆     ┆     │\n",
       "│     ┆ F3  ┆ F3  ┆     ┆     ┆     ┆     ┆     ┆     ┆ Mix ┆ s   ┆     ┆     ┆     ┆     ┆     ┆     ┆     ┆     ┆     ┆     ┆     ┆     ┆     ┆     ┆     ┆     ┆     ┆     ┆     ┆     ┆     ┆     ┆     ┆     ┆     ┆     ┆     │\n",
       "│     ┆     ┆ 33  ┆     ┆     ┆     ┆     ┆     ┆     ┆ ed  ┆     ┆     ┆     ┆     ┆     ┆     ┆     ┆     ┆     ┆     ┆     ┆     ┆     ┆     ┆     ┆     ┆     ┆     ┆     ┆     ┆     ┆     ┆     ┆     ┆     ┆     ┆     ┆     │\n",
       "│     ┆     ┆     ┆     ┆     ┆     ┆     ┆     ┆     ┆ For ┆     ┆     ┆     ┆     ┆     ┆     ┆     ┆     ┆     ┆     ┆     ┆     ┆     ┆     ┆     ┆     ┆     ┆     ┆     ┆     ┆     ┆     ┆     ┆     ┆     ┆     ┆     ┆     │\n",
       "│     ┆     ┆     ┆     ┆     ┆     ┆     ┆     ┆     ┆ e…  ┆     ┆     ┆     ┆     ┆     ┆     ┆     ┆     ┆     ┆     ┆     ┆     ┆     ┆     ┆     ┆     ┆     ┆     ┆     ┆     ┆     ┆     ┆     ┆     ┆     ┆     ┆     ┆     │\n",
       "└─────┴─────┴─────┴─────┴─────┴─────┴─────┴─────┴─────┴─────┴─────┴─────┴─────┴─────┴─────┴─────┴─────┴─────┴─────┴─────┴─────┴─────┴─────┴─────┴─────┴─────┴─────┴─────┴─────┴─────┴─────┴─────┴─────┴─────┴─────┴─────┴─────┴─────┘"
      ]
     },
     "execution_count": 114,
     "metadata": {},
     "output_type": "execute_result"
    }
   ],
   "source": [
    "df_predicts_roads.head()"
   ]
  },
  {
   "cell_type": "markdown",
   "metadata": {},
   "source": [
    "### Interpolation of population density data to join with PREDICTS"
   ]
  },
  {
   "cell_type": "code",
   "execution_count": 118,
   "metadata": {
    "tags": []
   },
   "outputs": [
    {
     "data": {
      "text/html": [
       "<div><style>\n",
       ".dataframe > thead > tr,\n",
       ".dataframe > tbody > tr {\n",
       "  text-align: right;\n",
       "  white-space: pre-wrap;\n",
       "}\n",
       "</style>\n",
       "<small>shape: (5, 16)</small><table border=\"1\" class=\"dataframe\"><thead><tr><th>SSBS</th><th>Pop_density_1km_2000</th><th>Pop_density_1km_2005</th><th>Pop_density_1km_2010</th><th>Pop_density_1km_2015</th><th>Pop_density_1km_2020</th><th>Pop_density_10km_2000</th><th>Pop_density_10km_2005</th><th>Pop_density_10km_2010</th><th>Pop_density_10km_2015</th><th>Pop_density_10km_2020</th><th>Pop_density_50km_2000</th><th>Pop_density_50km_2005</th><th>Pop_density_50km_2010</th><th>Pop_density_50km_2015</th><th>Pop_density_50km_2020</th></tr><tr><td>str</td><td>f64</td><td>f64</td><td>f64</td><td>f64</td><td>f64</td><td>f64</td><td>f64</td><td>f64</td><td>f64</td><td>f64</td><td>f64</td><td>f64</td><td>f64</td><td>f64</td><td>f64</td></tr></thead><tbody><tr><td>&quot;AD1_2001__Liow…</td><td>8665.053819</td><td>10686.046875</td><td>12856.830729</td><td>14912.848958</td><td>16510.614583</td><td>6093.886228</td><td>6958.095808</td><td>7791.201098</td><td>8467.353293</td><td>8861.665669</td><td>933.654075</td><td>1093.091219</td><td>1268.813392</td><td>1454.161213</td><td>1641.065066</td></tr><tr><td>&quot;AD1_2001__Liow…</td><td>1131.090088</td><td>1245.123128</td><td>1336.200765</td><td>1381.482259</td><td>1362.475993</td><td>7262.850962</td><td>8273.240919</td><td>9271.036325</td><td>10134.848291</td><td>10751.494658</td><td>940.373195</td><td>1101.212981</td><td>1278.487799</td><td>1465.453558</td><td>1653.969848</td></tr><tr><td>&quot;AD1_2001__Liow…</td><td>4979.729167</td><td>5457.96875</td><td>5831.039931</td><td>6000.927951</td><td>5890.359375</td><td>6354.087041</td><td>7373.591876</td><td>8452.087041</td><td>9503.366538</td><td>10438.625725</td><td>898.962319</td><td>1050.302434</td><td>1216.123064</td><td>1389.497541</td><td>1562.316572</td></tr><tr><td>&quot;AD1_2001__Liow…</td><td>4332.883681</td><td>4888.942708</td><td>5376.256944</td><td>5694.303819</td><td>5751.630208</td><td>6440.715232</td><td>7292.890728</td><td>8099.86755</td><td>8738.147903</td><td>9092.586093</td><td>951.244901</td><td>1114.757922</td><td>1295.39474</td><td>1486.577678</td><td>1680.202951</td></tr><tr><td>&quot;AD1_2001__Liow…</td><td>8465.158203</td><td>9318.025391</td><td>9998.738932</td><td>10336.432943</td><td>10192.90625</td><td>6748.165722</td><td>7515.062323</td><td>8172.850567</td><td>8578.686969</td><td>8606.26983</td><td>979.929484</td><td>1149.967869</td><td>1338.408612</td><td>1538.764551</td><td>1742.833948</td></tr></tbody></table></div>"
      ],
      "text/plain": [
       "shape: (5, 16)\n",
       "┌─────┬─────┬─────┬─────┬─────┬─────┬─────┬─────┬─────┬─────┬─────┬─────┬─────┬─────┬─────┬────────┐\n",
       "│ SSB ┆ Pop ┆ Pop ┆ Pop ┆ Pop ┆ Pop ┆ Pop ┆ Pop ┆ Pop ┆ Pop ┆ Pop ┆ Pop ┆ Pop ┆ Pop ┆ Pop ┆ Pop_de │\n",
       "│ S   ┆ _de ┆ _de ┆ _de ┆ _de ┆ _de ┆ _de ┆ _de ┆ _de ┆ _de ┆ _de ┆ _de ┆ _de ┆ _de ┆ _de ┆ nsity_ │\n",
       "│ --- ┆ nsi ┆ nsi ┆ nsi ┆ nsi ┆ nsi ┆ nsi ┆ nsi ┆ nsi ┆ nsi ┆ nsi ┆ nsi ┆ nsi ┆ nsi ┆ nsi ┆ 50km_2 │\n",
       "│ str ┆ ty_ ┆ ty_ ┆ ty_ ┆ ty_ ┆ ty_ ┆ ty_ ┆ ty_ ┆ ty_ ┆ ty_ ┆ ty_ ┆ ty_ ┆ ty_ ┆ ty_ ┆ ty_ ┆ 020    │\n",
       "│     ┆ 1km ┆ 1km ┆ 1km ┆ 1km ┆ 1km ┆ 10k ┆ 10k ┆ 10k ┆ 10k ┆ 10k ┆ 50k ┆ 50k ┆ 50k ┆ 50k ┆ ---    │\n",
       "│     ┆ _20 ┆ _20 ┆ _20 ┆ _20 ┆ _20 ┆ m_2 ┆ m_2 ┆ m_2 ┆ m_2 ┆ m_2 ┆ m_2 ┆ m_2 ┆ m_2 ┆ m_2 ┆ f64    │\n",
       "│     ┆ 00  ┆ 05  ┆ 10  ┆ 15  ┆ 20  ┆ 000 ┆ 005 ┆ 010 ┆ 015 ┆ 020 ┆ 000 ┆ 005 ┆ 010 ┆ 015 ┆        │\n",
       "│     ┆ --- ┆ --- ┆ --- ┆ --- ┆ --- ┆ --- ┆ --- ┆ --- ┆ --- ┆ --- ┆ --- ┆ --- ┆ --- ┆ --- ┆        │\n",
       "│     ┆ f64 ┆ f64 ┆ f64 ┆ f64 ┆ f64 ┆ f64 ┆ f64 ┆ f64 ┆ f64 ┆ f64 ┆ f64 ┆ f64 ┆ f64 ┆ f64 ┆        │\n",
       "╞═════╪═════╪═════╪═════╪═════╪═════╪═════╪═════╪═════╪═════╪═════╪═════╪═════╪═════╪═════╪════════╡\n",
       "│ AD1 ┆ 866 ┆ 106 ┆ 128 ┆ 149 ┆ 165 ┆ 609 ┆ 695 ┆ 779 ┆ 846 ┆ 886 ┆ 933 ┆ 109 ┆ 126 ┆ 145 ┆ 1641.0 │\n",
       "│ _20 ┆ 5.0 ┆ 86. ┆ 56. ┆ 12. ┆ 10. ┆ 3.8 ┆ 8.0 ┆ 1.2 ┆ 7.3 ┆ 1.6 ┆ .65 ┆ 3.0 ┆ 8.8 ┆ 4.1 ┆ 65066  │\n",
       "│ 01_ ┆ 538 ┆ 046 ┆ 830 ┆ 848 ┆ 614 ┆ 862 ┆ 958 ┆ 010 ┆ 532 ┆ 656 ┆ 407 ┆ 912 ┆ 133 ┆ 612 ┆        │\n",
       "│ _Li ┆ 19  ┆ 875 ┆ 729 ┆ 958 ┆ 583 ┆ 28  ┆ 08  ┆ 98  ┆ 93  ┆ 69  ┆ 5   ┆ 19  ┆ 92  ┆ 13  ┆        │\n",
       "│ ow  ┆     ┆     ┆     ┆     ┆     ┆     ┆     ┆     ┆     ┆     ┆     ┆     ┆     ┆     ┆        │\n",
       "│ 1   ┆     ┆     ┆     ┆     ┆     ┆     ┆     ┆     ┆     ┆     ┆     ┆     ┆     ┆     ┆        │\n",
       "│ 1   ┆     ┆     ┆     ┆     ┆     ┆     ┆     ┆     ┆     ┆     ┆     ┆     ┆     ┆     ┆        │\n",
       "│ AD1 ┆ 113 ┆ 124 ┆ 133 ┆ 138 ┆ 136 ┆ 726 ┆ 827 ┆ 927 ┆ 101 ┆ 107 ┆ 940 ┆ 110 ┆ 127 ┆ 146 ┆ 1653.9 │\n",
       "│ _20 ┆ 1.0 ┆ 5.1 ┆ 6.2 ┆ 1.4 ┆ 2.4 ┆ 2.8 ┆ 3.2 ┆ 1.0 ┆ 34. ┆ 51. ┆ .37 ┆ 1.2 ┆ 8.4 ┆ 5.4 ┆ 69848  │\n",
       "│ 01_ ┆ 900 ┆ 231 ┆ 007 ┆ 822 ┆ 759 ┆ 509 ┆ 409 ┆ 363 ┆ 848 ┆ 494 ┆ 319 ┆ 129 ┆ 877 ┆ 535 ┆        │\n",
       "│ _Li ┆ 88  ┆ 28  ┆ 65  ┆ 59  ┆ 93  ┆ 62  ┆ 19  ┆ 25  ┆ 291 ┆ 658 ┆ 5   ┆ 81  ┆ 99  ┆ 58  ┆        │\n",
       "│ ow  ┆     ┆     ┆     ┆     ┆     ┆     ┆     ┆     ┆     ┆     ┆     ┆     ┆     ┆     ┆        │\n",
       "│ 1   ┆     ┆     ┆     ┆     ┆     ┆     ┆     ┆     ┆     ┆     ┆     ┆     ┆     ┆     ┆        │\n",
       "│ 2   ┆     ┆     ┆     ┆     ┆     ┆     ┆     ┆     ┆     ┆     ┆     ┆     ┆     ┆     ┆        │\n",
       "│ AD1 ┆ 497 ┆ 545 ┆ 583 ┆ 600 ┆ 589 ┆ 635 ┆ 737 ┆ 845 ┆ 950 ┆ 104 ┆ 898 ┆ 105 ┆ 121 ┆ 138 ┆ 1562.3 │\n",
       "│ _20 ┆ 9.7 ┆ 7.9 ┆ 1.0 ┆ 0.9 ┆ 0.3 ┆ 4.0 ┆ 3.5 ┆ 2.0 ┆ 3.3 ┆ 38. ┆ .96 ┆ 0.3 ┆ 6.1 ┆ 9.4 ┆ 16572  │\n",
       "│ 01_ ┆ 291 ┆ 687 ┆ 399 ┆ 279 ┆ 593 ┆ 870 ┆ 918 ┆ 870 ┆ 665 ┆ 625 ┆ 231 ┆ 024 ┆ 230 ┆ 975 ┆        │\n",
       "│ _Li ┆ 67  ┆ 5   ┆ 31  ┆ 51  ┆ 75  ┆ 41  ┆ 76  ┆ 41  ┆ 38  ┆ 725 ┆ 9   ┆ 34  ┆ 64  ┆ 41  ┆        │\n",
       "│ ow  ┆     ┆     ┆     ┆     ┆     ┆     ┆     ┆     ┆     ┆     ┆     ┆     ┆     ┆     ┆        │\n",
       "│ 1   ┆     ┆     ┆     ┆     ┆     ┆     ┆     ┆     ┆     ┆     ┆     ┆     ┆     ┆     ┆        │\n",
       "│ 3   ┆     ┆     ┆     ┆     ┆     ┆     ┆     ┆     ┆     ┆     ┆     ┆     ┆     ┆     ┆        │\n",
       "│ AD1 ┆ 433 ┆ 488 ┆ 537 ┆ 569 ┆ 575 ┆ 644 ┆ 729 ┆ 809 ┆ 873 ┆ 909 ┆ 951 ┆ 111 ┆ 129 ┆ 148 ┆ 1680.2 │\n",
       "│ _20 ┆ 2.8 ┆ 8.9 ┆ 6.2 ┆ 4.3 ┆ 1.6 ┆ 0.7 ┆ 2.8 ┆ 9.8 ┆ 8.1 ┆ 2.5 ┆ .24 ┆ 4.7 ┆ 5.3 ┆ 6.5 ┆ 02951  │\n",
       "│ 01_ ┆ 836 ┆ 427 ┆ 569 ┆ 038 ┆ 302 ┆ 152 ┆ 907 ┆ 675 ┆ 479 ┆ 860 ┆ 490 ┆ 579 ┆ 947 ┆ 776 ┆        │\n",
       "│ _Li ┆ 81  ┆ 08  ┆ 44  ┆ 19  ┆ 08  ┆ 32  ┆ 28  ┆ 5   ┆ 03  ┆ 93  ┆ 1   ┆ 22  ┆ 4   ┆ 78  ┆        │\n",
       "│ ow  ┆     ┆     ┆     ┆     ┆     ┆     ┆     ┆     ┆     ┆     ┆     ┆     ┆     ┆     ┆        │\n",
       "│ 1   ┆     ┆     ┆     ┆     ┆     ┆     ┆     ┆     ┆     ┆     ┆     ┆     ┆     ┆     ┆        │\n",
       "│ 4   ┆     ┆     ┆     ┆     ┆     ┆     ┆     ┆     ┆     ┆     ┆     ┆     ┆     ┆     ┆        │\n",
       "│ AD1 ┆ 846 ┆ 931 ┆ 999 ┆ 103 ┆ 101 ┆ 674 ┆ 751 ┆ 817 ┆ 857 ┆ 860 ┆ 979 ┆ 114 ┆ 133 ┆ 153 ┆ 1742.8 │\n",
       "│ _20 ┆ 5.1 ┆ 8.0 ┆ 8.7 ┆ 36. ┆ 92. ┆ 8.1 ┆ 5.0 ┆ 2.8 ┆ 8.6 ┆ 6.2 ┆ .92 ┆ 9.9 ┆ 8.4 ┆ 8.7 ┆ 33948  │\n",
       "│ 01_ ┆ 582 ┆ 253 ┆ 389 ┆ 432 ┆ 906 ┆ 657 ┆ 623 ┆ 505 ┆ 869 ┆ 698 ┆ 948 ┆ 678 ┆ 086 ┆ 645 ┆        │\n",
       "│ _Li ┆ 03  ┆ 91  ┆ 32  ┆ 943 ┆ 25  ┆ 22  ┆ 23  ┆ 67  ┆ 69  ┆ 3   ┆ 4   ┆ 69  ┆ 12  ┆ 51  ┆        │\n",
       "│ ow  ┆     ┆     ┆     ┆     ┆     ┆     ┆     ┆     ┆     ┆     ┆     ┆     ┆     ┆     ┆        │\n",
       "│ 1   ┆     ┆     ┆     ┆     ┆     ┆     ┆     ┆     ┆     ┆     ┆     ┆     ┆     ┆     ┆        │\n",
       "│ 5   ┆     ┆     ┆     ┆     ┆     ┆     ┆     ┆     ┆     ┆     ┆     ┆     ┆     ┆     ┆        │\n",
       "└─────┴─────┴─────┴─────┴─────┴─────┴─────┴─────┴─────┴─────┴─────┴─────┴─────┴─────┴─────┴────────┘"
      ]
     },
     "execution_count": 118,
     "metadata": {},
     "output_type": "execute_result"
    }
   ],
   "source": [
    "df_pop_density.head()"
   ]
  },
  {
   "cell_type": "code",
   "execution_count": 133,
   "metadata": {
    "tags": []
   },
   "outputs": [],
   "source": [
    "# Split the dataframe to one for each resolution\n",
    "df_pop_1km = df_pop_density.select([pl.col(\"SSBS\"), pl.col(\"^.*1km.*$\")]).rename(\n",
    "    lambda col: col if col == \"SSBS\" else col[-4:]\n",
    ")\n",
    "\n",
    "df_pop_10km = df_pop_density.select([pl.col(\"SSBS\"), pl.col(\"^.*10km.*$\")]).rename(\n",
    "    lambda col: col if col == \"SSBS\" else col[-4:]\n",
    ")\n",
    "\n",
    "df_pop_50km = df_pop_density.select([pl.col(\"SSBS\"), pl.col(\"^.*50km.*$\")]).rename(\n",
    "    lambda col: col if col == \"SSBS\" else col[-4:]\n",
    ")"
   ]
  },
  {
   "cell_type": "code",
   "execution_count": 120,
   "metadata": {
    "tags": []
   },
   "outputs": [
    {
     "data": {
      "text/html": [
       "<div><style>\n",
       ".dataframe > thead > tr,\n",
       ".dataframe > tbody > tr {\n",
       "  text-align: right;\n",
       "  white-space: pre-wrap;\n",
       "}\n",
       "</style>\n",
       "<small>shape: (5, 6)</small><table border=\"1\" class=\"dataframe\"><thead><tr><th>SSBS</th><th>2000</th><th>2005</th><th>2010</th><th>2015</th><th>2020</th></tr><tr><td>str</td><td>f64</td><td>f64</td><td>f64</td><td>f64</td><td>f64</td></tr></thead><tbody><tr><td>&quot;AD1_2001__Liow…</td><td>8665.053819</td><td>10686.046875</td><td>12856.830729</td><td>14912.848958</td><td>16510.614583</td></tr><tr><td>&quot;AD1_2001__Liow…</td><td>1131.090088</td><td>1245.123128</td><td>1336.200765</td><td>1381.482259</td><td>1362.475993</td></tr><tr><td>&quot;AD1_2001__Liow…</td><td>4979.729167</td><td>5457.96875</td><td>5831.039931</td><td>6000.927951</td><td>5890.359375</td></tr><tr><td>&quot;AD1_2001__Liow…</td><td>4332.883681</td><td>4888.942708</td><td>5376.256944</td><td>5694.303819</td><td>5751.630208</td></tr><tr><td>&quot;AD1_2001__Liow…</td><td>8465.158203</td><td>9318.025391</td><td>9998.738932</td><td>10336.432943</td><td>10192.90625</td></tr></tbody></table></div>"
      ],
      "text/plain": [
       "shape: (5, 6)\n",
       "┌─────────────────────┬─────────────┬──────────────┬──────────────┬──────────────┬──────────────┐\n",
       "│ SSBS                ┆ 2000        ┆ 2005         ┆ 2010         ┆ 2015         ┆ 2020         │\n",
       "│ ---                 ┆ ---         ┆ ---          ┆ ---          ┆ ---          ┆ ---          │\n",
       "│ str                 ┆ f64         ┆ f64          ┆ f64          ┆ f64          ┆ f64          │\n",
       "╞═════════════════════╪═════════════╪══════════════╪══════════════╪══════════════╪══════════════╡\n",
       "│ AD1_2001__Liow 1  1 ┆ 8665.053819 ┆ 10686.046875 ┆ 12856.830729 ┆ 14912.848958 ┆ 16510.614583 │\n",
       "│ AD1_2001__Liow 1  2 ┆ 1131.090088 ┆ 1245.123128  ┆ 1336.200765  ┆ 1381.482259  ┆ 1362.475993  │\n",
       "│ AD1_2001__Liow 1  3 ┆ 4979.729167 ┆ 5457.96875   ┆ 5831.039931  ┆ 6000.927951  ┆ 5890.359375  │\n",
       "│ AD1_2001__Liow 1  4 ┆ 4332.883681 ┆ 4888.942708  ┆ 5376.256944  ┆ 5694.303819  ┆ 5751.630208  │\n",
       "│ AD1_2001__Liow 1  5 ┆ 8465.158203 ┆ 9318.025391  ┆ 9998.738932  ┆ 10336.432943 ┆ 10192.90625  │\n",
       "└─────────────────────┴─────────────┴──────────────┴──────────────┴──────────────┴──────────────┘"
      ]
     },
     "execution_count": 120,
     "metadata": {},
     "output_type": "execute_result"
    }
   ],
   "source": [
    "df_pop_1km.head()"
   ]
  },
  {
   "cell_type": "code",
   "execution_count": 134,
   "metadata": {
    "tags": []
   },
   "outputs": [],
   "source": [
    "def population_density_interpolation(df, resolution):\n",
    "\n",
    "    # Define intervals and years to interpolate\n",
    "    intervals = [(1984, 2000), (2000, 2005), (2005, 2010), (2010, 2015), (2015, 2020)]\n",
    "\n",
    "    # Function to calculate growth rate\n",
    "    def _calculate_growth_rate(df, start_year, end_year):\n",
    "        return np.log(df[str(end_year)] / df[str(start_year)]) / (end_year - start_year)\n",
    "\n",
    "    # Extrapolate back to 1984 using the growth rate from 2000 to 2005\n",
    "    r_2000_2005 = _calculate_growth_rate(df, 2000, 2005)\n",
    "    df = df.with_columns(\n",
    "        (df[\"2000\"] * np.exp(r_2000_2005 * (1984 - 2000))).alias(\"1984\")\n",
    "    )\n",
    "\n",
    "    # Loop through each interval to calculate growth rates and interpolate\n",
    "    for start_year, end_year in intervals:\n",
    "        r = _calculate_growth_rate(df, start_year, end_year)\n",
    "        for year in range(start_year, end_year + 1):\n",
    "            if year not in df.columns:\n",
    "                df = df.with_columns(\n",
    "                    (df[str(start_year)] * np.exp(r * (year - start_year))).alias(\n",
    "                        str(year)\n",
    "                    )\n",
    "                )\n",
    "\n",
    "    # Reorder the columns to have them in chronological order\n",
    "    df = df[[\"SSBS\"] + sorted(df.columns[1:], key=int)]\n",
    "\n",
    "    # Melt dataframe to go from wide to long format\n",
    "    df = df.melt(\n",
    "        id_vars=[\"SSBS\"],\n",
    "        value_vars=df.columns[1:],\n",
    "        variable_name=\"Year\",\n",
    "        value_name=f\"Pop_density_{resolution}\",\n",
    "    ).sort([\"SSBS\", \"Year\"])\n",
    "\n",
    "    # Convert to datetime format\n",
    "    df = df.with_columns(pl.col(\"Year\").str.strptime(pl.Datetime, \"%Y\").dt.year())\n",
    "\n",
    "    return df"
   ]
  },
  {
   "cell_type": "code",
   "execution_count": 136,
   "metadata": {
    "tags": []
   },
   "outputs": [
    {
     "data": {
      "text/html": [
       "<div><style>\n",
       ".dataframe > thead > tr,\n",
       ".dataframe > tbody > tr {\n",
       "  text-align: right;\n",
       "  white-space: pre-wrap;\n",
       "}\n",
       "</style>\n",
       "<small>shape: (5, 3)</small><table border=\"1\" class=\"dataframe\"><thead><tr><th>SSBS</th><th>Year</th><th>Pop_density_1km</th></tr><tr><td>str</td><td>i32</td><td>f64</td></tr></thead><tbody><tr><td>&quot;AD1_2001__Liow…</td><td>1984</td><td>4430.213653</td></tr><tr><td>&quot;AD1_2001__Liow…</td><td>1985</td><td>4619.913384</td></tr><tr><td>&quot;AD1_2001__Liow…</td><td>1986</td><td>4817.73597</td></tr><tr><td>&quot;AD1_2001__Liow…</td><td>1987</td><td>5024.02923</td></tr><tr><td>&quot;AD1_2001__Liow…</td><td>1988</td><td>5239.155872</td></tr></tbody></table></div>"
      ],
      "text/plain": [
       "shape: (5, 3)\n",
       "┌─────────────────────┬──────┬─────────────────┐\n",
       "│ SSBS                ┆ Year ┆ Pop_density_1km │\n",
       "│ ---                 ┆ ---  ┆ ---             │\n",
       "│ str                 ┆ i32  ┆ f64             │\n",
       "╞═════════════════════╪══════╪═════════════════╡\n",
       "│ AD1_2001__Liow 1  1 ┆ 1984 ┆ 4430.213653     │\n",
       "│ AD1_2001__Liow 1  1 ┆ 1985 ┆ 4619.913384     │\n",
       "│ AD1_2001__Liow 1  1 ┆ 1986 ┆ 4817.73597      │\n",
       "│ AD1_2001__Liow 1  1 ┆ 1987 ┆ 5024.02923      │\n",
       "│ AD1_2001__Liow 1  1 ┆ 1988 ┆ 5239.155872     │\n",
       "└─────────────────────┴──────┴─────────────────┘"
      ]
     },
     "execution_count": 136,
     "metadata": {},
     "output_type": "execute_result"
    }
   ],
   "source": [
    "df_pop_1km = population_density_interpolation(df_pop_1km, resolution=\"1km\")\n",
    "df_pop_10km = population_density_interpolation(df_pop_10km, resolution=\"10km\")\n",
    "df_pop_50km = population_density_interpolation(df_pop_50km, resolution=\"50km\")\n",
    "df_pop_1km.head()"
   ]
  },
  {
   "cell_type": "code",
   "execution_count": 115,
   "metadata": {
    "tags": []
   },
   "outputs": [],
   "source": [
    "# Convert to datetime format\n",
    "df_predicts_roads = df_predicts_roads.with_columns(\n",
    "    pl.col(\"Sample_midpoint\").str.to_datetime(\"%Y-%m-%d\")\n",
    ")\n",
    "\n",
    "# Extract the year information\n",
    "df_predicts_roads = df_predicts_roads.with_columns(\n",
    "    pl.col(\"Sample_midpoint\").dt.year().alias(\"Sample_year\")\n",
    ")"
   ]
  },
  {
   "cell_type": "code",
   "execution_count": 137,
   "metadata": {
    "tags": []
   },
   "outputs": [],
   "source": [
    "# Join the population densities of the year matching the sample year\n",
    "df_all = df_predicts_roads.clone()\n",
    "for df in [df_pop_1km, df_pop_10km, df_pop_50km]:\n",
    "    df_all = df_all.join(\n",
    "        df,\n",
    "        how=\"left\",\n",
    "        left_on=[\"SSBS\", \"Sample_year\"],\n",
    "        right_on=[\"SSBS\", \"Year\"],\n",
    "    )"
   ]
  },
  {
   "cell_type": "code",
   "execution_count": 138,
   "metadata": {
    "tags": []
   },
   "outputs": [
    {
     "data": {
      "text/html": [
       "<div><style>\n",
       ".dataframe > thead > tr,\n",
       ".dataframe > tbody > tr {\n",
       "  text-align: right;\n",
       "  white-space: pre-wrap;\n",
       "}\n",
       "</style>\n",
       "<small>shape: (5, 42)</small><table border=\"1\" class=\"dataframe\"><thead><tr><th>SS</th><th>SSB</th><th>SSBS</th><th>Longitude</th><th>Latitude</th><th>Country</th><th>UN_region</th><th>UN_subregion</th><th>Realm</th><th>Biome</th><th>Ecoregion</th><th>Wilderness_area</th><th>Hotspot</th><th>Sample_midpoint</th><th>Sampling_method</th><th>Sampling_effort</th><th>Rescaled_sampling_effort</th><th>Max_linear_extent_metres</th><th>Taxon_name_entered</th><th>COL_ID</th><th>Kingdom</th><th>Phylum</th><th>Class</th><th>Order</th><th>Family</th><th>Genus</th><th>Species</th><th>Diversity_metric_type</th><th>Measurement</th><th>Effort_corrected_measurement</th><th>Predominant_land_use</th><th>Use_intensity</th><th>Habitat_patch_area_square_metres</th><th>Km_to_nearest_edge_of_habitat</th><th>Years_since_fragmentation_or_conversion</th><th>Road_density_1km</th><th>Road_density_10km</th><th>Road_density_50km</th><th>Sample_year</th><th>Pop_density_1km</th><th>Pop_density_10km</th><th>Pop_density_50km</th></tr><tr><td>str</td><td>str</td><td>str</td><td>f64</td><td>f64</td><td>str</td><td>str</td><td>str</td><td>str</td><td>str</td><td>str</td><td>str</td><td>str</td><td>datetime[μs]</td><td>str</td><td>f64</td><td>f64</td><td>f64</td><td>str</td><td>f64</td><td>str</td><td>str</td><td>str</td><td>str</td><td>str</td><td>str</td><td>str</td><td>str</td><td>f64</td><td>f64</td><td>str</td><td>str</td><td>str</td><td>str</td><td>f64</td><td>f64</td><td>f64</td><td>f64</td><td>i32</td><td>f64</td><td>f64</td><td>f64</td></tr></thead><tbody><tr><td>&quot;AD1_2008__Bill…</td><td>&quot;AD1_2008__Bill…</td><td>&quot;AD1_2008__Bill…</td><td>-1.590365</td><td>48.472153</td><td>&quot;France&quot;</td><td>&quot;Europe&quot;</td><td>&quot;Western Europe…</td><td>&quot;Palearctic&quot;</td><td>&quot;Temperate Broa…</td><td>&quot;Atlantic Mixed…</td><td>null</td><td>null</td><td>2002-07-02 00:00:00</td><td>&quot;flight trap&quot;</td><td>5.0</td><td>1.0</td><td>1414.214</td><td>&quot;Lasioglossum m…</td><td>6.967008e6</td><td>&quot;Animalia&quot;</td><td>&quot;Arthropoda&quot;</td><td>&quot;Insecta&quot;</td><td>&quot;Hymenoptera&quot;</td><td>&quot;Halictidae&quot;</td><td>&quot;Lasioglossum&quot;</td><td>&quot;morio&quot;</td><td>&quot;Abundance&quot;</td><td>0.0</td><td>0.0</td><td>&quot;Cropland&quot;</td><td>&quot;Minimal use&quot;</td><td>null</td><td>null</td><td>13.5</td><td>419.89974</td><td>437683.782299</td><td>1.0687e7</td><td>2002</td><td>34.898771</td><td>47.860182</td><td>125.423294</td></tr><tr><td>&quot;AD1_2008__Bill…</td><td>&quot;AD1_2008__Bill…</td><td>&quot;AD1_2008__Bill…</td><td>-1.590365</td><td>48.472153</td><td>&quot;France&quot;</td><td>&quot;Europe&quot;</td><td>&quot;Western Europe…</td><td>&quot;Palearctic&quot;</td><td>&quot;Temperate Broa…</td><td>&quot;Atlantic Mixed…</td><td>null</td><td>null</td><td>2002-07-02 00:00:00</td><td>&quot;flight trap&quot;</td><td>5.0</td><td>1.0</td><td>1414.214</td><td>&quot;Lasioglossum p…</td><td>6.967187e6</td><td>&quot;Animalia&quot;</td><td>&quot;Arthropoda&quot;</td><td>&quot;Insecta&quot;</td><td>&quot;Hymenoptera&quot;</td><td>&quot;Halictidae&quot;</td><td>&quot;Lasioglossum&quot;</td><td>&quot;pauxillum&quot;</td><td>&quot;Abundance&quot;</td><td>0.0</td><td>0.0</td><td>&quot;Cropland&quot;</td><td>&quot;Minimal use&quot;</td><td>null</td><td>null</td><td>13.5</td><td>419.89974</td><td>437683.782299</td><td>1.0687e7</td><td>2002</td><td>34.898771</td><td>47.860182</td><td>125.423294</td></tr><tr><td>&quot;AD1_2008__Bill…</td><td>&quot;AD1_2008__Bill…</td><td>&quot;AD1_2008__Bill…</td><td>-1.610663</td><td>48.540593</td><td>&quot;France&quot;</td><td>&quot;Europe&quot;</td><td>&quot;Western Europe…</td><td>&quot;Palearctic&quot;</td><td>&quot;Temperate Broa…</td><td>&quot;Atlantic Mixed…</td><td>null</td><td>null</td><td>2002-07-02 00:00:00</td><td>&quot;flight trap&quot;</td><td>5.0</td><td>1.0</td><td>1414.214</td><td>&quot;Andrena helvol…</td><td>6.960605e6</td><td>&quot;Animalia&quot;</td><td>&quot;Arthropoda&quot;</td><td>&quot;Insecta&quot;</td><td>&quot;Hymenoptera&quot;</td><td>&quot;Andrenidae&quot;</td><td>&quot;Andrena&quot;</td><td>&quot;helvola&quot;</td><td>&quot;Abundance&quot;</td><td>0.0</td><td>0.0</td><td>&quot;Cropland&quot;</td><td>&quot;Light use&quot;</td><td>null</td><td>null</td><td>63.5</td><td>810.058171</td><td>436846.596911</td><td>1.0873e7</td><td>2002</td><td>52.808231</td><td>54.903219</td><td>120.921166</td></tr><tr><td>&quot;AD1_2008__Bill…</td><td>&quot;AD1_2008__Bill…</td><td>&quot;AD1_2008__Bill…</td><td>-1.610663</td><td>48.540593</td><td>&quot;France&quot;</td><td>&quot;Europe&quot;</td><td>&quot;Western Europe…</td><td>&quot;Palearctic&quot;</td><td>&quot;Temperate Broa…</td><td>&quot;Atlantic Mixed…</td><td>null</td><td>null</td><td>2002-07-02 00:00:00</td><td>&quot;flight trap&quot;</td><td>5.0</td><td>1.0</td><td>1414.214</td><td>&quot;Andrena ovatul…</td><td>6.960904e6</td><td>&quot;Animalia&quot;</td><td>&quot;Arthropoda&quot;</td><td>&quot;Insecta&quot;</td><td>&quot;Hymenoptera&quot;</td><td>&quot;Andrenidae&quot;</td><td>&quot;Andrena&quot;</td><td>&quot;ovatula&quot;</td><td>&quot;Abundance&quot;</td><td>0.0</td><td>0.0</td><td>&quot;Cropland&quot;</td><td>&quot;Light use&quot;</td><td>null</td><td>null</td><td>63.5</td><td>810.058171</td><td>436846.596911</td><td>1.0873e7</td><td>2002</td><td>52.808231</td><td>54.903219</td><td>120.921166</td></tr><tr><td>&quot;AD1_2008__Bill…</td><td>&quot;AD1_2008__Bill…</td><td>&quot;AD1_2008__Bill…</td><td>-1.610663</td><td>48.540593</td><td>&quot;France&quot;</td><td>&quot;Europe&quot;</td><td>&quot;Western Europe…</td><td>&quot;Palearctic&quot;</td><td>&quot;Temperate Broa…</td><td>&quot;Atlantic Mixed…</td><td>null</td><td>null</td><td>2002-07-02 00:00:00</td><td>&quot;flight trap&quot;</td><td>5.0</td><td>1.0</td><td>1414.214</td><td>&quot;Andrena spinig…</td><td>1.3049592e7</td><td>&quot;Animalia&quot;</td><td>&quot;Arthropoda&quot;</td><td>&quot;Insecta&quot;</td><td>&quot;Hymenoptera&quot;</td><td>&quot;Andrenidae&quot;</td><td>&quot;Andrena&quot;</td><td>null</td><td>&quot;Abundance&quot;</td><td>0.0</td><td>0.0</td><td>&quot;Cropland&quot;</td><td>&quot;Light use&quot;</td><td>null</td><td>null</td><td>63.5</td><td>810.058171</td><td>436846.596911</td><td>1.0873e7</td><td>2002</td><td>52.808231</td><td>54.903219</td><td>120.921166</td></tr></tbody></table></div>"
      ],
      "text/plain": [
       "shape: (5, 42)\n",
       "┌─────┬─────┬─────┬─────┬─────┬─────┬─────┬─────┬─────┬─────┬─────┬─────┬─────┬─────┬─────┬─────┬─────┬─────┬─────┬─────┬─────┬─────┬─────┬─────┬─────┬─────┬─────┬─────┬─────┬─────┬─────┬─────┬─────┬─────┬─────┬─────┬─────┬─────┬─────┬─────┬─────┬─────┐\n",
       "│ SS  ┆ SSB ┆ SSB ┆ Lon ┆ Lat ┆ Cou ┆ UN_ ┆ UN_ ┆ Rea ┆ Bio ┆ Eco ┆ Wil ┆ Hot ┆ Sam ┆ Sam ┆ Sam ┆ Res ┆ Max ┆ Tax ┆ COL ┆ Kin ┆ Phy ┆ Cla ┆ Ord ┆ Fam ┆ Gen ┆ Spe ┆ Div ┆ Mea ┆ Eff ┆ Pre ┆ Use ┆ Hab ┆ Km_ ┆ Yea ┆ Roa ┆ Roa ┆ Roa ┆ Sam ┆ Pop ┆ Pop ┆ Pop │\n",
       "│ --- ┆ --- ┆ S   ┆ git ┆ itu ┆ ntr ┆ reg ┆ sub ┆ lm  ┆ me  ┆ reg ┆ der ┆ spo ┆ ple ┆ pli ┆ pli ┆ cal ┆ _li ┆ on_ ┆ _ID ┆ gdo ┆ lum ┆ ss  ┆ er  ┆ ily ┆ us  ┆ cie ┆ ers ┆ sur ┆ ort ┆ dom ┆ _in ┆ ita ┆ to_ ┆ rs_ ┆ d_d ┆ d_d ┆ d_d ┆ ple ┆ _de ┆ _de ┆ _de │\n",
       "│ str ┆ str ┆ --- ┆ ude ┆ de  ┆ y   ┆ ion ┆ reg ┆ --- ┆ --- ┆ ion ┆ nes ┆ t   ┆ _mi ┆ ng_ ┆ ng_ ┆ ed_ ┆ nea ┆ nam ┆ --- ┆ m   ┆ --- ┆ --- ┆ --- ┆ --- ┆ --- ┆ s   ┆ ity ┆ eme ┆ _co ┆ ina ┆ ten ┆ t_p ┆ nea ┆ sin ┆ ens ┆ ens ┆ ens ┆ _ye ┆ nsi ┆ nsi ┆ nsi │\n",
       "│     ┆     ┆ str ┆ --- ┆ --- ┆ --- ┆ --- ┆ ion ┆ str ┆ str ┆ --- ┆ s_a ┆ --- ┆ dpo ┆ met ┆ eff ┆ sam ┆ r_e ┆ e_e ┆ f64 ┆ --- ┆ str ┆ str ┆ str ┆ str ┆ str ┆ --- ┆ _me ┆ nt  ┆ rre ┆ nt_ ┆ sit ┆ atc ┆ res ┆ ce_ ┆ ity ┆ ity ┆ ity ┆ ar  ┆ ty_ ┆ ty_ ┆ ty_ │\n",
       "│     ┆     ┆     ┆ f64 ┆ f64 ┆ str ┆ str ┆ --- ┆     ┆     ┆ str ┆ rea ┆ str ┆ int ┆ hod ┆ ort ┆ pli ┆ xte ┆ nte ┆     ┆ str ┆     ┆     ┆     ┆     ┆     ┆ str ┆ tri ┆ --- ┆ cte ┆ lan ┆ y   ┆ h_a ┆ t_e ┆ fra ┆ _1k ┆ _10 ┆ _50 ┆ --- ┆ 1km ┆ 10k ┆ 50k │\n",
       "│     ┆     ┆     ┆     ┆     ┆     ┆     ┆ str ┆     ┆     ┆     ┆ --- ┆     ┆ --- ┆ --- ┆ --- ┆ ng_ ┆ nt_ ┆ red ┆     ┆     ┆     ┆     ┆     ┆     ┆     ┆     ┆ c_t ┆ f64 ┆ d_m ┆ d_u ┆ --- ┆ rea ┆ dge ┆ gme ┆ m   ┆ km  ┆ km  ┆ i32 ┆ --- ┆ m   ┆ m   │\n",
       "│     ┆     ┆     ┆     ┆     ┆     ┆     ┆     ┆     ┆     ┆     ┆ str ┆     ┆ dat ┆ str ┆ f64 ┆ eff ┆ met ┆ --- ┆     ┆     ┆     ┆     ┆     ┆     ┆     ┆     ┆ ype ┆     ┆ eas ┆ se  ┆ str ┆ _sq ┆ _of ┆ nta ┆ --- ┆ --- ┆ --- ┆     ┆ f64 ┆ --- ┆ --- │\n",
       "│     ┆     ┆     ┆     ┆     ┆     ┆     ┆     ┆     ┆     ┆     ┆     ┆     ┆ eti ┆     ┆     ┆ ort ┆ res ┆ str ┆     ┆     ┆     ┆     ┆     ┆     ┆     ┆     ┆ --- ┆     ┆ ure ┆ --- ┆     ┆ uar ┆ _ha ┆ tio ┆ f64 ┆ f64 ┆ f64 ┆     ┆     ┆ f64 ┆ f64 │\n",
       "│     ┆     ┆     ┆     ┆     ┆     ┆     ┆     ┆     ┆     ┆     ┆     ┆     ┆ me[ ┆     ┆     ┆ --- ┆ --- ┆     ┆     ┆     ┆     ┆     ┆     ┆     ┆     ┆     ┆ str ┆     ┆ men ┆ str ┆     ┆ e_m ┆ bit ┆ n_o ┆     ┆     ┆     ┆     ┆     ┆     ┆     │\n",
       "│     ┆     ┆     ┆     ┆     ┆     ┆     ┆     ┆     ┆     ┆     ┆     ┆     ┆ μs] ┆     ┆     ┆ f64 ┆ f64 ┆     ┆     ┆     ┆     ┆     ┆     ┆     ┆     ┆     ┆     ┆     ┆ t   ┆     ┆     ┆ etr ┆ at  ┆ r_c ┆     ┆     ┆     ┆     ┆     ┆     ┆     │\n",
       "│     ┆     ┆     ┆     ┆     ┆     ┆     ┆     ┆     ┆     ┆     ┆     ┆     ┆     ┆     ┆     ┆     ┆     ┆     ┆     ┆     ┆     ┆     ┆     ┆     ┆     ┆     ┆     ┆     ┆ --- ┆     ┆     ┆ es  ┆ --- ┆ on… ┆     ┆     ┆     ┆     ┆     ┆     ┆     │\n",
       "│     ┆     ┆     ┆     ┆     ┆     ┆     ┆     ┆     ┆     ┆     ┆     ┆     ┆     ┆     ┆     ┆     ┆     ┆     ┆     ┆     ┆     ┆     ┆     ┆     ┆     ┆     ┆     ┆     ┆ f64 ┆     ┆     ┆ --- ┆ str ┆ --- ┆     ┆     ┆     ┆     ┆     ┆     ┆     │\n",
       "│     ┆     ┆     ┆     ┆     ┆     ┆     ┆     ┆     ┆     ┆     ┆     ┆     ┆     ┆     ┆     ┆     ┆     ┆     ┆     ┆     ┆     ┆     ┆     ┆     ┆     ┆     ┆     ┆     ┆     ┆     ┆     ┆ str ┆     ┆ f64 ┆     ┆     ┆     ┆     ┆     ┆     ┆     │\n",
       "╞═════╪═════╪═════╪═════╪═════╪═════╪═════╪═════╪═════╪═════╪═════╪═════╪═════╪═════╪═════╪═════╪═════╪═════╪═════╪═════╪═════╪═════╪═════╪═════╪═════╪═════╪═════╪═════╪═════╪═════╪═════╪═════╪═════╪═════╪═════╪═════╪═════╪═════╪═════╪═════╪═════╪═════╡\n",
       "│ AD1 ┆ AD1 ┆ AD1 ┆ -1. ┆ 48. ┆ Fra ┆ Eur ┆ Wes ┆ Pal ┆ Tem ┆ Atl ┆ nul ┆ nul ┆ 200 ┆ fli ┆ 5.0 ┆ 1.0 ┆ 141 ┆ Las ┆ 6.9 ┆ Ani ┆ Art ┆ Ins ┆ Hym ┆ Hal ┆ Las ┆ mor ┆ Abu ┆ 0.0 ┆ 0.0 ┆ Cro ┆ Min ┆ nul ┆ nul ┆ 13. ┆ 419 ┆ 437 ┆ 1.0 ┆ 200 ┆ 34. ┆ 47. ┆ 125 │\n",
       "│ _20 ┆ _20 ┆ _20 ┆ 590 ┆ 472 ┆ nce ┆ ope ┆ ter ┆ ear ┆ per ┆ ant ┆ l   ┆ l   ┆ 2-0 ┆ ght ┆     ┆     ┆ 4.2 ┆ iog ┆ 670 ┆ mal ┆ hro ┆ ect ┆ eno ┆ ict ┆ iog ┆ io  ┆ nda ┆     ┆     ┆ pla ┆ ima ┆ l   ┆ l   ┆ 5   ┆ .89 ┆ 683 ┆ 687 ┆ 2   ┆ 898 ┆ 860 ┆ .42 │\n",
       "│ 08_ ┆ 08_ ┆ 08_ ┆ 365 ┆ 153 ┆     ┆     ┆ n   ┆ cti ┆ ate ┆ ic  ┆     ┆     ┆ 7-0 ┆ tra ┆     ┆     ┆ 14  ┆ los ┆ 08e ┆ ia  ┆ pod ┆ a   ┆ pte ┆ ida ┆ los ┆     ┆ nce ┆     ┆     ┆ nd  ┆ l   ┆     ┆     ┆     ┆ 974 ┆ .78 ┆ e7  ┆     ┆ 771 ┆ 182 ┆ 329 │\n",
       "│ _Bi ┆ _Bi ┆ _Bi ┆     ┆     ┆     ┆     ┆ Eur ┆ c   ┆ Bro ┆ Mix ┆     ┆     ┆ 2   ┆ p   ┆     ┆     ┆     ┆ sum ┆ 6   ┆     ┆ a   ┆     ┆ ra  ┆ e   ┆ sum ┆     ┆     ┆     ┆     ┆     ┆ use ┆     ┆     ┆     ┆     ┆ 229 ┆     ┆     ┆     ┆     ┆ 4   │\n",
       "│ lle ┆ lle ┆ lle ┆     ┆     ┆     ┆     ┆ ope ┆     ┆ adl ┆ ed  ┆     ┆     ┆ 00: ┆     ┆     ┆     ┆     ┆ mor ┆     ┆     ┆     ┆     ┆     ┆     ┆     ┆     ┆     ┆     ┆     ┆     ┆     ┆     ┆     ┆     ┆     ┆ 9   ┆     ┆     ┆     ┆     ┆     │\n",
       "│ ter ┆ ter ┆ ter ┆     ┆     ┆     ┆     ┆     ┆     ┆ eaf ┆ For ┆     ┆     ┆ 00: ┆     ┆     ┆     ┆     ┆ io  ┆     ┆     ┆     ┆     ┆     ┆     ┆     ┆     ┆     ┆     ┆     ┆     ┆     ┆     ┆     ┆     ┆     ┆     ┆     ┆     ┆     ┆     ┆     │\n",
       "│ 8   ┆ 8   ┆ 8   ┆     ┆     ┆     ┆     ┆     ┆     ┆ &   ┆ est ┆     ┆     ┆ 00  ┆     ┆     ┆     ┆     ┆     ┆     ┆     ┆     ┆     ┆     ┆     ┆     ┆     ┆     ┆     ┆     ┆     ┆     ┆     ┆     ┆     ┆     ┆     ┆     ┆     ┆     ┆     ┆     │\n",
       "│     ┆ F2  ┆ F2  ┆     ┆     ┆     ┆     ┆     ┆     ┆ Mix ┆ s   ┆     ┆     ┆     ┆     ┆     ┆     ┆     ┆     ┆     ┆     ┆     ┆     ┆     ┆     ┆     ┆     ┆     ┆     ┆     ┆     ┆     ┆     ┆     ┆     ┆     ┆     ┆     ┆     ┆     ┆     ┆     │\n",
       "│     ┆     ┆ 32  ┆     ┆     ┆     ┆     ┆     ┆     ┆ ed  ┆     ┆     ┆     ┆     ┆     ┆     ┆     ┆     ┆     ┆     ┆     ┆     ┆     ┆     ┆     ┆     ┆     ┆     ┆     ┆     ┆     ┆     ┆     ┆     ┆     ┆     ┆     ┆     ┆     ┆     ┆     ┆     │\n",
       "│     ┆     ┆     ┆     ┆     ┆     ┆     ┆     ┆     ┆ For ┆     ┆     ┆     ┆     ┆     ┆     ┆     ┆     ┆     ┆     ┆     ┆     ┆     ┆     ┆     ┆     ┆     ┆     ┆     ┆     ┆     ┆     ┆     ┆     ┆     ┆     ┆     ┆     ┆     ┆     ┆     ┆     │\n",
       "│     ┆     ┆     ┆     ┆     ┆     ┆     ┆     ┆     ┆ e…  ┆     ┆     ┆     ┆     ┆     ┆     ┆     ┆     ┆     ┆     ┆     ┆     ┆     ┆     ┆     ┆     ┆     ┆     ┆     ┆     ┆     ┆     ┆     ┆     ┆     ┆     ┆     ┆     ┆     ┆     ┆     ┆     │\n",
       "│ AD1 ┆ AD1 ┆ AD1 ┆ -1. ┆ 48. ┆ Fra ┆ Eur ┆ Wes ┆ Pal ┆ Tem ┆ Atl ┆ nul ┆ nul ┆ 200 ┆ fli ┆ 5.0 ┆ 1.0 ┆ 141 ┆ Las ┆ 6.9 ┆ Ani ┆ Art ┆ Ins ┆ Hym ┆ Hal ┆ Las ┆ pau ┆ Abu ┆ 0.0 ┆ 0.0 ┆ Cro ┆ Min ┆ nul ┆ nul ┆ 13. ┆ 419 ┆ 437 ┆ 1.0 ┆ 200 ┆ 34. ┆ 47. ┆ 125 │\n",
       "│ _20 ┆ _20 ┆ _20 ┆ 590 ┆ 472 ┆ nce ┆ ope ┆ ter ┆ ear ┆ per ┆ ant ┆ l   ┆ l   ┆ 2-0 ┆ ght ┆     ┆     ┆ 4.2 ┆ iog ┆ 671 ┆ mal ┆ hro ┆ ect ┆ eno ┆ ict ┆ iog ┆ xil ┆ nda ┆     ┆     ┆ pla ┆ ima ┆ l   ┆ l   ┆ 5   ┆ .89 ┆ 683 ┆ 687 ┆ 2   ┆ 898 ┆ 860 ┆ .42 │\n",
       "│ 08_ ┆ 08_ ┆ 08_ ┆ 365 ┆ 153 ┆     ┆     ┆ n   ┆ cti ┆ ate ┆ ic  ┆     ┆     ┆ 7-0 ┆ tra ┆     ┆     ┆ 14  ┆ los ┆ 87e ┆ ia  ┆ pod ┆ a   ┆ pte ┆ ida ┆ los ┆ lum ┆ nce ┆     ┆     ┆ nd  ┆ l   ┆     ┆     ┆     ┆ 974 ┆ .78 ┆ e7  ┆     ┆ 771 ┆ 182 ┆ 329 │\n",
       "│ _Bi ┆ _Bi ┆ _Bi ┆     ┆     ┆     ┆     ┆ Eur ┆ c   ┆ Bro ┆ Mix ┆     ┆     ┆ 2   ┆ p   ┆     ┆     ┆     ┆ sum ┆ 6   ┆     ┆ a   ┆     ┆ ra  ┆ e   ┆ sum ┆     ┆     ┆     ┆     ┆     ┆ use ┆     ┆     ┆     ┆     ┆ 229 ┆     ┆     ┆     ┆     ┆ 4   │\n",
       "│ lle ┆ lle ┆ lle ┆     ┆     ┆     ┆     ┆ ope ┆     ┆ adl ┆ ed  ┆     ┆     ┆ 00: ┆     ┆     ┆     ┆     ┆ pau ┆     ┆     ┆     ┆     ┆     ┆     ┆     ┆     ┆     ┆     ┆     ┆     ┆     ┆     ┆     ┆     ┆     ┆ 9   ┆     ┆     ┆     ┆     ┆     │\n",
       "│ ter ┆ ter ┆ ter ┆     ┆     ┆     ┆     ┆     ┆     ┆ eaf ┆ For ┆     ┆     ┆ 00: ┆     ┆     ┆     ┆     ┆ xil ┆     ┆     ┆     ┆     ┆     ┆     ┆     ┆     ┆     ┆     ┆     ┆     ┆     ┆     ┆     ┆     ┆     ┆     ┆     ┆     ┆     ┆     ┆     │\n",
       "│ 8   ┆ 8   ┆ 8   ┆     ┆     ┆     ┆     ┆     ┆     ┆ &   ┆ est ┆     ┆     ┆ 00  ┆     ┆     ┆     ┆     ┆ lum ┆     ┆     ┆     ┆     ┆     ┆     ┆     ┆     ┆     ┆     ┆     ┆     ┆     ┆     ┆     ┆     ┆     ┆     ┆     ┆     ┆     ┆     ┆     │\n",
       "│     ┆ F2  ┆ F2  ┆     ┆     ┆     ┆     ┆     ┆     ┆ Mix ┆ s   ┆     ┆     ┆     ┆     ┆     ┆     ┆     ┆     ┆     ┆     ┆     ┆     ┆     ┆     ┆     ┆     ┆     ┆     ┆     ┆     ┆     ┆     ┆     ┆     ┆     ┆     ┆     ┆     ┆     ┆     ┆     │\n",
       "│     ┆     ┆ 32  ┆     ┆     ┆     ┆     ┆     ┆     ┆ ed  ┆     ┆     ┆     ┆     ┆     ┆     ┆     ┆     ┆     ┆     ┆     ┆     ┆     ┆     ┆     ┆     ┆     ┆     ┆     ┆     ┆     ┆     ┆     ┆     ┆     ┆     ┆     ┆     ┆     ┆     ┆     ┆     │\n",
       "│     ┆     ┆     ┆     ┆     ┆     ┆     ┆     ┆     ┆ For ┆     ┆     ┆     ┆     ┆     ┆     ┆     ┆     ┆     ┆     ┆     ┆     ┆     ┆     ┆     ┆     ┆     ┆     ┆     ┆     ┆     ┆     ┆     ┆     ┆     ┆     ┆     ┆     ┆     ┆     ┆     ┆     │\n",
       "│     ┆     ┆     ┆     ┆     ┆     ┆     ┆     ┆     ┆ e…  ┆     ┆     ┆     ┆     ┆     ┆     ┆     ┆     ┆     ┆     ┆     ┆     ┆     ┆     ┆     ┆     ┆     ┆     ┆     ┆     ┆     ┆     ┆     ┆     ┆     ┆     ┆     ┆     ┆     ┆     ┆     ┆     │\n",
       "│ AD1 ┆ AD1 ┆ AD1 ┆ -1. ┆ 48. ┆ Fra ┆ Eur ┆ Wes ┆ Pal ┆ Tem ┆ Atl ┆ nul ┆ nul ┆ 200 ┆ fli ┆ 5.0 ┆ 1.0 ┆ 141 ┆ And ┆ 6.9 ┆ Ani ┆ Art ┆ Ins ┆ Hym ┆ And ┆ And ┆ hel ┆ Abu ┆ 0.0 ┆ 0.0 ┆ Cro ┆ Lig ┆ nul ┆ nul ┆ 63. ┆ 810 ┆ 436 ┆ 1.0 ┆ 200 ┆ 52. ┆ 54. ┆ 120 │\n",
       "│ _20 ┆ _20 ┆ _20 ┆ 610 ┆ 540 ┆ nce ┆ ope ┆ ter ┆ ear ┆ per ┆ ant ┆ l   ┆ l   ┆ 2-0 ┆ ght ┆     ┆     ┆ 4.2 ┆ ren ┆ 606 ┆ mal ┆ hro ┆ ect ┆ eno ┆ ren ┆ ren ┆ vol ┆ nda ┆     ┆     ┆ pla ┆ ht  ┆ l   ┆ l   ┆ 5   ┆ .05 ┆ 846 ┆ 873 ┆ 2   ┆ 808 ┆ 903 ┆ .92 │\n",
       "│ 08_ ┆ 08_ ┆ 08_ ┆ 663 ┆ 593 ┆     ┆     ┆ n   ┆ cti ┆ ate ┆ ic  ┆     ┆     ┆ 7-0 ┆ tra ┆     ┆     ┆ 14  ┆ a   ┆ 05e ┆ ia  ┆ pod ┆ a   ┆ pte ┆ ida ┆ a   ┆ a   ┆ nce ┆     ┆     ┆ nd  ┆ use ┆     ┆     ┆     ┆ 817 ┆ .59 ┆ e7  ┆     ┆ 231 ┆ 219 ┆ 116 │\n",
       "│ _Bi ┆ _Bi ┆ _Bi ┆     ┆     ┆     ┆     ┆ Eur ┆ c   ┆ Bro ┆ Mix ┆     ┆     ┆ 2   ┆ p   ┆     ┆     ┆     ┆ hel ┆ 6   ┆     ┆ a   ┆     ┆ ra  ┆ e   ┆     ┆     ┆     ┆     ┆     ┆     ┆     ┆     ┆     ┆     ┆ 1   ┆ 691 ┆     ┆     ┆     ┆     ┆ 6   │\n",
       "│ lle ┆ lle ┆ lle ┆     ┆     ┆     ┆     ┆ ope ┆     ┆ adl ┆ ed  ┆     ┆     ┆ 00: ┆     ┆     ┆     ┆     ┆ vol ┆     ┆     ┆     ┆     ┆     ┆     ┆     ┆     ┆     ┆     ┆     ┆     ┆     ┆     ┆     ┆     ┆     ┆ 1   ┆     ┆     ┆     ┆     ┆     │\n",
       "│ ter ┆ ter ┆ ter ┆     ┆     ┆     ┆     ┆     ┆     ┆ eaf ┆ For ┆     ┆     ┆ 00: ┆     ┆     ┆     ┆     ┆ a   ┆     ┆     ┆     ┆     ┆     ┆     ┆     ┆     ┆     ┆     ┆     ┆     ┆     ┆     ┆     ┆     ┆     ┆     ┆     ┆     ┆     ┆     ┆     │\n",
       "│ 8   ┆ 8   ┆ 8   ┆     ┆     ┆     ┆     ┆     ┆     ┆ &   ┆ est ┆     ┆     ┆ 00  ┆     ┆     ┆     ┆     ┆     ┆     ┆     ┆     ┆     ┆     ┆     ┆     ┆     ┆     ┆     ┆     ┆     ┆     ┆     ┆     ┆     ┆     ┆     ┆     ┆     ┆     ┆     ┆     │\n",
       "│     ┆ F3  ┆ F3  ┆     ┆     ┆     ┆     ┆     ┆     ┆ Mix ┆ s   ┆     ┆     ┆     ┆     ┆     ┆     ┆     ┆     ┆     ┆     ┆     ┆     ┆     ┆     ┆     ┆     ┆     ┆     ┆     ┆     ┆     ┆     ┆     ┆     ┆     ┆     ┆     ┆     ┆     ┆     ┆     │\n",
       "│     ┆     ┆ 33  ┆     ┆     ┆     ┆     ┆     ┆     ┆ ed  ┆     ┆     ┆     ┆     ┆     ┆     ┆     ┆     ┆     ┆     ┆     ┆     ┆     ┆     ┆     ┆     ┆     ┆     ┆     ┆     ┆     ┆     ┆     ┆     ┆     ┆     ┆     ┆     ┆     ┆     ┆     ┆     │\n",
       "│     ┆     ┆     ┆     ┆     ┆     ┆     ┆     ┆     ┆ For ┆     ┆     ┆     ┆     ┆     ┆     ┆     ┆     ┆     ┆     ┆     ┆     ┆     ┆     ┆     ┆     ┆     ┆     ┆     ┆     ┆     ┆     ┆     ┆     ┆     ┆     ┆     ┆     ┆     ┆     ┆     ┆     │\n",
       "│     ┆     ┆     ┆     ┆     ┆     ┆     ┆     ┆     ┆ e…  ┆     ┆     ┆     ┆     ┆     ┆     ┆     ┆     ┆     ┆     ┆     ┆     ┆     ┆     ┆     ┆     ┆     ┆     ┆     ┆     ┆     ┆     ┆     ┆     ┆     ┆     ┆     ┆     ┆     ┆     ┆     ┆     │\n",
       "│ AD1 ┆ AD1 ┆ AD1 ┆ -1. ┆ 48. ┆ Fra ┆ Eur ┆ Wes ┆ Pal ┆ Tem ┆ Atl ┆ nul ┆ nul ┆ 200 ┆ fli ┆ 5.0 ┆ 1.0 ┆ 141 ┆ And ┆ 6.9 ┆ Ani ┆ Art ┆ Ins ┆ Hym ┆ And ┆ And ┆ ova ┆ Abu ┆ 0.0 ┆ 0.0 ┆ Cro ┆ Lig ┆ nul ┆ nul ┆ 63. ┆ 810 ┆ 436 ┆ 1.0 ┆ 200 ┆ 52. ┆ 54. ┆ 120 │\n",
       "│ _20 ┆ _20 ┆ _20 ┆ 610 ┆ 540 ┆ nce ┆ ope ┆ ter ┆ ear ┆ per ┆ ant ┆ l   ┆ l   ┆ 2-0 ┆ ght ┆     ┆     ┆ 4.2 ┆ ren ┆ 609 ┆ mal ┆ hro ┆ ect ┆ eno ┆ ren ┆ ren ┆ tul ┆ nda ┆     ┆     ┆ pla ┆ ht  ┆ l   ┆ l   ┆ 5   ┆ .05 ┆ 846 ┆ 873 ┆ 2   ┆ 808 ┆ 903 ┆ .92 │\n",
       "│ 08_ ┆ 08_ ┆ 08_ ┆ 663 ┆ 593 ┆     ┆     ┆ n   ┆ cti ┆ ate ┆ ic  ┆     ┆     ┆ 7-0 ┆ tra ┆     ┆     ┆ 14  ┆ a   ┆ 04e ┆ ia  ┆ pod ┆ a   ┆ pte ┆ ida ┆ a   ┆ a   ┆ nce ┆     ┆     ┆ nd  ┆ use ┆     ┆     ┆     ┆ 817 ┆ .59 ┆ e7  ┆     ┆ 231 ┆ 219 ┆ 116 │\n",
       "│ _Bi ┆ _Bi ┆ _Bi ┆     ┆     ┆     ┆     ┆ Eur ┆ c   ┆ Bro ┆ Mix ┆     ┆     ┆ 2   ┆ p   ┆     ┆     ┆     ┆ ova ┆ 6   ┆     ┆ a   ┆     ┆ ra  ┆ e   ┆     ┆     ┆     ┆     ┆     ┆     ┆     ┆     ┆     ┆     ┆ 1   ┆ 691 ┆     ┆     ┆     ┆     ┆ 6   │\n",
       "│ lle ┆ lle ┆ lle ┆     ┆     ┆     ┆     ┆ ope ┆     ┆ adl ┆ ed  ┆     ┆     ┆ 00: ┆     ┆     ┆     ┆     ┆ tul ┆     ┆     ┆     ┆     ┆     ┆     ┆     ┆     ┆     ┆     ┆     ┆     ┆     ┆     ┆     ┆     ┆     ┆ 1   ┆     ┆     ┆     ┆     ┆     │\n",
       "│ ter ┆ ter ┆ ter ┆     ┆     ┆     ┆     ┆     ┆     ┆ eaf ┆ For ┆     ┆     ┆ 00: ┆     ┆     ┆     ┆     ┆ a   ┆     ┆     ┆     ┆     ┆     ┆     ┆     ┆     ┆     ┆     ┆     ┆     ┆     ┆     ┆     ┆     ┆     ┆     ┆     ┆     ┆     ┆     ┆     │\n",
       "│ 8   ┆ 8   ┆ 8   ┆     ┆     ┆     ┆     ┆     ┆     ┆ &   ┆ est ┆     ┆     ┆ 00  ┆     ┆     ┆     ┆     ┆     ┆     ┆     ┆     ┆     ┆     ┆     ┆     ┆     ┆     ┆     ┆     ┆     ┆     ┆     ┆     ┆     ┆     ┆     ┆     ┆     ┆     ┆     ┆     │\n",
       "│     ┆ F3  ┆ F3  ┆     ┆     ┆     ┆     ┆     ┆     ┆ Mix ┆ s   ┆     ┆     ┆     ┆     ┆     ┆     ┆     ┆     ┆     ┆     ┆     ┆     ┆     ┆     ┆     ┆     ┆     ┆     ┆     ┆     ┆     ┆     ┆     ┆     ┆     ┆     ┆     ┆     ┆     ┆     ┆     │\n",
       "│     ┆     ┆ 33  ┆     ┆     ┆     ┆     ┆     ┆     ┆ ed  ┆     ┆     ┆     ┆     ┆     ┆     ┆     ┆     ┆     ┆     ┆     ┆     ┆     ┆     ┆     ┆     ┆     ┆     ┆     ┆     ┆     ┆     ┆     ┆     ┆     ┆     ┆     ┆     ┆     ┆     ┆     ┆     │\n",
       "│     ┆     ┆     ┆     ┆     ┆     ┆     ┆     ┆     ┆ For ┆     ┆     ┆     ┆     ┆     ┆     ┆     ┆     ┆     ┆     ┆     ┆     ┆     ┆     ┆     ┆     ┆     ┆     ┆     ┆     ┆     ┆     ┆     ┆     ┆     ┆     ┆     ┆     ┆     ┆     ┆     ┆     │\n",
       "│     ┆     ┆     ┆     ┆     ┆     ┆     ┆     ┆     ┆ e…  ┆     ┆     ┆     ┆     ┆     ┆     ┆     ┆     ┆     ┆     ┆     ┆     ┆     ┆     ┆     ┆     ┆     ┆     ┆     ┆     ┆     ┆     ┆     ┆     ┆     ┆     ┆     ┆     ┆     ┆     ┆     ┆     │\n",
       "│ AD1 ┆ AD1 ┆ AD1 ┆ -1. ┆ 48. ┆ Fra ┆ Eur ┆ Wes ┆ Pal ┆ Tem ┆ Atl ┆ nul ┆ nul ┆ 200 ┆ fli ┆ 5.0 ┆ 1.0 ┆ 141 ┆ And ┆ 1.3 ┆ Ani ┆ Art ┆ Ins ┆ Hym ┆ And ┆ And ┆ nul ┆ Abu ┆ 0.0 ┆ 0.0 ┆ Cro ┆ Lig ┆ nul ┆ nul ┆ 63. ┆ 810 ┆ 436 ┆ 1.0 ┆ 200 ┆ 52. ┆ 54. ┆ 120 │\n",
       "│ _20 ┆ _20 ┆ _20 ┆ 610 ┆ 540 ┆ nce ┆ ope ┆ ter ┆ ear ┆ per ┆ ant ┆ l   ┆ l   ┆ 2-0 ┆ ght ┆     ┆     ┆ 4.2 ┆ ren ┆ 049 ┆ mal ┆ hro ┆ ect ┆ eno ┆ ren ┆ ren ┆ l   ┆ nda ┆     ┆     ┆ pla ┆ ht  ┆ l   ┆ l   ┆ 5   ┆ .05 ┆ 846 ┆ 873 ┆ 2   ┆ 808 ┆ 903 ┆ .92 │\n",
       "│ 08_ ┆ 08_ ┆ 08_ ┆ 663 ┆ 593 ┆     ┆     ┆ n   ┆ cti ┆ ate ┆ ic  ┆     ┆     ┆ 7-0 ┆ tra ┆     ┆     ┆ 14  ┆ a   ┆ 592 ┆ ia  ┆ pod ┆ a   ┆ pte ┆ ida ┆ a   ┆     ┆ nce ┆     ┆     ┆ nd  ┆ use ┆     ┆     ┆     ┆ 817 ┆ .59 ┆ e7  ┆     ┆ 231 ┆ 219 ┆ 116 │\n",
       "│ _Bi ┆ _Bi ┆ _Bi ┆     ┆     ┆     ┆     ┆ Eur ┆ c   ┆ Bro ┆ Mix ┆     ┆     ┆ 2   ┆ p   ┆     ┆     ┆     ┆ spi ┆ e7  ┆     ┆ a   ┆     ┆ ra  ┆ e   ┆     ┆     ┆     ┆     ┆     ┆     ┆     ┆     ┆     ┆     ┆ 1   ┆ 691 ┆     ┆     ┆     ┆     ┆ 6   │\n",
       "│ lle ┆ lle ┆ lle ┆     ┆     ┆     ┆     ┆ ope ┆     ┆ adl ┆ ed  ┆     ┆     ┆ 00: ┆     ┆     ┆     ┆     ┆ nig ┆     ┆     ┆     ┆     ┆     ┆     ┆     ┆     ┆     ┆     ┆     ┆     ┆     ┆     ┆     ┆     ┆     ┆ 1   ┆     ┆     ┆     ┆     ┆     │\n",
       "│ ter ┆ ter ┆ ter ┆     ┆     ┆     ┆     ┆     ┆     ┆ eaf ┆ For ┆     ┆     ┆ 00: ┆     ┆     ┆     ┆     ┆ era ┆     ┆     ┆     ┆     ┆     ┆     ┆     ┆     ┆     ┆     ┆     ┆     ┆     ┆     ┆     ┆     ┆     ┆     ┆     ┆     ┆     ┆     ┆     │\n",
       "│ 8   ┆ 8   ┆ 8   ┆     ┆     ┆     ┆     ┆     ┆     ┆ &   ┆ est ┆     ┆     ┆ 00  ┆     ┆     ┆     ┆     ┆     ┆     ┆     ┆     ┆     ┆     ┆     ┆     ┆     ┆     ┆     ┆     ┆     ┆     ┆     ┆     ┆     ┆     ┆     ┆     ┆     ┆     ┆     ┆     │\n",
       "│     ┆ F3  ┆ F3  ┆     ┆     ┆     ┆     ┆     ┆     ┆ Mix ┆ s   ┆     ┆     ┆     ┆     ┆     ┆     ┆     ┆     ┆     ┆     ┆     ┆     ┆     ┆     ┆     ┆     ┆     ┆     ┆     ┆     ┆     ┆     ┆     ┆     ┆     ┆     ┆     ┆     ┆     ┆     ┆     │\n",
       "│     ┆     ┆ 33  ┆     ┆     ┆     ┆     ┆     ┆     ┆ ed  ┆     ┆     ┆     ┆     ┆     ┆     ┆     ┆     ┆     ┆     ┆     ┆     ┆     ┆     ┆     ┆     ┆     ┆     ┆     ┆     ┆     ┆     ┆     ┆     ┆     ┆     ┆     ┆     ┆     ┆     ┆     ┆     │\n",
       "│     ┆     ┆     ┆     ┆     ┆     ┆     ┆     ┆     ┆ For ┆     ┆     ┆     ┆     ┆     ┆     ┆     ┆     ┆     ┆     ┆     ┆     ┆     ┆     ┆     ┆     ┆     ┆     ┆     ┆     ┆     ┆     ┆     ┆     ┆     ┆     ┆     ┆     ┆     ┆     ┆     ┆     │\n",
       "│     ┆     ┆     ┆     ┆     ┆     ┆     ┆     ┆     ┆ e…  ┆     ┆     ┆     ┆     ┆     ┆     ┆     ┆     ┆     ┆     ┆     ┆     ┆     ┆     ┆     ┆     ┆     ┆     ┆     ┆     ┆     ┆     ┆     ┆     ┆     ┆     ┆     ┆     ┆     ┆     ┆     ┆     │\n",
       "└─────┴─────┴─────┴─────┴─────┴─────┴─────┴─────┴─────┴─────┴─────┴─────┴─────┴─────┴─────┴─────┴─────┴─────┴─────┴─────┴─────┴─────┴─────┴─────┴─────┴─────┴─────┴─────┴─────┴─────┴─────┴─────┴─────┴─────┴─────┴─────┴─────┴─────┴─────┴─────┴─────┴─────┘"
      ]
     },
     "execution_count": 138,
     "metadata": {},
     "output_type": "execute_result"
    }
   ],
   "source": [
    "df_all.head()"
   ]
  },
  {
   "cell_type": "code",
   "execution_count": 139,
   "metadata": {
    "tags": []
   },
   "outputs": [
    {
     "data": {
      "text/plain": [
       "(4318808, 42)"
      ]
     },
     "execution_count": 139,
     "metadata": {},
     "output_type": "execute_result"
    }
   ],
   "source": [
    "df_all.shape"
   ]
  },
  {
   "cell_type": "code",
   "execution_count": 13,
   "metadata": {
    "tags": []
   },
   "outputs": [],
   "source": [
    "# Filter out observations that are not abundances\n",
    "df_abundance = df_predicts.filter(pl.col(\"Diversity_metric_type\") == \"Abundance\")"
   ]
  }
 ],
 "metadata": {
  "kernelspec": {
   "display_name": "biodiv",
   "language": "python",
   "name": "biodiv"
  },
  "language_info": {
   "codemirror_mode": {
    "name": "ipython",
    "version": 3
   },
   "file_extension": ".py",
   "mimetype": "text/x-python",
   "name": "python",
   "nbconvert_exporter": "python",
   "pygments_lexer": "ipython3",
   "version": "3.12.1"
  }
 },
 "nbformat": 4,
 "nbformat_minor": 4
}
