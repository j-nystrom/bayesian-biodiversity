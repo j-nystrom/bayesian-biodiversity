{
 "cells": [
  {
   "cell_type": "markdown",
   "metadata": {},
   "source": [
    "# Bayesian biodiversity: Experimental model pipeline"
   ]
  },
  {
   "cell_type": "code",
   "execution_count": 223,
   "metadata": {
    "tags": []
   },
   "outputs": [],
   "source": [
    "import polars as pl\n",
    "import numpy as np\n",
    "import pandas as pd\n",
    "import matplotlib.pyplot as plt\n",
    "import datetime as dt\n",
    "import pymc as pm\n",
    "import arviz as az\n",
    "import black\n",
    "import pytensor.tensor as at\n",
    "from sklearn.preprocessing import StandardScaler"
   ]
  },
  {
   "cell_type": "code",
   "execution_count": 224,
   "metadata": {
    "tags": []
   },
   "outputs": [
    {
     "data": {
      "text/plain": [
       "<polars.config.Config at 0x281cb5910>"
      ]
     },
     "execution_count": 224,
     "metadata": {},
     "output_type": "execute_result"
    }
   ],
   "source": [
    "# Load black for formatting\n",
    "import jupyter_black\n",
    "\n",
    "jupyter_black.load()\n",
    "\n",
    "# Adjust display settings for polars\n",
    "pl.Config(tbl_rows=100)\n",
    "pl.Config(tbl_cols=50)"
   ]
  },
  {
   "cell_type": "markdown",
   "metadata": {},
   "source": [
    "## Basic data processing"
   ]
  },
  {
   "cell_type": "code",
   "execution_count": 225,
   "metadata": {},
   "outputs": [],
   "source": [
    "# Load merged PREDICTS data\n",
    "df_predicts = pl.read_csv(\"../../data/PREDICTS/merged_data.csv\")"
   ]
  },
  {
   "cell_type": "code",
   "execution_count": 226,
   "metadata": {
    "tags": []
   },
   "outputs": [
    {
     "data": {
      "text/plain": [
       "(4318808, 68)"
      ]
     },
     "execution_count": 226,
     "metadata": {},
     "output_type": "execute_result"
    }
   ],
   "source": [
    "df_predicts.shape"
   ]
  },
  {
   "cell_type": "code",
   "execution_count": 227,
   "metadata": {
    "tags": []
   },
   "outputs": [],
   "source": [
    "# Load population density data\n",
    "df_pop_density = pl.read_parquet(\"../../data/GPW/output/pop_density.parquet\")"
   ]
  },
  {
   "cell_type": "code",
   "execution_count": 228,
   "metadata": {
    "tags": []
   },
   "outputs": [
    {
     "data": {
      "text/plain": [
       "(35736, 16)"
      ]
     },
     "execution_count": 228,
     "metadata": {},
     "output_type": "execute_result"
    }
   ],
   "source": [
    "df_pop_density.shape"
   ]
  },
  {
   "cell_type": "code",
   "execution_count": 229,
   "metadata": {
    "tags": []
   },
   "outputs": [],
   "source": [
    "# Load road density data\n",
    "df_road_density = pl.read_parquet(\"../../data/gROADS/output/road_density.parquet\")"
   ]
  },
  {
   "cell_type": "code",
   "execution_count": 230,
   "metadata": {
    "tags": []
   },
   "outputs": [
    {
     "data": {
      "text/plain": [
       "(35736, 4)"
      ]
     },
     "execution_count": 230,
     "metadata": {},
     "output_type": "execute_result"
    }
   ],
   "source": [
    "df_road_density.shape"
   ]
  },
  {
   "cell_type": "markdown",
   "metadata": {},
   "source": [
    "### Clean up PREDICTS data\n",
    "\n",
    "Remove columns that are not needed for analysis or modelling."
   ]
  },
  {
   "cell_type": "code",
   "execution_count": 231,
   "metadata": {
    "tags": []
   },
   "outputs": [],
   "source": [
    "predicts_cols = [\n",
    "    \"SS\",\n",
    "    \"SSB\",\n",
    "    \"SSBS\",\n",
    "    \"Longitude\",\n",
    "    \"Latitude\",\n",
    "    \"Country\",\n",
    "    \"UN_region\",\n",
    "    \"UN_subregion\",\n",
    "    \"Realm\",\n",
    "    \"Biome\",\n",
    "    \"Ecoregion\",\n",
    "    \"Wilderness_area\",\n",
    "    \"Hotspot\",\n",
    "    \"Sample_midpoint\",\n",
    "    \"Sampling_method\",\n",
    "    \"Sampling_effort\",\n",
    "    \"Rescaled_sampling_effort\",\n",
    "    \"Max_linear_extent_metres\",\n",
    "    \"Taxon_name_entered\",\n",
    "    \"COL_ID\",\n",
    "    \"Kingdom\",\n",
    "    \"Phylum\",\n",
    "    \"Class\",\n",
    "    \"Order\",\n",
    "    \"Family\",\n",
    "    \"Genus\",\n",
    "    \"Species\",\n",
    "    \"Diversity_metric_type\",\n",
    "    \"Measurement\",\n",
    "    \"Effort_corrected_measurement\",\n",
    "    \"Predominant_land_use\",\n",
    "    \"Use_intensity\",\n",
    "    \"Habitat_patch_area_square_metres\",\n",
    "    \"Km_to_nearest_edge_of_habitat\",\n",
    "    \"Years_since_fragmentation_or_conversion\",\n",
    "]\n",
    "\n",
    "df_predicts = df_predicts.select(predicts_cols)"
   ]
  },
  {
   "cell_type": "code",
   "execution_count": 232,
   "metadata": {
    "tags": []
   },
   "outputs": [
    {
     "data": {
      "text/plain": [
       "(4318808, 35)"
      ]
     },
     "execution_count": 232,
     "metadata": {},
     "output_type": "execute_result"
    }
   ],
   "source": [
    "df_predicts.shape"
   ]
  },
  {
   "cell_type": "markdown",
   "metadata": {},
   "source": [
    "### Join PREDICTS and road density data"
   ]
  },
  {
   "cell_type": "code",
   "execution_count": 233,
   "metadata": {
    "tags": []
   },
   "outputs": [
    {
     "data": {
      "text/html": [
       "<div><style>\n",
       ".dataframe > thead > tr,\n",
       ".dataframe > tbody > tr {\n",
       "  text-align: right;\n",
       "  white-space: pre-wrap;\n",
       "}\n",
       "</style>\n",
       "<small>shape: (5, 4)</small><table border=\"1\" class=\"dataframe\"><thead><tr><th>SSBS</th><th>Road_density_1km</th><th>Road_density_10km</th><th>Road_density_50km</th></tr><tr><td>str</td><td>f64</td><td>f64</td><td>f64</td></tr></thead><tbody><tr><td>&quot;AD1_2005__Blan…</td><td>2081.750094</td><td>190364.497423</td><td>2.0841e6</td></tr><tr><td>&quot;AD1_2005__Blan…</td><td>1119.81094</td><td>187993.994423</td><td>2.0724e6</td></tr><tr><td>&quot;AD1_2005__Blan…</td><td>0.0</td><td>98624.640142</td><td>1.9359e6</td></tr><tr><td>&quot;AD1_2005__Blan…</td><td>1186.374931</td><td>86832.033723</td><td>1.8261e6</td></tr><tr><td>&quot;AD1_2005__Blan…</td><td>0.0</td><td>68115.435147</td><td>1.7579e6</td></tr></tbody></table></div>"
      ],
      "text/plain": [
       "shape: (5, 4)\n",
       "┌────────────────────────┬──────────────────┬───────────────────┬───────────────────┐\n",
       "│ SSBS                   ┆ Road_density_1km ┆ Road_density_10km ┆ Road_density_50km │\n",
       "│ ---                    ┆ ---              ┆ ---               ┆ ---               │\n",
       "│ str                    ┆ f64              ┆ f64               ┆ f64               │\n",
       "╞════════════════════════╪══════════════════╪═══════════════════╪═══════════════════╡\n",
       "│ AD1_2005__Blanche 1  1 ┆ 2081.750094      ┆ 190364.497423     ┆ 2.0841e6          │\n",
       "│ AD1_2005__Blanche 1  2 ┆ 1119.81094       ┆ 187993.994423     ┆ 2.0724e6          │\n",
       "│ AD1_2005__Blanche 1  3 ┆ 0.0              ┆ 98624.640142      ┆ 1.9359e6          │\n",
       "│ AD1_2005__Blanche 1  4 ┆ 1186.374931      ┆ 86832.033723      ┆ 1.8261e6          │\n",
       "│ AD1_2005__Blanche 1  5 ┆ 0.0              ┆ 68115.435147      ┆ 1.7579e6          │\n",
       "└────────────────────────┴──────────────────┴───────────────────┴───────────────────┘"
      ]
     },
     "execution_count": 233,
     "metadata": {},
     "output_type": "execute_result"
    }
   ],
   "source": [
    "df_road_density.head()"
   ]
  },
  {
   "cell_type": "code",
   "execution_count": 234,
   "metadata": {
    "tags": []
   },
   "outputs": [],
   "source": [
    "df_predicts_roads = df_predicts.join(\n",
    "    df_road_density, on=\"SSBS\", how=\"left\", validate=\"m:1\"\n",
    ")"
   ]
  },
  {
   "cell_type": "code",
   "execution_count": 235,
   "metadata": {
    "tags": []
   },
   "outputs": [
    {
     "data": {
      "text/plain": [
       "(4318808, 38)"
      ]
     },
     "execution_count": 235,
     "metadata": {},
     "output_type": "execute_result"
    }
   ],
   "source": [
    "df_predicts_roads.shape"
   ]
  },
  {
   "cell_type": "code",
   "execution_count": 236,
   "metadata": {
    "tags": []
   },
   "outputs": [
    {
     "data": {
      "text/html": [
       "<div><style>\n",
       ".dataframe > thead > tr,\n",
       ".dataframe > tbody > tr {\n",
       "  text-align: right;\n",
       "  white-space: pre-wrap;\n",
       "}\n",
       "</style>\n",
       "<small>shape: (5, 38)</small><table border=\"1\" class=\"dataframe\"><thead><tr><th>SS</th><th>SSB</th><th>SSBS</th><th>Longitude</th><th>Latitude</th><th>Country</th><th>UN_region</th><th>UN_subregion</th><th>Realm</th><th>Biome</th><th>Ecoregion</th><th>Wilderness_area</th><th>Hotspot</th><th>Sample_midpoint</th><th>Sampling_method</th><th>Sampling_effort</th><th>Rescaled_sampling_effort</th><th>Max_linear_extent_metres</th><th>Taxon_name_entered</th><th>COL_ID</th><th>Kingdom</th><th>Phylum</th><th>Class</th><th>Order</th><th>Family</th><th>Genus</th><th>Species</th><th>Diversity_metric_type</th><th>Measurement</th><th>Effort_corrected_measurement</th><th>Predominant_land_use</th><th>Use_intensity</th><th>Habitat_patch_area_square_metres</th><th>Km_to_nearest_edge_of_habitat</th><th>Years_since_fragmentation_or_conversion</th><th>Road_density_1km</th><th>Road_density_10km</th><th>Road_density_50km</th></tr><tr><td>str</td><td>str</td><td>str</td><td>f64</td><td>f64</td><td>str</td><td>str</td><td>str</td><td>str</td><td>str</td><td>str</td><td>str</td><td>str</td><td>str</td><td>str</td><td>f64</td><td>f64</td><td>f64</td><td>str</td><td>f64</td><td>str</td><td>str</td><td>str</td><td>str</td><td>str</td><td>str</td><td>str</td><td>str</td><td>f64</td><td>f64</td><td>str</td><td>str</td><td>str</td><td>str</td><td>f64</td><td>f64</td><td>f64</td><td>f64</td></tr></thead><tbody><tr><td>&quot;AD1_2008__Bill…</td><td>&quot;AD1_2008__Bill…</td><td>&quot;AD1_2008__Bill…</td><td>-1.590365</td><td>48.472153</td><td>&quot;France&quot;</td><td>&quot;Europe&quot;</td><td>&quot;Western Europe…</td><td>&quot;Palearctic&quot;</td><td>&quot;Temperate Broa…</td><td>&quot;Atlantic Mixed…</td><td>null</td><td>null</td><td>&quot;2002-07-02&quot;</td><td>&quot;flight trap&quot;</td><td>5.0</td><td>1.0</td><td>1414.214</td><td>&quot;Lasioglossum m…</td><td>6.967008e6</td><td>&quot;Animalia&quot;</td><td>&quot;Arthropoda&quot;</td><td>&quot;Insecta&quot;</td><td>&quot;Hymenoptera&quot;</td><td>&quot;Halictidae&quot;</td><td>&quot;Lasioglossum&quot;</td><td>&quot;morio&quot;</td><td>&quot;Abundance&quot;</td><td>0.0</td><td>0.0</td><td>&quot;Cropland&quot;</td><td>&quot;Minimal use&quot;</td><td>null</td><td>null</td><td>13.5</td><td>419.89974</td><td>437683.782299</td><td>1.0687e7</td></tr><tr><td>&quot;AD1_2008__Bill…</td><td>&quot;AD1_2008__Bill…</td><td>&quot;AD1_2008__Bill…</td><td>-1.590365</td><td>48.472153</td><td>&quot;France&quot;</td><td>&quot;Europe&quot;</td><td>&quot;Western Europe…</td><td>&quot;Palearctic&quot;</td><td>&quot;Temperate Broa…</td><td>&quot;Atlantic Mixed…</td><td>null</td><td>null</td><td>&quot;2002-07-02&quot;</td><td>&quot;flight trap&quot;</td><td>5.0</td><td>1.0</td><td>1414.214</td><td>&quot;Lasioglossum p…</td><td>6.967187e6</td><td>&quot;Animalia&quot;</td><td>&quot;Arthropoda&quot;</td><td>&quot;Insecta&quot;</td><td>&quot;Hymenoptera&quot;</td><td>&quot;Halictidae&quot;</td><td>&quot;Lasioglossum&quot;</td><td>&quot;pauxillum&quot;</td><td>&quot;Abundance&quot;</td><td>0.0</td><td>0.0</td><td>&quot;Cropland&quot;</td><td>&quot;Minimal use&quot;</td><td>null</td><td>null</td><td>13.5</td><td>419.89974</td><td>437683.782299</td><td>1.0687e7</td></tr><tr><td>&quot;AD1_2008__Bill…</td><td>&quot;AD1_2008__Bill…</td><td>&quot;AD1_2008__Bill…</td><td>-1.610663</td><td>48.540593</td><td>&quot;France&quot;</td><td>&quot;Europe&quot;</td><td>&quot;Western Europe…</td><td>&quot;Palearctic&quot;</td><td>&quot;Temperate Broa…</td><td>&quot;Atlantic Mixed…</td><td>null</td><td>null</td><td>&quot;2002-07-02&quot;</td><td>&quot;flight trap&quot;</td><td>5.0</td><td>1.0</td><td>1414.214</td><td>&quot;Andrena helvol…</td><td>6.960605e6</td><td>&quot;Animalia&quot;</td><td>&quot;Arthropoda&quot;</td><td>&quot;Insecta&quot;</td><td>&quot;Hymenoptera&quot;</td><td>&quot;Andrenidae&quot;</td><td>&quot;Andrena&quot;</td><td>&quot;helvola&quot;</td><td>&quot;Abundance&quot;</td><td>0.0</td><td>0.0</td><td>&quot;Cropland&quot;</td><td>&quot;Light use&quot;</td><td>null</td><td>null</td><td>63.5</td><td>810.058171</td><td>436846.596911</td><td>1.0873e7</td></tr><tr><td>&quot;AD1_2008__Bill…</td><td>&quot;AD1_2008__Bill…</td><td>&quot;AD1_2008__Bill…</td><td>-1.610663</td><td>48.540593</td><td>&quot;France&quot;</td><td>&quot;Europe&quot;</td><td>&quot;Western Europe…</td><td>&quot;Palearctic&quot;</td><td>&quot;Temperate Broa…</td><td>&quot;Atlantic Mixed…</td><td>null</td><td>null</td><td>&quot;2002-07-02&quot;</td><td>&quot;flight trap&quot;</td><td>5.0</td><td>1.0</td><td>1414.214</td><td>&quot;Andrena ovatul…</td><td>6.960904e6</td><td>&quot;Animalia&quot;</td><td>&quot;Arthropoda&quot;</td><td>&quot;Insecta&quot;</td><td>&quot;Hymenoptera&quot;</td><td>&quot;Andrenidae&quot;</td><td>&quot;Andrena&quot;</td><td>&quot;ovatula&quot;</td><td>&quot;Abundance&quot;</td><td>0.0</td><td>0.0</td><td>&quot;Cropland&quot;</td><td>&quot;Light use&quot;</td><td>null</td><td>null</td><td>63.5</td><td>810.058171</td><td>436846.596911</td><td>1.0873e7</td></tr><tr><td>&quot;AD1_2008__Bill…</td><td>&quot;AD1_2008__Bill…</td><td>&quot;AD1_2008__Bill…</td><td>-1.610663</td><td>48.540593</td><td>&quot;France&quot;</td><td>&quot;Europe&quot;</td><td>&quot;Western Europe…</td><td>&quot;Palearctic&quot;</td><td>&quot;Temperate Broa…</td><td>&quot;Atlantic Mixed…</td><td>null</td><td>null</td><td>&quot;2002-07-02&quot;</td><td>&quot;flight trap&quot;</td><td>5.0</td><td>1.0</td><td>1414.214</td><td>&quot;Andrena spinig…</td><td>1.3049592e7</td><td>&quot;Animalia&quot;</td><td>&quot;Arthropoda&quot;</td><td>&quot;Insecta&quot;</td><td>&quot;Hymenoptera&quot;</td><td>&quot;Andrenidae&quot;</td><td>&quot;Andrena&quot;</td><td>null</td><td>&quot;Abundance&quot;</td><td>0.0</td><td>0.0</td><td>&quot;Cropland&quot;</td><td>&quot;Light use&quot;</td><td>null</td><td>null</td><td>63.5</td><td>810.058171</td><td>436846.596911</td><td>1.0873e7</td></tr></tbody></table></div>"
      ],
      "text/plain": [
       "shape: (5, 38)\n",
       "┌─────┬─────┬─────┬─────┬─────┬─────┬─────┬─────┬─────┬─────┬─────┬─────┬─────┬─────┬─────┬─────┬─────┬─────┬─────┬─────┬─────┬─────┬─────┬─────┬─────┬─────┬─────┬─────┬─────┬─────┬─────┬─────┬─────┬─────┬─────┬─────┬─────┬─────┐\n",
       "│ SS  ┆ SSB ┆ SSB ┆ Lon ┆ Lat ┆ Cou ┆ UN_ ┆ UN_ ┆ Rea ┆ Bio ┆ Eco ┆ Wil ┆ Hot ┆ Sam ┆ Sam ┆ Sam ┆ Res ┆ Max ┆ Tax ┆ COL ┆ Kin ┆ Phy ┆ Cla ┆ Ord ┆ Fam ┆ Gen ┆ Spe ┆ Div ┆ Mea ┆ Eff ┆ Pre ┆ Use ┆ Hab ┆ Km_ ┆ Yea ┆ Roa ┆ Roa ┆ Roa │\n",
       "│ --- ┆ --- ┆ S   ┆ git ┆ itu ┆ ntr ┆ reg ┆ sub ┆ lm  ┆ me  ┆ reg ┆ der ┆ spo ┆ ple ┆ pli ┆ pli ┆ cal ┆ _li ┆ on_ ┆ _ID ┆ gdo ┆ lum ┆ ss  ┆ er  ┆ ily ┆ us  ┆ cie ┆ ers ┆ sur ┆ ort ┆ dom ┆ _in ┆ ita ┆ to_ ┆ rs_ ┆ d_d ┆ d_d ┆ d_d │\n",
       "│ str ┆ str ┆ --- ┆ ude ┆ de  ┆ y   ┆ ion ┆ reg ┆ --- ┆ --- ┆ ion ┆ nes ┆ t   ┆ _mi ┆ ng_ ┆ ng_ ┆ ed_ ┆ nea ┆ nam ┆ --- ┆ m   ┆ --- ┆ --- ┆ --- ┆ --- ┆ --- ┆ s   ┆ ity ┆ eme ┆ _co ┆ ina ┆ ten ┆ t_p ┆ nea ┆ sin ┆ ens ┆ ens ┆ ens │\n",
       "│     ┆     ┆ str ┆ --- ┆ --- ┆ --- ┆ --- ┆ ion ┆ str ┆ str ┆ --- ┆ s_a ┆ --- ┆ dpo ┆ met ┆ eff ┆ sam ┆ r_e ┆ e_e ┆ f64 ┆ --- ┆ str ┆ str ┆ str ┆ str ┆ str ┆ --- ┆ _me ┆ nt  ┆ rre ┆ nt_ ┆ sit ┆ atc ┆ res ┆ ce_ ┆ ity ┆ ity ┆ ity │\n",
       "│     ┆     ┆     ┆ f64 ┆ f64 ┆ str ┆ str ┆ --- ┆     ┆     ┆ str ┆ rea ┆ str ┆ int ┆ hod ┆ ort ┆ pli ┆ xte ┆ nte ┆     ┆ str ┆     ┆     ┆     ┆     ┆     ┆ str ┆ tri ┆ --- ┆ cte ┆ lan ┆ y   ┆ h_a ┆ t_e ┆ fra ┆ _1k ┆ _10 ┆ _50 │\n",
       "│     ┆     ┆     ┆     ┆     ┆     ┆     ┆ str ┆     ┆     ┆     ┆ --- ┆     ┆ --- ┆ --- ┆ --- ┆ ng_ ┆ nt_ ┆ red ┆     ┆     ┆     ┆     ┆     ┆     ┆     ┆     ┆ c_t ┆ f64 ┆ d_m ┆ d_u ┆ --- ┆ rea ┆ dge ┆ gme ┆ m   ┆ km  ┆ km  │\n",
       "│     ┆     ┆     ┆     ┆     ┆     ┆     ┆     ┆     ┆     ┆     ┆ str ┆     ┆ str ┆ str ┆ f64 ┆ eff ┆ met ┆ --- ┆     ┆     ┆     ┆     ┆     ┆     ┆     ┆     ┆ ype ┆     ┆ eas ┆ se  ┆ str ┆ _sq ┆ _of ┆ nta ┆ --- ┆ --- ┆ --- │\n",
       "│     ┆     ┆     ┆     ┆     ┆     ┆     ┆     ┆     ┆     ┆     ┆     ┆     ┆     ┆     ┆     ┆ ort ┆ res ┆ str ┆     ┆     ┆     ┆     ┆     ┆     ┆     ┆     ┆ --- ┆     ┆ ure ┆ --- ┆     ┆ uar ┆ _ha ┆ tio ┆ f64 ┆ f64 ┆ f64 │\n",
       "│     ┆     ┆     ┆     ┆     ┆     ┆     ┆     ┆     ┆     ┆     ┆     ┆     ┆     ┆     ┆     ┆ --- ┆ --- ┆     ┆     ┆     ┆     ┆     ┆     ┆     ┆     ┆     ┆ str ┆     ┆ men ┆ str ┆     ┆ e_m ┆ bit ┆ n_o ┆     ┆     ┆     │\n",
       "│     ┆     ┆     ┆     ┆     ┆     ┆     ┆     ┆     ┆     ┆     ┆     ┆     ┆     ┆     ┆     ┆ f64 ┆ f64 ┆     ┆     ┆     ┆     ┆     ┆     ┆     ┆     ┆     ┆     ┆     ┆ t   ┆     ┆     ┆ etr ┆ at  ┆ r_c ┆     ┆     ┆     │\n",
       "│     ┆     ┆     ┆     ┆     ┆     ┆     ┆     ┆     ┆     ┆     ┆     ┆     ┆     ┆     ┆     ┆     ┆     ┆     ┆     ┆     ┆     ┆     ┆     ┆     ┆     ┆     ┆     ┆     ┆ --- ┆     ┆     ┆ es  ┆ --- ┆ on… ┆     ┆     ┆     │\n",
       "│     ┆     ┆     ┆     ┆     ┆     ┆     ┆     ┆     ┆     ┆     ┆     ┆     ┆     ┆     ┆     ┆     ┆     ┆     ┆     ┆     ┆     ┆     ┆     ┆     ┆     ┆     ┆     ┆     ┆ f64 ┆     ┆     ┆ --- ┆ str ┆ --- ┆     ┆     ┆     │\n",
       "│     ┆     ┆     ┆     ┆     ┆     ┆     ┆     ┆     ┆     ┆     ┆     ┆     ┆     ┆     ┆     ┆     ┆     ┆     ┆     ┆     ┆     ┆     ┆     ┆     ┆     ┆     ┆     ┆     ┆     ┆     ┆     ┆ str ┆     ┆ f64 ┆     ┆     ┆     │\n",
       "╞═════╪═════╪═════╪═════╪═════╪═════╪═════╪═════╪═════╪═════╪═════╪═════╪═════╪═════╪═════╪═════╪═════╪═════╪═════╪═════╪═════╪═════╪═════╪═════╪═════╪═════╪═════╪═════╪═════╪═════╪═════╪═════╪═════╪═════╪═════╪═════╪═════╪═════╡\n",
       "│ AD1 ┆ AD1 ┆ AD1 ┆ -1. ┆ 48. ┆ Fra ┆ Eur ┆ Wes ┆ Pal ┆ Tem ┆ Atl ┆ nul ┆ nul ┆ 200 ┆ fli ┆ 5.0 ┆ 1.0 ┆ 141 ┆ Las ┆ 6.9 ┆ Ani ┆ Art ┆ Ins ┆ Hym ┆ Hal ┆ Las ┆ mor ┆ Abu ┆ 0.0 ┆ 0.0 ┆ Cro ┆ Min ┆ nul ┆ nul ┆ 13. ┆ 419 ┆ 437 ┆ 1.0 │\n",
       "│ _20 ┆ _20 ┆ _20 ┆ 590 ┆ 472 ┆ nce ┆ ope ┆ ter ┆ ear ┆ per ┆ ant ┆ l   ┆ l   ┆ 2-0 ┆ ght ┆     ┆     ┆ 4.2 ┆ iog ┆ 670 ┆ mal ┆ hro ┆ ect ┆ eno ┆ ict ┆ iog ┆ io  ┆ nda ┆     ┆     ┆ pla ┆ ima ┆ l   ┆ l   ┆ 5   ┆ .89 ┆ 683 ┆ 687 │\n",
       "│ 08_ ┆ 08_ ┆ 08_ ┆ 365 ┆ 153 ┆     ┆     ┆ n   ┆ cti ┆ ate ┆ ic  ┆     ┆     ┆ 7-0 ┆ tra ┆     ┆     ┆ 14  ┆ los ┆ 08e ┆ ia  ┆ pod ┆ a   ┆ pte ┆ ida ┆ los ┆     ┆ nce ┆     ┆     ┆ nd  ┆ l   ┆     ┆     ┆     ┆ 974 ┆ .78 ┆ e7  │\n",
       "│ _Bi ┆ _Bi ┆ _Bi ┆     ┆     ┆     ┆     ┆ Eur ┆ c   ┆ Bro ┆ Mix ┆     ┆     ┆ 2   ┆ p   ┆     ┆     ┆     ┆ sum ┆ 6   ┆     ┆ a   ┆     ┆ ra  ┆ e   ┆ sum ┆     ┆     ┆     ┆     ┆     ┆ use ┆     ┆     ┆     ┆     ┆ 229 ┆     │\n",
       "│ lle ┆ lle ┆ lle ┆     ┆     ┆     ┆     ┆ ope ┆     ┆ adl ┆ ed  ┆     ┆     ┆     ┆     ┆     ┆     ┆     ┆ mor ┆     ┆     ┆     ┆     ┆     ┆     ┆     ┆     ┆     ┆     ┆     ┆     ┆     ┆     ┆     ┆     ┆     ┆ 9   ┆     │\n",
       "│ ter ┆ ter ┆ ter ┆     ┆     ┆     ┆     ┆     ┆     ┆ eaf ┆ For ┆     ┆     ┆     ┆     ┆     ┆     ┆     ┆ io  ┆     ┆     ┆     ┆     ┆     ┆     ┆     ┆     ┆     ┆     ┆     ┆     ┆     ┆     ┆     ┆     ┆     ┆     ┆     │\n",
       "│ 8   ┆ 8   ┆ 8   ┆     ┆     ┆     ┆     ┆     ┆     ┆ &   ┆ est ┆     ┆     ┆     ┆     ┆     ┆     ┆     ┆     ┆     ┆     ┆     ┆     ┆     ┆     ┆     ┆     ┆     ┆     ┆     ┆     ┆     ┆     ┆     ┆     ┆     ┆     ┆     │\n",
       "│     ┆ F2  ┆ F2  ┆     ┆     ┆     ┆     ┆     ┆     ┆ Mix ┆ s   ┆     ┆     ┆     ┆     ┆     ┆     ┆     ┆     ┆     ┆     ┆     ┆     ┆     ┆     ┆     ┆     ┆     ┆     ┆     ┆     ┆     ┆     ┆     ┆     ┆     ┆     ┆     │\n",
       "│     ┆     ┆ 32  ┆     ┆     ┆     ┆     ┆     ┆     ┆ ed  ┆     ┆     ┆     ┆     ┆     ┆     ┆     ┆     ┆     ┆     ┆     ┆     ┆     ┆     ┆     ┆     ┆     ┆     ┆     ┆     ┆     ┆     ┆     ┆     ┆     ┆     ┆     ┆     │\n",
       "│     ┆     ┆     ┆     ┆     ┆     ┆     ┆     ┆     ┆ For ┆     ┆     ┆     ┆     ┆     ┆     ┆     ┆     ┆     ┆     ┆     ┆     ┆     ┆     ┆     ┆     ┆     ┆     ┆     ┆     ┆     ┆     ┆     ┆     ┆     ┆     ┆     ┆     │\n",
       "│     ┆     ┆     ┆     ┆     ┆     ┆     ┆     ┆     ┆ e…  ┆     ┆     ┆     ┆     ┆     ┆     ┆     ┆     ┆     ┆     ┆     ┆     ┆     ┆     ┆     ┆     ┆     ┆     ┆     ┆     ┆     ┆     ┆     ┆     ┆     ┆     ┆     ┆     │\n",
       "│ AD1 ┆ AD1 ┆ AD1 ┆ -1. ┆ 48. ┆ Fra ┆ Eur ┆ Wes ┆ Pal ┆ Tem ┆ Atl ┆ nul ┆ nul ┆ 200 ┆ fli ┆ 5.0 ┆ 1.0 ┆ 141 ┆ Las ┆ 6.9 ┆ Ani ┆ Art ┆ Ins ┆ Hym ┆ Hal ┆ Las ┆ pau ┆ Abu ┆ 0.0 ┆ 0.0 ┆ Cro ┆ Min ┆ nul ┆ nul ┆ 13. ┆ 419 ┆ 437 ┆ 1.0 │\n",
       "│ _20 ┆ _20 ┆ _20 ┆ 590 ┆ 472 ┆ nce ┆ ope ┆ ter ┆ ear ┆ per ┆ ant ┆ l   ┆ l   ┆ 2-0 ┆ ght ┆     ┆     ┆ 4.2 ┆ iog ┆ 671 ┆ mal ┆ hro ┆ ect ┆ eno ┆ ict ┆ iog ┆ xil ┆ nda ┆     ┆     ┆ pla ┆ ima ┆ l   ┆ l   ┆ 5   ┆ .89 ┆ 683 ┆ 687 │\n",
       "│ 08_ ┆ 08_ ┆ 08_ ┆ 365 ┆ 153 ┆     ┆     ┆ n   ┆ cti ┆ ate ┆ ic  ┆     ┆     ┆ 7-0 ┆ tra ┆     ┆     ┆ 14  ┆ los ┆ 87e ┆ ia  ┆ pod ┆ a   ┆ pte ┆ ida ┆ los ┆ lum ┆ nce ┆     ┆     ┆ nd  ┆ l   ┆     ┆     ┆     ┆ 974 ┆ .78 ┆ e7  │\n",
       "│ _Bi ┆ _Bi ┆ _Bi ┆     ┆     ┆     ┆     ┆ Eur ┆ c   ┆ Bro ┆ Mix ┆     ┆     ┆ 2   ┆ p   ┆     ┆     ┆     ┆ sum ┆ 6   ┆     ┆ a   ┆     ┆ ra  ┆ e   ┆ sum ┆     ┆     ┆     ┆     ┆     ┆ use ┆     ┆     ┆     ┆     ┆ 229 ┆     │\n",
       "│ lle ┆ lle ┆ lle ┆     ┆     ┆     ┆     ┆ ope ┆     ┆ adl ┆ ed  ┆     ┆     ┆     ┆     ┆     ┆     ┆     ┆ pau ┆     ┆     ┆     ┆     ┆     ┆     ┆     ┆     ┆     ┆     ┆     ┆     ┆     ┆     ┆     ┆     ┆     ┆ 9   ┆     │\n",
       "│ ter ┆ ter ┆ ter ┆     ┆     ┆     ┆     ┆     ┆     ┆ eaf ┆ For ┆     ┆     ┆     ┆     ┆     ┆     ┆     ┆ xil ┆     ┆     ┆     ┆     ┆     ┆     ┆     ┆     ┆     ┆     ┆     ┆     ┆     ┆     ┆     ┆     ┆     ┆     ┆     │\n",
       "│ 8   ┆ 8   ┆ 8   ┆     ┆     ┆     ┆     ┆     ┆     ┆ &   ┆ est ┆     ┆     ┆     ┆     ┆     ┆     ┆     ┆ lum ┆     ┆     ┆     ┆     ┆     ┆     ┆     ┆     ┆     ┆     ┆     ┆     ┆     ┆     ┆     ┆     ┆     ┆     ┆     │\n",
       "│     ┆ F2  ┆ F2  ┆     ┆     ┆     ┆     ┆     ┆     ┆ Mix ┆ s   ┆     ┆     ┆     ┆     ┆     ┆     ┆     ┆     ┆     ┆     ┆     ┆     ┆     ┆     ┆     ┆     ┆     ┆     ┆     ┆     ┆     ┆     ┆     ┆     ┆     ┆     ┆     │\n",
       "│     ┆     ┆ 32  ┆     ┆     ┆     ┆     ┆     ┆     ┆ ed  ┆     ┆     ┆     ┆     ┆     ┆     ┆     ┆     ┆     ┆     ┆     ┆     ┆     ┆     ┆     ┆     ┆     ┆     ┆     ┆     ┆     ┆     ┆     ┆     ┆     ┆     ┆     ┆     │\n",
       "│     ┆     ┆     ┆     ┆     ┆     ┆     ┆     ┆     ┆ For ┆     ┆     ┆     ┆     ┆     ┆     ┆     ┆     ┆     ┆     ┆     ┆     ┆     ┆     ┆     ┆     ┆     ┆     ┆     ┆     ┆     ┆     ┆     ┆     ┆     ┆     ┆     ┆     │\n",
       "│     ┆     ┆     ┆     ┆     ┆     ┆     ┆     ┆     ┆ e…  ┆     ┆     ┆     ┆     ┆     ┆     ┆     ┆     ┆     ┆     ┆     ┆     ┆     ┆     ┆     ┆     ┆     ┆     ┆     ┆     ┆     ┆     ┆     ┆     ┆     ┆     ┆     ┆     │\n",
       "│ AD1 ┆ AD1 ┆ AD1 ┆ -1. ┆ 48. ┆ Fra ┆ Eur ┆ Wes ┆ Pal ┆ Tem ┆ Atl ┆ nul ┆ nul ┆ 200 ┆ fli ┆ 5.0 ┆ 1.0 ┆ 141 ┆ And ┆ 6.9 ┆ Ani ┆ Art ┆ Ins ┆ Hym ┆ And ┆ And ┆ hel ┆ Abu ┆ 0.0 ┆ 0.0 ┆ Cro ┆ Lig ┆ nul ┆ nul ┆ 63. ┆ 810 ┆ 436 ┆ 1.0 │\n",
       "│ _20 ┆ _20 ┆ _20 ┆ 610 ┆ 540 ┆ nce ┆ ope ┆ ter ┆ ear ┆ per ┆ ant ┆ l   ┆ l   ┆ 2-0 ┆ ght ┆     ┆     ┆ 4.2 ┆ ren ┆ 606 ┆ mal ┆ hro ┆ ect ┆ eno ┆ ren ┆ ren ┆ vol ┆ nda ┆     ┆     ┆ pla ┆ ht  ┆ l   ┆ l   ┆ 5   ┆ .05 ┆ 846 ┆ 873 │\n",
       "│ 08_ ┆ 08_ ┆ 08_ ┆ 663 ┆ 593 ┆     ┆     ┆ n   ┆ cti ┆ ate ┆ ic  ┆     ┆     ┆ 7-0 ┆ tra ┆     ┆     ┆ 14  ┆ a   ┆ 05e ┆ ia  ┆ pod ┆ a   ┆ pte ┆ ida ┆ a   ┆ a   ┆ nce ┆     ┆     ┆ nd  ┆ use ┆     ┆     ┆     ┆ 817 ┆ .59 ┆ e7  │\n",
       "│ _Bi ┆ _Bi ┆ _Bi ┆     ┆     ┆     ┆     ┆ Eur ┆ c   ┆ Bro ┆ Mix ┆     ┆     ┆ 2   ┆ p   ┆     ┆     ┆     ┆ hel ┆ 6   ┆     ┆ a   ┆     ┆ ra  ┆ e   ┆     ┆     ┆     ┆     ┆     ┆     ┆     ┆     ┆     ┆     ┆ 1   ┆ 691 ┆     │\n",
       "│ lle ┆ lle ┆ lle ┆     ┆     ┆     ┆     ┆ ope ┆     ┆ adl ┆ ed  ┆     ┆     ┆     ┆     ┆     ┆     ┆     ┆ vol ┆     ┆     ┆     ┆     ┆     ┆     ┆     ┆     ┆     ┆     ┆     ┆     ┆     ┆     ┆     ┆     ┆     ┆ 1   ┆     │\n",
       "│ ter ┆ ter ┆ ter ┆     ┆     ┆     ┆     ┆     ┆     ┆ eaf ┆ For ┆     ┆     ┆     ┆     ┆     ┆     ┆     ┆ a   ┆     ┆     ┆     ┆     ┆     ┆     ┆     ┆     ┆     ┆     ┆     ┆     ┆     ┆     ┆     ┆     ┆     ┆     ┆     │\n",
       "│ 8   ┆ 8   ┆ 8   ┆     ┆     ┆     ┆     ┆     ┆     ┆ &   ┆ est ┆     ┆     ┆     ┆     ┆     ┆     ┆     ┆     ┆     ┆     ┆     ┆     ┆     ┆     ┆     ┆     ┆     ┆     ┆     ┆     ┆     ┆     ┆     ┆     ┆     ┆     ┆     │\n",
       "│     ┆ F3  ┆ F3  ┆     ┆     ┆     ┆     ┆     ┆     ┆ Mix ┆ s   ┆     ┆     ┆     ┆     ┆     ┆     ┆     ┆     ┆     ┆     ┆     ┆     ┆     ┆     ┆     ┆     ┆     ┆     ┆     ┆     ┆     ┆     ┆     ┆     ┆     ┆     ┆     │\n",
       "│     ┆     ┆ 33  ┆     ┆     ┆     ┆     ┆     ┆     ┆ ed  ┆     ┆     ┆     ┆     ┆     ┆     ┆     ┆     ┆     ┆     ┆     ┆     ┆     ┆     ┆     ┆     ┆     ┆     ┆     ┆     ┆     ┆     ┆     ┆     ┆     ┆     ┆     ┆     │\n",
       "│     ┆     ┆     ┆     ┆     ┆     ┆     ┆     ┆     ┆ For ┆     ┆     ┆     ┆     ┆     ┆     ┆     ┆     ┆     ┆     ┆     ┆     ┆     ┆     ┆     ┆     ┆     ┆     ┆     ┆     ┆     ┆     ┆     ┆     ┆     ┆     ┆     ┆     │\n",
       "│     ┆     ┆     ┆     ┆     ┆     ┆     ┆     ┆     ┆ e…  ┆     ┆     ┆     ┆     ┆     ┆     ┆     ┆     ┆     ┆     ┆     ┆     ┆     ┆     ┆     ┆     ┆     ┆     ┆     ┆     ┆     ┆     ┆     ┆     ┆     ┆     ┆     ┆     │\n",
       "│ AD1 ┆ AD1 ┆ AD1 ┆ -1. ┆ 48. ┆ Fra ┆ Eur ┆ Wes ┆ Pal ┆ Tem ┆ Atl ┆ nul ┆ nul ┆ 200 ┆ fli ┆ 5.0 ┆ 1.0 ┆ 141 ┆ And ┆ 6.9 ┆ Ani ┆ Art ┆ Ins ┆ Hym ┆ And ┆ And ┆ ova ┆ Abu ┆ 0.0 ┆ 0.0 ┆ Cro ┆ Lig ┆ nul ┆ nul ┆ 63. ┆ 810 ┆ 436 ┆ 1.0 │\n",
       "│ _20 ┆ _20 ┆ _20 ┆ 610 ┆ 540 ┆ nce ┆ ope ┆ ter ┆ ear ┆ per ┆ ant ┆ l   ┆ l   ┆ 2-0 ┆ ght ┆     ┆     ┆ 4.2 ┆ ren ┆ 609 ┆ mal ┆ hro ┆ ect ┆ eno ┆ ren ┆ ren ┆ tul ┆ nda ┆     ┆     ┆ pla ┆ ht  ┆ l   ┆ l   ┆ 5   ┆ .05 ┆ 846 ┆ 873 │\n",
       "│ 08_ ┆ 08_ ┆ 08_ ┆ 663 ┆ 593 ┆     ┆     ┆ n   ┆ cti ┆ ate ┆ ic  ┆     ┆     ┆ 7-0 ┆ tra ┆     ┆     ┆ 14  ┆ a   ┆ 04e ┆ ia  ┆ pod ┆ a   ┆ pte ┆ ida ┆ a   ┆ a   ┆ nce ┆     ┆     ┆ nd  ┆ use ┆     ┆     ┆     ┆ 817 ┆ .59 ┆ e7  │\n",
       "│ _Bi ┆ _Bi ┆ _Bi ┆     ┆     ┆     ┆     ┆ Eur ┆ c   ┆ Bro ┆ Mix ┆     ┆     ┆ 2   ┆ p   ┆     ┆     ┆     ┆ ova ┆ 6   ┆     ┆ a   ┆     ┆ ra  ┆ e   ┆     ┆     ┆     ┆     ┆     ┆     ┆     ┆     ┆     ┆     ┆ 1   ┆ 691 ┆     │\n",
       "│ lle ┆ lle ┆ lle ┆     ┆     ┆     ┆     ┆ ope ┆     ┆ adl ┆ ed  ┆     ┆     ┆     ┆     ┆     ┆     ┆     ┆ tul ┆     ┆     ┆     ┆     ┆     ┆     ┆     ┆     ┆     ┆     ┆     ┆     ┆     ┆     ┆     ┆     ┆     ┆ 1   ┆     │\n",
       "│ ter ┆ ter ┆ ter ┆     ┆     ┆     ┆     ┆     ┆     ┆ eaf ┆ For ┆     ┆     ┆     ┆     ┆     ┆     ┆     ┆ a   ┆     ┆     ┆     ┆     ┆     ┆     ┆     ┆     ┆     ┆     ┆     ┆     ┆     ┆     ┆     ┆     ┆     ┆     ┆     │\n",
       "│ 8   ┆ 8   ┆ 8   ┆     ┆     ┆     ┆     ┆     ┆     ┆ &   ┆ est ┆     ┆     ┆     ┆     ┆     ┆     ┆     ┆     ┆     ┆     ┆     ┆     ┆     ┆     ┆     ┆     ┆     ┆     ┆     ┆     ┆     ┆     ┆     ┆     ┆     ┆     ┆     │\n",
       "│     ┆ F3  ┆ F3  ┆     ┆     ┆     ┆     ┆     ┆     ┆ Mix ┆ s   ┆     ┆     ┆     ┆     ┆     ┆     ┆     ┆     ┆     ┆     ┆     ┆     ┆     ┆     ┆     ┆     ┆     ┆     ┆     ┆     ┆     ┆     ┆     ┆     ┆     ┆     ┆     │\n",
       "│     ┆     ┆ 33  ┆     ┆     ┆     ┆     ┆     ┆     ┆ ed  ┆     ┆     ┆     ┆     ┆     ┆     ┆     ┆     ┆     ┆     ┆     ┆     ┆     ┆     ┆     ┆     ┆     ┆     ┆     ┆     ┆     ┆     ┆     ┆     ┆     ┆     ┆     ┆     │\n",
       "│     ┆     ┆     ┆     ┆     ┆     ┆     ┆     ┆     ┆ For ┆     ┆     ┆     ┆     ┆     ┆     ┆     ┆     ┆     ┆     ┆     ┆     ┆     ┆     ┆     ┆     ┆     ┆     ┆     ┆     ┆     ┆     ┆     ┆     ┆     ┆     ┆     ┆     │\n",
       "│     ┆     ┆     ┆     ┆     ┆     ┆     ┆     ┆     ┆ e…  ┆     ┆     ┆     ┆     ┆     ┆     ┆     ┆     ┆     ┆     ┆     ┆     ┆     ┆     ┆     ┆     ┆     ┆     ┆     ┆     ┆     ┆     ┆     ┆     ┆     ┆     ┆     ┆     │\n",
       "│ AD1 ┆ AD1 ┆ AD1 ┆ -1. ┆ 48. ┆ Fra ┆ Eur ┆ Wes ┆ Pal ┆ Tem ┆ Atl ┆ nul ┆ nul ┆ 200 ┆ fli ┆ 5.0 ┆ 1.0 ┆ 141 ┆ And ┆ 1.3 ┆ Ani ┆ Art ┆ Ins ┆ Hym ┆ And ┆ And ┆ nul ┆ Abu ┆ 0.0 ┆ 0.0 ┆ Cro ┆ Lig ┆ nul ┆ nul ┆ 63. ┆ 810 ┆ 436 ┆ 1.0 │\n",
       "│ _20 ┆ _20 ┆ _20 ┆ 610 ┆ 540 ┆ nce ┆ ope ┆ ter ┆ ear ┆ per ┆ ant ┆ l   ┆ l   ┆ 2-0 ┆ ght ┆     ┆     ┆ 4.2 ┆ ren ┆ 049 ┆ mal ┆ hro ┆ ect ┆ eno ┆ ren ┆ ren ┆ l   ┆ nda ┆     ┆     ┆ pla ┆ ht  ┆ l   ┆ l   ┆ 5   ┆ .05 ┆ 846 ┆ 873 │\n",
       "│ 08_ ┆ 08_ ┆ 08_ ┆ 663 ┆ 593 ┆     ┆     ┆ n   ┆ cti ┆ ate ┆ ic  ┆     ┆     ┆ 7-0 ┆ tra ┆     ┆     ┆ 14  ┆ a   ┆ 592 ┆ ia  ┆ pod ┆ a   ┆ pte ┆ ida ┆ a   ┆     ┆ nce ┆     ┆     ┆ nd  ┆ use ┆     ┆     ┆     ┆ 817 ┆ .59 ┆ e7  │\n",
       "│ _Bi ┆ _Bi ┆ _Bi ┆     ┆     ┆     ┆     ┆ Eur ┆ c   ┆ Bro ┆ Mix ┆     ┆     ┆ 2   ┆ p   ┆     ┆     ┆     ┆ spi ┆ e7  ┆     ┆ a   ┆     ┆ ra  ┆ e   ┆     ┆     ┆     ┆     ┆     ┆     ┆     ┆     ┆     ┆     ┆ 1   ┆ 691 ┆     │\n",
       "│ lle ┆ lle ┆ lle ┆     ┆     ┆     ┆     ┆ ope ┆     ┆ adl ┆ ed  ┆     ┆     ┆     ┆     ┆     ┆     ┆     ┆ nig ┆     ┆     ┆     ┆     ┆     ┆     ┆     ┆     ┆     ┆     ┆     ┆     ┆     ┆     ┆     ┆     ┆     ┆ 1   ┆     │\n",
       "│ ter ┆ ter ┆ ter ┆     ┆     ┆     ┆     ┆     ┆     ┆ eaf ┆ For ┆     ┆     ┆     ┆     ┆     ┆     ┆     ┆ era ┆     ┆     ┆     ┆     ┆     ┆     ┆     ┆     ┆     ┆     ┆     ┆     ┆     ┆     ┆     ┆     ┆     ┆     ┆     │\n",
       "│ 8   ┆ 8   ┆ 8   ┆     ┆     ┆     ┆     ┆     ┆     ┆ &   ┆ est ┆     ┆     ┆     ┆     ┆     ┆     ┆     ┆     ┆     ┆     ┆     ┆     ┆     ┆     ┆     ┆     ┆     ┆     ┆     ┆     ┆     ┆     ┆     ┆     ┆     ┆     ┆     │\n",
       "│     ┆ F3  ┆ F3  ┆     ┆     ┆     ┆     ┆     ┆     ┆ Mix ┆ s   ┆     ┆     ┆     ┆     ┆     ┆     ┆     ┆     ┆     ┆     ┆     ┆     ┆     ┆     ┆     ┆     ┆     ┆     ┆     ┆     ┆     ┆     ┆     ┆     ┆     ┆     ┆     │\n",
       "│     ┆     ┆ 33  ┆     ┆     ┆     ┆     ┆     ┆     ┆ ed  ┆     ┆     ┆     ┆     ┆     ┆     ┆     ┆     ┆     ┆     ┆     ┆     ┆     ┆     ┆     ┆     ┆     ┆     ┆     ┆     ┆     ┆     ┆     ┆     ┆     ┆     ┆     ┆     │\n",
       "│     ┆     ┆     ┆     ┆     ┆     ┆     ┆     ┆     ┆ For ┆     ┆     ┆     ┆     ┆     ┆     ┆     ┆     ┆     ┆     ┆     ┆     ┆     ┆     ┆     ┆     ┆     ┆     ┆     ┆     ┆     ┆     ┆     ┆     ┆     ┆     ┆     ┆     │\n",
       "│     ┆     ┆     ┆     ┆     ┆     ┆     ┆     ┆     ┆ e…  ┆     ┆     ┆     ┆     ┆     ┆     ┆     ┆     ┆     ┆     ┆     ┆     ┆     ┆     ┆     ┆     ┆     ┆     ┆     ┆     ┆     ┆     ┆     ┆     ┆     ┆     ┆     ┆     │\n",
       "└─────┴─────┴─────┴─────┴─────┴─────┴─────┴─────┴─────┴─────┴─────┴─────┴─────┴─────┴─────┴─────┴─────┴─────┴─────┴─────┴─────┴─────┴─────┴─────┴─────┴─────┴─────┴─────┴─────┴─────┴─────┴─────┴─────┴─────┴─────┴─────┴─────┴─────┘"
      ]
     },
     "execution_count": 236,
     "metadata": {},
     "output_type": "execute_result"
    }
   ],
   "source": [
    "df_predicts_roads.head()"
   ]
  },
  {
   "cell_type": "markdown",
   "metadata": {},
   "source": [
    "### Interpolation of population density data to join with PREDICTS"
   ]
  },
  {
   "cell_type": "code",
   "execution_count": 237,
   "metadata": {
    "tags": []
   },
   "outputs": [
    {
     "data": {
      "text/html": [
       "<div><style>\n",
       ".dataframe > thead > tr,\n",
       ".dataframe > tbody > tr {\n",
       "  text-align: right;\n",
       "  white-space: pre-wrap;\n",
       "}\n",
       "</style>\n",
       "<small>shape: (5, 16)</small><table border=\"1\" class=\"dataframe\"><thead><tr><th>SSBS</th><th>Pop_density_1km_2000</th><th>Pop_density_1km_2005</th><th>Pop_density_1km_2010</th><th>Pop_density_1km_2015</th><th>Pop_density_1km_2020</th><th>Pop_density_10km_2000</th><th>Pop_density_10km_2005</th><th>Pop_density_10km_2010</th><th>Pop_density_10km_2015</th><th>Pop_density_10km_2020</th><th>Pop_density_50km_2000</th><th>Pop_density_50km_2005</th><th>Pop_density_50km_2010</th><th>Pop_density_50km_2015</th><th>Pop_density_50km_2020</th></tr><tr><td>str</td><td>f64</td><td>f64</td><td>f64</td><td>f64</td><td>f64</td><td>f64</td><td>f64</td><td>f64</td><td>f64</td><td>f64</td><td>f64</td><td>f64</td><td>f64</td><td>f64</td><td>f64</td></tr></thead><tbody><tr><td>&quot;AD1_2001__Liow…</td><td>8665.053819</td><td>10686.046875</td><td>12856.830729</td><td>14912.848958</td><td>16510.614583</td><td>6093.886228</td><td>6958.095808</td><td>7791.201098</td><td>8467.353293</td><td>8861.665669</td><td>933.654075</td><td>1093.091219</td><td>1268.813392</td><td>1454.161213</td><td>1641.065066</td></tr><tr><td>&quot;AD1_2001__Liow…</td><td>1131.090088</td><td>1245.123128</td><td>1336.200765</td><td>1381.482259</td><td>1362.475993</td><td>7262.850962</td><td>8273.240919</td><td>9271.036325</td><td>10134.848291</td><td>10751.494658</td><td>940.373195</td><td>1101.212981</td><td>1278.487799</td><td>1465.453558</td><td>1653.969848</td></tr><tr><td>&quot;AD1_2001__Liow…</td><td>4979.729167</td><td>5457.96875</td><td>5831.039931</td><td>6000.927951</td><td>5890.359375</td><td>6354.087041</td><td>7373.591876</td><td>8452.087041</td><td>9503.366538</td><td>10438.625725</td><td>898.962319</td><td>1050.302434</td><td>1216.123064</td><td>1389.497541</td><td>1562.316572</td></tr><tr><td>&quot;AD1_2001__Liow…</td><td>4332.883681</td><td>4888.942708</td><td>5376.256944</td><td>5694.303819</td><td>5751.630208</td><td>6440.715232</td><td>7292.890728</td><td>8099.86755</td><td>8738.147903</td><td>9092.586093</td><td>951.244901</td><td>1114.757922</td><td>1295.39474</td><td>1486.577678</td><td>1680.202951</td></tr><tr><td>&quot;AD1_2001__Liow…</td><td>8465.158203</td><td>9318.025391</td><td>9998.738932</td><td>10336.432943</td><td>10192.90625</td><td>6748.165722</td><td>7515.062323</td><td>8172.850567</td><td>8578.686969</td><td>8606.26983</td><td>979.929484</td><td>1149.967869</td><td>1338.408612</td><td>1538.764551</td><td>1742.833948</td></tr></tbody></table></div>"
      ],
      "text/plain": [
       "shape: (5, 16)\n",
       "┌─────┬─────┬─────┬─────┬─────┬─────┬─────┬─────┬─────┬─────┬─────┬─────┬─────┬─────┬─────┬────────┐\n",
       "│ SSB ┆ Pop ┆ Pop ┆ Pop ┆ Pop ┆ Pop ┆ Pop ┆ Pop ┆ Pop ┆ Pop ┆ Pop ┆ Pop ┆ Pop ┆ Pop ┆ Pop ┆ Pop_de │\n",
       "│ S   ┆ _de ┆ _de ┆ _de ┆ _de ┆ _de ┆ _de ┆ _de ┆ _de ┆ _de ┆ _de ┆ _de ┆ _de ┆ _de ┆ _de ┆ nsity_ │\n",
       "│ --- ┆ nsi ┆ nsi ┆ nsi ┆ nsi ┆ nsi ┆ nsi ┆ nsi ┆ nsi ┆ nsi ┆ nsi ┆ nsi ┆ nsi ┆ nsi ┆ nsi ┆ 50km_2 │\n",
       "│ str ┆ ty_ ┆ ty_ ┆ ty_ ┆ ty_ ┆ ty_ ┆ ty_ ┆ ty_ ┆ ty_ ┆ ty_ ┆ ty_ ┆ ty_ ┆ ty_ ┆ ty_ ┆ ty_ ┆ 020    │\n",
       "│     ┆ 1km ┆ 1km ┆ 1km ┆ 1km ┆ 1km ┆ 10k ┆ 10k ┆ 10k ┆ 10k ┆ 10k ┆ 50k ┆ 50k ┆ 50k ┆ 50k ┆ ---    │\n",
       "│     ┆ _20 ┆ _20 ┆ _20 ┆ _20 ┆ _20 ┆ m_2 ┆ m_2 ┆ m_2 ┆ m_2 ┆ m_2 ┆ m_2 ┆ m_2 ┆ m_2 ┆ m_2 ┆ f64    │\n",
       "│     ┆ 00  ┆ 05  ┆ 10  ┆ 15  ┆ 20  ┆ 000 ┆ 005 ┆ 010 ┆ 015 ┆ 020 ┆ 000 ┆ 005 ┆ 010 ┆ 015 ┆        │\n",
       "│     ┆ --- ┆ --- ┆ --- ┆ --- ┆ --- ┆ --- ┆ --- ┆ --- ┆ --- ┆ --- ┆ --- ┆ --- ┆ --- ┆ --- ┆        │\n",
       "│     ┆ f64 ┆ f64 ┆ f64 ┆ f64 ┆ f64 ┆ f64 ┆ f64 ┆ f64 ┆ f64 ┆ f64 ┆ f64 ┆ f64 ┆ f64 ┆ f64 ┆        │\n",
       "╞═════╪═════╪═════╪═════╪═════╪═════╪═════╪═════╪═════╪═════╪═════╪═════╪═════╪═════╪═════╪════════╡\n",
       "│ AD1 ┆ 866 ┆ 106 ┆ 128 ┆ 149 ┆ 165 ┆ 609 ┆ 695 ┆ 779 ┆ 846 ┆ 886 ┆ 933 ┆ 109 ┆ 126 ┆ 145 ┆ 1641.0 │\n",
       "│ _20 ┆ 5.0 ┆ 86. ┆ 56. ┆ 12. ┆ 10. ┆ 3.8 ┆ 8.0 ┆ 1.2 ┆ 7.3 ┆ 1.6 ┆ .65 ┆ 3.0 ┆ 8.8 ┆ 4.1 ┆ 65066  │\n",
       "│ 01_ ┆ 538 ┆ 046 ┆ 830 ┆ 848 ┆ 614 ┆ 862 ┆ 958 ┆ 010 ┆ 532 ┆ 656 ┆ 407 ┆ 912 ┆ 133 ┆ 612 ┆        │\n",
       "│ _Li ┆ 19  ┆ 875 ┆ 729 ┆ 958 ┆ 583 ┆ 28  ┆ 08  ┆ 98  ┆ 93  ┆ 69  ┆ 5   ┆ 19  ┆ 92  ┆ 13  ┆        │\n",
       "│ ow  ┆     ┆     ┆     ┆     ┆     ┆     ┆     ┆     ┆     ┆     ┆     ┆     ┆     ┆     ┆        │\n",
       "│ 1   ┆     ┆     ┆     ┆     ┆     ┆     ┆     ┆     ┆     ┆     ┆     ┆     ┆     ┆     ┆        │\n",
       "│ 1   ┆     ┆     ┆     ┆     ┆     ┆     ┆     ┆     ┆     ┆     ┆     ┆     ┆     ┆     ┆        │\n",
       "│ AD1 ┆ 113 ┆ 124 ┆ 133 ┆ 138 ┆ 136 ┆ 726 ┆ 827 ┆ 927 ┆ 101 ┆ 107 ┆ 940 ┆ 110 ┆ 127 ┆ 146 ┆ 1653.9 │\n",
       "│ _20 ┆ 1.0 ┆ 5.1 ┆ 6.2 ┆ 1.4 ┆ 2.4 ┆ 2.8 ┆ 3.2 ┆ 1.0 ┆ 34. ┆ 51. ┆ .37 ┆ 1.2 ┆ 8.4 ┆ 5.4 ┆ 69848  │\n",
       "│ 01_ ┆ 900 ┆ 231 ┆ 007 ┆ 822 ┆ 759 ┆ 509 ┆ 409 ┆ 363 ┆ 848 ┆ 494 ┆ 319 ┆ 129 ┆ 877 ┆ 535 ┆        │\n",
       "│ _Li ┆ 88  ┆ 28  ┆ 65  ┆ 59  ┆ 93  ┆ 62  ┆ 19  ┆ 25  ┆ 291 ┆ 658 ┆ 5   ┆ 81  ┆ 99  ┆ 58  ┆        │\n",
       "│ ow  ┆     ┆     ┆     ┆     ┆     ┆     ┆     ┆     ┆     ┆     ┆     ┆     ┆     ┆     ┆        │\n",
       "│ 1   ┆     ┆     ┆     ┆     ┆     ┆     ┆     ┆     ┆     ┆     ┆     ┆     ┆     ┆     ┆        │\n",
       "│ 2   ┆     ┆     ┆     ┆     ┆     ┆     ┆     ┆     ┆     ┆     ┆     ┆     ┆     ┆     ┆        │\n",
       "│ AD1 ┆ 497 ┆ 545 ┆ 583 ┆ 600 ┆ 589 ┆ 635 ┆ 737 ┆ 845 ┆ 950 ┆ 104 ┆ 898 ┆ 105 ┆ 121 ┆ 138 ┆ 1562.3 │\n",
       "│ _20 ┆ 9.7 ┆ 7.9 ┆ 1.0 ┆ 0.9 ┆ 0.3 ┆ 4.0 ┆ 3.5 ┆ 2.0 ┆ 3.3 ┆ 38. ┆ .96 ┆ 0.3 ┆ 6.1 ┆ 9.4 ┆ 16572  │\n",
       "│ 01_ ┆ 291 ┆ 687 ┆ 399 ┆ 279 ┆ 593 ┆ 870 ┆ 918 ┆ 870 ┆ 665 ┆ 625 ┆ 231 ┆ 024 ┆ 230 ┆ 975 ┆        │\n",
       "│ _Li ┆ 67  ┆ 5   ┆ 31  ┆ 51  ┆ 75  ┆ 41  ┆ 76  ┆ 41  ┆ 38  ┆ 725 ┆ 9   ┆ 34  ┆ 64  ┆ 41  ┆        │\n",
       "│ ow  ┆     ┆     ┆     ┆     ┆     ┆     ┆     ┆     ┆     ┆     ┆     ┆     ┆     ┆     ┆        │\n",
       "│ 1   ┆     ┆     ┆     ┆     ┆     ┆     ┆     ┆     ┆     ┆     ┆     ┆     ┆     ┆     ┆        │\n",
       "│ 3   ┆     ┆     ┆     ┆     ┆     ┆     ┆     ┆     ┆     ┆     ┆     ┆     ┆     ┆     ┆        │\n",
       "│ AD1 ┆ 433 ┆ 488 ┆ 537 ┆ 569 ┆ 575 ┆ 644 ┆ 729 ┆ 809 ┆ 873 ┆ 909 ┆ 951 ┆ 111 ┆ 129 ┆ 148 ┆ 1680.2 │\n",
       "│ _20 ┆ 2.8 ┆ 8.9 ┆ 6.2 ┆ 4.3 ┆ 1.6 ┆ 0.7 ┆ 2.8 ┆ 9.8 ┆ 8.1 ┆ 2.5 ┆ .24 ┆ 4.7 ┆ 5.3 ┆ 6.5 ┆ 02951  │\n",
       "│ 01_ ┆ 836 ┆ 427 ┆ 569 ┆ 038 ┆ 302 ┆ 152 ┆ 907 ┆ 675 ┆ 479 ┆ 860 ┆ 490 ┆ 579 ┆ 947 ┆ 776 ┆        │\n",
       "│ _Li ┆ 81  ┆ 08  ┆ 44  ┆ 19  ┆ 08  ┆ 32  ┆ 28  ┆ 5   ┆ 03  ┆ 93  ┆ 1   ┆ 22  ┆ 4   ┆ 78  ┆        │\n",
       "│ ow  ┆     ┆     ┆     ┆     ┆     ┆     ┆     ┆     ┆     ┆     ┆     ┆     ┆     ┆     ┆        │\n",
       "│ 1   ┆     ┆     ┆     ┆     ┆     ┆     ┆     ┆     ┆     ┆     ┆     ┆     ┆     ┆     ┆        │\n",
       "│ 4   ┆     ┆     ┆     ┆     ┆     ┆     ┆     ┆     ┆     ┆     ┆     ┆     ┆     ┆     ┆        │\n",
       "│ AD1 ┆ 846 ┆ 931 ┆ 999 ┆ 103 ┆ 101 ┆ 674 ┆ 751 ┆ 817 ┆ 857 ┆ 860 ┆ 979 ┆ 114 ┆ 133 ┆ 153 ┆ 1742.8 │\n",
       "│ _20 ┆ 5.1 ┆ 8.0 ┆ 8.7 ┆ 36. ┆ 92. ┆ 8.1 ┆ 5.0 ┆ 2.8 ┆ 8.6 ┆ 6.2 ┆ .92 ┆ 9.9 ┆ 8.4 ┆ 8.7 ┆ 33948  │\n",
       "│ 01_ ┆ 582 ┆ 253 ┆ 389 ┆ 432 ┆ 906 ┆ 657 ┆ 623 ┆ 505 ┆ 869 ┆ 698 ┆ 948 ┆ 678 ┆ 086 ┆ 645 ┆        │\n",
       "│ _Li ┆ 03  ┆ 91  ┆ 32  ┆ 943 ┆ 25  ┆ 22  ┆ 23  ┆ 67  ┆ 69  ┆ 3   ┆ 4   ┆ 69  ┆ 12  ┆ 51  ┆        │\n",
       "│ ow  ┆     ┆     ┆     ┆     ┆     ┆     ┆     ┆     ┆     ┆     ┆     ┆     ┆     ┆     ┆        │\n",
       "│ 1   ┆     ┆     ┆     ┆     ┆     ┆     ┆     ┆     ┆     ┆     ┆     ┆     ┆     ┆     ┆        │\n",
       "│ 5   ┆     ┆     ┆     ┆     ┆     ┆     ┆     ┆     ┆     ┆     ┆     ┆     ┆     ┆     ┆        │\n",
       "└─────┴─────┴─────┴─────┴─────┴─────┴─────┴─────┴─────┴─────┴─────┴─────┴─────┴─────┴─────┴────────┘"
      ]
     },
     "execution_count": 237,
     "metadata": {},
     "output_type": "execute_result"
    }
   ],
   "source": [
    "df_pop_density.head()"
   ]
  },
  {
   "cell_type": "code",
   "execution_count": 238,
   "metadata": {
    "tags": []
   },
   "outputs": [],
   "source": [
    "# Split the dataframe to one for each resolution\n",
    "df_pop_1km = df_pop_density.select([pl.col(\"SSBS\"), pl.col(\"^.*1km.*$\")]).rename(\n",
    "    lambda col: col if col == \"SSBS\" else col[-4:]\n",
    ")\n",
    "\n",
    "df_pop_10km = df_pop_density.select([pl.col(\"SSBS\"), pl.col(\"^.*10km.*$\")]).rename(\n",
    "    lambda col: col if col == \"SSBS\" else col[-4:]\n",
    ")\n",
    "\n",
    "df_pop_50km = df_pop_density.select([pl.col(\"SSBS\"), pl.col(\"^.*50km.*$\")]).rename(\n",
    "    lambda col: col if col == \"SSBS\" else col[-4:]\n",
    ")"
   ]
  },
  {
   "cell_type": "code",
   "execution_count": 239,
   "metadata": {
    "tags": []
   },
   "outputs": [
    {
     "data": {
      "text/html": [
       "<div><style>\n",
       ".dataframe > thead > tr,\n",
       ".dataframe > tbody > tr {\n",
       "  text-align: right;\n",
       "  white-space: pre-wrap;\n",
       "}\n",
       "</style>\n",
       "<small>shape: (5, 6)</small><table border=\"1\" class=\"dataframe\"><thead><tr><th>SSBS</th><th>2000</th><th>2005</th><th>2010</th><th>2015</th><th>2020</th></tr><tr><td>str</td><td>f64</td><td>f64</td><td>f64</td><td>f64</td><td>f64</td></tr></thead><tbody><tr><td>&quot;AD1_2001__Liow…</td><td>8665.053819</td><td>10686.046875</td><td>12856.830729</td><td>14912.848958</td><td>16510.614583</td></tr><tr><td>&quot;AD1_2001__Liow…</td><td>1131.090088</td><td>1245.123128</td><td>1336.200765</td><td>1381.482259</td><td>1362.475993</td></tr><tr><td>&quot;AD1_2001__Liow…</td><td>4979.729167</td><td>5457.96875</td><td>5831.039931</td><td>6000.927951</td><td>5890.359375</td></tr><tr><td>&quot;AD1_2001__Liow…</td><td>4332.883681</td><td>4888.942708</td><td>5376.256944</td><td>5694.303819</td><td>5751.630208</td></tr><tr><td>&quot;AD1_2001__Liow…</td><td>8465.158203</td><td>9318.025391</td><td>9998.738932</td><td>10336.432943</td><td>10192.90625</td></tr></tbody></table></div>"
      ],
      "text/plain": [
       "shape: (5, 6)\n",
       "┌─────────────────────┬─────────────┬──────────────┬──────────────┬──────────────┬──────────────┐\n",
       "│ SSBS                ┆ 2000        ┆ 2005         ┆ 2010         ┆ 2015         ┆ 2020         │\n",
       "│ ---                 ┆ ---         ┆ ---          ┆ ---          ┆ ---          ┆ ---          │\n",
       "│ str                 ┆ f64         ┆ f64          ┆ f64          ┆ f64          ┆ f64          │\n",
       "╞═════════════════════╪═════════════╪══════════════╪══════════════╪══════════════╪══════════════╡\n",
       "│ AD1_2001__Liow 1  1 ┆ 8665.053819 ┆ 10686.046875 ┆ 12856.830729 ┆ 14912.848958 ┆ 16510.614583 │\n",
       "│ AD1_2001__Liow 1  2 ┆ 1131.090088 ┆ 1245.123128  ┆ 1336.200765  ┆ 1381.482259  ┆ 1362.475993  │\n",
       "│ AD1_2001__Liow 1  3 ┆ 4979.729167 ┆ 5457.96875   ┆ 5831.039931  ┆ 6000.927951  ┆ 5890.359375  │\n",
       "│ AD1_2001__Liow 1  4 ┆ 4332.883681 ┆ 4888.942708  ┆ 5376.256944  ┆ 5694.303819  ┆ 5751.630208  │\n",
       "│ AD1_2001__Liow 1  5 ┆ 8465.158203 ┆ 9318.025391  ┆ 9998.738932  ┆ 10336.432943 ┆ 10192.90625  │\n",
       "└─────────────────────┴─────────────┴──────────────┴──────────────┴──────────────┴──────────────┘"
      ]
     },
     "execution_count": 239,
     "metadata": {},
     "output_type": "execute_result"
    }
   ],
   "source": [
    "df_pop_1km.head()"
   ]
  },
  {
   "cell_type": "code",
   "execution_count": 240,
   "metadata": {
    "tags": []
   },
   "outputs": [],
   "source": [
    "def population_density_interpolation(df, resolution):\n",
    "\n",
    "    # Define intervals and years to interpolate\n",
    "    intervals = [(1984, 2000), (2000, 2005), (2005, 2010), (2010, 2015), (2015, 2020)]\n",
    "\n",
    "    # Function to calculate growth rate\n",
    "    def _calculate_growth_rate(df, start_year, end_year):\n",
    "        return np.log(df[str(end_year)] / df[str(start_year)]) / (end_year - start_year)\n",
    "\n",
    "    # Extrapolate back to 1984 using the growth rate from 2000 to 2005\n",
    "    r_2000_2005 = _calculate_growth_rate(df, 2000, 2005)\n",
    "    df = df.with_columns(\n",
    "        (df[\"2000\"] * np.exp(r_2000_2005 * (1984 - 2000))).alias(\"1984\")\n",
    "    )\n",
    "\n",
    "    # Loop through each interval to calculate growth rates and interpolate\n",
    "    for start_year, end_year in intervals:\n",
    "        r = _calculate_growth_rate(df, start_year, end_year)\n",
    "        for year in range(start_year, end_year + 1):\n",
    "            if year not in df.columns:\n",
    "                df = df.with_columns(\n",
    "                    (df[str(start_year)] * np.exp(r * (year - start_year))).alias(\n",
    "                        str(year)\n",
    "                    )\n",
    "                )\n",
    "\n",
    "    # Reorder the columns to have them in chronological order\n",
    "    df = df[[\"SSBS\"] + sorted(df.columns[1:], key=int)]\n",
    "\n",
    "    # Melt dataframe to go from wide to long format\n",
    "    df = df.melt(\n",
    "        id_vars=[\"SSBS\"],\n",
    "        value_vars=df.columns[1:],\n",
    "        variable_name=\"Year\",\n",
    "        value_name=f\"Pop_density_{resolution}\",\n",
    "    ).sort([\"SSBS\", \"Year\"])\n",
    "\n",
    "    # Convert to datetime format\n",
    "    df = df.with_columns(pl.col(\"Year\").str.strptime(pl.Datetime, \"%Y\").dt.year())\n",
    "\n",
    "    return df"
   ]
  },
  {
   "cell_type": "code",
   "execution_count": 241,
   "metadata": {
    "tags": []
   },
   "outputs": [
    {
     "data": {
      "text/html": [
       "<div><style>\n",
       ".dataframe > thead > tr,\n",
       ".dataframe > tbody > tr {\n",
       "  text-align: right;\n",
       "  white-space: pre-wrap;\n",
       "}\n",
       "</style>\n",
       "<small>shape: (5, 3)</small><table border=\"1\" class=\"dataframe\"><thead><tr><th>SSBS</th><th>Year</th><th>Pop_density_1km</th></tr><tr><td>str</td><td>i32</td><td>f64</td></tr></thead><tbody><tr><td>&quot;AD1_2001__Liow…</td><td>1984</td><td>4430.213653</td></tr><tr><td>&quot;AD1_2001__Liow…</td><td>1985</td><td>4619.913384</td></tr><tr><td>&quot;AD1_2001__Liow…</td><td>1986</td><td>4817.73597</td></tr><tr><td>&quot;AD1_2001__Liow…</td><td>1987</td><td>5024.02923</td></tr><tr><td>&quot;AD1_2001__Liow…</td><td>1988</td><td>5239.155872</td></tr></tbody></table></div>"
      ],
      "text/plain": [
       "shape: (5, 3)\n",
       "┌─────────────────────┬──────┬─────────────────┐\n",
       "│ SSBS                ┆ Year ┆ Pop_density_1km │\n",
       "│ ---                 ┆ ---  ┆ ---             │\n",
       "│ str                 ┆ i32  ┆ f64             │\n",
       "╞═════════════════════╪══════╪═════════════════╡\n",
       "│ AD1_2001__Liow 1  1 ┆ 1984 ┆ 4430.213653     │\n",
       "│ AD1_2001__Liow 1  1 ┆ 1985 ┆ 4619.913384     │\n",
       "│ AD1_2001__Liow 1  1 ┆ 1986 ┆ 4817.73597      │\n",
       "│ AD1_2001__Liow 1  1 ┆ 1987 ┆ 5024.02923      │\n",
       "│ AD1_2001__Liow 1  1 ┆ 1988 ┆ 5239.155872     │\n",
       "└─────────────────────┴──────┴─────────────────┘"
      ]
     },
     "execution_count": 241,
     "metadata": {},
     "output_type": "execute_result"
    }
   ],
   "source": [
    "df_pop_1km = population_density_interpolation(df_pop_1km, resolution=\"1km\")\n",
    "df_pop_10km = population_density_interpolation(df_pop_10km, resolution=\"10km\")\n",
    "df_pop_50km = population_density_interpolation(df_pop_50km, resolution=\"50km\")\n",
    "df_pop_1km.head()"
   ]
  },
  {
   "cell_type": "code",
   "execution_count": 242,
   "metadata": {
    "tags": []
   },
   "outputs": [],
   "source": [
    "# Convert to datetime format\n",
    "df_predicts_roads = df_predicts_roads.with_columns(\n",
    "    pl.col(\"Sample_midpoint\").str.to_datetime(\"%Y-%m-%d\")\n",
    ")\n",
    "\n",
    "# Extract the year information\n",
    "df_predicts_roads = df_predicts_roads.with_columns(\n",
    "    pl.col(\"Sample_midpoint\").dt.year().alias(\"Sample_year\")\n",
    ")"
   ]
  },
  {
   "cell_type": "code",
   "execution_count": 243,
   "metadata": {
    "tags": []
   },
   "outputs": [],
   "source": [
    "# Join the population densities of the year matching the sample year\n",
    "df_all = df_predicts_roads.clone()\n",
    "for df in [df_pop_1km, df_pop_10km, df_pop_50km]:\n",
    "    df_all = df_all.join(\n",
    "        df,\n",
    "        how=\"left\",\n",
    "        left_on=[\"SSBS\", \"Sample_year\"],\n",
    "        right_on=[\"SSBS\", \"Year\"],\n",
    "    )"
   ]
  },
  {
   "cell_type": "code",
   "execution_count": 244,
   "metadata": {
    "tags": []
   },
   "outputs": [
    {
     "data": {
      "text/html": [
       "<div><style>\n",
       ".dataframe > thead > tr,\n",
       ".dataframe > tbody > tr {\n",
       "  text-align: right;\n",
       "  white-space: pre-wrap;\n",
       "}\n",
       "</style>\n",
       "<small>shape: (5, 42)</small><table border=\"1\" class=\"dataframe\"><thead><tr><th>SS</th><th>SSB</th><th>SSBS</th><th>Longitude</th><th>Latitude</th><th>Country</th><th>UN_region</th><th>UN_subregion</th><th>Realm</th><th>Biome</th><th>Ecoregion</th><th>Wilderness_area</th><th>Hotspot</th><th>Sample_midpoint</th><th>Sampling_method</th><th>Sampling_effort</th><th>Rescaled_sampling_effort</th><th>Max_linear_extent_metres</th><th>Taxon_name_entered</th><th>COL_ID</th><th>Kingdom</th><th>Phylum</th><th>Class</th><th>Order</th><th>Family</th><th>Genus</th><th>Species</th><th>Diversity_metric_type</th><th>Measurement</th><th>Effort_corrected_measurement</th><th>Predominant_land_use</th><th>Use_intensity</th><th>Habitat_patch_area_square_metres</th><th>Km_to_nearest_edge_of_habitat</th><th>Years_since_fragmentation_or_conversion</th><th>Road_density_1km</th><th>Road_density_10km</th><th>Road_density_50km</th><th>Sample_year</th><th>Pop_density_1km</th><th>Pop_density_10km</th><th>Pop_density_50km</th></tr><tr><td>str</td><td>str</td><td>str</td><td>f64</td><td>f64</td><td>str</td><td>str</td><td>str</td><td>str</td><td>str</td><td>str</td><td>str</td><td>str</td><td>datetime[μs]</td><td>str</td><td>f64</td><td>f64</td><td>f64</td><td>str</td><td>f64</td><td>str</td><td>str</td><td>str</td><td>str</td><td>str</td><td>str</td><td>str</td><td>str</td><td>f64</td><td>f64</td><td>str</td><td>str</td><td>str</td><td>str</td><td>f64</td><td>f64</td><td>f64</td><td>f64</td><td>i32</td><td>f64</td><td>f64</td><td>f64</td></tr></thead><tbody><tr><td>&quot;AD1_2008__Bill…</td><td>&quot;AD1_2008__Bill…</td><td>&quot;AD1_2008__Bill…</td><td>-1.590365</td><td>48.472153</td><td>&quot;France&quot;</td><td>&quot;Europe&quot;</td><td>&quot;Western Europe…</td><td>&quot;Palearctic&quot;</td><td>&quot;Temperate Broa…</td><td>&quot;Atlantic Mixed…</td><td>null</td><td>null</td><td>2002-07-02 00:00:00</td><td>&quot;flight trap&quot;</td><td>5.0</td><td>1.0</td><td>1414.214</td><td>&quot;Lasioglossum m…</td><td>6.967008e6</td><td>&quot;Animalia&quot;</td><td>&quot;Arthropoda&quot;</td><td>&quot;Insecta&quot;</td><td>&quot;Hymenoptera&quot;</td><td>&quot;Halictidae&quot;</td><td>&quot;Lasioglossum&quot;</td><td>&quot;morio&quot;</td><td>&quot;Abundance&quot;</td><td>0.0</td><td>0.0</td><td>&quot;Cropland&quot;</td><td>&quot;Minimal use&quot;</td><td>null</td><td>null</td><td>13.5</td><td>419.89974</td><td>437683.782299</td><td>1.0687e7</td><td>2002</td><td>34.898771</td><td>47.860182</td><td>125.423294</td></tr><tr><td>&quot;AD1_2008__Bill…</td><td>&quot;AD1_2008__Bill…</td><td>&quot;AD1_2008__Bill…</td><td>-1.590365</td><td>48.472153</td><td>&quot;France&quot;</td><td>&quot;Europe&quot;</td><td>&quot;Western Europe…</td><td>&quot;Palearctic&quot;</td><td>&quot;Temperate Broa…</td><td>&quot;Atlantic Mixed…</td><td>null</td><td>null</td><td>2002-07-02 00:00:00</td><td>&quot;flight trap&quot;</td><td>5.0</td><td>1.0</td><td>1414.214</td><td>&quot;Lasioglossum p…</td><td>6.967187e6</td><td>&quot;Animalia&quot;</td><td>&quot;Arthropoda&quot;</td><td>&quot;Insecta&quot;</td><td>&quot;Hymenoptera&quot;</td><td>&quot;Halictidae&quot;</td><td>&quot;Lasioglossum&quot;</td><td>&quot;pauxillum&quot;</td><td>&quot;Abundance&quot;</td><td>0.0</td><td>0.0</td><td>&quot;Cropland&quot;</td><td>&quot;Minimal use&quot;</td><td>null</td><td>null</td><td>13.5</td><td>419.89974</td><td>437683.782299</td><td>1.0687e7</td><td>2002</td><td>34.898771</td><td>47.860182</td><td>125.423294</td></tr><tr><td>&quot;AD1_2008__Bill…</td><td>&quot;AD1_2008__Bill…</td><td>&quot;AD1_2008__Bill…</td><td>-1.610663</td><td>48.540593</td><td>&quot;France&quot;</td><td>&quot;Europe&quot;</td><td>&quot;Western Europe…</td><td>&quot;Palearctic&quot;</td><td>&quot;Temperate Broa…</td><td>&quot;Atlantic Mixed…</td><td>null</td><td>null</td><td>2002-07-02 00:00:00</td><td>&quot;flight trap&quot;</td><td>5.0</td><td>1.0</td><td>1414.214</td><td>&quot;Andrena helvol…</td><td>6.960605e6</td><td>&quot;Animalia&quot;</td><td>&quot;Arthropoda&quot;</td><td>&quot;Insecta&quot;</td><td>&quot;Hymenoptera&quot;</td><td>&quot;Andrenidae&quot;</td><td>&quot;Andrena&quot;</td><td>&quot;helvola&quot;</td><td>&quot;Abundance&quot;</td><td>0.0</td><td>0.0</td><td>&quot;Cropland&quot;</td><td>&quot;Light use&quot;</td><td>null</td><td>null</td><td>63.5</td><td>810.058171</td><td>436846.596911</td><td>1.0873e7</td><td>2002</td><td>52.808231</td><td>54.903219</td><td>120.921166</td></tr><tr><td>&quot;AD1_2008__Bill…</td><td>&quot;AD1_2008__Bill…</td><td>&quot;AD1_2008__Bill…</td><td>-1.610663</td><td>48.540593</td><td>&quot;France&quot;</td><td>&quot;Europe&quot;</td><td>&quot;Western Europe…</td><td>&quot;Palearctic&quot;</td><td>&quot;Temperate Broa…</td><td>&quot;Atlantic Mixed…</td><td>null</td><td>null</td><td>2002-07-02 00:00:00</td><td>&quot;flight trap&quot;</td><td>5.0</td><td>1.0</td><td>1414.214</td><td>&quot;Andrena ovatul…</td><td>6.960904e6</td><td>&quot;Animalia&quot;</td><td>&quot;Arthropoda&quot;</td><td>&quot;Insecta&quot;</td><td>&quot;Hymenoptera&quot;</td><td>&quot;Andrenidae&quot;</td><td>&quot;Andrena&quot;</td><td>&quot;ovatula&quot;</td><td>&quot;Abundance&quot;</td><td>0.0</td><td>0.0</td><td>&quot;Cropland&quot;</td><td>&quot;Light use&quot;</td><td>null</td><td>null</td><td>63.5</td><td>810.058171</td><td>436846.596911</td><td>1.0873e7</td><td>2002</td><td>52.808231</td><td>54.903219</td><td>120.921166</td></tr><tr><td>&quot;AD1_2008__Bill…</td><td>&quot;AD1_2008__Bill…</td><td>&quot;AD1_2008__Bill…</td><td>-1.610663</td><td>48.540593</td><td>&quot;France&quot;</td><td>&quot;Europe&quot;</td><td>&quot;Western Europe…</td><td>&quot;Palearctic&quot;</td><td>&quot;Temperate Broa…</td><td>&quot;Atlantic Mixed…</td><td>null</td><td>null</td><td>2002-07-02 00:00:00</td><td>&quot;flight trap&quot;</td><td>5.0</td><td>1.0</td><td>1414.214</td><td>&quot;Andrena spinig…</td><td>1.3049592e7</td><td>&quot;Animalia&quot;</td><td>&quot;Arthropoda&quot;</td><td>&quot;Insecta&quot;</td><td>&quot;Hymenoptera&quot;</td><td>&quot;Andrenidae&quot;</td><td>&quot;Andrena&quot;</td><td>null</td><td>&quot;Abundance&quot;</td><td>0.0</td><td>0.0</td><td>&quot;Cropland&quot;</td><td>&quot;Light use&quot;</td><td>null</td><td>null</td><td>63.5</td><td>810.058171</td><td>436846.596911</td><td>1.0873e7</td><td>2002</td><td>52.808231</td><td>54.903219</td><td>120.921166</td></tr></tbody></table></div>"
      ],
      "text/plain": [
       "shape: (5, 42)\n",
       "┌─────┬─────┬─────┬─────┬─────┬─────┬─────┬─────┬─────┬─────┬─────┬─────┬─────┬─────┬─────┬─────┬─────┬─────┬─────┬─────┬─────┬─────┬─────┬─────┬─────┬─────┬─────┬─────┬─────┬─────┬─────┬─────┬─────┬─────┬─────┬─────┬─────┬─────┬─────┬─────┬─────┬─────┐\n",
       "│ SS  ┆ SSB ┆ SSB ┆ Lon ┆ Lat ┆ Cou ┆ UN_ ┆ UN_ ┆ Rea ┆ Bio ┆ Eco ┆ Wil ┆ Hot ┆ Sam ┆ Sam ┆ Sam ┆ Res ┆ Max ┆ Tax ┆ COL ┆ Kin ┆ Phy ┆ Cla ┆ Ord ┆ Fam ┆ Gen ┆ Spe ┆ Div ┆ Mea ┆ Eff ┆ Pre ┆ Use ┆ Hab ┆ Km_ ┆ Yea ┆ Roa ┆ Roa ┆ Roa ┆ Sam ┆ Pop ┆ Pop ┆ Pop │\n",
       "│ --- ┆ --- ┆ S   ┆ git ┆ itu ┆ ntr ┆ reg ┆ sub ┆ lm  ┆ me  ┆ reg ┆ der ┆ spo ┆ ple ┆ pli ┆ pli ┆ cal ┆ _li ┆ on_ ┆ _ID ┆ gdo ┆ lum ┆ ss  ┆ er  ┆ ily ┆ us  ┆ cie ┆ ers ┆ sur ┆ ort ┆ dom ┆ _in ┆ ita ┆ to_ ┆ rs_ ┆ d_d ┆ d_d ┆ d_d ┆ ple ┆ _de ┆ _de ┆ _de │\n",
       "│ str ┆ str ┆ --- ┆ ude ┆ de  ┆ y   ┆ ion ┆ reg ┆ --- ┆ --- ┆ ion ┆ nes ┆ t   ┆ _mi ┆ ng_ ┆ ng_ ┆ ed_ ┆ nea ┆ nam ┆ --- ┆ m   ┆ --- ┆ --- ┆ --- ┆ --- ┆ --- ┆ s   ┆ ity ┆ eme ┆ _co ┆ ina ┆ ten ┆ t_p ┆ nea ┆ sin ┆ ens ┆ ens ┆ ens ┆ _ye ┆ nsi ┆ nsi ┆ nsi │\n",
       "│     ┆     ┆ str ┆ --- ┆ --- ┆ --- ┆ --- ┆ ion ┆ str ┆ str ┆ --- ┆ s_a ┆ --- ┆ dpo ┆ met ┆ eff ┆ sam ┆ r_e ┆ e_e ┆ f64 ┆ --- ┆ str ┆ str ┆ str ┆ str ┆ str ┆ --- ┆ _me ┆ nt  ┆ rre ┆ nt_ ┆ sit ┆ atc ┆ res ┆ ce_ ┆ ity ┆ ity ┆ ity ┆ ar  ┆ ty_ ┆ ty_ ┆ ty_ │\n",
       "│     ┆     ┆     ┆ f64 ┆ f64 ┆ str ┆ str ┆ --- ┆     ┆     ┆ str ┆ rea ┆ str ┆ int ┆ hod ┆ ort ┆ pli ┆ xte ┆ nte ┆     ┆ str ┆     ┆     ┆     ┆     ┆     ┆ str ┆ tri ┆ --- ┆ cte ┆ lan ┆ y   ┆ h_a ┆ t_e ┆ fra ┆ _1k ┆ _10 ┆ _50 ┆ --- ┆ 1km ┆ 10k ┆ 50k │\n",
       "│     ┆     ┆     ┆     ┆     ┆     ┆     ┆ str ┆     ┆     ┆     ┆ --- ┆     ┆ --- ┆ --- ┆ --- ┆ ng_ ┆ nt_ ┆ red ┆     ┆     ┆     ┆     ┆     ┆     ┆     ┆     ┆ c_t ┆ f64 ┆ d_m ┆ d_u ┆ --- ┆ rea ┆ dge ┆ gme ┆ m   ┆ km  ┆ km  ┆ i32 ┆ --- ┆ m   ┆ m   │\n",
       "│     ┆     ┆     ┆     ┆     ┆     ┆     ┆     ┆     ┆     ┆     ┆ str ┆     ┆ dat ┆ str ┆ f64 ┆ eff ┆ met ┆ --- ┆     ┆     ┆     ┆     ┆     ┆     ┆     ┆     ┆ ype ┆     ┆ eas ┆ se  ┆ str ┆ _sq ┆ _of ┆ nta ┆ --- ┆ --- ┆ --- ┆     ┆ f64 ┆ --- ┆ --- │\n",
       "│     ┆     ┆     ┆     ┆     ┆     ┆     ┆     ┆     ┆     ┆     ┆     ┆     ┆ eti ┆     ┆     ┆ ort ┆ res ┆ str ┆     ┆     ┆     ┆     ┆     ┆     ┆     ┆     ┆ --- ┆     ┆ ure ┆ --- ┆     ┆ uar ┆ _ha ┆ tio ┆ f64 ┆ f64 ┆ f64 ┆     ┆     ┆ f64 ┆ f64 │\n",
       "│     ┆     ┆     ┆     ┆     ┆     ┆     ┆     ┆     ┆     ┆     ┆     ┆     ┆ me[ ┆     ┆     ┆ --- ┆ --- ┆     ┆     ┆     ┆     ┆     ┆     ┆     ┆     ┆     ┆ str ┆     ┆ men ┆ str ┆     ┆ e_m ┆ bit ┆ n_o ┆     ┆     ┆     ┆     ┆     ┆     ┆     │\n",
       "│     ┆     ┆     ┆     ┆     ┆     ┆     ┆     ┆     ┆     ┆     ┆     ┆     ┆ μs] ┆     ┆     ┆ f64 ┆ f64 ┆     ┆     ┆     ┆     ┆     ┆     ┆     ┆     ┆     ┆     ┆     ┆ t   ┆     ┆     ┆ etr ┆ at  ┆ r_c ┆     ┆     ┆     ┆     ┆     ┆     ┆     │\n",
       "│     ┆     ┆     ┆     ┆     ┆     ┆     ┆     ┆     ┆     ┆     ┆     ┆     ┆     ┆     ┆     ┆     ┆     ┆     ┆     ┆     ┆     ┆     ┆     ┆     ┆     ┆     ┆     ┆     ┆ --- ┆     ┆     ┆ es  ┆ --- ┆ on… ┆     ┆     ┆     ┆     ┆     ┆     ┆     │\n",
       "│     ┆     ┆     ┆     ┆     ┆     ┆     ┆     ┆     ┆     ┆     ┆     ┆     ┆     ┆     ┆     ┆     ┆     ┆     ┆     ┆     ┆     ┆     ┆     ┆     ┆     ┆     ┆     ┆     ┆ f64 ┆     ┆     ┆ --- ┆ str ┆ --- ┆     ┆     ┆     ┆     ┆     ┆     ┆     │\n",
       "│     ┆     ┆     ┆     ┆     ┆     ┆     ┆     ┆     ┆     ┆     ┆     ┆     ┆     ┆     ┆     ┆     ┆     ┆     ┆     ┆     ┆     ┆     ┆     ┆     ┆     ┆     ┆     ┆     ┆     ┆     ┆     ┆ str ┆     ┆ f64 ┆     ┆     ┆     ┆     ┆     ┆     ┆     │\n",
       "╞═════╪═════╪═════╪═════╪═════╪═════╪═════╪═════╪═════╪═════╪═════╪═════╪═════╪═════╪═════╪═════╪═════╪═════╪═════╪═════╪═════╪═════╪═════╪═════╪═════╪═════╪═════╪═════╪═════╪═════╪═════╪═════╪═════╪═════╪═════╪═════╪═════╪═════╪═════╪═════╪═════╪═════╡\n",
       "│ AD1 ┆ AD1 ┆ AD1 ┆ -1. ┆ 48. ┆ Fra ┆ Eur ┆ Wes ┆ Pal ┆ Tem ┆ Atl ┆ nul ┆ nul ┆ 200 ┆ fli ┆ 5.0 ┆ 1.0 ┆ 141 ┆ Las ┆ 6.9 ┆ Ani ┆ Art ┆ Ins ┆ Hym ┆ Hal ┆ Las ┆ mor ┆ Abu ┆ 0.0 ┆ 0.0 ┆ Cro ┆ Min ┆ nul ┆ nul ┆ 13. ┆ 419 ┆ 437 ┆ 1.0 ┆ 200 ┆ 34. ┆ 47. ┆ 125 │\n",
       "│ _20 ┆ _20 ┆ _20 ┆ 590 ┆ 472 ┆ nce ┆ ope ┆ ter ┆ ear ┆ per ┆ ant ┆ l   ┆ l   ┆ 2-0 ┆ ght ┆     ┆     ┆ 4.2 ┆ iog ┆ 670 ┆ mal ┆ hro ┆ ect ┆ eno ┆ ict ┆ iog ┆ io  ┆ nda ┆     ┆     ┆ pla ┆ ima ┆ l   ┆ l   ┆ 5   ┆ .89 ┆ 683 ┆ 687 ┆ 2   ┆ 898 ┆ 860 ┆ .42 │\n",
       "│ 08_ ┆ 08_ ┆ 08_ ┆ 365 ┆ 153 ┆     ┆     ┆ n   ┆ cti ┆ ate ┆ ic  ┆     ┆     ┆ 7-0 ┆ tra ┆     ┆     ┆ 14  ┆ los ┆ 08e ┆ ia  ┆ pod ┆ a   ┆ pte ┆ ida ┆ los ┆     ┆ nce ┆     ┆     ┆ nd  ┆ l   ┆     ┆     ┆     ┆ 974 ┆ .78 ┆ e7  ┆     ┆ 771 ┆ 182 ┆ 329 │\n",
       "│ _Bi ┆ _Bi ┆ _Bi ┆     ┆     ┆     ┆     ┆ Eur ┆ c   ┆ Bro ┆ Mix ┆     ┆     ┆ 2   ┆ p   ┆     ┆     ┆     ┆ sum ┆ 6   ┆     ┆ a   ┆     ┆ ra  ┆ e   ┆ sum ┆     ┆     ┆     ┆     ┆     ┆ use ┆     ┆     ┆     ┆     ┆ 229 ┆     ┆     ┆     ┆     ┆ 4   │\n",
       "│ lle ┆ lle ┆ lle ┆     ┆     ┆     ┆     ┆ ope ┆     ┆ adl ┆ ed  ┆     ┆     ┆ 00: ┆     ┆     ┆     ┆     ┆ mor ┆     ┆     ┆     ┆     ┆     ┆     ┆     ┆     ┆     ┆     ┆     ┆     ┆     ┆     ┆     ┆     ┆     ┆ 9   ┆     ┆     ┆     ┆     ┆     │\n",
       "│ ter ┆ ter ┆ ter ┆     ┆     ┆     ┆     ┆     ┆     ┆ eaf ┆ For ┆     ┆     ┆ 00: ┆     ┆     ┆     ┆     ┆ io  ┆     ┆     ┆     ┆     ┆     ┆     ┆     ┆     ┆     ┆     ┆     ┆     ┆     ┆     ┆     ┆     ┆     ┆     ┆     ┆     ┆     ┆     ┆     │\n",
       "│ 8   ┆ 8   ┆ 8   ┆     ┆     ┆     ┆     ┆     ┆     ┆ &   ┆ est ┆     ┆     ┆ 00  ┆     ┆     ┆     ┆     ┆     ┆     ┆     ┆     ┆     ┆     ┆     ┆     ┆     ┆     ┆     ┆     ┆     ┆     ┆     ┆     ┆     ┆     ┆     ┆     ┆     ┆     ┆     ┆     │\n",
       "│     ┆ F2  ┆ F2  ┆     ┆     ┆     ┆     ┆     ┆     ┆ Mix ┆ s   ┆     ┆     ┆     ┆     ┆     ┆     ┆     ┆     ┆     ┆     ┆     ┆     ┆     ┆     ┆     ┆     ┆     ┆     ┆     ┆     ┆     ┆     ┆     ┆     ┆     ┆     ┆     ┆     ┆     ┆     ┆     │\n",
       "│     ┆     ┆ 32  ┆     ┆     ┆     ┆     ┆     ┆     ┆ ed  ┆     ┆     ┆     ┆     ┆     ┆     ┆     ┆     ┆     ┆     ┆     ┆     ┆     ┆     ┆     ┆     ┆     ┆     ┆     ┆     ┆     ┆     ┆     ┆     ┆     ┆     ┆     ┆     ┆     ┆     ┆     ┆     │\n",
       "│     ┆     ┆     ┆     ┆     ┆     ┆     ┆     ┆     ┆ For ┆     ┆     ┆     ┆     ┆     ┆     ┆     ┆     ┆     ┆     ┆     ┆     ┆     ┆     ┆     ┆     ┆     ┆     ┆     ┆     ┆     ┆     ┆     ┆     ┆     ┆     ┆     ┆     ┆     ┆     ┆     ┆     │\n",
       "│     ┆     ┆     ┆     ┆     ┆     ┆     ┆     ┆     ┆ e…  ┆     ┆     ┆     ┆     ┆     ┆     ┆     ┆     ┆     ┆     ┆     ┆     ┆     ┆     ┆     ┆     ┆     ┆     ┆     ┆     ┆     ┆     ┆     ┆     ┆     ┆     ┆     ┆     ┆     ┆     ┆     ┆     │\n",
       "│ AD1 ┆ AD1 ┆ AD1 ┆ -1. ┆ 48. ┆ Fra ┆ Eur ┆ Wes ┆ Pal ┆ Tem ┆ Atl ┆ nul ┆ nul ┆ 200 ┆ fli ┆ 5.0 ┆ 1.0 ┆ 141 ┆ Las ┆ 6.9 ┆ Ani ┆ Art ┆ Ins ┆ Hym ┆ Hal ┆ Las ┆ pau ┆ Abu ┆ 0.0 ┆ 0.0 ┆ Cro ┆ Min ┆ nul ┆ nul ┆ 13. ┆ 419 ┆ 437 ┆ 1.0 ┆ 200 ┆ 34. ┆ 47. ┆ 125 │\n",
       "│ _20 ┆ _20 ┆ _20 ┆ 590 ┆ 472 ┆ nce ┆ ope ┆ ter ┆ ear ┆ per ┆ ant ┆ l   ┆ l   ┆ 2-0 ┆ ght ┆     ┆     ┆ 4.2 ┆ iog ┆ 671 ┆ mal ┆ hro ┆ ect ┆ eno ┆ ict ┆ iog ┆ xil ┆ nda ┆     ┆     ┆ pla ┆ ima ┆ l   ┆ l   ┆ 5   ┆ .89 ┆ 683 ┆ 687 ┆ 2   ┆ 898 ┆ 860 ┆ .42 │\n",
       "│ 08_ ┆ 08_ ┆ 08_ ┆ 365 ┆ 153 ┆     ┆     ┆ n   ┆ cti ┆ ate ┆ ic  ┆     ┆     ┆ 7-0 ┆ tra ┆     ┆     ┆ 14  ┆ los ┆ 87e ┆ ia  ┆ pod ┆ a   ┆ pte ┆ ida ┆ los ┆ lum ┆ nce ┆     ┆     ┆ nd  ┆ l   ┆     ┆     ┆     ┆ 974 ┆ .78 ┆ e7  ┆     ┆ 771 ┆ 182 ┆ 329 │\n",
       "│ _Bi ┆ _Bi ┆ _Bi ┆     ┆     ┆     ┆     ┆ Eur ┆ c   ┆ Bro ┆ Mix ┆     ┆     ┆ 2   ┆ p   ┆     ┆     ┆     ┆ sum ┆ 6   ┆     ┆ a   ┆     ┆ ra  ┆ e   ┆ sum ┆     ┆     ┆     ┆     ┆     ┆ use ┆     ┆     ┆     ┆     ┆ 229 ┆     ┆     ┆     ┆     ┆ 4   │\n",
       "│ lle ┆ lle ┆ lle ┆     ┆     ┆     ┆     ┆ ope ┆     ┆ adl ┆ ed  ┆     ┆     ┆ 00: ┆     ┆     ┆     ┆     ┆ pau ┆     ┆     ┆     ┆     ┆     ┆     ┆     ┆     ┆     ┆     ┆     ┆     ┆     ┆     ┆     ┆     ┆     ┆ 9   ┆     ┆     ┆     ┆     ┆     │\n",
       "│ ter ┆ ter ┆ ter ┆     ┆     ┆     ┆     ┆     ┆     ┆ eaf ┆ For ┆     ┆     ┆ 00: ┆     ┆     ┆     ┆     ┆ xil ┆     ┆     ┆     ┆     ┆     ┆     ┆     ┆     ┆     ┆     ┆     ┆     ┆     ┆     ┆     ┆     ┆     ┆     ┆     ┆     ┆     ┆     ┆     │\n",
       "│ 8   ┆ 8   ┆ 8   ┆     ┆     ┆     ┆     ┆     ┆     ┆ &   ┆ est ┆     ┆     ┆ 00  ┆     ┆     ┆     ┆     ┆ lum ┆     ┆     ┆     ┆     ┆     ┆     ┆     ┆     ┆     ┆     ┆     ┆     ┆     ┆     ┆     ┆     ┆     ┆     ┆     ┆     ┆     ┆     ┆     │\n",
       "│     ┆ F2  ┆ F2  ┆     ┆     ┆     ┆     ┆     ┆     ┆ Mix ┆ s   ┆     ┆     ┆     ┆     ┆     ┆     ┆     ┆     ┆     ┆     ┆     ┆     ┆     ┆     ┆     ┆     ┆     ┆     ┆     ┆     ┆     ┆     ┆     ┆     ┆     ┆     ┆     ┆     ┆     ┆     ┆     │\n",
       "│     ┆     ┆ 32  ┆     ┆     ┆     ┆     ┆     ┆     ┆ ed  ┆     ┆     ┆     ┆     ┆     ┆     ┆     ┆     ┆     ┆     ┆     ┆     ┆     ┆     ┆     ┆     ┆     ┆     ┆     ┆     ┆     ┆     ┆     ┆     ┆     ┆     ┆     ┆     ┆     ┆     ┆     ┆     │\n",
       "│     ┆     ┆     ┆     ┆     ┆     ┆     ┆     ┆     ┆ For ┆     ┆     ┆     ┆     ┆     ┆     ┆     ┆     ┆     ┆     ┆     ┆     ┆     ┆     ┆     ┆     ┆     ┆     ┆     ┆     ┆     ┆     ┆     ┆     ┆     ┆     ┆     ┆     ┆     ┆     ┆     ┆     │\n",
       "│     ┆     ┆     ┆     ┆     ┆     ┆     ┆     ┆     ┆ e…  ┆     ┆     ┆     ┆     ┆     ┆     ┆     ┆     ┆     ┆     ┆     ┆     ┆     ┆     ┆     ┆     ┆     ┆     ┆     ┆     ┆     ┆     ┆     ┆     ┆     ┆     ┆     ┆     ┆     ┆     ┆     ┆     │\n",
       "│ AD1 ┆ AD1 ┆ AD1 ┆ -1. ┆ 48. ┆ Fra ┆ Eur ┆ Wes ┆ Pal ┆ Tem ┆ Atl ┆ nul ┆ nul ┆ 200 ┆ fli ┆ 5.0 ┆ 1.0 ┆ 141 ┆ And ┆ 6.9 ┆ Ani ┆ Art ┆ Ins ┆ Hym ┆ And ┆ And ┆ hel ┆ Abu ┆ 0.0 ┆ 0.0 ┆ Cro ┆ Lig ┆ nul ┆ nul ┆ 63. ┆ 810 ┆ 436 ┆ 1.0 ┆ 200 ┆ 52. ┆ 54. ┆ 120 │\n",
       "│ _20 ┆ _20 ┆ _20 ┆ 610 ┆ 540 ┆ nce ┆ ope ┆ ter ┆ ear ┆ per ┆ ant ┆ l   ┆ l   ┆ 2-0 ┆ ght ┆     ┆     ┆ 4.2 ┆ ren ┆ 606 ┆ mal ┆ hro ┆ ect ┆ eno ┆ ren ┆ ren ┆ vol ┆ nda ┆     ┆     ┆ pla ┆ ht  ┆ l   ┆ l   ┆ 5   ┆ .05 ┆ 846 ┆ 873 ┆ 2   ┆ 808 ┆ 903 ┆ .92 │\n",
       "│ 08_ ┆ 08_ ┆ 08_ ┆ 663 ┆ 593 ┆     ┆     ┆ n   ┆ cti ┆ ate ┆ ic  ┆     ┆     ┆ 7-0 ┆ tra ┆     ┆     ┆ 14  ┆ a   ┆ 05e ┆ ia  ┆ pod ┆ a   ┆ pte ┆ ida ┆ a   ┆ a   ┆ nce ┆     ┆     ┆ nd  ┆ use ┆     ┆     ┆     ┆ 817 ┆ .59 ┆ e7  ┆     ┆ 231 ┆ 219 ┆ 116 │\n",
       "│ _Bi ┆ _Bi ┆ _Bi ┆     ┆     ┆     ┆     ┆ Eur ┆ c   ┆ Bro ┆ Mix ┆     ┆     ┆ 2   ┆ p   ┆     ┆     ┆     ┆ hel ┆ 6   ┆     ┆ a   ┆     ┆ ra  ┆ e   ┆     ┆     ┆     ┆     ┆     ┆     ┆     ┆     ┆     ┆     ┆ 1   ┆ 691 ┆     ┆     ┆     ┆     ┆ 6   │\n",
       "│ lle ┆ lle ┆ lle ┆     ┆     ┆     ┆     ┆ ope ┆     ┆ adl ┆ ed  ┆     ┆     ┆ 00: ┆     ┆     ┆     ┆     ┆ vol ┆     ┆     ┆     ┆     ┆     ┆     ┆     ┆     ┆     ┆     ┆     ┆     ┆     ┆     ┆     ┆     ┆     ┆ 1   ┆     ┆     ┆     ┆     ┆     │\n",
       "│ ter ┆ ter ┆ ter ┆     ┆     ┆     ┆     ┆     ┆     ┆ eaf ┆ For ┆     ┆     ┆ 00: ┆     ┆     ┆     ┆     ┆ a   ┆     ┆     ┆     ┆     ┆     ┆     ┆     ┆     ┆     ┆     ┆     ┆     ┆     ┆     ┆     ┆     ┆     ┆     ┆     ┆     ┆     ┆     ┆     │\n",
       "│ 8   ┆ 8   ┆ 8   ┆     ┆     ┆     ┆     ┆     ┆     ┆ &   ┆ est ┆     ┆     ┆ 00  ┆     ┆     ┆     ┆     ┆     ┆     ┆     ┆     ┆     ┆     ┆     ┆     ┆     ┆     ┆     ┆     ┆     ┆     ┆     ┆     ┆     ┆     ┆     ┆     ┆     ┆     ┆     ┆     │\n",
       "│     ┆ F3  ┆ F3  ┆     ┆     ┆     ┆     ┆     ┆     ┆ Mix ┆ s   ┆     ┆     ┆     ┆     ┆     ┆     ┆     ┆     ┆     ┆     ┆     ┆     ┆     ┆     ┆     ┆     ┆     ┆     ┆     ┆     ┆     ┆     ┆     ┆     ┆     ┆     ┆     ┆     ┆     ┆     ┆     │\n",
       "│     ┆     ┆ 33  ┆     ┆     ┆     ┆     ┆     ┆     ┆ ed  ┆     ┆     ┆     ┆     ┆     ┆     ┆     ┆     ┆     ┆     ┆     ┆     ┆     ┆     ┆     ┆     ┆     ┆     ┆     ┆     ┆     ┆     ┆     ┆     ┆     ┆     ┆     ┆     ┆     ┆     ┆     ┆     │\n",
       "│     ┆     ┆     ┆     ┆     ┆     ┆     ┆     ┆     ┆ For ┆     ┆     ┆     ┆     ┆     ┆     ┆     ┆     ┆     ┆     ┆     ┆     ┆     ┆     ┆     ┆     ┆     ┆     ┆     ┆     ┆     ┆     ┆     ┆     ┆     ┆     ┆     ┆     ┆     ┆     ┆     ┆     │\n",
       "│     ┆     ┆     ┆     ┆     ┆     ┆     ┆     ┆     ┆ e…  ┆     ┆     ┆     ┆     ┆     ┆     ┆     ┆     ┆     ┆     ┆     ┆     ┆     ┆     ┆     ┆     ┆     ┆     ┆     ┆     ┆     ┆     ┆     ┆     ┆     ┆     ┆     ┆     ┆     ┆     ┆     ┆     │\n",
       "│ AD1 ┆ AD1 ┆ AD1 ┆ -1. ┆ 48. ┆ Fra ┆ Eur ┆ Wes ┆ Pal ┆ Tem ┆ Atl ┆ nul ┆ nul ┆ 200 ┆ fli ┆ 5.0 ┆ 1.0 ┆ 141 ┆ And ┆ 6.9 ┆ Ani ┆ Art ┆ Ins ┆ Hym ┆ And ┆ And ┆ ova ┆ Abu ┆ 0.0 ┆ 0.0 ┆ Cro ┆ Lig ┆ nul ┆ nul ┆ 63. ┆ 810 ┆ 436 ┆ 1.0 ┆ 200 ┆ 52. ┆ 54. ┆ 120 │\n",
       "│ _20 ┆ _20 ┆ _20 ┆ 610 ┆ 540 ┆ nce ┆ ope ┆ ter ┆ ear ┆ per ┆ ant ┆ l   ┆ l   ┆ 2-0 ┆ ght ┆     ┆     ┆ 4.2 ┆ ren ┆ 609 ┆ mal ┆ hro ┆ ect ┆ eno ┆ ren ┆ ren ┆ tul ┆ nda ┆     ┆     ┆ pla ┆ ht  ┆ l   ┆ l   ┆ 5   ┆ .05 ┆ 846 ┆ 873 ┆ 2   ┆ 808 ┆ 903 ┆ .92 │\n",
       "│ 08_ ┆ 08_ ┆ 08_ ┆ 663 ┆ 593 ┆     ┆     ┆ n   ┆ cti ┆ ate ┆ ic  ┆     ┆     ┆ 7-0 ┆ tra ┆     ┆     ┆ 14  ┆ a   ┆ 04e ┆ ia  ┆ pod ┆ a   ┆ pte ┆ ida ┆ a   ┆ a   ┆ nce ┆     ┆     ┆ nd  ┆ use ┆     ┆     ┆     ┆ 817 ┆ .59 ┆ e7  ┆     ┆ 231 ┆ 219 ┆ 116 │\n",
       "│ _Bi ┆ _Bi ┆ _Bi ┆     ┆     ┆     ┆     ┆ Eur ┆ c   ┆ Bro ┆ Mix ┆     ┆     ┆ 2   ┆ p   ┆     ┆     ┆     ┆ ova ┆ 6   ┆     ┆ a   ┆     ┆ ra  ┆ e   ┆     ┆     ┆     ┆     ┆     ┆     ┆     ┆     ┆     ┆     ┆ 1   ┆ 691 ┆     ┆     ┆     ┆     ┆ 6   │\n",
       "│ lle ┆ lle ┆ lle ┆     ┆     ┆     ┆     ┆ ope ┆     ┆ adl ┆ ed  ┆     ┆     ┆ 00: ┆     ┆     ┆     ┆     ┆ tul ┆     ┆     ┆     ┆     ┆     ┆     ┆     ┆     ┆     ┆     ┆     ┆     ┆     ┆     ┆     ┆     ┆     ┆ 1   ┆     ┆     ┆     ┆     ┆     │\n",
       "│ ter ┆ ter ┆ ter ┆     ┆     ┆     ┆     ┆     ┆     ┆ eaf ┆ For ┆     ┆     ┆ 00: ┆     ┆     ┆     ┆     ┆ a   ┆     ┆     ┆     ┆     ┆     ┆     ┆     ┆     ┆     ┆     ┆     ┆     ┆     ┆     ┆     ┆     ┆     ┆     ┆     ┆     ┆     ┆     ┆     │\n",
       "│ 8   ┆ 8   ┆ 8   ┆     ┆     ┆     ┆     ┆     ┆     ┆ &   ┆ est ┆     ┆     ┆ 00  ┆     ┆     ┆     ┆     ┆     ┆     ┆     ┆     ┆     ┆     ┆     ┆     ┆     ┆     ┆     ┆     ┆     ┆     ┆     ┆     ┆     ┆     ┆     ┆     ┆     ┆     ┆     ┆     │\n",
       "│     ┆ F3  ┆ F3  ┆     ┆     ┆     ┆     ┆     ┆     ┆ Mix ┆ s   ┆     ┆     ┆     ┆     ┆     ┆     ┆     ┆     ┆     ┆     ┆     ┆     ┆     ┆     ┆     ┆     ┆     ┆     ┆     ┆     ┆     ┆     ┆     ┆     ┆     ┆     ┆     ┆     ┆     ┆     ┆     │\n",
       "│     ┆     ┆ 33  ┆     ┆     ┆     ┆     ┆     ┆     ┆ ed  ┆     ┆     ┆     ┆     ┆     ┆     ┆     ┆     ┆     ┆     ┆     ┆     ┆     ┆     ┆     ┆     ┆     ┆     ┆     ┆     ┆     ┆     ┆     ┆     ┆     ┆     ┆     ┆     ┆     ┆     ┆     ┆     │\n",
       "│     ┆     ┆     ┆     ┆     ┆     ┆     ┆     ┆     ┆ For ┆     ┆     ┆     ┆     ┆     ┆     ┆     ┆     ┆     ┆     ┆     ┆     ┆     ┆     ┆     ┆     ┆     ┆     ┆     ┆     ┆     ┆     ┆     ┆     ┆     ┆     ┆     ┆     ┆     ┆     ┆     ┆     │\n",
       "│     ┆     ┆     ┆     ┆     ┆     ┆     ┆     ┆     ┆ e…  ┆     ┆     ┆     ┆     ┆     ┆     ┆     ┆     ┆     ┆     ┆     ┆     ┆     ┆     ┆     ┆     ┆     ┆     ┆     ┆     ┆     ┆     ┆     ┆     ┆     ┆     ┆     ┆     ┆     ┆     ┆     ┆     │\n",
       "│ AD1 ┆ AD1 ┆ AD1 ┆ -1. ┆ 48. ┆ Fra ┆ Eur ┆ Wes ┆ Pal ┆ Tem ┆ Atl ┆ nul ┆ nul ┆ 200 ┆ fli ┆ 5.0 ┆ 1.0 ┆ 141 ┆ And ┆ 1.3 ┆ Ani ┆ Art ┆ Ins ┆ Hym ┆ And ┆ And ┆ nul ┆ Abu ┆ 0.0 ┆ 0.0 ┆ Cro ┆ Lig ┆ nul ┆ nul ┆ 63. ┆ 810 ┆ 436 ┆ 1.0 ┆ 200 ┆ 52. ┆ 54. ┆ 120 │\n",
       "│ _20 ┆ _20 ┆ _20 ┆ 610 ┆ 540 ┆ nce ┆ ope ┆ ter ┆ ear ┆ per ┆ ant ┆ l   ┆ l   ┆ 2-0 ┆ ght ┆     ┆     ┆ 4.2 ┆ ren ┆ 049 ┆ mal ┆ hro ┆ ect ┆ eno ┆ ren ┆ ren ┆ l   ┆ nda ┆     ┆     ┆ pla ┆ ht  ┆ l   ┆ l   ┆ 5   ┆ .05 ┆ 846 ┆ 873 ┆ 2   ┆ 808 ┆ 903 ┆ .92 │\n",
       "│ 08_ ┆ 08_ ┆ 08_ ┆ 663 ┆ 593 ┆     ┆     ┆ n   ┆ cti ┆ ate ┆ ic  ┆     ┆     ┆ 7-0 ┆ tra ┆     ┆     ┆ 14  ┆ a   ┆ 592 ┆ ia  ┆ pod ┆ a   ┆ pte ┆ ida ┆ a   ┆     ┆ nce ┆     ┆     ┆ nd  ┆ use ┆     ┆     ┆     ┆ 817 ┆ .59 ┆ e7  ┆     ┆ 231 ┆ 219 ┆ 116 │\n",
       "│ _Bi ┆ _Bi ┆ _Bi ┆     ┆     ┆     ┆     ┆ Eur ┆ c   ┆ Bro ┆ Mix ┆     ┆     ┆ 2   ┆ p   ┆     ┆     ┆     ┆ spi ┆ e7  ┆     ┆ a   ┆     ┆ ra  ┆ e   ┆     ┆     ┆     ┆     ┆     ┆     ┆     ┆     ┆     ┆     ┆ 1   ┆ 691 ┆     ┆     ┆     ┆     ┆ 6   │\n",
       "│ lle ┆ lle ┆ lle ┆     ┆     ┆     ┆     ┆ ope ┆     ┆ adl ┆ ed  ┆     ┆     ┆ 00: ┆     ┆     ┆     ┆     ┆ nig ┆     ┆     ┆     ┆     ┆     ┆     ┆     ┆     ┆     ┆     ┆     ┆     ┆     ┆     ┆     ┆     ┆     ┆ 1   ┆     ┆     ┆     ┆     ┆     │\n",
       "│ ter ┆ ter ┆ ter ┆     ┆     ┆     ┆     ┆     ┆     ┆ eaf ┆ For ┆     ┆     ┆ 00: ┆     ┆     ┆     ┆     ┆ era ┆     ┆     ┆     ┆     ┆     ┆     ┆     ┆     ┆     ┆     ┆     ┆     ┆     ┆     ┆     ┆     ┆     ┆     ┆     ┆     ┆     ┆     ┆     │\n",
       "│ 8   ┆ 8   ┆ 8   ┆     ┆     ┆     ┆     ┆     ┆     ┆ &   ┆ est ┆     ┆     ┆ 00  ┆     ┆     ┆     ┆     ┆     ┆     ┆     ┆     ┆     ┆     ┆     ┆     ┆     ┆     ┆     ┆     ┆     ┆     ┆     ┆     ┆     ┆     ┆     ┆     ┆     ┆     ┆     ┆     │\n",
       "│     ┆ F3  ┆ F3  ┆     ┆     ┆     ┆     ┆     ┆     ┆ Mix ┆ s   ┆     ┆     ┆     ┆     ┆     ┆     ┆     ┆     ┆     ┆     ┆     ┆     ┆     ┆     ┆     ┆     ┆     ┆     ┆     ┆     ┆     ┆     ┆     ┆     ┆     ┆     ┆     ┆     ┆     ┆     ┆     │\n",
       "│     ┆     ┆ 33  ┆     ┆     ┆     ┆     ┆     ┆     ┆ ed  ┆     ┆     ┆     ┆     ┆     ┆     ┆     ┆     ┆     ┆     ┆     ┆     ┆     ┆     ┆     ┆     ┆     ┆     ┆     ┆     ┆     ┆     ┆     ┆     ┆     ┆     ┆     ┆     ┆     ┆     ┆     ┆     │\n",
       "│     ┆     ┆     ┆     ┆     ┆     ┆     ┆     ┆     ┆ For ┆     ┆     ┆     ┆     ┆     ┆     ┆     ┆     ┆     ┆     ┆     ┆     ┆     ┆     ┆     ┆     ┆     ┆     ┆     ┆     ┆     ┆     ┆     ┆     ┆     ┆     ┆     ┆     ┆     ┆     ┆     ┆     │\n",
       "│     ┆     ┆     ┆     ┆     ┆     ┆     ┆     ┆     ┆ e…  ┆     ┆     ┆     ┆     ┆     ┆     ┆     ┆     ┆     ┆     ┆     ┆     ┆     ┆     ┆     ┆     ┆     ┆     ┆     ┆     ┆     ┆     ┆     ┆     ┆     ┆     ┆     ┆     ┆     ┆     ┆     ┆     │\n",
       "└─────┴─────┴─────┴─────┴─────┴─────┴─────┴─────┴─────┴─────┴─────┴─────┴─────┴─────┴─────┴─────┴─────┴─────┴─────┴─────┴─────┴─────┴─────┴─────┴─────┴─────┴─────┴─────┴─────┴─────┴─────┴─────┴─────┴─────┴─────┴─────┴─────┴─────┴─────┴─────┴─────┴─────┘"
      ]
     },
     "execution_count": 244,
     "metadata": {},
     "output_type": "execute_result"
    }
   ],
   "source": [
    "df_all.head()"
   ]
  },
  {
   "cell_type": "code",
   "execution_count": 245,
   "metadata": {
    "tags": []
   },
   "outputs": [
    {
     "data": {
      "text/plain": [
       "(4318808, 42)"
      ]
     },
     "execution_count": 245,
     "metadata": {},
     "output_type": "execute_result"
    }
   ],
   "source": [
    "df_all.shape"
   ]
  },
  {
   "cell_type": "markdown",
   "metadata": {},
   "source": [
    "## Feature engineering steps"
   ]
  },
  {
   "cell_type": "code",
   "execution_count": 246,
   "metadata": {},
   "outputs": [],
   "source": [
    "def scope_and_filter(df):\n",
    "    # Make a copy of the dataframe\n",
    "    df = df.clone()\n",
    "\n",
    "    # Filter out observations that are not abundances\n",
    "    df = df.filter(pl.col(\"Diversity_metric_type\") == \"Abundance\")\n",
    "\n",
    "    # Narrow down the scope to Americas and amphibians\n",
    "    df = df.filter(\n",
    "        (pl.col(\"UN_region\") == \"Americas\") & (pl.col(\"Class\") == \"Amphibia\")\n",
    "    )\n",
    "\n",
    "    # Filter out unknown land use types or intensities\n",
    "    df = df.filter(\n",
    "        ~(pl.col(\"Predominant_land_use\") == \"Cannot decide\")\n",
    "        | (pl.col(\"Use_intensity\") == \"Cannot decide\")\n",
    "    )\n",
    "\n",
    "    return df"
   ]
  },
  {
   "cell_type": "code",
   "execution_count": 247,
   "metadata": {
    "tags": []
   },
   "outputs": [],
   "source": [
    "df_scope = scope_and_filter(df_all)"
   ]
  },
  {
   "cell_type": "code",
   "execution_count": 248,
   "metadata": {},
   "outputs": [],
   "source": [
    "def calculate_and_scale_abundance(df):\n",
    "    # Make a copy of the dataframe\n",
    "    df = df.clone()\n",
    "\n",
    "    # Calculate abundance for each site-order combination\n",
    "    df_site_abund = df.group_by([\"SS\", \"SSB\", \"SSBS\", \"Order\"]).agg(\n",
    "        pl.sum(\"Effort_corrected_measurement\").alias(\"Abundance\")\n",
    "    )\n",
    "\n",
    "    # Calculate the mean abundance within each study-order\n",
    "    df_study_mean = df.group_by([\"SS\", \"Order\"]).agg(\n",
    "        pl.mean(\"Effort_corrected_measurement\").alias(\"Study_mean_abundance\")\n",
    "    )\n",
    "\n",
    "    # Join the two dataframes together\n",
    "    df_site_abund = df_site_abund.join(\n",
    "        df_study_mean.select([\"SS\", \"Study_mean_abundance\"]), on=\"SS\", how=\"left\"\n",
    "    )\n",
    "\n",
    "    # Divide abundance by the study mean and perform log scaling\n",
    "    df_scaled = df_site_abund.with_columns(\n",
    "        np.log(1 + pl.col(\"Abundance\") / pl.col(\"Study_mean_abundance\")).alias(\n",
    "            \"Scaled_abundance\"\n",
    "        )\n",
    "    )\n",
    "\n",
    "    # Drop interim columns\n",
    "    df_scaled = df_scaled.drop(\"Study_mean_abundance\")\n",
    "\n",
    "    return df_scaled"
   ]
  },
  {
   "cell_type": "code",
   "execution_count": 249,
   "metadata": {},
   "outputs": [],
   "source": [
    "df_abund_scaled = calculate_and_scale_abundance(df_scope)"
   ]
  },
  {
   "cell_type": "code",
   "execution_count": 250,
   "metadata": {},
   "outputs": [],
   "source": [
    "def merge_abundance_and_covariates(df_abund, df_covar, covars):\n",
    "\n",
    "    # Make copies of the dataframes\n",
    "    df_abund = df_abund.clone()\n",
    "    df_covar = df_covar.clone()\n",
    "\n",
    "    # Get the first instance of each SSBS for the specified covariates\n",
    "    df_first = df_covar.group_by(\"SSBS\").agg(pl.first(covars))\n",
    "\n",
    "    df_res = df_abund.join(\n",
    "        df_first.select([\"SSBS\"] + covars),\n",
    "        on=\"SSBS\",\n",
    "        how=\"left\",\n",
    "    )\n",
    "\n",
    "    return df_res"
   ]
  },
  {
   "cell_type": "code",
   "execution_count": 251,
   "metadata": {},
   "outputs": [],
   "source": [
    "covariate_cols = [\n",
    "    \"Predominant_land_use\",\n",
    "    \"Use_intensity\",\n",
    "    \"Road_density_1km\",\n",
    "    \"Road_density_10km\",\n",
    "    \"Road_density_50km\",\n",
    "    \"Pop_density_1km\",\n",
    "    \"Pop_density_10km\",\n",
    "    \"Pop_density_50km\",\n",
    "]\n",
    "\n",
    "df_all_vars = merge_abundance_and_covariates(df_abund_scaled, df_scope, covariate_cols)"
   ]
  },
  {
   "cell_type": "code",
   "execution_count": 252,
   "metadata": {},
   "outputs": [],
   "source": [
    "def calculate_mean_population_and_road_density(df, cols_to_incl):\n",
    "    # Make a copy of the dataframe\n",
    "    df = df.clone()\n",
    "\n",
    "    # Calculate mean population density at different resolutions\n",
    "    mean_expressions = [\n",
    "        pl.col(col).mean().alias(f\"Mean_{col.lower()}\") for col in cols_to_incl\n",
    "    ]\n",
    "    df_study_mean = df.group_by(\"SS\").agg(mean_expressions)\n",
    "\n",
    "    # Join the mean columns with the original dataframe\n",
    "    df_res = df.join(df_study_mean, on=\"SS\", how=\"left\", validate=\"m:1\")\n",
    "\n",
    "    return df_res"
   ]
  },
  {
   "cell_type": "code",
   "execution_count": 253,
   "metadata": {},
   "outputs": [],
   "source": [
    "mean_cols = [\n",
    "    \"Road_density_1km\",\n",
    "    \"Road_density_10km\",\n",
    "    \"Road_density_50km\",\n",
    "    \"Pop_density_1km\",\n",
    "    \"Pop_density_10km\",\n",
    "    \"Pop_density_50km\",\n",
    "]\n",
    "\n",
    "df_all_vars = calculate_mean_population_and_road_density(df_all_vars, mean_cols)"
   ]
  },
  {
   "cell_type": "code",
   "execution_count": 256,
   "metadata": {},
   "outputs": [],
   "source": [
    "def create_dummy_variables(df):\n",
    "    # Make a copy of the dataframe\n",
    "    df = df.clone()\n",
    "\n",
    "    # Create a column that combines land use type and intensity\n",
    "    df = df.with_columns(\n",
    "        pl.concat_str(\n",
    "            [pl.col(\"Predominant_land_use\"), pl.col(\"Use_intensity\")], separator=\"_\"\n",
    "        ).alias(\"LU_type_intensity\")\n",
    "    )\n",
    "\n",
    "    # Create dummy columns\n",
    "    df_dummies = df.select(\"LU_type_intensity\").to_dummies(\"LU_type_intensity\")\n",
    "\n",
    "    # Strip 'LU_type_intensity' from column names\n",
    "    old_cols = df_dummies.columns\n",
    "    new_cols = [col.replace(\"LU_type_intensity_\", \"\") for col in df_dummies.columns]\n",
    "\n",
    "    # Create a column mapping dictionary and rename columns\n",
    "    mapping_dict = {old_col: new_col for old_col, new_col in zip(old_cols, new_cols)}\n",
    "    df_dummies = df_dummies.rename(mapping_dict)\n",
    "\n",
    "    # Drop the column with 'Primary vegetation_Minimal use' which is the baseline\n",
    "    df_dummies = df_dummies.drop(\"Primary vegetation_Minimal use\")\n",
    "\n",
    "    # Sort the columns in the logical order\n",
    "    # df_dummies = df_dummies[dummy_col_order]\n",
    "\n",
    "    # Join the dummy columns with the original dataframe\n",
    "    df_res = pl.concat([df, df_dummies], how=\"horizontal\")\n",
    "\n",
    "    return df_res"
   ]
  },
  {
   "cell_type": "code",
   "execution_count": 257,
   "metadata": {},
   "outputs": [],
   "source": [
    "# TODO: Not every category will exist, depending on the scope\n",
    "\n",
    "dummy_col_order = [\n",
    "    \"Primary vegetation_Light use\",\n",
    "    \"Primary vegetation_Intense use\",\n",
    "    \"Young secondary vegetation_Minimal use\",\n",
    "    \"Young secondary vegetation_Light use\",\n",
    "    \"Young secondary vegetation_Intense use\",\n",
    "    \"Intermediate secondary vegetation_Minimal use\",\n",
    "    \"Intermediate secondary vegetation_Light use\",\n",
    "    \"Intermediate secondary vegetation_Intense use\",\n",
    "    \"Mature secondary vegetation_Minimal use\",\n",
    "    \"Mature secondary vegetation_Light use\",\n",
    "    \"Mature secondary vegetation_Intense use\",\n",
    "    \"Secondary vegetation (indeterminate age)_Minimal use\",\n",
    "    \"Secondary vegetation (indeterminate age)_Light use\",\n",
    "    \"Secondary vegetation (indeterminate age)n_Intense use\",\n",
    "    \"Plantation forest_Minimal use\",\n",
    "    \"Plantation forest_Light use\",\n",
    "    \"Plantation forest_Intense use\",\n",
    "    \"Pasture_Minimal use\",\n",
    "    \"Pasture_Light use\",\n",
    "    \"Pasture_Intense use\",\n",
    "    \"Cropland_Minimal use\",\n",
    "    \"Cropland_Light use\",\n",
    "    \"Cropland_Intense use\",\n",
    "    \"Urban_Minimal use\",\n",
    "    \"Urban_Light use\",\n",
    "    \"Urban_Intense use\",\n",
    "]\n",
    "\n",
    "df_dummies = create_dummy_variables(df_all_vars)"
   ]
  },
  {
   "cell_type": "code",
   "execution_count": 263,
   "metadata": {},
   "outputs": [],
   "source": [
    "def select_data_for_model(df, group_vars, response_var, covariates):\n",
    "    # Make a copy of the dataframe\n",
    "    df = df.clone()\n",
    "\n",
    "    # Make covariate selection\n",
    "    df_res = df.select(group_vars + response_var + covariates)\n",
    "\n",
    "    return df_res"
   ]
  },
  {
   "cell_type": "code",
   "execution_count": 265,
   "metadata": {},
   "outputs": [],
   "source": [
    "group_vars = [\"SSB\", \"SSBS\"]\n",
    "response_var = [\"Scaled_abundance\"]\n",
    "covariates = [\n",
    "    \"Pop_density_1km\",\n",
    "    \"Road_density_50km\",\n",
    "]\n",
    "\n",
    "df_model = select_data_for_model(df_dummies, group_vars, response_var, covariates)"
   ]
  },
  {
   "cell_type": "code",
   "execution_count": null,
   "metadata": {},
   "outputs": [],
   "source": [
    "# TODO: Incorporate into train-test code to avoid leakage\n",
    "\n",
    "def scale_continuous_covariates(df, covars_to_scale):\n",
    "    # Make a copy of the dataframe\n",
    "    df = df.clone()\n",
    "\n",
    "    scaler = StandardScaler()\n",
    "    \n",
    "    "
   ]
  },
  {
   "cell_type": "markdown",
   "metadata": {},
   "source": [
    "## Model specification\n",
    "\n",
    "Hyperpriors:\n",
    "$$\n",
    "\\mu_{\\beta} \\sim \\mathcal{N}(0, 10), \\quad\n",
    "\\sigma_{\\beta} \\sim \\text{Exp}(5)\n",
    "$$\n",
    "$$\n",
    "\\mu_{\\alpha} \\sim \\mathcal{N}(0, 10), \\quad\n",
    "\\sigma_{\\alpha} \\sim \\text{Exp}(5)\n",
    "$$\n",
    "\n",
    "Priors"
   ]
  },
  {
   "cell_type": "code",
   "execution_count": 73,
   "metadata": {},
   "outputs": [],
   "source": [
    "# Create design matrix\n",
    "X = df_site_abund.select(covariate_cols)\n",
    "\n",
    "# Insert intercept column\n",
    "X = X.insert_column(0, pl.Series(\"Intercept\", np.ones(X.shape[0])))\n",
    "\n",
    "# Get vector of output values\n",
    "y = df_site_abund.select(\"Abundance\").to_numpy().flatten()"
   ]
  },
  {
   "cell_type": "code",
   "execution_count": 44,
   "metadata": {},
   "outputs": [
    {
     "data": {
      "text/plain": [
       "(1097, 3)"
      ]
     },
     "execution_count": 44,
     "metadata": {},
     "output_type": "execute_result"
    }
   ],
   "source": [
    "X.shape"
   ]
  },
  {
   "cell_type": "code",
   "execution_count": 57,
   "metadata": {},
   "outputs": [
    {
     "data": {
      "text/plain": [
       "(1097, 3)"
      ]
     },
     "execution_count": 57,
     "metadata": {},
     "output_type": "execute_result"
    }
   ],
   "source": [
    "X.to_numpy().shape"
   ]
  },
  {
   "cell_type": "code",
   "execution_count": 60,
   "metadata": {},
   "outputs": [
    {
     "data": {
      "text/plain": [
       "(1097,)"
      ]
     },
     "execution_count": 60,
     "metadata": {},
     "output_type": "execute_result"
    }
   ],
   "source": [
    "beta = np.array([1, 1, 1])\n",
    "np.dot(X, beta).shape"
   ]
  },
  {
   "cell_type": "code",
   "execution_count": 45,
   "metadata": {
    "tags": []
   },
   "outputs": [],
   "source": [
    "coords = {\"covariates\": X.columns}"
   ]
  },
  {
   "cell_type": "code",
   "execution_count": 106,
   "metadata": {},
   "outputs": [],
   "source": [
    "# Context manager for associating variables with a specific model\n",
    "with pm.Model(coords=coords) as abundance_1:\n",
    "\n",
    "    # Dimensions of vectors and matrices\n",
    "    num_beta = X.shape[1]\n",
    "    num_alpha = X.shape[1]\n",
    "    num_groups = 3\n",
    "\n",
    "    # HYPERPRIORS\n",
    "    # Hyperpriors for the beta parameters at the higher hierarchical level\n",
    "    mu_beta = pm.Normal(\"mu_beta\", mu=0, sigma=2, shape=(num_beta,))\n",
    "    sigma_beta = pm.Exponential(\"sigma_beta\", lam=1, shape=(num_beta,))\n",
    "\n",
    "    # Hyperpriors for the corresponding alpha parameters\n",
    "    mu_alpha = pm.Normal(\"mu_alpha\", mu=0, sigma=2, shape=(num_alpha,))\n",
    "    sigma_alpha = pm.Exponential(\"sigma_alpha\", lam=1, shape=(num_alpha,))\n",
    "\n",
    "    # PRIORS\n",
    "    # Priors for beta at the lower (data) level\n",
    "    beta = pm.Normal(\"beta\", mu=mu_beta, sigma=sigma_beta, shape=(num_beta,))\n",
    "\n",
    "    # Corresponding alpha\n",
    "    alpha = pm.Normal(\"alpha\", mu=mu_alpha, sigma=sigma_alpha, shape=(num_alpha,))\n",
    "\n",
    "    # LINK FUNCTIONS\n",
    "    # mu_obs = logit((X beta) + nu)\n",
    "    mu_obs = pm.math.invlogit(pm.math.dot(X.to_numpy(), beta))\n",
    "    # sigma_obs = log((X alpha) + nu)\n",
    "    sigma_obs = pm.math.exp(pm.math.dot(X.to_numpy(), alpha))\n",
    "\n",
    "    # LIKELIHOOD FUNCTION\n",
    "    y_obs = pm.Gamma(\"y_obs\", mu=mu_obs, sigma=sigma_obs, observed=y)"
   ]
  },
  {
   "cell_type": "code",
   "execution_count": 85,
   "metadata": {},
   "outputs": [
    {
     "data": {
      "image/svg+xml": [
       "<?xml version=\"1.0\" encoding=\"UTF-8\" standalone=\"no\"?>\n",
       "<!DOCTYPE svg PUBLIC \"-//W3C//DTD SVG 1.1//EN\"\n",
       " \"http://www.w3.org/Graphics/SVG/1.1/DTD/svg11.dtd\">\n",
       "<!-- Generated by graphviz version 9.0.0 (0)\n",
       " -->\n",
       "<!-- Pages: 1 -->\n",
       "<svg width=\"518pt\" height=\"393pt\"\n",
       " viewBox=\"0.00 0.00 518.00 392.95\" xmlns=\"http://www.w3.org/2000/svg\" xmlns:xlink=\"http://www.w3.org/1999/xlink\">\n",
       "<g id=\"graph0\" class=\"graph\" transform=\"scale(1 1) rotate(0) translate(4 388.95)\">\n",
       "<polygon fill=\"white\" stroke=\"none\" points=\"-4,4 -4,-388.95 514,-388.95 514,4 -4,4\"/>\n",
       "<g id=\"clust1\" class=\"cluster\">\n",
       "<title>cluster3</title>\n",
       "<path fill=\"none\" stroke=\"black\" d=\"M20,-137.82C20,-137.82 490,-137.82 490,-137.82 496,-137.82 502,-143.82 502,-149.82 502,-149.82 502,-364.95 502,-364.95 502,-370.95 496,-376.95 490,-376.95 490,-376.95 20,-376.95 20,-376.95 14,-376.95 8,-370.95 8,-364.95 8,-364.95 8,-149.82 8,-149.82 8,-143.82 14,-137.82 20,-137.82\"/>\n",
       "<text text-anchor=\"middle\" x=\"490.62\" y=\"-145.02\" font-family=\"Times,serif\" font-size=\"14.00\">3</text>\n",
       "</g>\n",
       "<g id=\"clust2\" class=\"cluster\">\n",
       "<title>cluster1097</title>\n",
       "<path fill=\"none\" stroke=\"black\" d=\"M227,-8C227,-8 305,-8 305,-8 311,-8 317,-14 317,-20 317,-20 317,-117.82 317,-117.82 317,-123.82 311,-129.82 305,-129.82 305,-129.82 227,-129.82 227,-129.82 221,-129.82 215,-123.82 215,-117.82 215,-117.82 215,-20 215,-20 215,-14 221,-8 227,-8\"/>\n",
       "<text text-anchor=\"middle\" x=\"295.5\" y=\"-15.2\" font-family=\"Times,serif\" font-size=\"14.00\">1097</text>\n",
       "</g>\n",
       "<!-- beta -->\n",
       "<g id=\"node1\" class=\"node\">\n",
       "<title>beta</title>\n",
       "<ellipse fill=\"none\" stroke=\"black\" cx=\"329\" cy=\"-210.98\" rx=\"41.01\" ry=\"40.66\"/>\n",
       "<text text-anchor=\"middle\" x=\"329\" y=\"-222.43\" font-family=\"Times,serif\" font-size=\"14.00\">beta</text>\n",
       "<text text-anchor=\"middle\" x=\"329\" y=\"-205.93\" font-family=\"Times,serif\" font-size=\"14.00\">~</text>\n",
       "<text text-anchor=\"middle\" x=\"329\" y=\"-189.43\" font-family=\"Times,serif\" font-size=\"14.00\">Normal</text>\n",
       "</g>\n",
       "<!-- y_obs -->\n",
       "<g id=\"node7\" class=\"node\">\n",
       "<title>y_obs</title>\n",
       "<ellipse fill=\"lightgrey\" stroke=\"black\" cx=\"266\" cy=\"-81.16\" rx=\"42.6\" ry=\"40.66\"/>\n",
       "<text text-anchor=\"middle\" x=\"266\" y=\"-92.61\" font-family=\"Times,serif\" font-size=\"14.00\">y_obs</text>\n",
       "<text text-anchor=\"middle\" x=\"266\" y=\"-76.11\" font-family=\"Times,serif\" font-size=\"14.00\">~</text>\n",
       "<text text-anchor=\"middle\" x=\"266\" y=\"-59.61\" font-family=\"Times,serif\" font-size=\"14.00\">Gamma</text>\n",
       "</g>\n",
       "<!-- beta&#45;&gt;y_obs -->\n",
       "<g id=\"edge5\" class=\"edge\">\n",
       "<title>beta&#45;&gt;y_obs</title>\n",
       "<path fill=\"none\" stroke=\"black\" d=\"M311.28,-174.03C304.3,-159.87 296.2,-143.43 288.8,-128.41\"/>\n",
       "<polygon fill=\"black\" stroke=\"black\" points=\"292.03,-127.06 284.47,-119.63 285.75,-130.15 292.03,-127.06\"/>\n",
       "</g>\n",
       "<!-- mu_beta -->\n",
       "<g id=\"node2\" class=\"node\">\n",
       "<title>mu_beta</title>\n",
       "<ellipse fill=\"none\" stroke=\"black\" cx=\"449\" cy=\"-328.29\" rx=\"44.72\" ry=\"40.66\"/>\n",
       "<text text-anchor=\"middle\" x=\"449\" y=\"-339.74\" font-family=\"Times,serif\" font-size=\"14.00\">mu_beta</text>\n",
       "<text text-anchor=\"middle\" x=\"449\" y=\"-323.24\" font-family=\"Times,serif\" font-size=\"14.00\">~</text>\n",
       "<text text-anchor=\"middle\" x=\"449\" y=\"-306.74\" font-family=\"Times,serif\" font-size=\"14.00\">Normal</text>\n",
       "</g>\n",
       "<!-- mu_beta&#45;&gt;beta -->\n",
       "<g id=\"edge1\" class=\"edge\">\n",
       "<title>mu_beta&#45;&gt;beta</title>\n",
       "<path fill=\"none\" stroke=\"black\" d=\"M418.72,-298.19C402.73,-282.83 382.97,-263.84 366.07,-247.6\"/>\n",
       "<polygon fill=\"black\" stroke=\"black\" points=\"368.76,-245.33 359.12,-240.92 363.91,-250.37 368.76,-245.33\"/>\n",
       "</g>\n",
       "<!-- alpha -->\n",
       "<g id=\"node3\" class=\"node\">\n",
       "<title>alpha</title>\n",
       "<ellipse fill=\"none\" stroke=\"black\" cx=\"204\" cy=\"-210.98\" rx=\"41.01\" ry=\"40.66\"/>\n",
       "<text text-anchor=\"middle\" x=\"204\" y=\"-222.43\" font-family=\"Times,serif\" font-size=\"14.00\">alpha</text>\n",
       "<text text-anchor=\"middle\" x=\"204\" y=\"-205.93\" font-family=\"Times,serif\" font-size=\"14.00\">~</text>\n",
       "<text text-anchor=\"middle\" x=\"204\" y=\"-189.43\" font-family=\"Times,serif\" font-size=\"14.00\">Normal</text>\n",
       "</g>\n",
       "<!-- alpha&#45;&gt;y_obs -->\n",
       "<g id=\"edge6\" class=\"edge\">\n",
       "<title>alpha&#45;&gt;y_obs</title>\n",
       "<path fill=\"none\" stroke=\"black\" d=\"M221.44,-174.03C228.3,-159.87 236.28,-143.43 243.57,-128.41\"/>\n",
       "<polygon fill=\"black\" stroke=\"black\" points=\"246.6,-130.16 247.82,-119.64 240.31,-127.11 246.6,-130.16\"/>\n",
       "</g>\n",
       "<!-- mu_alpha -->\n",
       "<g id=\"node4\" class=\"node\">\n",
       "<title>mu_alpha</title>\n",
       "<ellipse fill=\"none\" stroke=\"black\" cx=\"204\" cy=\"-328.29\" rx=\"49.5\" ry=\"40.66\"/>\n",
       "<text text-anchor=\"middle\" x=\"204\" y=\"-339.74\" font-family=\"Times,serif\" font-size=\"14.00\">mu_alpha</text>\n",
       "<text text-anchor=\"middle\" x=\"204\" y=\"-323.24\" font-family=\"Times,serif\" font-size=\"14.00\">~</text>\n",
       "<text text-anchor=\"middle\" x=\"204\" y=\"-306.74\" font-family=\"Times,serif\" font-size=\"14.00\">Normal</text>\n",
       "</g>\n",
       "<!-- mu_alpha&#45;&gt;alpha -->\n",
       "<g id=\"edge4\" class=\"edge\">\n",
       "<title>mu_alpha&#45;&gt;alpha</title>\n",
       "<path fill=\"none\" stroke=\"black\" d=\"M204,-287.28C204,-279.5 204,-271.25 204,-263.16\"/>\n",
       "<polygon fill=\"black\" stroke=\"black\" points=\"207.5,-263.43 204,-253.43 200.5,-263.43 207.5,-263.43\"/>\n",
       "</g>\n",
       "<!-- sigma_beta -->\n",
       "<g id=\"node5\" class=\"node\">\n",
       "<title>sigma_beta</title>\n",
       "<ellipse fill=\"none\" stroke=\"black\" cx=\"329\" cy=\"-328.29\" rx=\"57.45\" ry=\"40.66\"/>\n",
       "<text text-anchor=\"middle\" x=\"329\" y=\"-339.74\" font-family=\"Times,serif\" font-size=\"14.00\">sigma_beta</text>\n",
       "<text text-anchor=\"middle\" x=\"329\" y=\"-323.24\" font-family=\"Times,serif\" font-size=\"14.00\">~</text>\n",
       "<text text-anchor=\"middle\" x=\"329\" y=\"-306.74\" font-family=\"Times,serif\" font-size=\"14.00\">Exponential</text>\n",
       "</g>\n",
       "<!-- sigma_beta&#45;&gt;beta -->\n",
       "<g id=\"edge2\" class=\"edge\">\n",
       "<title>sigma_beta&#45;&gt;beta</title>\n",
       "<path fill=\"none\" stroke=\"black\" d=\"M329,-287.28C329,-279.5 329,-271.25 329,-263.16\"/>\n",
       "<polygon fill=\"black\" stroke=\"black\" points=\"332.5,-263.43 329,-253.43 325.5,-263.43 332.5,-263.43\"/>\n",
       "</g>\n",
       "<!-- sigma_alpha -->\n",
       "<g id=\"node6\" class=\"node\">\n",
       "<title>sigma_alpha</title>\n",
       "<ellipse fill=\"none\" stroke=\"black\" cx=\"76\" cy=\"-328.29\" rx=\"60.1\" ry=\"40.66\"/>\n",
       "<text text-anchor=\"middle\" x=\"76\" y=\"-339.74\" font-family=\"Times,serif\" font-size=\"14.00\">sigma_alpha</text>\n",
       "<text text-anchor=\"middle\" x=\"76\" y=\"-323.24\" font-family=\"Times,serif\" font-size=\"14.00\">~</text>\n",
       "<text text-anchor=\"middle\" x=\"76\" y=\"-306.74\" font-family=\"Times,serif\" font-size=\"14.00\">Exponential</text>\n",
       "</g>\n",
       "<!-- sigma_alpha&#45;&gt;alpha -->\n",
       "<g id=\"edge3\" class=\"edge\">\n",
       "<title>sigma_alpha&#45;&gt;alpha</title>\n",
       "<path fill=\"none\" stroke=\"black\" d=\"M111.66,-295.17C128.56,-279.94 148.78,-261.72 165.98,-246.22\"/>\n",
       "<polygon fill=\"black\" stroke=\"black\" points=\"167.95,-249.17 173.03,-239.87 163.26,-243.97 167.95,-249.17\"/>\n",
       "</g>\n",
       "</g>\n",
       "</svg>\n"
      ],
      "text/plain": [
       "<graphviz.graphs.Digraph at 0x287c92fd0>"
      ]
     },
     "execution_count": 85,
     "metadata": {},
     "output_type": "execute_result"
    }
   ],
   "source": [
    "pm.model_to_graphviz(abundance_1)"
   ]
  },
  {
   "cell_type": "code",
   "execution_count": 107,
   "metadata": {},
   "outputs": [
    {
     "name": "stderr",
     "output_type": "stream",
     "text": [
      "Sampling: [alpha, beta, mu_alpha, mu_beta, sigma_alpha, sigma_beta, y_obs]\n",
      "INFO:pymc.sampling.forward:Sampling: [alpha, beta, mu_alpha, mu_beta, sigma_alpha, sigma_beta, y_obs]\n"
     ]
    }
   ],
   "source": [
    "with abundance_1:\n",
    "    prior_samples = pm.sample_prior_predictive(1000)"
   ]
  },
  {
   "cell_type": "code",
   "execution_count": 103,
   "metadata": {},
   "outputs": [
    {
     "data": {
      "image/png": "[encoded data removed]",
      "text/plain": [
       "<Figure size 720x480 with 1 Axes>"
      ]
     },
     "metadata": {},
     "output_type": "display_data"
    }
   ],
   "source": [
    "az.plot_dist(\n",
    "    prior_samples.prior[\"mu_beta\"].values,\n",
    "    kind=\"hist\",\n",
    "    color=\"C1\",\n",
    "    hist_kwargs=dict(alpha=0.6),\n",
    "    label=\"alpha\",\n",
    ")\n",
    "plt.xticks(rotation=45);"
   ]
  },
  {
   "cell_type": "code",
   "execution_count": 104,
   "metadata": {},
   "outputs": [
    {
     "data": {
      "image/png": "[encoded data removed]",
      "text/plain": [
       "<Figure size 720x480 with 1 Axes>"
      ]
     },
     "metadata": {},
     "output_type": "display_data"
    }
   ],
   "source": [
    "az.plot_dist(\n",
    "    prior_samples.prior[\"beta\"].values,\n",
    "    kind=\"hist\",\n",
    "    color=\"C1\",\n",
    "    hist_kwargs=dict(alpha=0.6),\n",
    "    label=\"alpha\",\n",
    ")\n",
    "plt.xticks(rotation=45);"
   ]
  },
  {
   "cell_type": "code",
   "execution_count": 108,
   "metadata": {},
   "outputs": [
    {
     "data": {
      "image/png": "[encoded data removed]",
      "text/plain": [
       "<Figure size 720x480 with 1 Axes>"
      ]
     },
     "metadata": {},
     "output_type": "display_data"
    }
   ],
   "source": [
    "az.plot_dist(\n",
    "    prior_samples.prior[\"sigma_beta\"].values,\n",
    "    kind=\"hist\",\n",
    "    color=\"C1\",\n",
    "    hist_kwargs=dict(alpha=0.6),\n",
    "    label=\"alpha\",\n",
    ")\n",
    "plt.xticks(rotation=45);"
   ]
  }
 ],
 "metadata": {
  "kernelspec": {
   "display_name": "biodiv",
   "language": "python",
   "name": "biodiv"
  },
  "language_info": {
   "codemirror_mode": {
    "name": "ipython",
    "version": 3
   },
   "file_extension": ".py",
   "mimetype": "text/x-python",
   "name": "python",
   "nbconvert_exporter": "python",
   "pygments_lexer": "ipython3",
   "version": "3.11.8"
  }
 },
 "nbformat": 4,
 "nbformat_minor": 4
}
