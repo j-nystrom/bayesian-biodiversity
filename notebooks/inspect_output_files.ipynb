{
 "cells": [
  {
   "cell_type": "code",
   "execution_count": 2,
   "id": "a2de73eb-8588-4822-99d0-766357a536cc",
   "metadata": {},
   "outputs": [],
   "source": [
    "import pandas as pd\n",
    "import polars as pl\n",
    "import geopandas as gpd"
   ]
  },
  {
   "cell_type": "markdown",
   "id": "cdf5c4d8-bd8b-4124-9672-c0398b6da307",
   "metadata": {},
   "source": [
    "### Concatenated PREDICTS data"
   ]
  },
  {
   "cell_type": "code",
   "execution_count": 17,
   "id": "c78a8c4a-cf91-4ab1-be94-8e39310b023b",
   "metadata": {},
   "outputs": [
    {
     "data": {
      "text/html": [
       "<div><style>\n",
       ".dataframe > thead > tr,\n",
       ".dataframe > tbody > tr {\n",
       "  text-align: right;\n",
       "  white-space: pre-wrap;\n",
       "}\n",
       "</style>\n",
       "<small>shape: (4_318_808, 68)</small><table border=\"1\" class=\"dataframe\"><thead><tr><th>_id</th><th>Source_ID</th><th>Reference</th><th>Study_number</th><th>Study_name</th><th>Block</th><th>Site_number</th><th>Site_name</th><th>SS</th><th>SSS</th><th>SSB</th><th>SSBS</th><th>Longitude</th><th>Latitude</th><th>Coordinates_method</th><th>Country</th><th>Country_distance_metres</th><th>UN_region</th><th>UN_subregion</th><th>Realm</th><th>Biome</th><th>Ecoregion</th><th>Ecoregion_distance_metres</th><th>Wilderness_area</th><th>Hotspot</th><th>Study_common_taxon</th><th>Rank_of_study_common_taxon</th><th>Sample_start_earliest</th><th>Sample_end_latest</th><th>Sample_midpoint</th><th>Sample_date_resolution</th><th>Sampling_method</th><th>Sampling_effort</th><th>Rescaled_sampling_effort</th><th>Sampling_effort_unit</th><th>Max_linear_extent_metres</th><th>Transect_details</th><th>Taxon</th><th>Taxon_number</th><th>Taxon_name_entered</th><th>Parsed_name</th><th>Best_guess_binomial</th><th>COL_ID</th><th>Kingdom</th><th>Phylum</th><th>Class</th><th>Order</th><th>Family</th><th>Genus</th><th>Species</th><th>Higher_taxon</th><th>Indication</th><th>Name_status</th><th>Rank</th><th>Diversity_metric_type</th><th>Diversity_metric</th><th>Diversity_metric_is_effort_sensitive</th><th>Diversity_metric_is_suitable_for_Chao</th><th>Diversity_metric_unit</th><th>Measurement</th><th>Effort_corrected_measurement</th><th>Predominant_land_use</th><th>Source_for_predominant_land_use</th><th>Use_intensity</th><th>Habitat_as_described</th><th>Habitat_patch_area_square_metres</th><th>Km_to_nearest_edge_of_habitat</th><th>Years_since_fragmentation_or_conversion</th></tr><tr><td>i64</td><td>str</td><td>str</td><td>i64</td><td>str</td><td>str</td><td>i64</td><td>str</td><td>str</td><td>str</td><td>str</td><td>str</td><td>f64</td><td>f64</td><td>str</td><td>str</td><td>f64</td><td>str</td><td>str</td><td>str</td><td>str</td><td>str</td><td>f64</td><td>str</td><td>str</td><td>str</td><td>str</td><td>str</td><td>str</td><td>str</td><td>str</td><td>str</td><td>f64</td><td>f64</td><td>str</td><td>f64</td><td>str</td><td>str</td><td>i64</td><td>str</td><td>str</td><td>str</td><td>i64</td><td>str</td><td>str</td><td>str</td><td>str</td><td>str</td><td>str</td><td>str</td><td>str</td><td>str</td><td>str</td><td>str</td><td>str</td><td>str</td><td>bool</td><td>bool</td><td>str</td><td>f64</td><td>f64</td><td>str</td><td>str</td><td>str</td><td>str</td><td>f64</td><td>f64</td><td>f64</td></tr></thead><tbody><tr><td>1</td><td>&quot;AD1_2001__Liow…</td><td>&quot;Liow et al. 20…</td><td>1</td><td>&quot;Singapore_abun…</td><td>null</td><td>1</td><td>&quot;BT&quot;</td><td>&quot;AD1_2001__Liow…</td><td>&quot;AD1_2001__Liow…</td><td>&quot;AD1_2001__Liow…</td><td>&quot;AD1_2001__Liow…</td><td>103.778611</td><td>1.351944</td><td>&quot;Georeferenced&quot;</td><td>&quot;Singapore&quot;</td><td>0.0</td><td>&quot;Asia&quot;</td><td>&quot;South-Eastern …</td><td>&quot;Indo-Malay&quot;</td><td>&quot;Tropical &amp; Sub…</td><td>&quot;Peninsular Mal…</td><td>0.0</td><td>null</td><td>&quot;Sundaland&quot;</td><td>&quot;Apidae&quot;</td><td>&quot;Family&quot;</td><td>&quot;1999-03-03&quot;</td><td>&quot;1999-06-30&quot;</td><td>&quot;1999-05-01&quot;</td><td>&quot;day&quot;</td><td>&quot;transects with…</td><td>30.0</td><td>1.0</td><td>&quot;trap&quot;</td><td>3000.0</td><td>null</td><td>&quot;Apidae&quot;</td><td>1</td><td>&quot;Bees&quot;</td><td>&quot;Bees&quot;</td><td>null</td><td>13025340</td><td>&quot;Animalia&quot;</td><td>&quot;Arthropoda&quot;</td><td>&quot;Insecta&quot;</td><td>&quot;Hymenoptera&quot;</td><td>&quot;Apidae&quot;</td><td>null</td><td>null</td><td>&quot;Hymenoptera&quot;</td><td>&quot;Hymenoptera: A…</td><td>&quot;accepted name&quot;</td><td>&quot;Family&quot;</td><td>&quot;Abundance&quot;</td><td>&quot;abundance&quot;</td><td>true</td><td>true</td><td>&quot;individuals&quot;</td><td>42.0</td><td>42.0</td><td>&quot;Primary vegeta…</td><td>&quot;Direct from pu…</td><td>&quot;Cannot decide&quot;</td><td>&quot;Primary hill, …</td><td>870000.0</td><td>null</td><td>null</td></tr><tr><td>2</td><td>&quot;AD1_2001__Liow…</td><td>&quot;Liow et al. 20…</td><td>1</td><td>&quot;Singapore_abun…</td><td>null</td><td>2</td><td>&quot;MC&quot;</td><td>&quot;AD1_2001__Liow…</td><td>&quot;AD1_2001__Liow…</td><td>&quot;AD1_2001__Liow…</td><td>&quot;AD1_2001__Liow…</td><td>103.808056</td><td>1.354722</td><td>&quot;Georeferenced&quot;</td><td>&quot;Singapore&quot;</td><td>0.0</td><td>&quot;Asia&quot;</td><td>&quot;South-Eastern …</td><td>&quot;Indo-Malay&quot;</td><td>&quot;Tropical &amp; Sub…</td><td>&quot;Peninsular Mal…</td><td>0.0</td><td>null</td><td>&quot;Sundaland&quot;</td><td>&quot;Apidae&quot;</td><td>&quot;Family&quot;</td><td>&quot;1999-02-24&quot;</td><td>&quot;1999-06-24&quot;</td><td>&quot;1999-04-25&quot;</td><td>&quot;day&quot;</td><td>&quot;transects with…</td><td>30.0</td><td>1.0</td><td>&quot;trap&quot;</td><td>3000.0</td><td>null</td><td>&quot;Apidae&quot;</td><td>1</td><td>&quot;Bees&quot;</td><td>&quot;Bees&quot;</td><td>null</td><td>13025340</td><td>&quot;Animalia&quot;</td><td>&quot;Arthropoda&quot;</td><td>&quot;Insecta&quot;</td><td>&quot;Hymenoptera&quot;</td><td>&quot;Apidae&quot;</td><td>null</td><td>null</td><td>&quot;Hymenoptera&quot;</td><td>&quot;Hymenoptera: A…</td><td>&quot;accepted name&quot;</td><td>&quot;Family&quot;</td><td>&quot;Abundance&quot;</td><td>&quot;abundance&quot;</td><td>true</td><td>true</td><td>&quot;individuals&quot;</td><td>242.0</td><td>242.0</td><td>&quot;Mature seconda…</td><td>&quot;Direct from pu…</td><td>&quot;Cannot decide&quot;</td><td>&quot;Secondary fore…</td><td>5.21e6</td><td>null</td><td>70.0</td></tr><tr><td>3</td><td>&quot;AD1_2001__Liow…</td><td>&quot;Liow et al. 20…</td><td>1</td><td>&quot;Singapore_abun…</td><td>null</td><td>3</td><td>&quot;NS&quot;</td><td>&quot;AD1_2001__Liow…</td><td>&quot;AD1_2001__Liow…</td><td>&quot;AD1_2001__Liow…</td><td>&quot;AD1_2001__Liow…</td><td>103.811667</td><td>1.394722</td><td>&quot;Georeferenced&quot;</td><td>&quot;Singapore&quot;</td><td>0.0</td><td>&quot;Asia&quot;</td><td>&quot;South-Eastern …</td><td>&quot;Indo-Malay&quot;</td><td>&quot;Tropical &amp; Sub…</td><td>&quot;Peninsular Mal…</td><td>0.0</td><td>null</td><td>&quot;Sundaland&quot;</td><td>&quot;Apidae&quot;</td><td>&quot;Family&quot;</td><td>&quot;1999-03-16&quot;</td><td>&quot;1999-07-08&quot;</td><td>&quot;1999-05-12&quot;</td><td>&quot;day&quot;</td><td>&quot;transects with…</td><td>30.0</td><td>1.0</td><td>&quot;trap&quot;</td><td>3000.0</td><td>null</td><td>&quot;Apidae&quot;</td><td>1</td><td>&quot;Bees&quot;</td><td>&quot;Bees&quot;</td><td>null</td><td>13025340</td><td>&quot;Animalia&quot;</td><td>&quot;Arthropoda&quot;</td><td>&quot;Insecta&quot;</td><td>&quot;Hymenoptera&quot;</td><td>&quot;Apidae&quot;</td><td>null</td><td>null</td><td>&quot;Hymenoptera&quot;</td><td>&quot;Hymenoptera: A…</td><td>&quot;accepted name&quot;</td><td>&quot;Family&quot;</td><td>&quot;Abundance&quot;</td><td>&quot;abundance&quot;</td><td>true</td><td>true</td><td>&quot;individuals&quot;</td><td>232.0</td><td>232.0</td><td>&quot;Mature seconda…</td><td>&quot;Direct from pu…</td><td>&quot;Cannot decide&quot;</td><td>&quot;Secondary fore…</td><td>7.946e6</td><td>null</td><td>70.0</td></tr><tr><td>4</td><td>&quot;AD1_2001__Liow…</td><td>&quot;Liow et al. 20…</td><td>1</td><td>&quot;Singapore_abun…</td><td>null</td><td>4</td><td>&quot;HW&quot;</td><td>&quot;AD1_2001__Liow…</td><td>&quot;AD1_2001__Liow…</td><td>&quot;AD1_2001__Liow…</td><td>&quot;AD1_2001__Liow…</td><td>103.787222</td><td>1.326944</td><td>&quot;Georeferenced&quot;</td><td>&quot;Singapore&quot;</td><td>0.0</td><td>&quot;Asia&quot;</td><td>&quot;South-Eastern …</td><td>&quot;Indo-Malay&quot;</td><td>&quot;Tropical &amp; Sub…</td><td>&quot;Peninsular Mal…</td><td>0.0</td><td>null</td><td>&quot;Sundaland&quot;</td><td>&quot;Apidae&quot;</td><td>&quot;Family&quot;</td><td>&quot;1999-05-05&quot;</td><td>&quot;1999-07-28&quot;</td><td>&quot;1999-06-16&quot;</td><td>&quot;day&quot;</td><td>&quot;transects with…</td><td>18.0</td><td>0.6</td><td>&quot;trap&quot;</td><td>1800.0</td><td>null</td><td>&quot;Apidae&quot;</td><td>1</td><td>&quot;Bees&quot;</td><td>&quot;Bees&quot;</td><td>null</td><td>13025340</td><td>&quot;Animalia&quot;</td><td>&quot;Arthropoda&quot;</td><td>&quot;Insecta&quot;</td><td>&quot;Hymenoptera&quot;</td><td>&quot;Apidae&quot;</td><td>null</td><td>null</td><td>&quot;Hymenoptera&quot;</td><td>&quot;Hymenoptera: A…</td><td>&quot;accepted name&quot;</td><td>&quot;Family&quot;</td><td>&quot;Abundance&quot;</td><td>&quot;abundance&quot;</td><td>true</td><td>true</td><td>&quot;individuals&quot;</td><td>111.0</td><td>185.0</td><td>&quot;Intermediate s…</td><td>&quot;Direct from pu…</td><td>&quot;Cannot decide&quot;</td><td>&quot;Secondary fore…</td><td>415000.0</td><td>null</td><td>30.0</td></tr><tr><td>5</td><td>&quot;AD1_2001__Liow…</td><td>&quot;Liow et al. 20…</td><td>1</td><td>&quot;Singapore_abun…</td><td>null</td><td>5</td><td>&quot;KR&quot;</td><td>&quot;AD1_2001__Liow…</td><td>&quot;AD1_2001__Liow…</td><td>&quot;AD1_2001__Liow…</td><td>&quot;AD1_2001__Liow…</td><td>103.803611</td><td>1.282778</td><td>&quot;Georeferenced&quot;</td><td>&quot;Singapore&quot;</td><td>0.0</td><td>&quot;Asia&quot;</td><td>&quot;South-Eastern …</td><td>&quot;Indo-Malay&quot;</td><td>&quot;Tropical &amp; Sub…</td><td>&quot;Peninsular Mal…</td><td>0.0</td><td>null</td><td>&quot;Sundaland&quot;</td><td>&quot;Apidae&quot;</td><td>&quot;Family&quot;</td><td>&quot;1999-03-01&quot;</td><td>&quot;1999-07-03&quot;</td><td>&quot;1999-05-02&quot;</td><td>&quot;day&quot;</td><td>&quot;transects with…</td><td>20.0</td><td>0.666667</td><td>&quot;trap&quot;</td><td>2000.0</td><td>null</td><td>&quot;Apidae&quot;</td><td>1</td><td>&quot;Bees&quot;</td><td>&quot;Bees&quot;</td><td>null</td><td>13025340</td><td>&quot;Animalia&quot;</td><td>&quot;Arthropoda&quot;</td><td>&quot;Insecta&quot;</td><td>&quot;Hymenoptera&quot;</td><td>&quot;Apidae&quot;</td><td>null</td><td>null</td><td>&quot;Hymenoptera&quot;</td><td>&quot;Hymenoptera: A…</td><td>&quot;accepted name&quot;</td><td>&quot;Family&quot;</td><td>&quot;Abundance&quot;</td><td>&quot;abundance&quot;</td><td>true</td><td>true</td><td>&quot;individuals&quot;</td><td>63.0</td><td>94.5</td><td>&quot;Intermediate s…</td><td>&quot;Direct from pu…</td><td>&quot;Cannot decide&quot;</td><td>&quot;Secondary fore…</td><td>272000.0</td><td>null</td><td>30.0</td></tr><tr><td>&hellip;</td><td>&hellip;</td><td>&hellip;</td><td>&hellip;</td><td>&hellip;</td><td>&hellip;</td><td>&hellip;</td><td>&hellip;</td><td>&hellip;</td><td>&hellip;</td><td>&hellip;</td><td>&hellip;</td><td>&hellip;</td><td>&hellip;</td><td>&hellip;</td><td>&hellip;</td><td>&hellip;</td><td>&hellip;</td><td>&hellip;</td><td>&hellip;</td><td>&hellip;</td><td>&hellip;</td><td>&hellip;</td><td>&hellip;</td><td>&hellip;</td><td>&hellip;</td><td>&hellip;</td><td>&hellip;</td><td>&hellip;</td><td>&hellip;</td><td>&hellip;</td><td>&hellip;</td><td>&hellip;</td><td>&hellip;</td><td>&hellip;</td><td>&hellip;</td><td>&hellip;</td><td>&hellip;</td><td>&hellip;</td><td>&hellip;</td><td>&hellip;</td><td>&hellip;</td><td>&hellip;</td><td>&hellip;</td><td>&hellip;</td><td>&hellip;</td><td>&hellip;</td><td>&hellip;</td><td>&hellip;</td><td>&hellip;</td><td>&hellip;</td><td>&hellip;</td><td>&hellip;</td><td>&hellip;</td><td>&hellip;</td><td>&hellip;</td><td>&hellip;</td><td>&hellip;</td><td>&hellip;</td><td>&hellip;</td><td>&hellip;</td><td>&hellip;</td><td>&hellip;</td><td>&hellip;</td><td>&hellip;</td><td>&hellip;</td><td>&hellip;</td><td>&hellip;</td></tr><tr><td>2080570</td><td>&quot;YY1_2018__Guil…</td><td>&quot;Guillemot et a…</td><td>1</td><td>&quot;Coffee agrofor…</td><td>null</td><td>9</td><td>&quot;9&quot;</td><td>&quot;YY1_2018__Guil…</td><td>&quot;YY1_2018__Guil…</td><td>&quot;YY1_2018__Guil…</td><td>&quot;YY1_2018__Guil…</td><td>75.52428</td><td>12.26368</td><td>&quot;Direct from pu…</td><td>&quot;India&quot;</td><td>0.0</td><td>&quot;Asia&quot;</td><td>&quot;Southern Asia&quot;</td><td>&quot;Indo-Malay&quot;</td><td>&quot;Tropical &amp; Sub…</td><td>&quot;South Western …</td><td>0.0</td><td>null</td><td>&quot;Western Ghats …</td><td>&quot;Tracheophyta&quot;</td><td>&quot;Phylum&quot;</td><td>&quot;2017-01-01&quot;</td><td>&quot;2017-12-31&quot;</td><td>&quot;2017-07-02&quot;</td><td>&quot;year&quot;</td><td>&quot;fixed plots/qu…</td><td>700.0</td><td>1.0</td><td>&quot;square m&quot;</td><td>null</td><td>null</td><td>&quot;Magnolia champ…</td><td>63</td><td>&quot;Michelia champ…</td><td>&quot;Michelia champ…</td><td>&quot;Magnolia champ…</td><td>9705640</td><td>&quot;Plantae&quot;</td><td>&quot;Tracheophyta&quot;</td><td>&quot;Magnoliopsida&quot;</td><td>&quot;Magnoliales&quot;</td><td>&quot;Magnoliaceae&quot;</td><td>&quot;Magnolia&quot;</td><td>&quot;champaca&quot;</td><td>&quot;Magnoliopsida&quot;</td><td>&quot;plants&quot;</td><td>&quot;accepted name&quot;</td><td>&quot;Species&quot;</td><td>&quot;Abundance&quot;</td><td>&quot;abundance&quot;</td><td>true</td><td>true</td><td>&quot;individuals&quot;</td><td>0.0</td><td>0.0</td><td>&quot;Plantation for…</td><td>&quot;Direct from pu…</td><td>&quot;Minimal use&quot;</td><td>null</td><td>null</td><td>null</td><td>null</td></tr><tr><td>2080573</td><td>&quot;YY1_2018__Guil…</td><td>&quot;Guillemot et a…</td><td>1</td><td>&quot;Coffee agrofor…</td><td>null</td><td>9</td><td>&quot;9&quot;</td><td>&quot;YY1_2018__Guil…</td><td>&quot;YY1_2018__Guil…</td><td>&quot;YY1_2018__Guil…</td><td>&quot;YY1_2018__Guil…</td><td>75.52428</td><td>12.26368</td><td>&quot;Direct from pu…</td><td>&quot;India&quot;</td><td>0.0</td><td>&quot;Asia&quot;</td><td>&quot;Southern Asia&quot;</td><td>&quot;Indo-Malay&quot;</td><td>&quot;Tropical &amp; Sub…</td><td>&quot;South Western …</td><td>0.0</td><td>null</td><td>&quot;Western Ghats …</td><td>&quot;Tracheophyta&quot;</td><td>&quot;Phylum&quot;</td><td>&quot;2017-01-01&quot;</td><td>&quot;2017-12-31&quot;</td><td>&quot;2017-07-02&quot;</td><td>&quot;year&quot;</td><td>&quot;fixed plots/qu…</td><td>700.0</td><td>1.0</td><td>&quot;square m&quot;</td><td>null</td><td>null</td><td>&quot;Actinodaphne&quot;</td><td>66</td><td>&quot;Octinodefana m…</td><td>&quot;Octinodefana m…</td><td>&quot;Octinodefana m…</td><td>13217439</td><td>&quot;Plantae&quot;</td><td>&quot;Tracheophyta&quot;</td><td>&quot;Magnoliopsida&quot;</td><td>&quot;Laurales&quot;</td><td>&quot;Lauraceae&quot;</td><td>&quot;Actinodaphne&quot;</td><td>null</td><td>&quot;Magnoliopsida&quot;</td><td>&quot;plants&quot;</td><td>&quot;accepted name&quot;</td><td>&quot;Genus&quot;</td><td>&quot;Abundance&quot;</td><td>&quot;abundance&quot;</td><td>true</td><td>true</td><td>&quot;individuals&quot;</td><td>0.0</td><td>0.0</td><td>&quot;Plantation for…</td><td>&quot;Direct from pu…</td><td>&quot;Minimal use&quot;</td><td>null</td><td>null</td><td>null</td><td>null</td></tr><tr><td>2080580</td><td>&quot;YY1_2018__Guil…</td><td>&quot;Guillemot et a…</td><td>1</td><td>&quot;Coffee agrofor…</td><td>null</td><td>9</td><td>&quot;9&quot;</td><td>&quot;YY1_2018__Guil…</td><td>&quot;YY1_2018__Guil…</td><td>&quot;YY1_2018__Guil…</td><td>&quot;YY1_2018__Guil…</td><td>75.52428</td><td>12.26368</td><td>&quot;Direct from pu…</td><td>&quot;India&quot;</td><td>0.0</td><td>&quot;Asia&quot;</td><td>&quot;Southern Asia&quot;</td><td>&quot;Indo-Malay&quot;</td><td>&quot;Tropical &amp; Sub…</td><td>&quot;South Western …</td><td>0.0</td><td>null</td><td>&quot;Western Ghats …</td><td>&quot;Tracheophyta&quot;</td><td>&quot;Phylum&quot;</td><td>&quot;2017-01-01&quot;</td><td>&quot;2017-12-31&quot;</td><td>&quot;2017-07-02&quot;</td><td>&quot;year&quot;</td><td>&quot;fixed plots/qu…</td><td>700.0</td><td>1.0</td><td>&quot;square m&quot;</td><td>null</td><td>null</td><td>&quot;Sapindus&quot;</td><td>73</td><td>&quot;Sapindus emarg…</td><td>&quot;Sapindus emarg…</td><td>&quot;Sapindus emarg…</td><td>13187011</td><td>&quot;Plantae&quot;</td><td>&quot;Tracheophyta&quot;</td><td>&quot;Magnoliopsida&quot;</td><td>&quot;Sapindales&quot;</td><td>&quot;Sapindaceae&quot;</td><td>&quot;Sapindus&quot;</td><td>null</td><td>&quot;Magnoliopsida&quot;</td><td>&quot;plants&quot;</td><td>&quot;accepted name&quot;</td><td>&quot;Genus&quot;</td><td>&quot;Abundance&quot;</td><td>&quot;abundance&quot;</td><td>true</td><td>true</td><td>&quot;individuals&quot;</td><td>0.0</td><td>0.0</td><td>&quot;Plantation for…</td><td>&quot;Direct from pu…</td><td>&quot;Minimal use&quot;</td><td>null</td><td>null</td><td>null</td><td>null</td></tr><tr><td>2080586</td><td>&quot;YY1_2018__Guil…</td><td>&quot;Guillemot et a…</td><td>1</td><td>&quot;Coffee agrofor…</td><td>null</td><td>9</td><td>&quot;9&quot;</td><td>&quot;YY1_2018__Guil…</td><td>&quot;YY1_2018__Guil…</td><td>&quot;YY1_2018__Guil…</td><td>&quot;YY1_2018__Guil…</td><td>75.52428</td><td>12.26368</td><td>&quot;Direct from pu…</td><td>&quot;India&quot;</td><td>0.0</td><td>&quot;Asia&quot;</td><td>&quot;Southern Asia&quot;</td><td>&quot;Indo-Malay&quot;</td><td>&quot;Tropical &amp; Sub…</td><td>&quot;South Western …</td><td>0.0</td><td>null</td><td>&quot;Western Ghats …</td><td>&quot;Tracheophyta&quot;</td><td>&quot;Phylum&quot;</td><td>&quot;2017-01-01&quot;</td><td>&quot;2017-12-31&quot;</td><td>&quot;2017-07-02&quot;</td><td>&quot;year&quot;</td><td>&quot;fixed plots/qu…</td><td>700.0</td><td>1.0</td><td>&quot;square m&quot;</td><td>null</td><td>null</td><td>&quot;Tabernaemontan…</td><td>79</td><td>&quot;Tabernaemontan…</td><td>&quot;Tabernaemontan…</td><td>&quot;Tabernaemontan…</td><td>13185561</td><td>&quot;Plantae&quot;</td><td>&quot;Tracheophyta&quot;</td><td>&quot;Magnoliopsida&quot;</td><td>&quot;Gentianales&quot;</td><td>&quot;Apocynaceae&quot;</td><td>&quot;Tabernaemontan…</td><td>null</td><td>&quot;Magnoliopsida&quot;</td><td>&quot;plants&quot;</td><td>&quot;accepted name&quot;</td><td>&quot;Genus&quot;</td><td>&quot;Abundance&quot;</td><td>&quot;abundance&quot;</td><td>true</td><td>true</td><td>&quot;individuals&quot;</td><td>0.0</td><td>0.0</td><td>&quot;Plantation for…</td><td>&quot;Direct from pu…</td><td>&quot;Minimal use&quot;</td><td>null</td><td>null</td><td>null</td><td>null</td></tr><tr><td>2080587</td><td>&quot;YY1_2018__Guil…</td><td>&quot;Guillemot et a…</td><td>1</td><td>&quot;Coffee agrofor…</td><td>null</td><td>9</td><td>&quot;9&quot;</td><td>&quot;YY1_2018__Guil…</td><td>&quot;YY1_2018__Guil…</td><td>&quot;YY1_2018__Guil…</td><td>&quot;YY1_2018__Guil…</td><td>75.52428</td><td>12.26368</td><td>&quot;Direct from pu…</td><td>&quot;India&quot;</td><td>0.0</td><td>&quot;Asia&quot;</td><td>&quot;Southern Asia&quot;</td><td>&quot;Indo-Malay&quot;</td><td>&quot;Tropical &amp; Sub…</td><td>&quot;South Western …</td><td>0.0</td><td>null</td><td>&quot;Western Ghats …</td><td>&quot;Tracheophyta&quot;</td><td>&quot;Phylum&quot;</td><td>&quot;2017-01-01&quot;</td><td>&quot;2017-12-31&quot;</td><td>&quot;2017-07-02&quot;</td><td>&quot;year&quot;</td><td>&quot;fixed plots/qu…</td><td>700.0</td><td>1.0</td><td>&quot;square m&quot;</td><td>null</td><td>null</td><td>&quot;Tamarindus ind…</td><td>80</td><td>&quot;Tamarindus ind…</td><td>&quot;Tamarindus ind…</td><td>&quot;Tamarindus ind…</td><td>11468876</td><td>&quot;Plantae&quot;</td><td>&quot;Tracheophyta&quot;</td><td>&quot;Magnoliopsida&quot;</td><td>&quot;Fabales&quot;</td><td>&quot;Fabaceae&quot;</td><td>&quot;Tamarindus&quot;</td><td>&quot;indica&quot;</td><td>&quot;Magnoliopsida&quot;</td><td>&quot;plants&quot;</td><td>&quot;accepted name&quot;</td><td>&quot;Species&quot;</td><td>&quot;Abundance&quot;</td><td>&quot;abundance&quot;</td><td>true</td><td>true</td><td>&quot;individuals&quot;</td><td>0.0</td><td>0.0</td><td>&quot;Plantation for…</td><td>&quot;Direct from pu…</td><td>&quot;Minimal use&quot;</td><td>null</td><td>null</td><td>null</td><td>null</td></tr></tbody></table></div>"
      ],
      "text/plain": [
       "shape: (4_318_808, 68)\n",
       "┌─────────┬────────────┬───────────┬───────────┬───┬───────────┬───────────┬───────────┬───────────┐\n",
       "│ _id     ┆ Source_ID  ┆ Reference ┆ Study_num ┆ … ┆ Habitat_a ┆ Habitat_p ┆ Km_to_nea ┆ Years_sin │\n",
       "│ ---     ┆ ---        ┆ ---       ┆ ber       ┆   ┆ s_describ ┆ atch_area ┆ rest_edge ┆ ce_fragme │\n",
       "│ i64     ┆ str        ┆ str       ┆ ---       ┆   ┆ ed        ┆ _square_m ┆ _of_habit ┆ ntation_o │\n",
       "│         ┆            ┆           ┆ i64       ┆   ┆ ---       ┆ etres     ┆ at        ┆ r_con…    │\n",
       "│         ┆            ┆           ┆           ┆   ┆ str       ┆ ---       ┆ ---       ┆ ---       │\n",
       "│         ┆            ┆           ┆           ┆   ┆           ┆ f64       ┆ f64       ┆ f64       │\n",
       "╞═════════╪════════════╪═══════════╪═══════════╪═══╪═══════════╪═══════════╪═══════════╪═══════════╡\n",
       "│ 1       ┆ AD1_2001__ ┆ Liow et   ┆ 1         ┆ … ┆ Primary   ┆ 870000.0  ┆ null      ┆ null      │\n",
       "│         ┆ Liow       ┆ al. 2001  ┆           ┆   ┆ hill, dip ┆           ┆           ┆           │\n",
       "│         ┆            ┆           ┆           ┆   ┆ terocarp  ┆           ┆           ┆           │\n",
       "│         ┆            ┆           ┆           ┆   ┆ forest…   ┆           ┆           ┆           │\n",
       "│ 2       ┆ AD1_2001__ ┆ Liow et   ┆ 1         ┆ … ┆ Secondary ┆ 5.21e6    ┆ null      ┆ 70.0      │\n",
       "│         ┆ Liow       ┆ al. 2001  ┆           ┆   ┆ forest    ┆           ┆           ┆           │\n",
       "│         ┆            ┆           ┆           ┆   ┆ with      ┆           ┆           ┆           │\n",
       "│         ┆            ┆           ┆           ┆   ┆ primary   ┆           ┆           ┆           │\n",
       "│         ┆            ┆           ┆           ┆   ┆ pa…       ┆           ┆           ┆           │\n",
       "│ 3       ┆ AD1_2001__ ┆ Liow et   ┆ 1         ┆ … ┆ Secondary ┆ 7.946e6   ┆ null      ┆ 70.0      │\n",
       "│         ┆ Liow       ┆ al. 2001  ┆           ┆   ┆ forest    ┆           ┆           ┆           │\n",
       "│         ┆            ┆           ┆           ┆   ┆ with      ┆           ┆           ┆           │\n",
       "│         ┆            ┆           ┆           ┆   ┆ primary   ┆           ┆           ┆           │\n",
       "│         ┆            ┆           ┆           ┆   ┆ pa…       ┆           ┆           ┆           │\n",
       "│ 4       ┆ AD1_2001__ ┆ Liow et   ┆ 1         ┆ … ┆ Secondary ┆ 415000.0  ┆ null      ┆ 30.0      │\n",
       "│         ┆ Liow       ┆ al. 2001  ┆           ┆   ┆ forest    ┆           ┆           ┆           │\n",
       "│         ┆            ┆           ┆           ┆   ┆ mixed     ┆           ┆           ┆           │\n",
       "│         ┆            ┆           ┆           ┆   ┆ (Albizia  ┆           ┆           ┆           │\n",
       "│         ┆            ┆           ┆           ┆   ┆ …         ┆           ┆           ┆           │\n",
       "│ 5       ┆ AD1_2001__ ┆ Liow et   ┆ 1         ┆ … ┆ Secondary ┆ 272000.0  ┆ null      ┆ 30.0      │\n",
       "│         ┆ Liow       ┆ al. 2001  ┆           ┆   ┆ forest    ┆           ┆           ┆           │\n",
       "│         ┆            ┆           ┆           ┆   ┆ and open  ┆           ┆           ┆           │\n",
       "│         ┆            ┆           ┆           ┆   ┆ parkla…   ┆           ┆           ┆           │\n",
       "│ …       ┆ …          ┆ …         ┆ …         ┆ … ┆ …         ┆ …         ┆ …         ┆ …         │\n",
       "│ 2080570 ┆ YY1_2018__ ┆ Guillemot ┆ 1         ┆ … ┆ null      ┆ null      ┆ null      ┆ null      │\n",
       "│         ┆ Guillemot  ┆ et al.    ┆           ┆   ┆           ┆           ┆           ┆           │\n",
       "│         ┆            ┆ 2018      ┆           ┆   ┆           ┆           ┆           ┆           │\n",
       "│ 2080573 ┆ YY1_2018__ ┆ Guillemot ┆ 1         ┆ … ┆ null      ┆ null      ┆ null      ┆ null      │\n",
       "│         ┆ Guillemot  ┆ et al.    ┆           ┆   ┆           ┆           ┆           ┆           │\n",
       "│         ┆            ┆ 2018      ┆           ┆   ┆           ┆           ┆           ┆           │\n",
       "│ 2080580 ┆ YY1_2018__ ┆ Guillemot ┆ 1         ┆ … ┆ null      ┆ null      ┆ null      ┆ null      │\n",
       "│         ┆ Guillemot  ┆ et al.    ┆           ┆   ┆           ┆           ┆           ┆           │\n",
       "│         ┆            ┆ 2018      ┆           ┆   ┆           ┆           ┆           ┆           │\n",
       "│ 2080586 ┆ YY1_2018__ ┆ Guillemot ┆ 1         ┆ … ┆ null      ┆ null      ┆ null      ┆ null      │\n",
       "│         ┆ Guillemot  ┆ et al.    ┆           ┆   ┆           ┆           ┆           ┆           │\n",
       "│         ┆            ┆ 2018      ┆           ┆   ┆           ┆           ┆           ┆           │\n",
       "│ 2080587 ┆ YY1_2018__ ┆ Guillemot ┆ 1         ┆ … ┆ null      ┆ null      ┆ null      ┆ null      │\n",
       "│         ┆ Guillemot  ┆ et al.    ┆           ┆   ┆           ┆           ┆           ┆           │\n",
       "│         ┆            ┆ 2018      ┆           ┆   ┆           ┆           ┆           ┆           │\n",
       "└─────────┴────────────┴───────────┴───────────┴───┴───────────┴───────────┴───────────┴───────────┘"
      ]
     },
     "execution_count": 17,
     "metadata": {},
     "output_type": "execute_result"
    }
   ],
   "source": [
    "predicts = pl.read_parquet(\"../../data/output/predicts/all_predicts.parquet\")\n",
    "predicts"
   ]
  },
  {
   "cell_type": "code",
   "execution_count": 5,
   "id": "9aba4c37-0f1d-4694-a590-1b4ab00e63f5",
   "metadata": {},
   "outputs": [
    {
     "data": {
      "text/plain": [
       "(4318808, 68)"
      ]
     },
     "execution_count": 5,
     "metadata": {},
     "output_type": "execute_result"
    }
   ],
   "source": [
    "predicts.shape"
   ]
  },
  {
   "cell_type": "markdown",
   "id": "77801b83-86a3-47c5-8dbf-8f5d8b3e83f4",
   "metadata": {},
   "source": [
    "### Site coordinate data"
   ]
  },
  {
   "cell_type": "code",
   "execution_count": 18,
   "id": "35097412-3be5-4e23-a2b2-973166889684",
   "metadata": {},
   "outputs": [
    {
     "data": {
      "text/html": [
       "<div>\n",
       "<style scoped>\n",
       "    .dataframe tbody tr th:only-of-type {\n",
       "        vertical-align: middle;\n",
       "    }\n",
       "\n",
       "    .dataframe tbody tr th {\n",
       "        vertical-align: top;\n",
       "    }\n",
       "\n",
       "    .dataframe thead th {\n",
       "        text-align: right;\n",
       "    }\n",
       "</style>\n",
       "<table border=\"1\" class=\"dataframe\">\n",
       "  <thead>\n",
       "    <tr style=\"text-align: right;\">\n",
       "      <th></th>\n",
       "      <th>SSBS</th>\n",
       "      <th>UN_region</th>\n",
       "      <th>geometry</th>\n",
       "    </tr>\n",
       "  </thead>\n",
       "  <tbody>\n",
       "    <tr>\n",
       "      <th>0</th>\n",
       "      <td>AD1_2001__Liow 1  1</td>\n",
       "      <td>Asia</td>\n",
       "      <td>POINT (103.77861 1.35194)</td>\n",
       "    </tr>\n",
       "    <tr>\n",
       "      <th>1</th>\n",
       "      <td>AD1_2001__Liow 1  2</td>\n",
       "      <td>Asia</td>\n",
       "      <td>POINT (103.80806 1.35472)</td>\n",
       "    </tr>\n",
       "    <tr>\n",
       "      <th>2</th>\n",
       "      <td>AD1_2001__Liow 1  3</td>\n",
       "      <td>Asia</td>\n",
       "      <td>POINT (103.81167 1.39472)</td>\n",
       "    </tr>\n",
       "    <tr>\n",
       "      <th>3</th>\n",
       "      <td>AD1_2001__Liow 1  4</td>\n",
       "      <td>Asia</td>\n",
       "      <td>POINT (103.78722 1.32694)</td>\n",
       "    </tr>\n",
       "    <tr>\n",
       "      <th>4</th>\n",
       "      <td>AD1_2001__Liow 1  5</td>\n",
       "      <td>Asia</td>\n",
       "      <td>POINT (103.80361 1.28278)</td>\n",
       "    </tr>\n",
       "    <tr>\n",
       "      <th>...</th>\n",
       "      <td>...</td>\n",
       "      <td>...</td>\n",
       "      <td>...</td>\n",
       "    </tr>\n",
       "    <tr>\n",
       "      <th>35731</th>\n",
       "      <td>YY1_2018__Guillemot 1  66</td>\n",
       "      <td>Asia</td>\n",
       "      <td>POINT (75.48022 12.19213)</td>\n",
       "    </tr>\n",
       "    <tr>\n",
       "      <th>35732</th>\n",
       "      <td>YY1_2018__Guillemot 1  67</td>\n",
       "      <td>Asia</td>\n",
       "      <td>POINT (75.48012 12.21315)</td>\n",
       "    </tr>\n",
       "    <tr>\n",
       "      <th>35733</th>\n",
       "      <td>YY1_2018__Guillemot 1  7</td>\n",
       "      <td>Asia</td>\n",
       "      <td>POINT (75.52462 12.26442)</td>\n",
       "    </tr>\n",
       "    <tr>\n",
       "      <th>35734</th>\n",
       "      <td>YY1_2018__Guillemot 1  8</td>\n",
       "      <td>Asia</td>\n",
       "      <td>POINT (75.52417 12.26392)</td>\n",
       "    </tr>\n",
       "    <tr>\n",
       "      <th>35735</th>\n",
       "      <td>YY1_2018__Guillemot 1  9</td>\n",
       "      <td>Asia</td>\n",
       "      <td>POINT (75.52428 12.26368)</td>\n",
       "    </tr>\n",
       "  </tbody>\n",
       "</table>\n",
       "<p>35736 rows × 3 columns</p>\n",
       "</div>"
      ],
      "text/plain": [
       "                            SSBS UN_region                   geometry\n",
       "0            AD1_2001__Liow 1  1      Asia  POINT (103.77861 1.35194)\n",
       "1            AD1_2001__Liow 1  2      Asia  POINT (103.80806 1.35472)\n",
       "2            AD1_2001__Liow 1  3      Asia  POINT (103.81167 1.39472)\n",
       "3            AD1_2001__Liow 1  4      Asia  POINT (103.78722 1.32694)\n",
       "4            AD1_2001__Liow 1  5      Asia  POINT (103.80361 1.28278)\n",
       "...                          ...       ...                        ...\n",
       "35731  YY1_2018__Guillemot 1  66      Asia  POINT (75.48022 12.19213)\n",
       "35732  YY1_2018__Guillemot 1  67      Asia  POINT (75.48012 12.21315)\n",
       "35733   YY1_2018__Guillemot 1  7      Asia  POINT (75.52462 12.26442)\n",
       "35734   YY1_2018__Guillemot 1  8      Asia  POINT (75.52417 12.26392)\n",
       "35735   YY1_2018__Guillemot 1  9      Asia  POINT (75.52428 12.26368)\n",
       "\n",
       "[35736 rows x 3 columns]"
      ]
     },
     "execution_count": 18,
     "metadata": {},
     "output_type": "execute_result"
    }
   ],
   "source": [
    "site_coords = gpd.read_file(\"../../data/output/site_coords/all_site_coords.shp\")\n",
    "site_coords"
   ]
  },
  {
   "cell_type": "code",
   "execution_count": 8,
   "id": "e41a5d01-0a51-423b-aa39-8426f12dba7e",
   "metadata": {},
   "outputs": [
    {
     "data": {
      "text/plain": [
       "(35736, 3)"
      ]
     },
     "execution_count": 8,
     "metadata": {},
     "output_type": "execute_result"
    }
   ],
   "source": [
    "site_coords.shape"
   ]
  },
  {
   "cell_type": "code",
   "execution_count": 9,
   "id": "f64d8888-4232-40e2-8fe7-db1cc4109224",
   "metadata": {},
   "outputs": [
    {
     "data": {
      "text/plain": [
       "35736"
      ]
     },
     "execution_count": 9,
     "metadata": {},
     "output_type": "execute_result"
    }
   ],
   "source": [
    "len(predicts.get_column(\"SSBS\").unique().to_list())"
   ]
  },
  {
   "cell_type": "markdown",
   "id": "80111f1e-e8a7-4ed1-947f-7d31204fafa6",
   "metadata": {},
   "source": [
    "### Buffered polygon data"
   ]
  },
  {
   "cell_type": "code",
   "execution_count": 21,
   "id": "9cb71c53-ef34-4b87-b082-8eb969415d5c",
   "metadata": {},
   "outputs": [
    {
     "data": {
      "text/html": [
       "<div>\n",
       "<style scoped>\n",
       "    .dataframe tbody tr th:only-of-type {\n",
       "        vertical-align: middle;\n",
       "    }\n",
       "\n",
       "    .dataframe tbody tr th {\n",
       "        vertical-align: top;\n",
       "    }\n",
       "\n",
       "    .dataframe thead th {\n",
       "        text-align: right;\n",
       "    }\n",
       "</style>\n",
       "<table border=\"1\" class=\"dataframe\">\n",
       "  <thead>\n",
       "    <tr style=\"text-align: right;\">\n",
       "      <th></th>\n",
       "      <th>SSBS</th>\n",
       "      <th>geometry</th>\n",
       "    </tr>\n",
       "  </thead>\n",
       "  <tbody>\n",
       "    <tr>\n",
       "      <th>0</th>\n",
       "      <td>AD1_2001__Liow 1  1</td>\n",
       "      <td>POLYGON ((103.78759 1.36099, 103.78760 1.34290...</td>\n",
       "    </tr>\n",
       "    <tr>\n",
       "      <th>1</th>\n",
       "      <td>AD1_2001__Liow 1  2</td>\n",
       "      <td>POLYGON ((103.81704 1.36377, 103.81705 1.34568...</td>\n",
       "    </tr>\n",
       "    <tr>\n",
       "      <th>2</th>\n",
       "      <td>AD1_2001__Liow 1  3</td>\n",
       "      <td>POLYGON ((103.82065 1.40377, 103.82066 1.38568...</td>\n",
       "    </tr>\n",
       "    <tr>\n",
       "      <th>3</th>\n",
       "      <td>AD1_2001__Liow 1  4</td>\n",
       "      <td>POLYGON ((103.79620 1.33599, 103.79621 1.31790...</td>\n",
       "    </tr>\n",
       "    <tr>\n",
       "      <th>4</th>\n",
       "      <td>AD1_2001__Liow 1  5</td>\n",
       "      <td>POLYGON ((103.81259 1.29183, 103.81260 1.27374...</td>\n",
       "    </tr>\n",
       "    <tr>\n",
       "      <th>...</th>\n",
       "      <td>...</td>\n",
       "      <td>...</td>\n",
       "    </tr>\n",
       "    <tr>\n",
       "      <th>35731</th>\n",
       "      <td>YY1_2018__Guillemot 1  66</td>\n",
       "      <td>POLYGON ((75.48943 12.20116, 75.48940 12.18307...</td>\n",
       "    </tr>\n",
       "    <tr>\n",
       "      <th>35732</th>\n",
       "      <td>YY1_2018__Guillemot 1  67</td>\n",
       "      <td>POLYGON ((75.48933 12.22218, 75.48930 12.20409...</td>\n",
       "    </tr>\n",
       "    <tr>\n",
       "      <th>35733</th>\n",
       "      <td>YY1_2018__Guillemot 1  7</td>\n",
       "      <td>POLYGON ((75.53383 12.27345, 75.53380 12.25536...</td>\n",
       "    </tr>\n",
       "    <tr>\n",
       "      <th>35734</th>\n",
       "      <td>YY1_2018__Guillemot 1  8</td>\n",
       "      <td>POLYGON ((75.53338 12.27295, 75.53335 12.25486...</td>\n",
       "    </tr>\n",
       "    <tr>\n",
       "      <th>35735</th>\n",
       "      <td>YY1_2018__Guillemot 1  9</td>\n",
       "      <td>POLYGON ((75.53349 12.27271, 75.53346 12.25462...</td>\n",
       "    </tr>\n",
       "  </tbody>\n",
       "</table>\n",
       "<p>35736 rows × 2 columns</p>\n",
       "</div>"
      ],
      "text/plain": [
       "                            SSBS  \\\n",
       "0            AD1_2001__Liow 1  1   \n",
       "1            AD1_2001__Liow 1  2   \n",
       "2            AD1_2001__Liow 1  3   \n",
       "3            AD1_2001__Liow 1  4   \n",
       "4            AD1_2001__Liow 1  5   \n",
       "...                          ...   \n",
       "35731  YY1_2018__Guillemot 1  66   \n",
       "35732  YY1_2018__Guillemot 1  67   \n",
       "35733   YY1_2018__Guillemot 1  7   \n",
       "35734   YY1_2018__Guillemot 1  8   \n",
       "35735   YY1_2018__Guillemot 1  9   \n",
       "\n",
       "                                                geometry  \n",
       "0      POLYGON ((103.78759 1.36099, 103.78760 1.34290...  \n",
       "1      POLYGON ((103.81704 1.36377, 103.81705 1.34568...  \n",
       "2      POLYGON ((103.82065 1.40377, 103.82066 1.38568...  \n",
       "3      POLYGON ((103.79620 1.33599, 103.79621 1.31790...  \n",
       "4      POLYGON ((103.81259 1.29183, 103.81260 1.27374...  \n",
       "...                                                  ...  \n",
       "35731  POLYGON ((75.48943 12.20116, 75.48940 12.18307...  \n",
       "35732  POLYGON ((75.48933 12.22218, 75.48930 12.20409...  \n",
       "35733  POLYGON ((75.53383 12.27345, 75.53380 12.25536...  \n",
       "35734  POLYGON ((75.53338 12.27295, 75.53335 12.25486...  \n",
       "35735  POLYGON ((75.53349 12.27271, 75.53346 12.25462...  \n",
       "\n",
       "[35736 rows x 2 columns]"
      ]
     },
     "execution_count": 21,
     "metadata": {},
     "output_type": "execute_result"
    }
   ],
   "source": [
    "buff_glob_1 = gpd.read_file(\"../../data/output/buff_polygons/glob_buff_polygons_1km.shp\")\n",
    "buff_glob_1"
   ]
  },
  {
   "cell_type": "code",
   "execution_count": 25,
   "id": "60835bf3-5a26-41a0-aab6-b2c5f4f50495",
   "metadata": {},
   "outputs": [
    {
     "data": {
      "text/html": [
       "<div>\n",
       "<style scoped>\n",
       "    .dataframe tbody tr th:only-of-type {\n",
       "        vertical-align: middle;\n",
       "    }\n",
       "\n",
       "    .dataframe tbody tr th {\n",
       "        vertical-align: top;\n",
       "    }\n",
       "\n",
       "    .dataframe thead th {\n",
       "        text-align: right;\n",
       "    }\n",
       "</style>\n",
       "<table border=\"1\" class=\"dataframe\">\n",
       "  <thead>\n",
       "    <tr style=\"text-align: right;\">\n",
       "      <th></th>\n",
       "      <th>SSBS</th>\n",
       "      <th>geometry</th>\n",
       "    </tr>\n",
       "  </thead>\n",
       "  <tbody>\n",
       "    <tr>\n",
       "      <th>0</th>\n",
       "      <td>AD1_2001__Liow 1  1</td>\n",
       "      <td>POLYGON ((365117.227 150464.935, 365117.227 14...</td>\n",
       "    </tr>\n",
       "    <tr>\n",
       "      <th>1</th>\n",
       "      <td>AD1_2001__Liow 1  2</td>\n",
       "      <td>POLYGON ((368393.632 150770.404, 368393.632 14...</td>\n",
       "    </tr>\n",
       "    <tr>\n",
       "      <th>2</th>\n",
       "      <td>AD1_2001__Liow 1  3</td>\n",
       "      <td>POLYGON ((368797.635 155192.390, 368797.635 15...</td>\n",
       "    </tr>\n",
       "    <tr>\n",
       "      <th>3</th>\n",
       "      <td>AD1_2001__Liow 1  4</td>\n",
       "      <td>POLYGON ((366074.013 147700.566, 366074.013 14...</td>\n",
       "    </tr>\n",
       "    <tr>\n",
       "      <th>4</th>\n",
       "      <td>AD1_2001__Liow 1  5</td>\n",
       "      <td>POLYGON ((367895.283 142816.839, 367895.283 14...</td>\n",
       "    </tr>\n",
       "    <tr>\n",
       "      <th>...</th>\n",
       "      <td>...</td>\n",
       "      <td>...</td>\n",
       "    </tr>\n",
       "    <tr>\n",
       "      <th>35731</th>\n",
       "      <td>YY1_2018__Guillemot 1  66</td>\n",
       "      <td>POLYGON ((553239.559 1348845.376, 553239.559 1...</td>\n",
       "    </tr>\n",
       "    <tr>\n",
       "      <th>35732</th>\n",
       "      <td>YY1_2018__Guillemot 1  67</td>\n",
       "      <td>POLYGON ((553224.563 1351169.816, 553224.563 1...</td>\n",
       "    </tr>\n",
       "    <tr>\n",
       "      <th>35733</th>\n",
       "      <td>YY1_2018__Guillemot 1  7</td>\n",
       "      <td>POLYGON ((558054.119 1356848.446, 558054.119 1...</td>\n",
       "    </tr>\n",
       "    <tr>\n",
       "      <th>35734</th>\n",
       "      <td>YY1_2018__Guillemot 1  8</td>\n",
       "      <td>POLYGON ((558005.286 1356793.059, 558005.286 1...</td>\n",
       "    </tr>\n",
       "    <tr>\n",
       "      <th>35735</th>\n",
       "      <td>YY1_2018__Guillemot 1  9</td>\n",
       "      <td>POLYGON ((558017.301 1356766.542, 558017.301 1...</td>\n",
       "    </tr>\n",
       "  </tbody>\n",
       "</table>\n",
       "<p>35736 rows × 2 columns</p>\n",
       "</div>"
      ],
      "text/plain": [
       "                            SSBS  \\\n",
       "0            AD1_2001__Liow 1  1   \n",
       "1            AD1_2001__Liow 1  2   \n",
       "2            AD1_2001__Liow 1  3   \n",
       "3            AD1_2001__Liow 1  4   \n",
       "4            AD1_2001__Liow 1  5   \n",
       "...                          ...   \n",
       "35731  YY1_2018__Guillemot 1  66   \n",
       "35732  YY1_2018__Guillemot 1  67   \n",
       "35733   YY1_2018__Guillemot 1  7   \n",
       "35734   YY1_2018__Guillemot 1  8   \n",
       "35735   YY1_2018__Guillemot 1  9   \n",
       "\n",
       "                                                geometry  \n",
       "0      POLYGON ((365117.227 150464.935, 365117.227 14...  \n",
       "1      POLYGON ((368393.632 150770.404, 368393.632 14...  \n",
       "2      POLYGON ((368797.635 155192.390, 368797.635 15...  \n",
       "3      POLYGON ((366074.013 147700.566, 366074.013 14...  \n",
       "4      POLYGON ((367895.283 142816.839, 367895.283 14...  \n",
       "...                                                  ...  \n",
       "35731  POLYGON ((553239.559 1348845.376, 553239.559 1...  \n",
       "35732  POLYGON ((553224.563 1351169.816, 553224.563 1...  \n",
       "35733  POLYGON ((558054.119 1356848.446, 558054.119 1...  \n",
       "35734  POLYGON ((558005.286 1356793.059, 558005.286 1...  \n",
       "35735  POLYGON ((558017.301 1356766.542, 558017.301 1...  \n",
       "\n",
       "[35736 rows x 2 columns]"
      ]
     },
     "execution_count": 25,
     "metadata": {},
     "output_type": "execute_result"
    }
   ],
   "source": [
    "buff_glob_2 = gpd.read_file(\"../../data/output/buff_polygons/utm_buff_polygons_1km.shp\")\n",
    "buff_glob_2"
   ]
  },
  {
   "cell_type": "markdown",
   "id": "95ca3f9c-83bf-4294-bed8-97dff65671fb",
   "metadata": {},
   "source": [
    "### Road density data"
   ]
  },
  {
   "cell_type": "code",
   "execution_count": 38,
   "id": "c20caa6d-718f-43bd-b386-65132edd052f",
   "metadata": {},
   "outputs": [
    {
     "data": {
      "text/html": [
       "<div>\n",
       "<style scoped>\n",
       "    .dataframe tbody tr th:only-of-type {\n",
       "        vertical-align: middle;\n",
       "    }\n",
       "\n",
       "    .dataframe tbody tr th {\n",
       "        vertical-align: top;\n",
       "    }\n",
       "\n",
       "    .dataframe thead th {\n",
       "        text-align: right;\n",
       "    }\n",
       "</style>\n",
       "<table border=\"1\" class=\"dataframe\">\n",
       "  <thead>\n",
       "    <tr style=\"text-align: right;\">\n",
       "      <th></th>\n",
       "      <th>SSBS</th>\n",
       "      <th>Road_density_1km</th>\n",
       "      <th>Road_density_10km</th>\n",
       "      <th>Road_density_50km</th>\n",
       "    </tr>\n",
       "  </thead>\n",
       "  <tbody>\n",
       "    <tr>\n",
       "      <th>68</th>\n",
       "      <td>AD1_2002__Tonhasca 1  1</td>\n",
       "      <td>1450.534369</td>\n",
       "      <td>58222.940069</td>\n",
       "      <td>2.247812e+06</td>\n",
       "    </tr>\n",
       "    <tr>\n",
       "      <th>69</th>\n",
       "      <td>AD1_2002__Tonhasca 1  2</td>\n",
       "      <td>0.000000</td>\n",
       "      <td>88350.217259</td>\n",
       "      <td>2.353469e+06</td>\n",
       "    </tr>\n",
       "    <tr>\n",
       "      <th>70</th>\n",
       "      <td>AD1_2002__Tonhasca 1  3</td>\n",
       "      <td>0.000000</td>\n",
       "      <td>94962.319409</td>\n",
       "      <td>2.325169e+06</td>\n",
       "    </tr>\n",
       "    <tr>\n",
       "      <th>71</th>\n",
       "      <td>AD1_2002__Tonhasca 1  4</td>\n",
       "      <td>401.379448</td>\n",
       "      <td>94026.163909</td>\n",
       "      <td>2.283172e+06</td>\n",
       "    </tr>\n",
       "    <tr>\n",
       "      <th>72</th>\n",
       "      <td>AD1_2002__Tonhasca 1  5</td>\n",
       "      <td>6452.213951</td>\n",
       "      <td>123093.617763</td>\n",
       "      <td>2.056315e+06</td>\n",
       "    </tr>\n",
       "    <tr>\n",
       "      <th>...</th>\n",
       "      <td>...</td>\n",
       "      <td>...</td>\n",
       "      <td>...</td>\n",
       "      <td>...</td>\n",
       "    </tr>\n",
       "    <tr>\n",
       "      <th>34333</th>\n",
       "      <td>VK1_2013__ABMIboreal 7  5</td>\n",
       "      <td>0.000000</td>\n",
       "      <td>56520.132017</td>\n",
       "      <td>2.728339e+06</td>\n",
       "    </tr>\n",
       "    <tr>\n",
       "      <th>34334</th>\n",
       "      <td>VK1_2013__ABMIboreal 7  6</td>\n",
       "      <td>0.000000</td>\n",
       "      <td>73489.845850</td>\n",
       "      <td>2.718735e+06</td>\n",
       "    </tr>\n",
       "    <tr>\n",
       "      <th>34335</th>\n",
       "      <td>VK1_2013__ABMIboreal 7  7</td>\n",
       "      <td>2009.314410</td>\n",
       "      <td>163825.131491</td>\n",
       "      <td>2.960971e+06</td>\n",
       "    </tr>\n",
       "    <tr>\n",
       "      <th>34336</th>\n",
       "      <td>VK1_2013__ABMIboreal 7  8</td>\n",
       "      <td>2201.724782</td>\n",
       "      <td>87344.291912</td>\n",
       "      <td>2.803324e+06</td>\n",
       "    </tr>\n",
       "    <tr>\n",
       "      <th>34337</th>\n",
       "      <td>VK1_2013__ABMIboreal 7  9</td>\n",
       "      <td>0.000000</td>\n",
       "      <td>57503.559659</td>\n",
       "      <td>2.740278e+06</td>\n",
       "    </tr>\n",
       "  </tbody>\n",
       "</table>\n",
       "<p>10040 rows × 4 columns</p>\n",
       "</div>"
      ],
      "text/plain": [
       "                            SSBS  Road_density_1km  Road_density_10km  \\\n",
       "68       AD1_2002__Tonhasca 1  1       1450.534369       58222.940069   \n",
       "69       AD1_2002__Tonhasca 1  2          0.000000       88350.217259   \n",
       "70       AD1_2002__Tonhasca 1  3          0.000000       94962.319409   \n",
       "71       AD1_2002__Tonhasca 1  4        401.379448       94026.163909   \n",
       "72       AD1_2002__Tonhasca 1  5       6452.213951      123093.617763   \n",
       "...                          ...               ...                ...   \n",
       "34333  VK1_2013__ABMIboreal 7  5          0.000000       56520.132017   \n",
       "34334  VK1_2013__ABMIboreal 7  6          0.000000       73489.845850   \n",
       "34335  VK1_2013__ABMIboreal 7  7       2009.314410      163825.131491   \n",
       "34336  VK1_2013__ABMIboreal 7  8       2201.724782       87344.291912   \n",
       "34337  VK1_2013__ABMIboreal 7  9          0.000000       57503.559659   \n",
       "\n",
       "       Road_density_50km  \n",
       "68          2.247812e+06  \n",
       "69          2.353469e+06  \n",
       "70          2.325169e+06  \n",
       "71          2.283172e+06  \n",
       "72          2.056315e+06  \n",
       "...                  ...  \n",
       "34333       2.728339e+06  \n",
       "34334       2.718735e+06  \n",
       "34335       2.960971e+06  \n",
       "34336       2.803324e+06  \n",
       "34337       2.740278e+06  \n",
       "\n",
       "[10040 rows x 4 columns]"
      ]
     },
     "execution_count": 38,
     "metadata": {},
     "output_type": "execute_result"
    }
   ],
   "source": [
    "road_1 = pd.read_parquet(\"../../data/output/road_density/road_density_americas.parquet\")\n",
    "road_1"
   ]
  },
  {
   "cell_type": "code",
   "execution_count": 34,
   "id": "d91a6548-5ee0-4fad-8e3f-68eff3a1a672",
   "metadata": {},
   "outputs": [
    {
     "data": {
      "text/plain": [
       "(5063, 5)"
      ]
     },
     "execution_count": 34,
     "metadata": {},
     "output_type": "execute_result"
    }
   ],
   "source": [
    "road_1.shape"
   ]
  },
  {
   "cell_type": "code",
   "execution_count": 37,
   "id": "558012c0-41c5-402d-9016-b2742b2e889c",
   "metadata": {},
   "outputs": [
    {
     "data": {
      "text/plain": [
       "35736"
      ]
     },
     "execution_count": 37,
     "metadata": {},
     "output_type": "execute_result"
    }
   ],
   "source": [
    "12751 + 2551 + 5063 + 5331 + 10040"
   ]
  },
  {
   "cell_type": "code",
   "execution_count": 28,
   "id": "4de78d2e-b433-4d1f-a31a-512f61580f11",
   "metadata": {},
   "outputs": [
    {
     "data": {
      "text/html": [
       "<div><style>\n",
       ".dataframe > thead > tr,\n",
       ".dataframe > tbody > tr {\n",
       "  text-align: right;\n",
       "  white-space: pre-wrap;\n",
       "}\n",
       "</style>\n",
       "<small>shape: (35_736, 4)</small><table border=\"1\" class=\"dataframe\"><thead><tr><th>SSBS</th><th>Road_density_1km</th><th>Road_density_10km</th><th>Road_density_50km</th></tr><tr><td>str</td><td>f64</td><td>f64</td><td>f64</td></tr></thead><tbody><tr><td>&quot;AD1_2005__Blan…</td><td>2081.750094</td><td>190364.497423</td><td>2.0841e6</td></tr><tr><td>&quot;AD1_2005__Blan…</td><td>1119.81094</td><td>187993.994423</td><td>2.0724e6</td></tr><tr><td>&quot;AD1_2005__Blan…</td><td>0.0</td><td>98624.640142</td><td>1.9359e6</td></tr><tr><td>&quot;AD1_2005__Blan…</td><td>1186.374931</td><td>86832.033723</td><td>1.8261e6</td></tr><tr><td>&quot;AD1_2005__Blan…</td><td>0.0</td><td>68115.435147</td><td>1.7579e6</td></tr><tr><td>&hellip;</td><td>&hellip;</td><td>&hellip;</td><td>&hellip;</td></tr><tr><td>&quot;VK1_2013__ABMI…</td><td>0.0</td><td>56520.132017</td><td>2.7283e6</td></tr><tr><td>&quot;VK1_2013__ABMI…</td><td>0.0</td><td>73489.84585</td><td>2.7187e6</td></tr><tr><td>&quot;VK1_2013__ABMI…</td><td>2009.31441</td><td>163825.131491</td><td>2.9610e6</td></tr><tr><td>&quot;VK1_2013__ABMI…</td><td>2201.724782</td><td>87344.291912</td><td>2.8033e6</td></tr><tr><td>&quot;VK1_2013__ABMI…</td><td>0.0</td><td>57503.559659</td><td>2.7403e6</td></tr></tbody></table></div>"
      ],
      "text/plain": [
       "shape: (35_736, 4)\n",
       "┌───────────────────────────┬──────────────────┬───────────────────┬───────────────────┐\n",
       "│ SSBS                      ┆ Road_density_1km ┆ Road_density_10km ┆ Road_density_50km │\n",
       "│ ---                       ┆ ---              ┆ ---               ┆ ---               │\n",
       "│ str                       ┆ f64              ┆ f64               ┆ f64               │\n",
       "╞═══════════════════════════╪══════════════════╪═══════════════════╪═══════════════════╡\n",
       "│ AD1_2005__Blanche 1  1    ┆ 2081.750094      ┆ 190364.497423     ┆ 2.0841e6          │\n",
       "│ AD1_2005__Blanche 1  2    ┆ 1119.81094       ┆ 187993.994423     ┆ 2.0724e6          │\n",
       "│ AD1_2005__Blanche 1  3    ┆ 0.0              ┆ 98624.640142      ┆ 1.9359e6          │\n",
       "│ AD1_2005__Blanche 1  4    ┆ 1186.374931      ┆ 86832.033723      ┆ 1.8261e6          │\n",
       "│ AD1_2005__Blanche 1  5    ┆ 0.0              ┆ 68115.435147      ┆ 1.7579e6          │\n",
       "│ …                         ┆ …                ┆ …                 ┆ …                 │\n",
       "│ VK1_2013__ABMIboreal 7  5 ┆ 0.0              ┆ 56520.132017      ┆ 2.7283e6          │\n",
       "│ VK1_2013__ABMIboreal 7  6 ┆ 0.0              ┆ 73489.84585       ┆ 2.7187e6          │\n",
       "│ VK1_2013__ABMIboreal 7  7 ┆ 2009.31441       ┆ 163825.131491     ┆ 2.9610e6          │\n",
       "│ VK1_2013__ABMIboreal 7  8 ┆ 2201.724782      ┆ 87344.291912      ┆ 2.8033e6          │\n",
       "│ VK1_2013__ABMIboreal 7  9 ┆ 0.0              ┆ 57503.559659      ┆ 2.7403e6          │\n",
       "└───────────────────────────┴──────────────────┴───────────────────┴───────────────────┘"
      ]
     },
     "execution_count": 28,
     "metadata": {},
     "output_type": "execute_result"
    }
   ],
   "source": [
    "road_2 = pl.read_parquet(\"../../data/output/road_density/road_density_orig.parquet\")\n",
    "road_2"
   ]
  },
  {
   "cell_type": "markdown",
   "id": "c1ceeac6-3a8d-44a8-8757-3efc8f15eb4b",
   "metadata": {},
   "source": [
    "### Population density data"
   ]
  },
  {
   "cell_type": "code",
   "execution_count": 39,
   "id": "d7c5138e-f25b-43f0-ab2b-ea1b57686f4f",
   "metadata": {},
   "outputs": [
    {
     "data": {
      "text/html": [
       "<div><style>\n",
       ".dataframe > thead > tr,\n",
       ".dataframe > tbody > tr {\n",
       "  text-align: right;\n",
       "  white-space: pre-wrap;\n",
       "}\n",
       "</style>\n",
       "<small>shape: (35_736, 16)</small><table border=\"1\" class=\"dataframe\"><thead><tr><th>SSBS</th><th>Pop_density_1km_2000</th><th>Pop_density_1km_2005</th><th>Pop_density_1km_2010</th><th>Pop_density_1km_2015</th><th>Pop_density_1km_2020</th><th>Pop_density_10km_2000</th><th>Pop_density_10km_2005</th><th>Pop_density_10km_2010</th><th>Pop_density_10km_2015</th><th>Pop_density_10km_2020</th><th>Pop_density_50km_2000</th><th>Pop_density_50km_2005</th><th>Pop_density_50km_2010</th><th>Pop_density_50km_2015</th><th>Pop_density_50km_2020</th></tr><tr><td>str</td><td>f64</td><td>f64</td><td>f64</td><td>f64</td><td>f64</td><td>f64</td><td>f64</td><td>f64</td><td>f64</td><td>f64</td><td>f64</td><td>f64</td><td>f64</td><td>f64</td><td>f64</td></tr></thead><tbody><tr><td>&quot;AD1_2001__Liow…</td><td>8665.053819</td><td>10686.046875</td><td>12856.830729</td><td>14912.848958</td><td>16510.614583</td><td>6093.886228</td><td>6958.095808</td><td>7791.201098</td><td>8467.353293</td><td>8861.665669</td><td>933.654075</td><td>1093.091219</td><td>1268.813392</td><td>1454.161213</td><td>1641.065066</td></tr><tr><td>&quot;AD1_2001__Liow…</td><td>1131.090088</td><td>1245.123128</td><td>1336.200765</td><td>1381.482259</td><td>1362.475993</td><td>7262.850962</td><td>8273.240919</td><td>9271.036325</td><td>10134.848291</td><td>10751.494658</td><td>940.373195</td><td>1101.212981</td><td>1278.487799</td><td>1465.453558</td><td>1653.969848</td></tr><tr><td>&quot;AD1_2001__Liow…</td><td>4979.729167</td><td>5457.96875</td><td>5831.039931</td><td>6000.927951</td><td>5890.359375</td><td>6354.087041</td><td>7373.591876</td><td>8452.087041</td><td>9503.366538</td><td>10438.625725</td><td>898.962319</td><td>1050.302434</td><td>1216.123064</td><td>1389.497541</td><td>1562.316572</td></tr><tr><td>&quot;AD1_2001__Liow…</td><td>4332.883681</td><td>4888.942708</td><td>5376.256944</td><td>5694.303819</td><td>5751.630208</td><td>6440.715232</td><td>7292.890728</td><td>8099.86755</td><td>8738.147903</td><td>9092.586093</td><td>951.244901</td><td>1114.757922</td><td>1295.39474</td><td>1486.577678</td><td>1680.202951</td></tr><tr><td>&quot;AD1_2001__Liow…</td><td>8465.158203</td><td>9318.025391</td><td>9998.738932</td><td>10336.432943</td><td>10192.90625</td><td>6748.165722</td><td>7515.062323</td><td>8172.850567</td><td>8578.686969</td><td>8606.26983</td><td>979.929484</td><td>1149.967869</td><td>1338.408612</td><td>1538.764551</td><td>1742.833948</td></tr><tr><td>&hellip;</td><td>&hellip;</td><td>&hellip;</td><td>&hellip;</td><td>&hellip;</td><td>&hellip;</td><td>&hellip;</td><td>&hellip;</td><td>&hellip;</td><td>&hellip;</td><td>&hellip;</td><td>&hellip;</td><td>&hellip;</td><td>&hellip;</td><td>&hellip;</td><td>&hellip;</td></tr><tr><td>&quot;YY1_2018__Guil…</td><td>590.26534</td><td>605.511068</td><td>614.269124</td><td>616.078532</td><td>613.694906</td><td>540.695776</td><td>554.470603</td><td>562.303607</td><td>563.778656</td><td>561.42311</td><td>499.808859</td><td>514.666182</td><td>524.158089</td><td>527.828342</td><td>527.977707</td></tr><tr><td>&quot;YY1_2018__Guil…</td><td>590.265299</td><td>605.511013</td><td>614.269151</td><td>616.078505</td><td>613.694933</td><td>500.895794</td><td>513.816871</td><td>521.247519</td><td>522.796786</td><td>520.803166</td><td>489.466551</td><td>503.998265</td><td>513.275786</td><td>516.852998</td><td>516.983275</td></tr><tr><td>&quot;YY1_2018__Guil…</td><td>193.610229</td><td>197.006938</td><td>198.257935</td><td>197.266805</td><td>194.962158</td><td>279.459072</td><td>285.458256</td><td>288.373834</td><td>288.029064</td><td>285.747464</td><td>450.7511</td><td>464.196677</td><td>472.816929</td><td>476.199326</td><td>476.417872</td></tr><tr><td>&quot;YY1_2018__Guil…</td><td>193.610229</td><td>197.006938</td><td>198.257935</td><td>197.266805</td><td>194.962158</td><td>281.725839</td><td>287.793272</td><td>290.752215</td><td>290.423972</td><td>288.142486</td><td>451.245673</td><td>464.68803</td><td>473.29872</td><td>476.66536</td><td>476.864521</td></tr><tr><td>&quot;YY1_2018__Guil…</td><td>193.610229</td><td>197.006938</td><td>198.257935</td><td>197.266805</td><td>194.962158</td><td>281.725839</td><td>287.793272</td><td>290.752215</td><td>290.423972</td><td>288.142486</td><td>451.129933</td><td>464.56776</td><td>473.175257</td><td>476.540007</td><td>476.738106</td></tr></tbody></table></div>"
      ],
      "text/plain": [
       "shape: (35_736, 16)\n",
       "┌───────────┬───────────┬───────────┬───────────┬───┬───────────┬───────────┬───────────┬──────────┐\n",
       "│ SSBS      ┆ Pop_densi ┆ Pop_densi ┆ Pop_densi ┆ … ┆ Pop_densi ┆ Pop_densi ┆ Pop_densi ┆ Pop_dens │\n",
       "│ ---       ┆ ty_1km_20 ┆ ty_1km_20 ┆ ty_1km_20 ┆   ┆ ty_50km_2 ┆ ty_50km_2 ┆ ty_50km_2 ┆ ity_50km │\n",
       "│ str       ┆ 00        ┆ 05        ┆ 10        ┆   ┆ 005       ┆ 010       ┆ 015       ┆ _2020    │\n",
       "│           ┆ ---       ┆ ---       ┆ ---       ┆   ┆ ---       ┆ ---       ┆ ---       ┆ ---      │\n",
       "│           ┆ f64       ┆ f64       ┆ f64       ┆   ┆ f64       ┆ f64       ┆ f64       ┆ f64      │\n",
       "╞═══════════╪═══════════╪═══════════╪═══════════╪═══╪═══════════╪═══════════╪═══════════╪══════════╡\n",
       "│ AD1_2001_ ┆ 8665.0538 ┆ 10686.046 ┆ 12856.830 ┆ … ┆ 1093.0912 ┆ 1268.8133 ┆ 1454.1612 ┆ 1641.065 │\n",
       "│ _Liow 1   ┆ 19        ┆ 875       ┆ 729       ┆   ┆ 19        ┆ 92        ┆ 13        ┆ 066      │\n",
       "│ 1         ┆           ┆           ┆           ┆   ┆           ┆           ┆           ┆          │\n",
       "│ AD1_2001_ ┆ 1131.0900 ┆ 1245.1231 ┆ 1336.2007 ┆ … ┆ 1101.2129 ┆ 1278.4877 ┆ 1465.4535 ┆ 1653.969 │\n",
       "│ _Liow 1   ┆ 88        ┆ 28        ┆ 65        ┆   ┆ 81        ┆ 99        ┆ 58        ┆ 848      │\n",
       "│ 2         ┆           ┆           ┆           ┆   ┆           ┆           ┆           ┆          │\n",
       "│ AD1_2001_ ┆ 4979.7291 ┆ 5457.9687 ┆ 5831.0399 ┆ … ┆ 1050.3024 ┆ 1216.1230 ┆ 1389.4975 ┆ 1562.316 │\n",
       "│ _Liow 1   ┆ 67        ┆ 5         ┆ 31        ┆   ┆ 34        ┆ 64        ┆ 41        ┆ 572      │\n",
       "│ 3         ┆           ┆           ┆           ┆   ┆           ┆           ┆           ┆          │\n",
       "│ AD1_2001_ ┆ 4332.8836 ┆ 4888.9427 ┆ 5376.2569 ┆ … ┆ 1114.7579 ┆ 1295.3947 ┆ 1486.5776 ┆ 1680.202 │\n",
       "│ _Liow 1   ┆ 81        ┆ 08        ┆ 44        ┆   ┆ 22        ┆ 4         ┆ 78        ┆ 951      │\n",
       "│ 4         ┆           ┆           ┆           ┆   ┆           ┆           ┆           ┆          │\n",
       "│ AD1_2001_ ┆ 8465.1582 ┆ 9318.0253 ┆ 9998.7389 ┆ … ┆ 1149.9678 ┆ 1338.4086 ┆ 1538.7645 ┆ 1742.833 │\n",
       "│ _Liow 1   ┆ 03        ┆ 91        ┆ 32        ┆   ┆ 69        ┆ 12        ┆ 51        ┆ 948      │\n",
       "│ 5         ┆           ┆           ┆           ┆   ┆           ┆           ┆           ┆          │\n",
       "│ …         ┆ …         ┆ …         ┆ …         ┆ … ┆ …         ┆ …         ┆ …         ┆ …        │\n",
       "│ YY1_2018_ ┆ 590.26534 ┆ 605.51106 ┆ 614.26912 ┆ … ┆ 514.66618 ┆ 524.15808 ┆ 527.82834 ┆ 527.9777 │\n",
       "│ _Guillemo ┆           ┆ 8         ┆ 4         ┆   ┆ 2         ┆ 9         ┆ 2         ┆ 07       │\n",
       "│ t 1  66   ┆           ┆           ┆           ┆   ┆           ┆           ┆           ┆          │\n",
       "│ YY1_2018_ ┆ 590.26529 ┆ 605.51101 ┆ 614.26915 ┆ … ┆ 503.99826 ┆ 513.27578 ┆ 516.85299 ┆ 516.9832 │\n",
       "│ _Guillemo ┆ 9         ┆ 3         ┆ 1         ┆   ┆ 5         ┆ 6         ┆ 8         ┆ 75       │\n",
       "│ t 1  67   ┆           ┆           ┆           ┆   ┆           ┆           ┆           ┆          │\n",
       "│ YY1_2018_ ┆ 193.61022 ┆ 197.00693 ┆ 198.25793 ┆ … ┆ 464.19667 ┆ 472.81692 ┆ 476.19932 ┆ 476.4178 │\n",
       "│ _Guillemo ┆ 9         ┆ 8         ┆ 5         ┆   ┆ 7         ┆ 9         ┆ 6         ┆ 72       │\n",
       "│ t 1  7    ┆           ┆           ┆           ┆   ┆           ┆           ┆           ┆          │\n",
       "│ YY1_2018_ ┆ 193.61022 ┆ 197.00693 ┆ 198.25793 ┆ … ┆ 464.68803 ┆ 473.29872 ┆ 476.66536 ┆ 476.8645 │\n",
       "│ _Guillemo ┆ 9         ┆ 8         ┆ 5         ┆   ┆           ┆           ┆           ┆ 21       │\n",
       "│ t 1  8    ┆           ┆           ┆           ┆   ┆           ┆           ┆           ┆          │\n",
       "│ YY1_2018_ ┆ 193.61022 ┆ 197.00693 ┆ 198.25793 ┆ … ┆ 464.56776 ┆ 473.17525 ┆ 476.54000 ┆ 476.7381 │\n",
       "│ _Guillemo ┆ 9         ┆ 8         ┆ 5         ┆   ┆           ┆ 7         ┆ 7         ┆ 06       │\n",
       "│ t 1  9    ┆           ┆           ┆           ┆   ┆           ┆           ┆           ┆          │\n",
       "└───────────┴───────────┴───────────┴───────────┴───┴───────────┴───────────┴───────────┴──────────┘"
      ]
     },
     "execution_count": 39,
     "metadata": {},
     "output_type": "execute_result"
    }
   ],
   "source": [
    "df_pop_all = pl.read_parquet(\"../../data/output/pop_density/pop_density.parquet\")\n",
    "df_pop_all"
   ]
  },
  {
   "cell_type": "code",
   "execution_count": 40,
   "id": "6ad969b7-2b22-40fe-8c59-110104559d3d",
   "metadata": {},
   "outputs": [
    {
     "data": {
      "text/html": [
       "<div><style>\n",
       ".dataframe > thead > tr,\n",
       ".dataframe > tbody > tr {\n",
       "  text-align: right;\n",
       "  white-space: pre-wrap;\n",
       "}\n",
       "</style>\n",
       "<small>shape: (35_736, 6)</small><table border=\"1\" class=\"dataframe\"><thead><tr><th>SSBS</th><th>Pop_density_1km_2000</th><th>Pop_density_1km_2005</th><th>Pop_density_1km_2010</th><th>Pop_density_1km_2015</th><th>Pop_density_1km_2020</th></tr><tr><td>str</td><td>f64</td><td>f64</td><td>f64</td><td>f64</td><td>f64</td></tr></thead><tbody><tr><td>&quot;AD1_2001__Liow…</td><td>8665.053819</td><td>10686.046875</td><td>12856.830729</td><td>14912.848958</td><td>16510.614583</td></tr><tr><td>&quot;AD1_2001__Liow…</td><td>1131.090088</td><td>1245.123128</td><td>1336.200765</td><td>1381.482259</td><td>1362.475993</td></tr><tr><td>&quot;AD1_2001__Liow…</td><td>4979.729167</td><td>5457.96875</td><td>5831.039931</td><td>6000.927951</td><td>5890.359375</td></tr><tr><td>&quot;AD1_2001__Liow…</td><td>4332.883681</td><td>4888.942708</td><td>5376.256944</td><td>5694.303819</td><td>5751.630208</td></tr><tr><td>&quot;AD1_2001__Liow…</td><td>8465.158203</td><td>9318.025391</td><td>9998.738932</td><td>10336.432943</td><td>10192.90625</td></tr><tr><td>&hellip;</td><td>&hellip;</td><td>&hellip;</td><td>&hellip;</td><td>&hellip;</td><td>&hellip;</td></tr><tr><td>&quot;YY1_2018__Guil…</td><td>590.26534</td><td>605.511068</td><td>614.269124</td><td>616.078532</td><td>613.694906</td></tr><tr><td>&quot;YY1_2018__Guil…</td><td>590.265299</td><td>605.511013</td><td>614.269151</td><td>616.078505</td><td>613.694933</td></tr><tr><td>&quot;YY1_2018__Guil…</td><td>193.610229</td><td>197.006938</td><td>198.257935</td><td>197.266805</td><td>194.962158</td></tr><tr><td>&quot;YY1_2018__Guil…</td><td>193.610229</td><td>197.006938</td><td>198.257935</td><td>197.266805</td><td>194.962158</td></tr><tr><td>&quot;YY1_2018__Guil…</td><td>193.610229</td><td>197.006938</td><td>198.257935</td><td>197.266805</td><td>194.962158</td></tr></tbody></table></div>"
      ],
      "text/plain": [
       "shape: (35_736, 6)\n",
       "┌────────────────┬────────────────┬────────────────┬───────────────┬───────────────┬───────────────┐\n",
       "│ SSBS           ┆ Pop_density_1k ┆ Pop_density_1k ┆ Pop_density_1 ┆ Pop_density_1 ┆ Pop_density_1 │\n",
       "│ ---            ┆ m_2000         ┆ m_2005         ┆ km_2010       ┆ km_2015       ┆ km_2020       │\n",
       "│ str            ┆ ---            ┆ ---            ┆ ---           ┆ ---           ┆ ---           │\n",
       "│                ┆ f64            ┆ f64            ┆ f64           ┆ f64           ┆ f64           │\n",
       "╞════════════════╪════════════════╪════════════════╪═══════════════╪═══════════════╪═══════════════╡\n",
       "│ AD1_2001__Liow ┆ 8665.053819    ┆ 10686.046875   ┆ 12856.830729  ┆ 14912.848958  ┆ 16510.614583  │\n",
       "│ 1  1           ┆                ┆                ┆               ┆               ┆               │\n",
       "│ AD1_2001__Liow ┆ 1131.090088    ┆ 1245.123128    ┆ 1336.200765   ┆ 1381.482259   ┆ 1362.475993   │\n",
       "│ 1  2           ┆                ┆                ┆               ┆               ┆               │\n",
       "│ AD1_2001__Liow ┆ 4979.729167    ┆ 5457.96875     ┆ 5831.039931   ┆ 6000.927951   ┆ 5890.359375   │\n",
       "│ 1  3           ┆                ┆                ┆               ┆               ┆               │\n",
       "│ AD1_2001__Liow ┆ 4332.883681    ┆ 4888.942708    ┆ 5376.256944   ┆ 5694.303819   ┆ 5751.630208   │\n",
       "│ 1  4           ┆                ┆                ┆               ┆               ┆               │\n",
       "│ AD1_2001__Liow ┆ 8465.158203    ┆ 9318.025391    ┆ 9998.738932   ┆ 10336.432943  ┆ 10192.90625   │\n",
       "│ 1  5           ┆                ┆                ┆               ┆               ┆               │\n",
       "│ …              ┆ …              ┆ …              ┆ …             ┆ …             ┆ …             │\n",
       "│ YY1_2018__Guil ┆ 590.26534      ┆ 605.511068     ┆ 614.269124    ┆ 616.078532    ┆ 613.694906    │\n",
       "│ lemot 1  66    ┆                ┆                ┆               ┆               ┆               │\n",
       "│ YY1_2018__Guil ┆ 590.265299     ┆ 605.511013     ┆ 614.269151    ┆ 616.078505    ┆ 613.694933    │\n",
       "│ lemot 1  67    ┆                ┆                ┆               ┆               ┆               │\n",
       "│ YY1_2018__Guil ┆ 193.610229     ┆ 197.006938     ┆ 198.257935    ┆ 197.266805    ┆ 194.962158    │\n",
       "│ lemot 1  7     ┆                ┆                ┆               ┆               ┆               │\n",
       "│ YY1_2018__Guil ┆ 193.610229     ┆ 197.006938     ┆ 198.257935    ┆ 197.266805    ┆ 194.962158    │\n",
       "│ lemot 1  8     ┆                ┆                ┆               ┆               ┆               │\n",
       "│ YY1_2018__Guil ┆ 193.610229     ┆ 197.006938     ┆ 198.257935    ┆ 197.266805    ┆ 194.962158    │\n",
       "│ lemot 1  9     ┆                ┆                ┆               ┆               ┆               │\n",
       "└────────────────┴────────────────┴────────────────┴───────────────┴───────────────┴───────────────┘"
      ]
     },
     "execution_count": 40,
     "metadata": {},
     "output_type": "execute_result"
    }
   ],
   "source": [
    "df_pop_1km = pl.read_parquet(\"../../data/output/pop_density/pop_density_1km.parquet\")\n",
    "df_pop_1km"
   ]
  },
  {
   "cell_type": "code",
   "execution_count": null,
   "id": "272d0dad-ab7e-45c0-a417-fec53d904d55",
   "metadata": {},
   "outputs": [],
   "source": []
  },
  {
   "cell_type": "code",
   "execution_count": null,
   "id": "9ea6c4e4-0c4c-4a02-88f9-ce38de1b6093",
   "metadata": {},
   "outputs": [],
   "source": []
  },
  {
   "cell_type": "code",
   "execution_count": null,
   "id": "060270c6-dd9f-465a-a6d5-386b8b19839c",
   "metadata": {},
   "outputs": [],
   "source": []
  },
  {
   "cell_type": "code",
   "execution_count": null,
   "id": "2dc4363f-d6ef-43a5-820f-608e2aefdeee",
   "metadata": {},
   "outputs": [],
   "source": []
  }
 ],
 "metadata": {
  "kernelspec": {
   "display_name": "biodiv",
   "language": "python",
   "name": "biodiv"
  },
  "language_info": {
   "codemirror_mode": {
    "name": "ipython",
    "version": 3
   },
   "file_extension": ".py",
   "mimetype": "text/x-python",
   "name": "python",
   "nbconvert_exporter": "python",
   "pygments_lexer": "ipython3",
   "version": "3.11.8"
  }
 },
 "nbformat": 4,
 "nbformat_minor": 5
}
