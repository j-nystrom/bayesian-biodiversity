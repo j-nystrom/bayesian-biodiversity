{
 "cells": [
  {
   "cell_type": "code",
   "execution_count": 11,
   "id": "a3d542aa-db2d-4cb6-89f9-d814f8a16b60",
   "metadata": {
    "tags": []
   },
   "outputs": [],
   "source": [
    "import pygeoprocessing as pgp\n",
    "import geopandas as geopd"
   ]
  },
  {
   "cell_type": "markdown",
   "id": "f97e7a24-9eac-447e-ba41-181a121890c2",
   "metadata": {},
   "source": [
    "## Gridded Population of the World (GPW), v4\n",
    "\n",
    "https://sedac.ciesin.columbia.edu/data/set/gpw-v4-population-density-adjusted-to-2015-unwpp-country-totals-rev11"
   ]
  },
  {
   "cell_type": "code",
   "execution_count": 6,
   "id": "6ed8e8d5-c03a-400b-9d84-9853b3842000",
   "metadata": {
    "tags": []
   },
   "outputs": [],
   "source": [
    "pop_density_path_2000 = \"../../data/Population_data/gpw_v4_population_adjusted_to_2015_unwpp_rev11_2000_30_sec.tif\""
   ]
  },
  {
   "cell_type": "code",
   "execution_count": 7,
   "id": "f7cbebdd-a4d7-486f-89f6-43638c562501",
   "metadata": {
    "tags": []
   },
   "outputs": [
    {
     "data": {
      "text/plain": [
       "{'file_list': ['../../data/Population_data/gpw_v4_population_adjusted_to_2015_unwpp_rev11_2000_30_sec.tif'],\n",
       " 'projection_wkt': 'GEOGCS[\"WGS 84\",DATUM[\"WGS_1984\",SPHEROID[\"WGS 84\",6378137,298.257223563,AUTHORITY[\"EPSG\",\"7030\"]],AUTHORITY[\"EPSG\",\"6326\"]],PRIMEM[\"Greenwich\",0,AUTHORITY[\"EPSG\",\"8901\"]],UNIT[\"degree\",0.0174532925199433,AUTHORITY[\"EPSG\",\"9122\"]],AXIS[\"Latitude\",NORTH],AXIS[\"Longitude\",EAST],AUTHORITY[\"EPSG\",\"4326\"]]',\n",
       " 'geotransform': (-180.0,\n",
       "  0.00833333333333387,\n",
       "  0.0,\n",
       "  90.00000000001157,\n",
       "  0.0,\n",
       "  -0.00833333333333387),\n",
       " 'pixel_size': (0.00833333333333387, -0.00833333333333387),\n",
       " 'raster_size': (43200, 21600),\n",
       " 'n_bands': 1,\n",
       " 'nodata': [-3.4028230607370965e+38],\n",
       " 'overviews': [],\n",
       " 'block_size': [43200, 1],\n",
       " 'bounding_box': [-180.0, -90.0, 180.00000000002314, 90.00000000001157],\n",
       " 'datatype': 6,\n",
       " 'numpy_type': numpy.float32}"
      ]
     },
     "execution_count": 7,
     "metadata": {},
     "output_type": "execute_result"
    }
   ],
   "source": [
    "pgp.get_raster_info(pop_density_path_2000)"
   ]
  },
  {
   "cell_type": "markdown",
   "id": "39b2db84-aa70-4357-970a-84ef2616f6be",
   "metadata": {},
   "source": [
    "## Global Roads Open Access Data Set (gROADS), v1\n",
    "\n",
    "https://sedac.ciesin.columbia.edu/data/set/groads-global-roads-open-access-v1"
   ]
  },
  {
   "cell_type": "code",
   "execution_count": 8,
   "id": "bf2b1d42-7be6-4e74-8fdb-a386e064e525",
   "metadata": {
    "tags": []
   },
   "outputs": [],
   "source": [
    "groads_americas_path = \"../../data/GRoads/groads-v1-americas-shp/groads-v1-americas.shp\""
   ]
  },
  {
   "cell_type": "code",
   "execution_count": 9,
   "id": "469285f7-30fb-4b4b-adec-9e0ad55795cf",
   "metadata": {
    "tags": []
   },
   "outputs": [
    {
     "ename": "ValueError",
     "evalue": "Could not open ../../data/GRoads/groads-v1-americas-shp/groads-v1-americas.shp as a gdal.OF_RASTER",
     "output_type": "error",
     "traceback": [
      "\u001b[0;31m---------------------------------------------------------------------------\u001b[0m",
      "\u001b[0;31mValueError\u001b[0m                                Traceback (most recent call last)",
      "Cell \u001b[0;32mIn[9], line 1\u001b[0m\n\u001b[0;32m----> 1\u001b[0m pgp\u001b[38;5;241m.\u001b[39mget_raster_info(groads_americas_path)\n",
      "File \u001b[0;32m~/anaconda3/envs/biodiv/lib/python3.12/site-packages/pygeoprocessing/geoprocessing.py:2089\u001b[0m, in \u001b[0;36mget_raster_info\u001b[0;34m(raster_path)\u001b[0m\n\u001b[1;32m   2087\u001b[0m raster \u001b[38;5;241m=\u001b[39m gdal\u001b[38;5;241m.\u001b[39mOpenEx(raster_path, gdal\u001b[38;5;241m.\u001b[39mOF_RASTER)\n\u001b[1;32m   2088\u001b[0m \u001b[38;5;28;01mif\u001b[39;00m \u001b[38;5;129;01mnot\u001b[39;00m raster:\n\u001b[0;32m-> 2089\u001b[0m     \u001b[38;5;28;01mraise\u001b[39;00m \u001b[38;5;167;01mValueError\u001b[39;00m(\n\u001b[1;32m   2090\u001b[0m         \u001b[38;5;124m\"\u001b[39m\u001b[38;5;124mCould not open \u001b[39m\u001b[38;5;132;01m%s\u001b[39;00m\u001b[38;5;124m as a gdal.OF_RASTER\u001b[39m\u001b[38;5;124m\"\u001b[39m \u001b[38;5;241m%\u001b[39m raster_path)\n\u001b[1;32m   2091\u001b[0m raster_properties \u001b[38;5;241m=\u001b[39m {}\n\u001b[1;32m   2092\u001b[0m raster_properties[\u001b[38;5;124m'\u001b[39m\u001b[38;5;124mfile_list\u001b[39m\u001b[38;5;124m'\u001b[39m] \u001b[38;5;241m=\u001b[39m raster\u001b[38;5;241m.\u001b[39mGetFileList()\n",
      "\u001b[0;31mValueError\u001b[0m: Could not open ../../data/GRoads/groads-v1-americas-shp/groads-v1-americas.shp as a gdal.OF_RASTER"
     ]
    }
   ],
   "source": [
    "pgp.get_raster_info(groads_americas_path)"
   ]
  },
  {
   "cell_type": "code",
   "execution_count": null,
   "id": "c6a69219-8117-4b4e-8333-aef33ca932d6",
   "metadata": {},
   "outputs": [],
   "source": []
  },
  {
   "cell_type": "code",
   "execution_count": null,
   "id": "2bdf906b-bc9d-4d10-b0d1-ab3247381aab",
   "metadata": {},
   "outputs": [],
   "source": []
  },
  {
   "cell_type": "code",
   "execution_count": null,
   "id": "9222c0b7-0e6b-40a9-af59-aa3fd9674777",
   "metadata": {},
   "outputs": [],
   "source": []
  }
 ],
 "metadata": {
  "kernelspec": {
   "display_name": "biodiv",
   "language": "python",
   "name": "biodiv"
  },
  "language_info": {
   "codemirror_mode": {
    "name": "ipython",
    "version": 3
   },
   "file_extension": ".py",
   "mimetype": "text/x-python",
   "name": "python",
   "nbconvert_exporter": "python",
   "pygments_lexer": "ipython3",
   "version": "3.12.1"
  }
 },
 "nbformat": 4,
 "nbformat_minor": 5
}
