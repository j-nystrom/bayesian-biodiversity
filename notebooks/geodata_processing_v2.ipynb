{
 "cells": [
  {
   "cell_type": "markdown",
   "id": "3ba07c86-81fd-4c96-ac66-40e5778b0caf",
   "metadata": {
    "tags": []
   },
   "source": [
    "# Bayesian biodiversity: Geodata processing"
   ]
  },
  {
   "cell_type": "code",
   "execution_count": 10,
   "id": "aaef039e-4a9d-46ad-ad2b-cdcb9e3e0cd0",
   "metadata": {
    "tags": []
   },
   "outputs": [],
   "source": [
    "import numpy as np\n",
    "import pygeoprocessing as pgp\n",
    "import geopandas as gpd\n",
    "import pandas as pd\n",
    "import rasterio\n",
    "import shapely\n",
    "from shapely import Point, Polygon\n",
    "import time\n",
    "from rasterstats import zonal_stats\n",
    "from pyproj import Transformer"
   ]
  },
  {
   "cell_type": "code",
   "execution_count": 12,
   "id": "ceea742e-117c-4856-8853-1fdc79dc4a48",
   "metadata": {
    "tags": []
   },
   "outputs": [
    {
     "data": {
      "text/html": [
       "\n",
       "                <script type=\"application/javascript\" id=\"jupyter_black\">\n",
       "                (function() {\n",
       "                    if (window.IPython === undefined) {\n",
       "                        return\n",
       "                    }\n",
       "                    var msg = \"WARNING: it looks like you might have loaded \" +\n",
       "                        \"jupyter_black in a non-lab notebook with \" +\n",
       "                        \"`is_lab=True`. Please double check, and if \" +\n",
       "                        \"loading with `%load_ext` please review the README!\"\n",
       "                    console.log(msg)\n",
       "                    alert(msg)\n",
       "                })()\n",
       "                </script>\n",
       "                "
      ],
      "text/plain": [
       "<IPython.core.display.HTML object>"
      ]
     },
     "metadata": {},
     "output_type": "display_data"
    }
   ],
   "source": [
    "# Load black for formatting\n",
    "import jupyter_black\n",
    "\n",
    "jupyter_black.load()\n",
    "\n",
    "# Adjust display settings for pandas\n",
    "pd.set_option(\"display.max_rows\", 100)\n",
    "pd.set_option(\"display.max_columns\", 100)"
   ]
  },
  {
   "cell_type": "code",
   "execution_count": 31,
   "id": "202c9d86-801c-49d4-881a-38d351469d25",
   "metadata": {
    "tags": []
   },
   "outputs": [],
   "source": [
    "def project_to_utm(point):\n",
    "\n",
    "    # Get the coordinate point values\n",
    "    long, lat = point.x, point.y\n",
    "\n",
    "    # Determine the UTM zone and hemisphere\n",
    "    zone_number = int((long + 180) // 6) + 1\n",
    "    epsg_code = f\"EPSG:{32700 + zone_number if lat < 0 else 32600 + zone_number}\"\n",
    "\n",
    "    # Initialize Transformer object, and transform to UTM coordinates\n",
    "    utm_transformer = Transformer.from_crs(\"EPSG:4326\", epsg_code, always_xy=True)\n",
    "    utm_x, utm_y = utm_transformer.transform(long, lat)\n",
    "    utm_coords = shapely.Point(utm_x, utm_y)\n",
    "\n",
    "    return utm_coords, epsg_code"
   ]
  },
  {
   "cell_type": "code",
   "execution_count": 32,
   "id": "77d5ccfa-5bdc-491a-8c06-5fe64ca86894",
   "metadata": {
    "tags": []
   },
   "outputs": [],
   "source": [
    "def buffer_points_in_utm(points, buffer_dist, polygon_type=\"square\"):\n",
    "\n",
    "    # Buffer array of Points into the chosen size and type\n",
    "    utm_coords_buff = shapely.buffer(points, buffer_dist, cap_style=polygon_type)\n",
    "\n",
    "    return utm_coords_buff"
   ]
  },
  {
   "cell_type": "code",
   "execution_count": 78,
   "id": "8913dd6c-5f3c-416d-a7ca-eb7be578a68e",
   "metadata": {
    "tags": []
   },
   "outputs": [],
   "source": [
    "def reproject_to_global(polygon, epsg_code):\n",
    "\n",
    "    # Transformer for reprojecting to global coordinate system\n",
    "    global_transformer = Transformer.from_crs(epsg_code, \"EPSG:4326\", always_xy=True)\n",
    "\n",
    "    # Get the points that define the polygon as an array\n",
    "    xx, yy = polygon.exterior.coords.xy\n",
    "    x = np.array(xx)\n",
    "    y = np.array(yy)\n",
    "    coord_tuples = np.array([shapely.Point(xy) for xy in zip(x, y)])\n",
    "\n",
    "    # Perform the reprojection\n",
    "    projected_coords = [\n",
    "        global_transformer.transform(coord.x, coord.y) for coord in coord_tuples\n",
    "    ]\n",
    "    global_polygon = shapely.Polygon(projected_coords)\n",
    "\n",
    "    return global_polygon"
   ]
  },
  {
   "cell_type": "code",
   "execution_count": 92,
   "id": "6d1c0ac4-c7d6-4c83-b466-dcc0b09e3323",
   "metadata": {
    "tags": []
   },
   "outputs": [],
   "source": [
    "def project_buffer_reproject_sites(gdf_sites, buffer_distances):\n",
    "\n",
    "    # Make a copy of the original dataframe\n",
    "    gdf_sites = gdf_sites.copy()\n",
    "\n",
    "    # Rename geometry for clarity, since there are multiple ones added\n",
    "    gdf_sites = gdf_sites.rename(columns={\"geometry\": \"global_coord\"})\n",
    "\n",
    "    # Project each point to UTM\n",
    "    gdf_sites[[\"utm_coord\", \"epsg_code\"]] = gdf_sites.apply(\n",
    "        lambda row: project_to_utm(row[\"global_coord\"]),\n",
    "        axis=1,\n",
    "        result_type=\"expand\",\n",
    "    )\n",
    "\n",
    "    # Buffer different sized polygons and append as new columns\n",
    "    for buffer_dist in buffer_distances:\n",
    "        gdf_sites[f\"utm_{buffer_dist}_km\"] = buffer_points_in_utm(\n",
    "            gdf_sites[\"utm_coord\"], buffer_dist * 1000\n",
    "        )\n",
    "\n",
    "    # Reproject the polygons to global coordinate format\n",
    "    for buffer_dist in buffer_distances:\n",
    "        gdf_sites[f\"glob_{buffer_dist}_km\"] = gdf_sites.apply(\n",
    "            lambda row: reproject_to_global(\n",
    "                row[f\"utm_{buffer_dist}_km\"], row[\"epsg_code\"]\n",
    "            ),\n",
    "            axis=1,\n",
    "        )\n",
    "\n",
    "    return gdf_sites"
   ]
  },
  {
   "cell_type": "code",
   "execution_count": 93,
   "id": "7e4651d8-f0e8-4463-80fe-7d7690ea1d0d",
   "metadata": {
    "tags": []
   },
   "outputs": [],
   "source": [
    "def save_buffered_site_files(gdf_sites, buffer_distances):\n",
    "\n",
    "    for buffer_dist in buffer_distances:\n",
    "        gdf_res = gdf_sites[[\"SSS\", f\"glob_{buffer_dist}_km\"]].rename(\n",
    "            columns={f\"glob_{buffer_dist}_km\": \"geometry\"}\n",
    "        )\n",
    "        gdf_res.to_file(f\"../../data/PREDICTS/site_coord_buff_{buffer_dist}_km.shp\")"
   ]
  },
  {
   "cell_type": "code",
   "execution_count": 109,
   "id": "a8bb158e-7d40-403b-bdbc-7ae97c7ae3dd",
   "metadata": {
    "tags": []
   },
   "outputs": [],
   "source": [
    "def get_raster_stats(polygon_path, raster_path, metric=\"mean\", include_all_pixels=True):\n",
    "\n",
    "    # Calculate zonal statistics\n",
    "    stats = zonal_stats(\n",
    "        vectors=polygon_path,\n",
    "        raster=raster_path,\n",
    "        stats=metric,\n",
    "        all_touched=include_all_pixels,\n",
    "    )\n",
    "\n",
    "    # Get values and add columns to original dataframe\n",
    "    result = np.array([x[metric] for x in stats])\n",
    "\n",
    "    return result"
   ]
  },
  {
   "cell_type": "code",
   "execution_count": 94,
   "id": "e2b51ef3-2a29-4049-b332-6c4b7ba5ce29",
   "metadata": {
    "tags": []
   },
   "outputs": [],
   "source": [
    "# Set buffer distances\n",
    "buffer_dist_km = [1, 10, 25, 50]"
   ]
  },
  {
   "cell_type": "markdown",
   "id": "08f7f827-31a7-4716-a748-516171660ffd",
   "metadata": {},
   "source": [
    "## Project, buffer and reproject sampling location coordinates"
   ]
  },
  {
   "cell_type": "code",
   "execution_count": 95,
   "id": "1a29da37-e9de-4c89-b25b-9c94cd2ef384",
   "metadata": {
    "tags": []
   },
   "outputs": [
    {
     "data": {
      "text/html": [
       "<div>\n",
       "<style scoped>\n",
       "    .dataframe tbody tr th:only-of-type {\n",
       "        vertical-align: middle;\n",
       "    }\n",
       "\n",
       "    .dataframe tbody tr th {\n",
       "        vertical-align: top;\n",
       "    }\n",
       "\n",
       "    .dataframe thead th {\n",
       "        text-align: right;\n",
       "    }\n",
       "</style>\n",
       "<table border=\"1\" class=\"dataframe\">\n",
       "  <thead>\n",
       "    <tr style=\"text-align: right;\">\n",
       "      <th></th>\n",
       "      <th>SSS</th>\n",
       "      <th>geometry</th>\n",
       "    </tr>\n",
       "  </thead>\n",
       "  <tbody>\n",
       "    <tr>\n",
       "      <th>0</th>\n",
       "      <td>AD1_2001__Liow 1 1</td>\n",
       "      <td>POINT (103.77861 1.35194)</td>\n",
       "    </tr>\n",
       "    <tr>\n",
       "      <th>1</th>\n",
       "      <td>AD1_2001__Liow 1 2</td>\n",
       "      <td>POINT (103.80806 1.35472)</td>\n",
       "    </tr>\n",
       "    <tr>\n",
       "      <th>2</th>\n",
       "      <td>AD1_2001__Liow 1 3</td>\n",
       "      <td>POINT (103.81167 1.39472)</td>\n",
       "    </tr>\n",
       "    <tr>\n",
       "      <th>3</th>\n",
       "      <td>AD1_2001__Liow 1 4</td>\n",
       "      <td>POINT (103.78722 1.32694)</td>\n",
       "    </tr>\n",
       "    <tr>\n",
       "      <th>4</th>\n",
       "      <td>AD1_2001__Liow 1 5</td>\n",
       "      <td>POINT (103.80361 1.28278)</td>\n",
       "    </tr>\n",
       "  </tbody>\n",
       "</table>\n",
       "</div>"
      ],
      "text/plain": [
       "                  SSS                   geometry\n",
       "0  AD1_2001__Liow 1 1  POINT (103.77861 1.35194)\n",
       "1  AD1_2001__Liow 1 2  POINT (103.80806 1.35472)\n",
       "2  AD1_2001__Liow 1 3  POINT (103.81167 1.39472)\n",
       "3  AD1_2001__Liow 1 4  POINT (103.78722 1.32694)\n",
       "4  AD1_2001__Liow 1 5  POINT (103.80361 1.28278)"
      ]
     },
     "execution_count": 95,
     "metadata": {},
     "output_type": "execute_result"
    }
   ],
   "source": [
    "gdf_sites = gpd.read_file(\"../../data/PREDICTS/site_coord.shp\")\n",
    "gdf_sites.head()"
   ]
  },
  {
   "cell_type": "code",
   "execution_count": 96,
   "id": "bb415ba4-4f68-4b45-a1e5-f8af5a19b098",
   "metadata": {},
   "outputs": [
    {
     "name": "stdout",
     "output_type": "stream",
     "text": [
      "341.6535003185272\n"
     ]
    }
   ],
   "source": [
    "# Generate buffered polygons for sampling sites\n",
    "start = time.time()\n",
    "\n",
    "gdf_sites_buff = project_buffer_reproject_sites(gdf_sites, buffer_dist_km)\n",
    "\n",
    "end = time.time()\n",
    "print(end - start)"
   ]
  },
  {
   "cell_type": "code",
   "execution_count": 98,
   "id": "4fdbe5c3-43b6-4850-8911-80e6c90e15a1",
   "metadata": {
    "tags": []
   },
   "outputs": [],
   "source": [
    "# Save separate file for each buffer radius\n",
    "save_buffered_site_files(gdf_sites_buff, buffer_dist_km)"
   ]
  },
  {
   "cell_type": "code",
   "execution_count": 97,
   "id": "2d876b2f-8ac5-4668-9b7c-0f503309d7e4",
   "metadata": {
    "tags": []
   },
   "outputs": [
    {
     "data": {
      "text/html": [
       "<div>\n",
       "<style scoped>\n",
       "    .dataframe tbody tr th:only-of-type {\n",
       "        vertical-align: middle;\n",
       "    }\n",
       "\n",
       "    .dataframe tbody tr th {\n",
       "        vertical-align: top;\n",
       "    }\n",
       "\n",
       "    .dataframe thead th {\n",
       "        text-align: right;\n",
       "    }\n",
       "</style>\n",
       "<table border=\"1\" class=\"dataframe\">\n",
       "  <thead>\n",
       "    <tr style=\"text-align: right;\">\n",
       "      <th></th>\n",
       "      <th>SSS</th>\n",
       "      <th>global_coord</th>\n",
       "      <th>utm_coord</th>\n",
       "      <th>epsg_code</th>\n",
       "      <th>utm_1_km</th>\n",
       "      <th>utm_10_km</th>\n",
       "      <th>utm_25_km</th>\n",
       "      <th>utm_50_km</th>\n",
       "      <th>glob_1_km</th>\n",
       "      <th>glob_10_km</th>\n",
       "      <th>glob_25_km</th>\n",
       "      <th>glob_50_km</th>\n",
       "    </tr>\n",
       "  </thead>\n",
       "  <tbody>\n",
       "    <tr>\n",
       "      <th>0</th>\n",
       "      <td>AD1_2001__Liow 1 1</td>\n",
       "      <td>POINT (103.77861 1.35194)</td>\n",
       "      <td>POINT (364117.2270177193 149464.9354869793)</td>\n",
       "      <td>EPSG:32648</td>\n",
       "      <td>POLYGON ((365117.2270177193 150464.9354869793,...</td>\n",
       "      <td>POLYGON ((374117.2270177193 159464.9354869793,...</td>\n",
       "      <td>POLYGON ((389117.2270177193 174464.9354869793,...</td>\n",
       "      <td>POLYGON ((414117.2270177193 199464.9354869793,...</td>\n",
       "      <td>POLYGON ((103.78759 1.36099, 103.78760 1.34290...</td>\n",
       "      <td>POLYGON ((103.86844 1.44244, 103.86852 1.26153...</td>\n",
       "      <td>POLYGON ((104.00320 1.57819, 104.00338 1.12590...</td>\n",
       "      <td>POLYGON ((104.22784 1.80445, 104.22812 0.89981...</td>\n",
       "    </tr>\n",
       "    <tr>\n",
       "      <th>1</th>\n",
       "      <td>AD1_2001__Liow 1 2</td>\n",
       "      <td>POINT (103.80806 1.35472)</td>\n",
       "      <td>POINT (367393.6320973808 149770.4037510926)</td>\n",
       "      <td>EPSG:32648</td>\n",
       "      <td>POLYGON ((368393.6320973808 150770.4037510926,...</td>\n",
       "      <td>POLYGON ((377393.6320973808 159770.4037510926,...</td>\n",
       "      <td>POLYGON ((392393.6320973808 174770.4037510926,...</td>\n",
       "      <td>POLYGON ((417393.6320973808 199770.4037510926,...</td>\n",
       "      <td>POLYGON ((103.81704 1.36377, 103.81705 1.34568...</td>\n",
       "      <td>POLYGON ((103.89789 1.44522, 103.89797 1.26431...</td>\n",
       "      <td>POLYGON ((104.03265 1.58097, 104.03283 1.12867...</td>\n",
       "      <td>POLYGON ((104.25729 1.80723, 104.25757 0.90258...</td>\n",
       "    </tr>\n",
       "    <tr>\n",
       "      <th>2</th>\n",
       "      <td>AD1_2001__Liow 1 3</td>\n",
       "      <td>POINT (103.81167 1.39472)</td>\n",
       "      <td>POINT (367797.6346832808 154192.390200358)</td>\n",
       "      <td>EPSG:32648</td>\n",
       "      <td>POLYGON ((368797.6346832808 155192.390200358, ...</td>\n",
       "      <td>POLYGON ((377797.6346832808 164192.390200358, ...</td>\n",
       "      <td>POLYGON ((392797.6346832808 179192.390200358, ...</td>\n",
       "      <td>POLYGON ((417797.6346832808 204192.390200358, ...</td>\n",
       "      <td>POLYGON ((103.82065 1.40377, 103.82066 1.38568...</td>\n",
       "      <td>POLYGON ((103.90150 1.48522, 103.90158 1.30431...</td>\n",
       "      <td>POLYGON ((104.03626 1.62097, 104.03645 1.16868...</td>\n",
       "      <td>POLYGON ((104.26091 1.84723, 104.26119 0.94258...</td>\n",
       "    </tr>\n",
       "    <tr>\n",
       "      <th>3</th>\n",
       "      <td>AD1_2001__Liow 1 4</td>\n",
       "      <td>POINT (103.78722 1.32694)</td>\n",
       "      <td>POINT (365074.0127648303 146700.5662553131)</td>\n",
       "      <td>EPSG:32648</td>\n",
       "      <td>POLYGON ((366074.0127648303 147700.5662553131,...</td>\n",
       "      <td>POLYGON ((375074.0127648303 156700.5662553131,...</td>\n",
       "      <td>POLYGON ((390074.0127648303 171700.5662553131,...</td>\n",
       "      <td>POLYGON ((415074.0127648303 196700.5662553131,...</td>\n",
       "      <td>POLYGON ((103.79620 1.33599, 103.79621 1.31790...</td>\n",
       "      <td>POLYGON ((103.87705 1.41744, 103.87713 1.23653...</td>\n",
       "      <td>POLYGON ((104.01181 1.55319, 104.01199 1.10090...</td>\n",
       "      <td>POLYGON ((104.23645 1.77945, 104.23673 0.87480...</td>\n",
       "    </tr>\n",
       "    <tr>\n",
       "      <th>4</th>\n",
       "      <td>AD1_2001__Liow 1 5</td>\n",
       "      <td>POINT (103.80361 1.28278)</td>\n",
       "      <td>POINT (366895.2831269228 141816.8386431553)</td>\n",
       "      <td>EPSG:32648</td>\n",
       "      <td>POLYGON ((367895.2831269228 142816.8386431553,...</td>\n",
       "      <td>POLYGON ((376895.2831269228 151816.8386431553,...</td>\n",
       "      <td>POLYGON ((391895.2831269228 166816.8386431553,...</td>\n",
       "      <td>POLYGON ((416895.2831269228 191816.8386431553,...</td>\n",
       "      <td>POLYGON ((103.81259 1.29183, 103.81260 1.27374...</td>\n",
       "      <td>POLYGON ((103.89344 1.37327, 103.89352 1.19236...</td>\n",
       "      <td>POLYGON ((104.02820 1.50902, 104.02837 1.05672...</td>\n",
       "      <td>POLYGON ((104.25284 1.73527, 104.25310 0.83062...</td>\n",
       "    </tr>\n",
       "  </tbody>\n",
       "</table>\n",
       "</div>"
      ],
      "text/plain": [
       "                  SSS               global_coord  \\\n",
       "0  AD1_2001__Liow 1 1  POINT (103.77861 1.35194)   \n",
       "1  AD1_2001__Liow 1 2  POINT (103.80806 1.35472)   \n",
       "2  AD1_2001__Liow 1 3  POINT (103.81167 1.39472)   \n",
       "3  AD1_2001__Liow 1 4  POINT (103.78722 1.32694)   \n",
       "4  AD1_2001__Liow 1 5  POINT (103.80361 1.28278)   \n",
       "\n",
       "                                     utm_coord   epsg_code  \\\n",
       "0  POINT (364117.2270177193 149464.9354869793)  EPSG:32648   \n",
       "1  POINT (367393.6320973808 149770.4037510926)  EPSG:32648   \n",
       "2   POINT (367797.6346832808 154192.390200358)  EPSG:32648   \n",
       "3  POINT (365074.0127648303 146700.5662553131)  EPSG:32648   \n",
       "4  POINT (366895.2831269228 141816.8386431553)  EPSG:32648   \n",
       "\n",
       "                                            utm_1_km  \\\n",
       "0  POLYGON ((365117.2270177193 150464.9354869793,...   \n",
       "1  POLYGON ((368393.6320973808 150770.4037510926,...   \n",
       "2  POLYGON ((368797.6346832808 155192.390200358, ...   \n",
       "3  POLYGON ((366074.0127648303 147700.5662553131,...   \n",
       "4  POLYGON ((367895.2831269228 142816.8386431553,...   \n",
       "\n",
       "                                           utm_10_km  \\\n",
       "0  POLYGON ((374117.2270177193 159464.9354869793,...   \n",
       "1  POLYGON ((377393.6320973808 159770.4037510926,...   \n",
       "2  POLYGON ((377797.6346832808 164192.390200358, ...   \n",
       "3  POLYGON ((375074.0127648303 156700.5662553131,...   \n",
       "4  POLYGON ((376895.2831269228 151816.8386431553,...   \n",
       "\n",
       "                                           utm_25_km  \\\n",
       "0  POLYGON ((389117.2270177193 174464.9354869793,...   \n",
       "1  POLYGON ((392393.6320973808 174770.4037510926,...   \n",
       "2  POLYGON ((392797.6346832808 179192.390200358, ...   \n",
       "3  POLYGON ((390074.0127648303 171700.5662553131,...   \n",
       "4  POLYGON ((391895.2831269228 166816.8386431553,...   \n",
       "\n",
       "                                           utm_50_km  \\\n",
       "0  POLYGON ((414117.2270177193 199464.9354869793,...   \n",
       "1  POLYGON ((417393.6320973808 199770.4037510926,...   \n",
       "2  POLYGON ((417797.6346832808 204192.390200358, ...   \n",
       "3  POLYGON ((415074.0127648303 196700.5662553131,...   \n",
       "4  POLYGON ((416895.2831269228 191816.8386431553,...   \n",
       "\n",
       "                                           glob_1_km  \\\n",
       "0  POLYGON ((103.78759 1.36099, 103.78760 1.34290...   \n",
       "1  POLYGON ((103.81704 1.36377, 103.81705 1.34568...   \n",
       "2  POLYGON ((103.82065 1.40377, 103.82066 1.38568...   \n",
       "3  POLYGON ((103.79620 1.33599, 103.79621 1.31790...   \n",
       "4  POLYGON ((103.81259 1.29183, 103.81260 1.27374...   \n",
       "\n",
       "                                          glob_10_km  \\\n",
       "0  POLYGON ((103.86844 1.44244, 103.86852 1.26153...   \n",
       "1  POLYGON ((103.89789 1.44522, 103.89797 1.26431...   \n",
       "2  POLYGON ((103.90150 1.48522, 103.90158 1.30431...   \n",
       "3  POLYGON ((103.87705 1.41744, 103.87713 1.23653...   \n",
       "4  POLYGON ((103.89344 1.37327, 103.89352 1.19236...   \n",
       "\n",
       "                                          glob_25_km  \\\n",
       "0  POLYGON ((104.00320 1.57819, 104.00338 1.12590...   \n",
       "1  POLYGON ((104.03265 1.58097, 104.03283 1.12867...   \n",
       "2  POLYGON ((104.03626 1.62097, 104.03645 1.16868...   \n",
       "3  POLYGON ((104.01181 1.55319, 104.01199 1.10090...   \n",
       "4  POLYGON ((104.02820 1.50902, 104.02837 1.05672...   \n",
       "\n",
       "                                          glob_50_km  \n",
       "0  POLYGON ((104.22784 1.80445, 104.22812 0.89981...  \n",
       "1  POLYGON ((104.25729 1.80723, 104.25757 0.90258...  \n",
       "2  POLYGON ((104.26091 1.84723, 104.26119 0.94258...  \n",
       "3  POLYGON ((104.23645 1.77945, 104.23673 0.87480...  \n",
       "4  POLYGON ((104.25284 1.73527, 104.25310 0.83062...  "
      ]
     },
     "execution_count": 97,
     "metadata": {},
     "output_type": "execute_result"
    }
   ],
   "source": [
    "gdf_sites_buff.head()"
   ]
  },
  {
   "cell_type": "markdown",
   "id": "ab7deaad-dcf4-40b3-9273-bd875f041ff1",
   "metadata": {},
   "source": [
    "## Extract population density data from Gridded Population of the World (GPW), v4\n",
    "\n",
    "https://sedac.ciesin.columbia.edu/data/set/gpw-v4-population-density-adjusted-to-2015-unwpp-country-totals-rev11\n",
    "\n",
    "Unit: Number of people per square kilometer."
   ]
  },
  {
   "cell_type": "code",
   "execution_count": 107,
   "id": "5c0f8656-860f-4b44-8fa1-d5bcef0ae4ce",
   "metadata": {
    "tags": []
   },
   "outputs": [],
   "source": [
    "pop_density_paths = [\n",
    "    \"../../data/GPW/gpw_v4_2000_30_sec.tif\",\n",
    "    \"../../data/GPW/gpw_v4_2005_30_sec.tif\",\n",
    "    \"../../data/GPW/gpw_v4_2010_30_sec.tif\",\n",
    "    \"../../data/GPW/gpw_v4_2015_30_sec.tif\",\n",
    "    \"../../data/GPW/gpw_v4_2020_30_sec.tif\",\n",
    "]"
   ]
  },
  {
   "cell_type": "code",
   "execution_count": 108,
   "id": "2d57878c-a072-4072-9009-26c2c9877238",
   "metadata": {
    "tags": []
   },
   "outputs": [
    {
     "data": {
      "text/plain": [
       "{'file_list': ['../../data/GPW/gpw_v4_2000_30_sec.tif'],\n",
       " 'projection_wkt': 'GEOGCS[\"WGS 84\",DATUM[\"WGS_1984\",SPHEROID[\"WGS 84\",6378137,298.257223563,AUTHORITY[\"EPSG\",\"7030\"]],AUTHORITY[\"EPSG\",\"6326\"]],PRIMEM[\"Greenwich\",0,AUTHORITY[\"EPSG\",\"8901\"]],UNIT[\"degree\",0.0174532925199433,AUTHORITY[\"EPSG\",\"9122\"]],AXIS[\"Latitude\",NORTH],AXIS[\"Longitude\",EAST],AUTHORITY[\"EPSG\",\"4326\"]]',\n",
       " 'geotransform': (-180.0,\n",
       "  0.00833333333333387,\n",
       "  0.0,\n",
       "  90.00000000001157,\n",
       "  0.0,\n",
       "  -0.00833333333333387),\n",
       " 'pixel_size': (0.00833333333333387, -0.00833333333333387),\n",
       " 'raster_size': (43200, 21600),\n",
       " 'n_bands': 1,\n",
       " 'nodata': [-3.4028230607370965e+38],\n",
       " 'overviews': [],\n",
       " 'block_size': [43200, 1],\n",
       " 'bounding_box': [-180.0, -90.0, 180.00000000002314, 90.00000000001157],\n",
       " 'datatype': 6,\n",
       " 'numpy_type': numpy.float32}"
      ]
     },
     "execution_count": 108,
     "metadata": {},
     "output_type": "execute_result"
    }
   ],
   "source": [
    "pgp.get_raster_info(pop_density_paths[0])"
   ]
  },
  {
   "cell_type": "code",
   "execution_count": 103,
   "id": "3dcf9d21-23c4-41e5-b2ce-40d027e66fa9",
   "metadata": {
    "tags": []
   },
   "outputs": [
    {
     "name": "stdout",
     "output_type": "stream",
     "text": [
      "90.0772430896759\n"
     ]
    }
   ],
   "source": [
    "# Extract population data and store in dataframe\n",
    "start = time.time()\n",
    "\n",
    "gdf_pop_density = gdf_sites.copy()\n",
    "\n",
    "for buffer_dist in buffer_dist_km:\n",
    "    for raster_path in pop_density_paths:\n",
    "        get_raster_stats(\n",
    "\n",
    "end = time.time()\n",
    "print(end - start)"
   ]
  },
  {
   "cell_type": "code",
   "execution_count": null,
   "id": "d2c9dd5c-c0d4-457a-ad63-20b092bbb96c",
   "metadata": {},
   "outputs": [],
   "source": [
    "vectors=\"../../data/PREDICTS/site_coord_buff_1_km.shp\",\n",
    "        raster=\"../../data/GPW/gpw_v4_2000_30_sec.tif\","
   ]
  },
  {
   "cell_type": "code",
   "execution_count": 104,
   "id": "dfe93854-5524-408d-954a-f26c9dfa65ca",
   "metadata": {
    "tags": []
   },
   "outputs": [
    {
     "data": {
      "text/html": [
       "<div>\n",
       "<style scoped>\n",
       "    .dataframe tbody tr th:only-of-type {\n",
       "        vertical-align: middle;\n",
       "    }\n",
       "\n",
       "    .dataframe tbody tr th {\n",
       "        vertical-align: top;\n",
       "    }\n",
       "\n",
       "    .dataframe thead th {\n",
       "        text-align: right;\n",
       "    }\n",
       "</style>\n",
       "<table border=\"1\" class=\"dataframe\">\n",
       "  <thead>\n",
       "    <tr style=\"text-align: right;\">\n",
       "      <th></th>\n",
       "      <th>SSS</th>\n",
       "      <th>geometry</th>\n",
       "      <th>Pop_density_2000_1km</th>\n",
       "    </tr>\n",
       "  </thead>\n",
       "  <tbody>\n",
       "    <tr>\n",
       "      <th>0</th>\n",
       "      <td>AD1_2001__Liow 1 1</td>\n",
       "      <td>POINT (103.77861 1.35194)</td>\n",
       "      <td>8665.053819</td>\n",
       "    </tr>\n",
       "    <tr>\n",
       "      <th>1</th>\n",
       "      <td>AD1_2001__Liow 1 2</td>\n",
       "      <td>POINT (103.80806 1.35472)</td>\n",
       "      <td>1131.090088</td>\n",
       "    </tr>\n",
       "    <tr>\n",
       "      <th>2</th>\n",
       "      <td>AD1_2001__Liow 1 3</td>\n",
       "      <td>POINT (103.81167 1.39472)</td>\n",
       "      <td>4979.729167</td>\n",
       "    </tr>\n",
       "    <tr>\n",
       "      <th>3</th>\n",
       "      <td>AD1_2001__Liow 1 4</td>\n",
       "      <td>POINT (103.78722 1.32694)</td>\n",
       "      <td>4332.883681</td>\n",
       "    </tr>\n",
       "    <tr>\n",
       "      <th>4</th>\n",
       "      <td>AD1_2001__Liow 1 5</td>\n",
       "      <td>POINT (103.80361 1.28278)</td>\n",
       "      <td>8465.158203</td>\n",
       "    </tr>\n",
       "    <tr>\n",
       "      <th>...</th>\n",
       "      <td>...</td>\n",
       "      <td>...</td>\n",
       "      <td>...</td>\n",
       "    </tr>\n",
       "    <tr>\n",
       "      <th>35731</th>\n",
       "      <td>YY1_2018__Guillemot 1 66</td>\n",
       "      <td>POINT (75.48022 12.19213)</td>\n",
       "      <td>590.265340</td>\n",
       "    </tr>\n",
       "    <tr>\n",
       "      <th>35732</th>\n",
       "      <td>YY1_2018__Guillemot 1 67</td>\n",
       "      <td>POINT (75.48012 12.21315)</td>\n",
       "      <td>590.265299</td>\n",
       "    </tr>\n",
       "    <tr>\n",
       "      <th>35733</th>\n",
       "      <td>YY1_2018__Guillemot 1 7</td>\n",
       "      <td>POINT (75.52462 12.26442)</td>\n",
       "      <td>193.610229</td>\n",
       "    </tr>\n",
       "    <tr>\n",
       "      <th>35734</th>\n",
       "      <td>YY1_2018__Guillemot 1 8</td>\n",
       "      <td>POINT (75.52417 12.26392)</td>\n",
       "      <td>193.610229</td>\n",
       "    </tr>\n",
       "    <tr>\n",
       "      <th>35735</th>\n",
       "      <td>YY1_2018__Guillemot 1 9</td>\n",
       "      <td>POINT (75.52428 12.26368)</td>\n",
       "      <td>193.610229</td>\n",
       "    </tr>\n",
       "  </tbody>\n",
       "</table>\n",
       "<p>35736 rows × 3 columns</p>\n",
       "</div>"
      ],
      "text/plain": [
       "                            SSS                   geometry  \\\n",
       "0            AD1_2001__Liow 1 1  POINT (103.77861 1.35194)   \n",
       "1            AD1_2001__Liow 1 2  POINT (103.80806 1.35472)   \n",
       "2            AD1_2001__Liow 1 3  POINT (103.81167 1.39472)   \n",
       "3            AD1_2001__Liow 1 4  POINT (103.78722 1.32694)   \n",
       "4            AD1_2001__Liow 1 5  POINT (103.80361 1.28278)   \n",
       "...                         ...                        ...   \n",
       "35731  YY1_2018__Guillemot 1 66  POINT (75.48022 12.19213)   \n",
       "35732  YY1_2018__Guillemot 1 67  POINT (75.48012 12.21315)   \n",
       "35733   YY1_2018__Guillemot 1 7  POINT (75.52462 12.26442)   \n",
       "35734   YY1_2018__Guillemot 1 8  POINT (75.52417 12.26392)   \n",
       "35735   YY1_2018__Guillemot 1 9  POINT (75.52428 12.26368)   \n",
       "\n",
       "       Pop_density_2000_1km  \n",
       "0               8665.053819  \n",
       "1               1131.090088  \n",
       "2               4979.729167  \n",
       "3               4332.883681  \n",
       "4               8465.158203  \n",
       "...                     ...  \n",
       "35731            590.265340  \n",
       "35732            590.265299  \n",
       "35733            193.610229  \n",
       "35734            193.610229  \n",
       "35735            193.610229  \n",
       "\n",
       "[35736 rows x 3 columns]"
      ]
     },
     "execution_count": 104,
     "metadata": {},
     "output_type": "execute_result"
    }
   ],
   "source": [
    "gdf_pop_density"
   ]
  },
  {
   "cell_type": "markdown",
   "id": "39b2db84-aa70-4357-970a-84ef2616f6be",
   "metadata": {},
   "source": [
    "## Global Roads Open Access Data Set (gROADS), v1\n",
    "\n",
    "https://sedac.ciesin.columbia.edu/data/set/groads-global-roads-open-access-v1\n",
    "\n",
    "One data set available for each continent.\n",
    "\n",
    "### Metadata description\n",
    "\n",
    "- `OBJECTID`: Object ID\n",
    "- `SourceID`: Source ID\n",
    "- `Picture`: Picture\n",
    "- `Exs`: Existence Category. Options include 1=Definite, 2=Doubtful, 0=Unspecified\n",
    "- `Notes`: Notes\n",
    "- `RoadID`: Road ID\n",
    "- `ONme`: Official Road Name\n",
    "- `RteNme`: Route Name\n",
    "- `NtlClass`: National Inventory Road Class\n",
    "- `FClass`: Functional Class with options 1=Highway, 2=Primary, 3=Secondary, 4=Tertiary, 5=Local/ Urban, 6=Trail, 7=Private, 0=Unspecified\n",
    "- `Crgway`: Carriageways. Options include 1=Single, 2=Dual, 0=Unspecified\n",
    "- `NumLanes`: Number of lanes\n",
    "- `LneWidthM`: Lane Width in meters\n",
    "- `RdWidthM`: Road Width in meters\n",
    "- `AxleLoadMT`: Maximum Axle Loading in MT\n",
    "- `TotLoadMT`: Maximum Total Loading in MT\n",
    "- `SrfTpe`: Surface Type with options 1=Paved, 2=Gravel, 3=Dirt/Sand, 4=Steel, 5=Wood, 6=Grass, 0=Unspecified\n",
    "- `SrfCond`: Surface Condition with options 1=Rough (<40kph), 2=Smooth (>40kph), 3=Snow/Ice, 4=Mud, 0=Unspecified\n",
    "- `SrfPrep`: Surface Preparation with options 1=Natural Compaction, 2=Traffic Compaction, 3=Engineered Compaction, 4=Uncompacted, 0=Unspecified\n",
    "- `IsSeasonal`: Affected by Season. Options include 1=Yes, 2=No, 0=Unspecified\n",
    "- `CurntPrac`: Current Road Practicability with options 1=Non-motorized, 2=Motorbike, 3=4WD <3.5MT, 4=Light Truck <10MT, 5=Heavy Truck <20MT, 6=Truck + Trailer >20MT, 0=Unspecified\n",
    "- `GdWthrPrac`: Good Weather Road Practicability with options 1=Non-motorized, 2=Motorbike, 3=4WD <3.5MT, 4=Light Truck <10MT, 5=Heavy Truck <20MT, 6=Truck + Trailer >20MT, 0=Unspecified\n",
    "- `BdWthrPrac`: Bad Weather Road Practicability. Options include 1=Non-motorized, 2=Motorbike, 3=4WD <3.5MT, 4=Light Truck <10MT, 5=Heavy Truck <20MT, 6=Truck + Trailer >20MT, 0=Unspecified\n",
    "- `SpeedLimit`: Speed Limit in Km/hr\n",
    "- `CurntSpeed`: Current Average Speed\n",
    "- `GnralSpeed`: General Average Speed\n",
    "- `IsUndrCstr`: Is under Construction / Repairs. Options include 1=Yes, 2=No, 0=Unspecified\n",
    "- `CstWrkETC`: Construction Work Estimated Completion Date\n",
    "- `GradDeg`: Gradient in degrees\n",
    "- `Sec`: Road Security Category. Options include 1=Category A (low risk), 2=Category B (low to medium risk), 3=Category C (medium to high risk), 4=Category D (high risk), 5=Category E (critical risk), 0=Unspecified\n",
    "- `HasShouldr`: Has Shoulder. Options include 1=Yes, 2=No, 0=Unspecified\n",
    "- `HasSidewalk`: Has Sidewalk. Options include 1=Yes, 2=No, 0=Unspecified\n",
    "- `DrivSide`: Driving Side. Options include 1=Left, 2=Right, 0=Unspecified\n",
    "- `IsElevated`: Is elevated / suspended above ground/water. Options include 1=Yes, 2=No, 0=Unspecified\n",
    "- `HasMedian`: Has Median. Options include 1=Yes, 2=No, 0=Unspecified\n",
    "- `OpStatus`: Operational Status. Options include 1=Open, 2=Restricted, 3=Closed, 4=Abandoned/Disused, 0=Unspecified\n",
    "- `Shape_Length`: Length of segment\n",
    "- `Length_KM`: Length of segment in kilometers\n",
    "\n"
   ]
  },
  {
   "cell_type": "code",
   "execution_count": 93,
   "id": "bf2b1d42-7be6-4e74-8fdb-a386e064e525",
   "metadata": {
    "tags": []
   },
   "outputs": [],
   "source": [
    "roads_americas = \"../../data/gROADS/americas/groads-v1-americas.shp\"\n",
    "# groads_africa =\n",
    "# groads_asia =\n",
    "# groads_europe =\n",
    "# groads_oceania_east =\n",
    "# groads_oceania_west ="
   ]
  },
  {
   "cell_type": "code",
   "execution_count": 94,
   "id": "469285f7-30fb-4b4b-adec-9e0ad55795cf",
   "metadata": {
    "tags": []
   },
   "outputs": [
    {
     "data": {
      "text/html": [
       "<div>\n",
       "<style scoped>\n",
       "    .dataframe tbody tr th:only-of-type {\n",
       "        vertical-align: middle;\n",
       "    }\n",
       "\n",
       "    .dataframe tbody tr th {\n",
       "        vertical-align: top;\n",
       "    }\n",
       "\n",
       "    .dataframe thead th {\n",
       "        text-align: right;\n",
       "    }\n",
       "</style>\n",
       "<table border=\"1\" class=\"dataframe\">\n",
       "  <thead>\n",
       "    <tr style=\"text-align: right;\">\n",
       "      <th></th>\n",
       "      <th>SOURCEID</th>\n",
       "      <th>EXS</th>\n",
       "      <th>NOTES</th>\n",
       "      <th>ROADID</th>\n",
       "      <th>ONME</th>\n",
       "      <th>RTENME</th>\n",
       "      <th>NTLCLASS</th>\n",
       "      <th>FCLASS</th>\n",
       "      <th>CRGWAY</th>\n",
       "      <th>NUMLANES</th>\n",
       "      <th>LNEWIDTHM</th>\n",
       "      <th>RDWIDTHM</th>\n",
       "      <th>AXLELOADMT</th>\n",
       "      <th>TOTLOADMT</th>\n",
       "      <th>SRFTPE</th>\n",
       "      <th>SRFCOND</th>\n",
       "      <th>SRFPREP</th>\n",
       "      <th>ISSEASONAL</th>\n",
       "      <th>CURNTPRAC</th>\n",
       "      <th>GDWTHRPRAC</th>\n",
       "      <th>BDWTHRPRAC</th>\n",
       "      <th>SPEEDLIMIT</th>\n",
       "      <th>CURNTSPEED</th>\n",
       "      <th>GNRALSPEED</th>\n",
       "      <th>ISUNDRCSTR</th>\n",
       "      <th>CSTWRKETC</th>\n",
       "      <th>GRADDEG</th>\n",
       "      <th>SEC</th>\n",
       "      <th>HASSHOULDR</th>\n",
       "      <th>HASSIDEWLK</th>\n",
       "      <th>DRIVSIDE</th>\n",
       "      <th>ISELEVATED</th>\n",
       "      <th>HASMEDIAN</th>\n",
       "      <th>OPSTATUS</th>\n",
       "      <th>LENGTH_KM</th>\n",
       "      <th>Shape_Leng</th>\n",
       "      <th>geometry</th>\n",
       "    </tr>\n",
       "  </thead>\n",
       "  <tbody>\n",
       "    <tr>\n",
       "      <th>0</th>\n",
       "      <td>s034_0001</td>\n",
       "      <td>0.0</td>\n",
       "      <td>None</td>\n",
       "      <td>ITOS156229</td>\n",
       "      <td>None</td>\n",
       "      <td>None</td>\n",
       "      <td>None</td>\n",
       "      <td>0.0</td>\n",
       "      <td>0.0</td>\n",
       "      <td>0.0</td>\n",
       "      <td>0.0</td>\n",
       "      <td>0.0</td>\n",
       "      <td>0.0</td>\n",
       "      <td>0.0</td>\n",
       "      <td>0.0</td>\n",
       "      <td>0.0</td>\n",
       "      <td>0.0</td>\n",
       "      <td>0.0</td>\n",
       "      <td>0.0</td>\n",
       "      <td>0.0</td>\n",
       "      <td>0.0</td>\n",
       "      <td>0.0</td>\n",
       "      <td>0.0</td>\n",
       "      <td>0.0</td>\n",
       "      <td>0.0</td>\n",
       "      <td>None</td>\n",
       "      <td>0.0</td>\n",
       "      <td>0.0</td>\n",
       "      <td>0.0</td>\n",
       "      <td>0.0</td>\n",
       "      <td>0.0</td>\n",
       "      <td>0.0</td>\n",
       "      <td>0.0</td>\n",
       "      <td>0.0</td>\n",
       "      <td>23.086124</td>\n",
       "      <td>0.216327</td>\n",
       "      <td>LINESTRING (-46.64422 -22.52663, -46.63456 -22...</td>\n",
       "    </tr>\n",
       "    <tr>\n",
       "      <th>1</th>\n",
       "      <td>s034_0001</td>\n",
       "      <td>0.0</td>\n",
       "      <td>None</td>\n",
       "      <td>ITOS156230</td>\n",
       "      <td>None</td>\n",
       "      <td>None</td>\n",
       "      <td>None</td>\n",
       "      <td>0.0</td>\n",
       "      <td>0.0</td>\n",
       "      <td>0.0</td>\n",
       "      <td>0.0</td>\n",
       "      <td>0.0</td>\n",
       "      <td>0.0</td>\n",
       "      <td>0.0</td>\n",
       "      <td>0.0</td>\n",
       "      <td>0.0</td>\n",
       "      <td>0.0</td>\n",
       "      <td>0.0</td>\n",
       "      <td>0.0</td>\n",
       "      <td>0.0</td>\n",
       "      <td>0.0</td>\n",
       "      <td>0.0</td>\n",
       "      <td>0.0</td>\n",
       "      <td>0.0</td>\n",
       "      <td>0.0</td>\n",
       "      <td>None</td>\n",
       "      <td>0.0</td>\n",
       "      <td>0.0</td>\n",
       "      <td>0.0</td>\n",
       "      <td>0.0</td>\n",
       "      <td>0.0</td>\n",
       "      <td>0.0</td>\n",
       "      <td>0.0</td>\n",
       "      <td>0.0</td>\n",
       "      <td>35.525002</td>\n",
       "      <td>0.338829</td>\n",
       "      <td>LINESTRING (-49.61825 -23.06787, -49.54568 -23...</td>\n",
       "    </tr>\n",
       "  </tbody>\n",
       "</table>\n",
       "</div>"
      ],
      "text/plain": [
       "    SOURCEID  EXS NOTES      ROADID  ONME RTENME NTLCLASS  FCLASS  CRGWAY  \\\n",
       "0  s034_0001  0.0  None  ITOS156229  None   None     None     0.0     0.0   \n",
       "1  s034_0001  0.0  None  ITOS156230  None   None     None     0.0     0.0   \n",
       "\n",
       "   NUMLANES  LNEWIDTHM  RDWIDTHM  AXLELOADMT  TOTLOADMT  SRFTPE  SRFCOND  \\\n",
       "0       0.0        0.0       0.0         0.0        0.0     0.0      0.0   \n",
       "1       0.0        0.0       0.0         0.0        0.0     0.0      0.0   \n",
       "\n",
       "   SRFPREP  ISSEASONAL  CURNTPRAC  GDWTHRPRAC  BDWTHRPRAC  SPEEDLIMIT  \\\n",
       "0      0.0         0.0        0.0         0.0         0.0         0.0   \n",
       "1      0.0         0.0        0.0         0.0         0.0         0.0   \n",
       "\n",
       "   CURNTSPEED  GNRALSPEED  ISUNDRCSTR CSTWRKETC  GRADDEG  SEC  HASSHOULDR  \\\n",
       "0         0.0         0.0         0.0      None      0.0  0.0         0.0   \n",
       "1         0.0         0.0         0.0      None      0.0  0.0         0.0   \n",
       "\n",
       "   HASSIDEWLK  DRIVSIDE  ISELEVATED  HASMEDIAN  OPSTATUS  LENGTH_KM  \\\n",
       "0         0.0       0.0         0.0        0.0       0.0  23.086124   \n",
       "1         0.0       0.0         0.0        0.0       0.0  35.525002   \n",
       "\n",
       "   Shape_Leng                                           geometry  \n",
       "0    0.216327  LINESTRING (-46.64422 -22.52663, -46.63456 -22...  \n",
       "1    0.338829  LINESTRING (-49.61825 -23.06787, -49.54568 -23...  "
      ]
     },
     "execution_count": 94,
     "metadata": {},
     "output_type": "execute_result"
    }
   ],
   "source": [
    "gdf_roads = gpd.read_file(roads_americas)\n",
    "gdf_roads.head(2)"
   ]
  },
  {
   "cell_type": "code",
   "execution_count": 95,
   "id": "ace61f5f-1956-4cce-8ec9-57770a712520",
   "metadata": {
    "tags": []
   },
   "outputs": [
    {
     "name": "stdout",
     "output_type": "stream",
     "text": [
      "EPSG:4326\n"
     ]
    }
   ],
   "source": [
    "print(gdf_roads.crs)"
   ]
  },
  {
   "cell_type": "markdown",
   "id": "289b98a6-1f34-4206-a7bc-7118f2c6c575",
   "metadata": {},
   "source": [
    "## WorldClim elevation data\n",
    "\n",
    "https://worldclim.org/data/worldclim21.html#google_vignette\n",
    "\n",
    "Same structure and resolution as the population density data. Can use the same approach to extract values for buffered sampling locations."
   ]
  },
  {
   "cell_type": "code",
   "execution_count": 89,
   "id": "db0f39cc-dd08-4438-bb4d-91e0ef3fc5a3",
   "metadata": {},
   "outputs": [
    {
     "data": {
      "text/plain": [
       "{'file_list': ['../../data/WorldClim/Elevation/wc2.1_30s_elev.tif'],\n",
       " 'projection_wkt': 'GEOGCS[\"WGS 84\",DATUM[\"WGS_1984\",SPHEROID[\"WGS 84\",6378137,298.257223563,AUTHORITY[\"EPSG\",\"7030\"]],AUTHORITY[\"EPSG\",\"6326\"]],PRIMEM[\"Greenwich\",0,AUTHORITY[\"EPSG\",\"8901\"]],UNIT[\"degree\",0.0174532925199433,AUTHORITY[\"EPSG\",\"9122\"]],AXIS[\"Latitude\",NORTH],AXIS[\"Longitude\",EAST],AUTHORITY[\"EPSG\",\"4326\"]]',\n",
       " 'geotransform': (-180.0,\n",
       "  0.008333333333333333,\n",
       "  0.0,\n",
       "  90.0,\n",
       "  0.0,\n",
       "  -0.008333333333333333),\n",
       " 'pixel_size': (0.008333333333333333, -0.008333333333333333),\n",
       " 'raster_size': (43200, 21600),\n",
       " 'n_bands': 1,\n",
       " 'nodata': [-32768.0],\n",
       " 'overviews': [],\n",
       " 'block_size': [43200, 1],\n",
       " 'bounding_box': [-180.0, -90.0, 180.0, 90.0],\n",
       " 'datatype': 3,\n",
       " 'numpy_type': numpy.int16}"
      ]
     },
     "execution_count": 89,
     "metadata": {},
     "output_type": "execute_result"
    }
   ],
   "source": [
    "elevation_path = \"../../data/WorldClim/Elevation/wc2.1_30s_elev.tif\"\n",
    "pgp.get_raster_info(elevation_path)"
   ]
  },
  {
   "cell_type": "markdown",
   "id": "1a13e656-f87c-4761-803c-5684c71f5413",
   "metadata": {},
   "source": [
    "## WorldClim bioclimatic data\n",
    "\n",
    "https://worldclim.org/data/bioclim.html"
   ]
  },
  {
   "cell_type": "code",
   "execution_count": 96,
   "id": "b71bb37f-9fb8-4d7a-bfcd-2011bcfb6ef7",
   "metadata": {},
   "outputs": [
    {
     "data": {
      "text/plain": [
       "{'file_list': ['../../data/WorldClim/Bioclimatic/wc2.1_30s_bio_1.tif'],\n",
       " 'projection_wkt': 'GEOGCS[\"WGS 84\",DATUM[\"WGS_1984\",SPHEROID[\"WGS 84\",6378137,298.257223563,AUTHORITY[\"EPSG\",\"7030\"]],AUTHORITY[\"EPSG\",\"6326\"]],PRIMEM[\"Greenwich\",0,AUTHORITY[\"EPSG\",\"8901\"]],UNIT[\"degree\",0.0174532925199433,AUTHORITY[\"EPSG\",\"9122\"]],AXIS[\"Latitude\",NORTH],AXIS[\"Longitude\",EAST],AUTHORITY[\"EPSG\",\"4326\"]]',\n",
       " 'geotransform': (-180.0,\n",
       "  0.008333333333333333,\n",
       "  0.0,\n",
       "  90.0,\n",
       "  0.0,\n",
       "  -0.008333333333333333),\n",
       " 'pixel_size': (0.008333333333333333, -0.008333333333333333),\n",
       " 'raster_size': (43200, 21600),\n",
       " 'n_bands': 1,\n",
       " 'nodata': [-3.3999999521443642e+38],\n",
       " 'overviews': [],\n",
       " 'block_size': [43200, 1],\n",
       " 'bounding_box': [-180.0, -90.0, 180.0, 90.0],\n",
       " 'datatype': 6,\n",
       " 'numpy_type': numpy.float32}"
      ]
     },
     "execution_count": 96,
     "metadata": {},
     "output_type": "execute_result"
    }
   ],
   "source": [
    "bioclim_path = \"../../data/WorldClim/Bioclimatic/wc2.1_30s_bio_1.tif\"\n",
    "pgp.get_raster_info(bioclim_path)"
   ]
  },
  {
   "cell_type": "code",
   "execution_count": null,
   "id": "ca342cfd-815c-44ac-8b99-f70f741393e3",
   "metadata": {},
   "outputs": [],
   "source": []
  },
  {
   "cell_type": "code",
   "execution_count": null,
   "id": "2b335a0c-63af-475a-ad8e-396807c0758b",
   "metadata": {},
   "outputs": [],
   "source": []
  },
  {
   "cell_type": "code",
   "execution_count": null,
   "id": "20bbafa9-dbfd-474a-8d75-527cf17c9731",
   "metadata": {},
   "outputs": [],
   "source": []
  },
  {
   "cell_type": "code",
   "execution_count": null,
   "id": "9cc315fc-f1fe-47e4-9859-b9f9a01ed5bb",
   "metadata": {},
   "outputs": [],
   "source": []
  },
  {
   "cell_type": "markdown",
   "id": "a2c985c0-cbaa-41dc-9369-6429fb4e804b",
   "metadata": {},
   "source": [
    "## Unused code"
   ]
  },
  {
   "cell_type": "code",
   "execution_count": null,
   "id": "0f23dd47-235e-49ae-9503-f333cd8ee975",
   "metadata": {},
   "outputs": [],
   "source": [
    "downscale_factor = 10  # Go from 1km to 10km\n",
    "\n",
    "with rasterio.open(\"../../data/GPW/gpw_v4_2000_30_sec.tif\") as dataset:\n",
    "\n",
    "    # Read dataset and specify output shape\n",
    "    # Use the average population density of the pixels being aggregated\n",
    "    data = dataset.read(\n",
    "        out_shape=(\n",
    "            dataset.count,\n",
    "            int(dataset.height / downscale_factor),\n",
    "            int(dataset.width / downscale_factor),\n",
    "        ),\n",
    "        resampling=Resampling.average,\n",
    "    )\n",
    "\n",
    "    # Scale image transform\n",
    "    transform = dataset.transform * dataset.transform.scale(\n",
    "        (dataset.width / data.shape[-1]), (dataset.height / data.shape[-2])\n",
    "    )\n",
    "\n",
    "    # Define the metadata for the new downsampled raster\n",
    "    out_meta = dataset.meta.copy()\n",
    "    out_meta.update(\n",
    "        {\n",
    "            \"driver\": \"GTiff\",\n",
    "            \"height\": data.shape[1],\n",
    "            \"width\": data.shape[2],\n",
    "            \"transform\": transform,\n",
    "        }\n",
    "    )\n",
    "\n",
    "    # Write the downsampled raster to a new file\n",
    "    with rasterio.open(\"../../data/GPW/gpw_v4_2000_10_km.tif\", \"w\", **out_meta) as dest:\n",
    "        dest.write(data)"
   ]
  },
  {
   "cell_type": "code",
   "execution_count": null,
   "id": "5ceadfa9-2ef1-457e-9998-0911129eea8b",
   "metadata": {},
   "outputs": [],
   "source": [
    "start = time.time()\n",
    "\n",
    "# Load the raster file\n",
    "raster_data = rasterio.open(\"../../data/GPW/gpw_v4_2000_10_km.tif\")\n",
    "\n",
    "# Find the value used for nodata\n",
    "nodata_value = raster_data.nodatavals[0]\n",
    "\n",
    "# Extract population density from the grids for each coordinate\n",
    "pop_density = np.array(list(raster_data.sample(coord_list))).flatten()\n",
    "\n",
    "# Set density to np.nan if it seems to be a nodata pixel\n",
    "if nodata_value is not None:\n",
    "    pop_density[np.isclose(pop_density, nodata_value, equal_nan=True)] = np.nan\n",
    "\n",
    "# Append new column to the dataframe\n",
    "gdf_sites_point = gdf_sites_point.copy()\n",
    "gdf_sites_point[\"Pop_density_2000_10km\"] = pop_density\n",
    "\n",
    "end = time.time()\n",
    "print(end - start)"
   ]
  },
  {
   "cell_type": "markdown",
   "id": "62a29a4b-1d8a-40f2-9272-cb4f7783992c",
   "metadata": {},
   "source": [
    "### Method 1: Rasterio sample\n",
    "\n",
    "Get data for the grid in which the coordinates fall. This can work for high resolution data, but might be inaccurate when downsampling the population density data and then matching pixels with the site coordinates."
   ]
  },
  {
   "cell_type": "code",
   "execution_count": null,
   "id": "45375421-2841-47da-938b-8b91059b4c85",
   "metadata": {},
   "outputs": [],
   "source": [
    "start = time.time()\n",
    "\n",
    "# Load the raster file\n",
    "raster_data = rasterio.open(\"../../data/GPW/gpw_v4_2000_30_sec.tif\")\n",
    "\n",
    "# Find the value used for nodata\n",
    "nodata_value = raster_data.nodatavals[0]\n",
    "\n",
    "# Extract population density from the grids for each coordinate\n",
    "pop_density = np.array(list(raster_data.sample(coord_list))).flatten()\n",
    "\n",
    "# Set density to np.nan if it seems to be a nodata pixel\n",
    "if nodata_value is not None:\n",
    "    pop_density[np.isclose(pop_density, nodata_value, equal_nan=True)] = np.nan\n",
    "\n",
    "# Append new column to the dataframe\n",
    "gdf_sites_point = gdf_sites.copy()\n",
    "gdf_sites_point[\"Pop_density_2000_1km\"] = pop_density\n",
    "\n",
    "end = time.time()\n",
    "print(end - start)"
   ]
  }
 ],
 "metadata": {
  "kernelspec": {
   "display_name": "biodiv",
   "language": "python",
   "name": "biodiv"
  },
  "language_info": {
   "codemirror_mode": {
    "name": "ipython",
    "version": 3
   },
   "file_extension": ".py",
   "mimetype": "text/x-python",
   "name": "python",
   "nbconvert_exporter": "python",
   "pygments_lexer": "ipython3",
   "version": "3.12.1"
  }
 },
 "nbformat": 4,
 "nbformat_minor": 5
}
