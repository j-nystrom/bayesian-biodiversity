{
 "cells": [
  {
   "cell_type": "code",
   "execution_count": 2,
   "id": "a2de73eb-8588-4822-99d0-766357a536cc",
   "metadata": {},
   "outputs": [],
   "source": [
    "import pandas as pd\n",
    "import polars as pl\n",
    "import geopandas as gpd"
   ]
  },
  {
   "cell_type": "markdown",
   "id": "cdf5c4d8-bd8b-4124-9672-c0398b6da307",
   "metadata": {},
   "source": [
    "### Concatenated PREDICTS data"
   ]
  },
  {
   "cell_type": "code",
   "execution_count": 4,
   "id": "c78a8c4a-cf91-4ab1-be94-8e39310b023b",
   "metadata": {},
   "outputs": [
    {
     "data": {
      "text/html": [
       "<div><style>\n",
       ".dataframe > thead > tr,\n",
       ".dataframe > tbody > tr {\n",
       "  text-align: right;\n",
       "  white-space: pre-wrap;\n",
       "}\n",
       "</style>\n",
       "<small>shape: (5, 68)</small><table border=\"1\" class=\"dataframe\"><thead><tr><th>_id</th><th>Source_ID</th><th>Reference</th><th>Study_number</th><th>Study_name</th><th>Block</th><th>Site_number</th><th>Site_name</th><th>SS</th><th>SSS</th><th>SSB</th><th>SSBS</th><th>Longitude</th><th>Latitude</th><th>Coordinates_method</th><th>Country</th><th>Country_distance_metres</th><th>UN_region</th><th>UN_subregion</th><th>Realm</th><th>Biome</th><th>Ecoregion</th><th>Ecoregion_distance_metres</th><th>Wilderness_area</th><th>Hotspot</th><th>Study_common_taxon</th><th>Rank_of_study_common_taxon</th><th>Sample_start_earliest</th><th>Sample_end_latest</th><th>Sample_midpoint</th><th>Sample_date_resolution</th><th>Sampling_method</th><th>Sampling_effort</th><th>Rescaled_sampling_effort</th><th>Sampling_effort_unit</th><th>Max_linear_extent_metres</th><th>Transect_details</th><th>Taxon</th><th>Taxon_number</th><th>Taxon_name_entered</th><th>Parsed_name</th><th>Best_guess_binomial</th><th>COL_ID</th><th>Kingdom</th><th>Phylum</th><th>Class</th><th>Order</th><th>Family</th><th>Genus</th><th>Species</th><th>Higher_taxon</th><th>Indication</th><th>Name_status</th><th>Rank</th><th>Diversity_metric_type</th><th>Diversity_metric</th><th>Diversity_metric_is_effort_sensitive</th><th>Diversity_metric_is_suitable_for_Chao</th><th>Diversity_metric_unit</th><th>Measurement</th><th>Effort_corrected_measurement</th><th>Predominant_land_use</th><th>Source_for_predominant_land_use</th><th>Use_intensity</th><th>Habitat_as_described</th><th>Habitat_patch_area_square_metres</th><th>Km_to_nearest_edge_of_habitat</th><th>Years_since_fragmentation_or_conversion</th></tr><tr><td>i64</td><td>str</td><td>str</td><td>i64</td><td>str</td><td>str</td><td>i64</td><td>str</td><td>str</td><td>str</td><td>str</td><td>str</td><td>f64</td><td>f64</td><td>str</td><td>str</td><td>f64</td><td>str</td><td>str</td><td>str</td><td>str</td><td>str</td><td>f64</td><td>str</td><td>str</td><td>str</td><td>str</td><td>str</td><td>str</td><td>str</td><td>str</td><td>str</td><td>f64</td><td>f64</td><td>str</td><td>f64</td><td>str</td><td>str</td><td>i64</td><td>str</td><td>str</td><td>str</td><td>i64</td><td>str</td><td>str</td><td>str</td><td>str</td><td>str</td><td>str</td><td>str</td><td>str</td><td>str</td><td>str</td><td>str</td><td>str</td><td>str</td><td>bool</td><td>bool</td><td>str</td><td>f64</td><td>f64</td><td>str</td><td>str</td><td>str</td><td>str</td><td>f64</td><td>f64</td><td>f64</td></tr></thead><tbody><tr><td>26004</td><td>&quot;AD1_2008__Bill…</td><td>&quot;Billeter et al…</td><td>8</td><td>&quot;Greenveins2001…</td><td>&quot;F2&quot;</td><td>32</td><td>&quot;F2.P&quot;</td><td>&quot;AD1_2008__Bill…</td><td>&quot;AD1_2008__Bill…</td><td>&quot;AD1_2008__Bill…</td><td>&quot;AD1_2008__Bill…</td><td>-1.590365</td><td>48.472153</td><td>&quot;Direct from pu…</td><td>&quot;France&quot;</td><td>0.0</td><td>&quot;Europe&quot;</td><td>&quot;Western Europe…</td><td>&quot;Palearctic&quot;</td><td>&quot;Temperate Broa…</td><td>&quot;Atlantic Mixed…</td><td>0.0</td><td>null</td><td>null</td><td>&quot;Hymenoptera&quot;</td><td>&quot;Order&quot;</td><td>&quot;2002-01-01&quot;</td><td>&quot;2002-12-31&quot;</td><td>&quot;2002-07-02&quot;</td><td>&quot;year&quot;</td><td>&quot;flight trap&quot;</td><td>5.0</td><td>1.0</td><td>&quot;week&quot;</td><td>1414.214</td><td>&quot;Ecotone betwee…</td><td>&quot;Lasioglossum m…</td><td>49</td><td>&quot;Lasioglossum m…</td><td>&quot;Lasioglossum m…</td><td>&quot;Lasioglossum m…</td><td>6967008</td><td>&quot;Animalia&quot;</td><td>&quot;Arthropoda&quot;</td><td>&quot;Insecta&quot;</td><td>&quot;Hymenoptera&quot;</td><td>&quot;Halictidae&quot;</td><td>&quot;Lasioglossum&quot;</td><td>&quot;morio&quot;</td><td>&quot;Hymenoptera&quot;</td><td>&quot;Hymenoptera: A…</td><td>&quot;accepted name&quot;</td><td>&quot;Species&quot;</td><td>&quot;Abundance&quot;</td><td>&quot;abundance&quot;</td><td>true</td><td>true</td><td>&quot;individuals&quot;</td><td>0.0</td><td>0.0</td><td>&quot;Cropland&quot;</td><td>&quot;Direct from pu…</td><td>&quot;Minimal use&quot;</td><td>null</td><td>null</td><td>null</td><td>13.5</td></tr><tr><td>26006</td><td>&quot;AD1_2008__Bill…</td><td>&quot;Billeter et al…</td><td>8</td><td>&quot;Greenveins2001…</td><td>&quot;F2&quot;</td><td>32</td><td>&quot;F2.P&quot;</td><td>&quot;AD1_2008__Bill…</td><td>&quot;AD1_2008__Bill…</td><td>&quot;AD1_2008__Bill…</td><td>&quot;AD1_2008__Bill…</td><td>-1.590365</td><td>48.472153</td><td>&quot;Direct from pu…</td><td>&quot;France&quot;</td><td>0.0</td><td>&quot;Europe&quot;</td><td>&quot;Western Europe…</td><td>&quot;Palearctic&quot;</td><td>&quot;Temperate Broa…</td><td>&quot;Atlantic Mixed…</td><td>0.0</td><td>null</td><td>null</td><td>&quot;Hymenoptera&quot;</td><td>&quot;Order&quot;</td><td>&quot;2002-01-01&quot;</td><td>&quot;2002-12-31&quot;</td><td>&quot;2002-07-02&quot;</td><td>&quot;year&quot;</td><td>&quot;flight trap&quot;</td><td>5.0</td><td>1.0</td><td>&quot;week&quot;</td><td>1414.214</td><td>&quot;Ecotone betwee…</td><td>&quot;Lasioglossum p…</td><td>51</td><td>&quot;Lasioglossum p…</td><td>&quot;Lasioglossum p…</td><td>&quot;Lasioglossum p…</td><td>6967187</td><td>&quot;Animalia&quot;</td><td>&quot;Arthropoda&quot;</td><td>&quot;Insecta&quot;</td><td>&quot;Hymenoptera&quot;</td><td>&quot;Halictidae&quot;</td><td>&quot;Lasioglossum&quot;</td><td>&quot;pauxillum&quot;</td><td>&quot;Hymenoptera&quot;</td><td>&quot;Hymenoptera: A…</td><td>&quot;accepted name&quot;</td><td>&quot;Species&quot;</td><td>&quot;Abundance&quot;</td><td>&quot;abundance&quot;</td><td>true</td><td>true</td><td>&quot;individuals&quot;</td><td>0.0</td><td>0.0</td><td>&quot;Cropland&quot;</td><td>&quot;Direct from pu…</td><td>&quot;Minimal use&quot;</td><td>null</td><td>null</td><td>null</td><td>13.5</td></tr><tr><td>26024</td><td>&quot;AD1_2008__Bill…</td><td>&quot;Billeter et al…</td><td>8</td><td>&quot;Greenveins2001…</td><td>&quot;F3&quot;</td><td>33</td><td>&quot;F3.A&quot;</td><td>&quot;AD1_2008__Bill…</td><td>&quot;AD1_2008__Bill…</td><td>&quot;AD1_2008__Bill…</td><td>&quot;AD1_2008__Bill…</td><td>-1.610663</td><td>48.540593</td><td>&quot;Direct from pu…</td><td>&quot;France&quot;</td><td>0.0</td><td>&quot;Europe&quot;</td><td>&quot;Western Europe…</td><td>&quot;Palearctic&quot;</td><td>&quot;Temperate Broa…</td><td>&quot;Atlantic Mixed…</td><td>0.0</td><td>null</td><td>null</td><td>&quot;Hymenoptera&quot;</td><td>&quot;Order&quot;</td><td>&quot;2002-01-01&quot;</td><td>&quot;2002-12-31&quot;</td><td>&quot;2002-07-02&quot;</td><td>&quot;year&quot;</td><td>&quot;flight trap&quot;</td><td>5.0</td><td>1.0</td><td>&quot;week&quot;</td><td>1414.214</td><td>&quot;Ecotone betwee…</td><td>&quot;Andrena helvol…</td><td>11</td><td>&quot;Andrena helvol…</td><td>&quot;Andrena helvol…</td><td>&quot;Andrena helvol…</td><td>6960605</td><td>&quot;Animalia&quot;</td><td>&quot;Arthropoda&quot;</td><td>&quot;Insecta&quot;</td><td>&quot;Hymenoptera&quot;</td><td>&quot;Andrenidae&quot;</td><td>&quot;Andrena&quot;</td><td>&quot;helvola&quot;</td><td>&quot;Hymenoptera&quot;</td><td>&quot;Hymenoptera: A…</td><td>&quot;accepted name&quot;</td><td>&quot;Species&quot;</td><td>&quot;Abundance&quot;</td><td>&quot;abundance&quot;</td><td>true</td><td>true</td><td>&quot;individuals&quot;</td><td>0.0</td><td>0.0</td><td>&quot;Cropland&quot;</td><td>&quot;Direct from pu…</td><td>&quot;Light use&quot;</td><td>null</td><td>null</td><td>null</td><td>63.5</td></tr><tr><td>26031</td><td>&quot;AD1_2008__Bill…</td><td>&quot;Billeter et al…</td><td>8</td><td>&quot;Greenveins2001…</td><td>&quot;F3&quot;</td><td>33</td><td>&quot;F3.A&quot;</td><td>&quot;AD1_2008__Bill…</td><td>&quot;AD1_2008__Bill…</td><td>&quot;AD1_2008__Bill…</td><td>&quot;AD1_2008__Bill…</td><td>-1.610663</td><td>48.540593</td><td>&quot;Direct from pu…</td><td>&quot;France&quot;</td><td>0.0</td><td>&quot;Europe&quot;</td><td>&quot;Western Europe…</td><td>&quot;Palearctic&quot;</td><td>&quot;Temperate Broa…</td><td>&quot;Atlantic Mixed…</td><td>0.0</td><td>null</td><td>null</td><td>&quot;Hymenoptera&quot;</td><td>&quot;Order&quot;</td><td>&quot;2002-01-01&quot;</td><td>&quot;2002-12-31&quot;</td><td>&quot;2002-07-02&quot;</td><td>&quot;year&quot;</td><td>&quot;flight trap&quot;</td><td>5.0</td><td>1.0</td><td>&quot;week&quot;</td><td>1414.214</td><td>&quot;Ecotone betwee…</td><td>&quot;Andrena ovatul…</td><td>18</td><td>&quot;Andrena ovatul…</td><td>&quot;Andrena ovatul…</td><td>&quot;Andrena ovatul…</td><td>6960904</td><td>&quot;Animalia&quot;</td><td>&quot;Arthropoda&quot;</td><td>&quot;Insecta&quot;</td><td>&quot;Hymenoptera&quot;</td><td>&quot;Andrenidae&quot;</td><td>&quot;Andrena&quot;</td><td>&quot;ovatula&quot;</td><td>&quot;Hymenoptera&quot;</td><td>&quot;Hymenoptera: A…</td><td>&quot;accepted name&quot;</td><td>&quot;Species&quot;</td><td>&quot;Abundance&quot;</td><td>&quot;abundance&quot;</td><td>true</td><td>true</td><td>&quot;individuals&quot;</td><td>0.0</td><td>0.0</td><td>&quot;Cropland&quot;</td><td>&quot;Direct from pu…</td><td>&quot;Light use&quot;</td><td>null</td><td>null</td><td>null</td><td>63.5</td></tr><tr><td>26032</td><td>&quot;AD1_2008__Bill…</td><td>&quot;Billeter et al…</td><td>8</td><td>&quot;Greenveins2001…</td><td>&quot;F3&quot;</td><td>33</td><td>&quot;F3.A&quot;</td><td>&quot;AD1_2008__Bill…</td><td>&quot;AD1_2008__Bill…</td><td>&quot;AD1_2008__Bill…</td><td>&quot;AD1_2008__Bill…</td><td>-1.610663</td><td>48.540593</td><td>&quot;Direct from pu…</td><td>&quot;France&quot;</td><td>0.0</td><td>&quot;Europe&quot;</td><td>&quot;Western Europe…</td><td>&quot;Palearctic&quot;</td><td>&quot;Temperate Broa…</td><td>&quot;Atlantic Mixed…</td><td>0.0</td><td>null</td><td>null</td><td>&quot;Hymenoptera&quot;</td><td>&quot;Order&quot;</td><td>&quot;2002-01-01&quot;</td><td>&quot;2002-12-31&quot;</td><td>&quot;2002-07-02&quot;</td><td>&quot;year&quot;</td><td>&quot;flight trap&quot;</td><td>5.0</td><td>1.0</td><td>&quot;week&quot;</td><td>1414.214</td><td>&quot;Ecotone betwee…</td><td>&quot;Andrena&quot;</td><td>19</td><td>&quot;Andrena spinig…</td><td>&quot;Andrena spinig…</td><td>&quot;Andrena spinig…</td><td>13049592</td><td>&quot;Animalia&quot;</td><td>&quot;Arthropoda&quot;</td><td>&quot;Insecta&quot;</td><td>&quot;Hymenoptera&quot;</td><td>&quot;Andrenidae&quot;</td><td>&quot;Andrena&quot;</td><td>null</td><td>&quot;Hymenoptera&quot;</td><td>&quot;Hymenoptera: A…</td><td>&quot;accepted name&quot;</td><td>&quot;Genus&quot;</td><td>&quot;Abundance&quot;</td><td>&quot;abundance&quot;</td><td>true</td><td>true</td><td>&quot;individuals&quot;</td><td>0.0</td><td>0.0</td><td>&quot;Cropland&quot;</td><td>&quot;Direct from pu…</td><td>&quot;Light use&quot;</td><td>null</td><td>null</td><td>null</td><td>63.5</td></tr></tbody></table></div>"
      ],
      "text/plain": [
       "shape: (5, 68)\n",
       "┌───────┬────────────┬────────────┬────────────┬───┬───────────┬───────────┬───────────┬───────────┐\n",
       "│ _id   ┆ Source_ID  ┆ Reference  ┆ Study_numb ┆ … ┆ Habitat_a ┆ Habitat_p ┆ Km_to_nea ┆ Years_sin │\n",
       "│ ---   ┆ ---        ┆ ---        ┆ er         ┆   ┆ s_describ ┆ atch_area ┆ rest_edge ┆ ce_fragme │\n",
       "│ i64   ┆ str        ┆ str        ┆ ---        ┆   ┆ ed        ┆ _square_m ┆ _of_habit ┆ ntation_o │\n",
       "│       ┆            ┆            ┆ i64        ┆   ┆ ---       ┆ etres     ┆ at        ┆ r_con…    │\n",
       "│       ┆            ┆            ┆            ┆   ┆ str       ┆ ---       ┆ ---       ┆ ---       │\n",
       "│       ┆            ┆            ┆            ┆   ┆           ┆ f64       ┆ f64       ┆ f64       │\n",
       "╞═══════╪════════════╪════════════╪════════════╪═══╪═══════════╪═══════════╪═══════════╪═══════════╡\n",
       "│ 26004 ┆ AD1_2008__ ┆ Billeter   ┆ 8          ┆ … ┆ null      ┆ null      ┆ null      ┆ 13.5      │\n",
       "│       ┆ Billeter   ┆ et al.     ┆            ┆   ┆           ┆           ┆           ┆           │\n",
       "│       ┆            ┆ 2008       ┆            ┆   ┆           ┆           ┆           ┆           │\n",
       "│ 26006 ┆ AD1_2008__ ┆ Billeter   ┆ 8          ┆ … ┆ null      ┆ null      ┆ null      ┆ 13.5      │\n",
       "│       ┆ Billeter   ┆ et al.     ┆            ┆   ┆           ┆           ┆           ┆           │\n",
       "│       ┆            ┆ 2008       ┆            ┆   ┆           ┆           ┆           ┆           │\n",
       "│ 26024 ┆ AD1_2008__ ┆ Billeter   ┆ 8          ┆ … ┆ null      ┆ null      ┆ null      ┆ 63.5      │\n",
       "│       ┆ Billeter   ┆ et al.     ┆            ┆   ┆           ┆           ┆           ┆           │\n",
       "│       ┆            ┆ 2008       ┆            ┆   ┆           ┆           ┆           ┆           │\n",
       "│ 26031 ┆ AD1_2008__ ┆ Billeter   ┆ 8          ┆ … ┆ null      ┆ null      ┆ null      ┆ 63.5      │\n",
       "│       ┆ Billeter   ┆ et al.     ┆            ┆   ┆           ┆           ┆           ┆           │\n",
       "│       ┆            ┆ 2008       ┆            ┆   ┆           ┆           ┆           ┆           │\n",
       "│ 26032 ┆ AD1_2008__ ┆ Billeter   ┆ 8          ┆ … ┆ null      ┆ null      ┆ null      ┆ 63.5      │\n",
       "│       ┆ Billeter   ┆ et al.     ┆            ┆   ┆           ┆           ┆           ┆           │\n",
       "│       ┆            ┆ 2008       ┆            ┆   ┆           ┆           ┆           ┆           │\n",
       "└───────┴────────────┴────────────┴────────────┴───┴───────────┴───────────┴───────────┴───────────┘"
      ]
     },
     "execution_count": 4,
     "metadata": {},
     "output_type": "execute_result"
    }
   ],
   "source": [
    "predicts = pl.read_parquet(\"../../data/output/predicts/all_predicts.parquet\")\n",
    "predicts.head()"
   ]
  },
  {
   "cell_type": "code",
   "execution_count": 5,
   "id": "9aba4c37-0f1d-4694-a590-1b4ab00e63f5",
   "metadata": {},
   "outputs": [
    {
     "data": {
      "text/plain": [
       "(4318808, 68)"
      ]
     },
     "execution_count": 5,
     "metadata": {},
     "output_type": "execute_result"
    }
   ],
   "source": [
    "predicts.shape"
   ]
  },
  {
   "cell_type": "markdown",
   "id": "77801b83-86a3-47c5-8dbf-8f5d8b3e83f4",
   "metadata": {},
   "source": [
    "### Site coordinate data"
   ]
  },
  {
   "cell_type": "code",
   "execution_count": 7,
   "id": "35097412-3be5-4e23-a2b2-973166889684",
   "metadata": {},
   "outputs": [
    {
     "data": {
      "text/html": [
       "<div>\n",
       "<style scoped>\n",
       "    .dataframe tbody tr th:only-of-type {\n",
       "        vertical-align: middle;\n",
       "    }\n",
       "\n",
       "    .dataframe tbody tr th {\n",
       "        vertical-align: top;\n",
       "    }\n",
       "\n",
       "    .dataframe thead th {\n",
       "        text-align: right;\n",
       "    }\n",
       "</style>\n",
       "<table border=\"1\" class=\"dataframe\">\n",
       "  <thead>\n",
       "    <tr style=\"text-align: right;\">\n",
       "      <th></th>\n",
       "      <th>SSBS</th>\n",
       "      <th>UN_region</th>\n",
       "      <th>geometry</th>\n",
       "    </tr>\n",
       "  </thead>\n",
       "  <tbody>\n",
       "    <tr>\n",
       "      <th>0</th>\n",
       "      <td>CM1_2012__McNamara 1  16</td>\n",
       "      <td>Asia</td>\n",
       "      <td>POINT (102.17797 18.29422)</td>\n",
       "    </tr>\n",
       "    <tr>\n",
       "      <th>1</th>\n",
       "      <td>DI1_2013__deLima 2  28</td>\n",
       "      <td>Africa</td>\n",
       "      <td>POINT (6.65988 0.31829)</td>\n",
       "    </tr>\n",
       "    <tr>\n",
       "      <th>2</th>\n",
       "      <td>HW1_2011__Cerezo 1  177</td>\n",
       "      <td>Americas</td>\n",
       "      <td>POINT (-60.07710 -34.54130)</td>\n",
       "    </tr>\n",
       "    <tr>\n",
       "      <th>3</th>\n",
       "      <td>VB1_2013__Jones 2 MAN 308</td>\n",
       "      <td>Europe</td>\n",
       "      <td>POINT (-2.39404 51.42954)</td>\n",
       "    </tr>\n",
       "    <tr>\n",
       "      <th>4</th>\n",
       "      <td>HW1_2012__Lantschner 1 CF5 45</td>\n",
       "      <td>Americas</td>\n",
       "      <td>POINT (-71.25034 -40.48757)</td>\n",
       "    </tr>\n",
       "  </tbody>\n",
       "</table>\n",
       "</div>"
      ],
      "text/plain": [
       "                            SSBS UN_region                     geometry\n",
       "0       CM1_2012__McNamara 1  16      Asia   POINT (102.17797 18.29422)\n",
       "1         DI1_2013__deLima 2  28    Africa      POINT (6.65988 0.31829)\n",
       "2        HW1_2011__Cerezo 1  177  Americas  POINT (-60.07710 -34.54130)\n",
       "3      VB1_2013__Jones 2 MAN 308    Europe    POINT (-2.39404 51.42954)\n",
       "4  HW1_2012__Lantschner 1 CF5 45  Americas  POINT (-71.25034 -40.48757)"
      ]
     },
     "execution_count": 7,
     "metadata": {},
     "output_type": "execute_result"
    }
   ],
   "source": [
    "site_coords = gpd.read_file(\"../../data/output/site_coords/all_site_coords.shp\")\n",
    "site_coords.head()"
   ]
  },
  {
   "cell_type": "code",
   "execution_count": 8,
   "id": "e41a5d01-0a51-423b-aa39-8426f12dba7e",
   "metadata": {},
   "outputs": [
    {
     "data": {
      "text/plain": [
       "(35736, 3)"
      ]
     },
     "execution_count": 8,
     "metadata": {},
     "output_type": "execute_result"
    }
   ],
   "source": [
    "site_coords.shape"
   ]
  },
  {
   "cell_type": "code",
   "execution_count": 9,
   "id": "f64d8888-4232-40e2-8fe7-db1cc4109224",
   "metadata": {},
   "outputs": [
    {
     "data": {
      "text/plain": [
       "35736"
      ]
     },
     "execution_count": 9,
     "metadata": {},
     "output_type": "execute_result"
    }
   ],
   "source": [
    "len(predicts.get_column(\"SSBS\").unique().to_list())"
   ]
  },
  {
   "cell_type": "code",
   "execution_count": null,
   "id": "1f0b42d0-deac-4cc8-948f-a0fd441a62e6",
   "metadata": {},
   "outputs": [],
   "source": []
  },
  {
   "cell_type": "code",
   "execution_count": null,
   "id": "9cb71c53-ef34-4b87-b082-8eb969415d5c",
   "metadata": {},
   "outputs": [],
   "source": []
  }
 ],
 "metadata": {
  "kernelspec": {
   "display_name": "biodiv",
   "language": "python",
   "name": "biodiv"
  },
  "language_info": {
   "codemirror_mode": {
    "name": "ipython",
    "version": 3
   },
   "file_extension": ".py",
   "mimetype": "text/x-python",
   "name": "python",
   "nbconvert_exporter": "python",
   "pygments_lexer": "ipython3",
   "version": "3.11.8"
  }
 },
 "nbformat": 4,
 "nbformat_minor": 5
}
